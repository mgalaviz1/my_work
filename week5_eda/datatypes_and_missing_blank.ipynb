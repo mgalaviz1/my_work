{
 "cells": [
  {
   "cell_type": "code",
   "execution_count": 1,
   "metadata": {},
   "outputs": [],
   "source": [
    "#%reload_ext nb_black"
   ]
  },
  {
   "cell_type": "code",
   "execution_count": 2,
   "metadata": {},
   "outputs": [],
   "source": [
    "import pandas as pd\n",
    "import numpy as np\n",
    "import seaborn as sns\n",
    "import matplotlib.pyplot as plt\n",
    "\n",
    "%matplotlib inline"
   ]
  },
  {
   "cell_type": "markdown",
   "metadata": {},
   "source": [
    "There's some `order` data in this directory.  Find it, and read it into a dataframe."
   ]
  },
  {
   "cell_type": "code",
   "execution_count": 3,
   "metadata": {},
   "outputs": [],
   "source": [
    "df = pd.read_csv('data/orders.csv')"
   ]
  },
  {
   "cell_type": "code",
   "execution_count": 4,
   "metadata": {},
   "outputs": [],
   "source": [
    "df = df.drop(columns=['Unnamed: 0'])"
   ]
  },
  {
   "cell_type": "code",
   "execution_count": 5,
   "metadata": {},
   "outputs": [
    {
     "data": {
      "text/plain": [
       "Index(['product_id', 'state', 'date', 'rating', 'units_sold', 'price'], dtype='object')"
      ]
     },
     "execution_count": 5,
     "metadata": {},
     "output_type": "execute_result"
    }
   ],
   "source": [
    "df.columns"
   ]
  },
  {
   "cell_type": "code",
   "execution_count": 6,
   "metadata": {},
   "outputs": [
    {
     "data": {
      "text/html": [
       "<div>\n",
       "<style scoped>\n",
       "    .dataframe tbody tr th:only-of-type {\n",
       "        vertical-align: middle;\n",
       "    }\n",
       "\n",
       "    .dataframe tbody tr th {\n",
       "        vertical-align: top;\n",
       "    }\n",
       "\n",
       "    .dataframe thead th {\n",
       "        text-align: right;\n",
       "    }\n",
       "</style>\n",
       "<table border=\"1\" class=\"dataframe\">\n",
       "  <thead>\n",
       "    <tr style=\"text-align: right;\">\n",
       "      <th></th>\n",
       "      <th>product_id</th>\n",
       "      <th>state</th>\n",
       "      <th>date</th>\n",
       "      <th>rating</th>\n",
       "      <th>units_sold</th>\n",
       "      <th>price</th>\n",
       "    </tr>\n",
       "  </thead>\n",
       "  <tbody>\n",
       "    <tr>\n",
       "      <th>0</th>\n",
       "      <td>5</td>\n",
       "      <td>ID</td>\n",
       "      <td>2010-02-05</td>\n",
       "      <td>*</td>\n",
       "      <td>6.0</td>\n",
       "      <td>$4.73</td>\n",
       "    </tr>\n",
       "    <tr>\n",
       "      <th>1</th>\n",
       "      <td>4</td>\n",
       "      <td>FL</td>\n",
       "      <td>2010-02-07</td>\n",
       "      <td>****</td>\n",
       "      <td>7.0</td>\n",
       "      <td>NaN</td>\n",
       "    </tr>\n",
       "    <tr>\n",
       "      <th>2</th>\n",
       "      <td>1</td>\n",
       "      <td>NY</td>\n",
       "      <td>2010-02-07</td>\n",
       "      <td>*</td>\n",
       "      <td>NaN</td>\n",
       "      <td>$23.81</td>\n",
       "    </tr>\n",
       "    <tr>\n",
       "      <th>3</th>\n",
       "      <td>7</td>\n",
       "      <td>HI</td>\n",
       "      <td>2010-03-12</td>\n",
       "      <td>*</td>\n",
       "      <td>4.0</td>\n",
       "      <td>$21.78</td>\n",
       "    </tr>\n",
       "    <tr>\n",
       "      <th>4</th>\n",
       "      <td>5</td>\n",
       "      <td>NY</td>\n",
       "      <td>2010-04-07</td>\n",
       "      <td>****</td>\n",
       "      <td>6.0</td>\n",
       "      <td>$4.73</td>\n",
       "    </tr>\n",
       "  </tbody>\n",
       "</table>\n",
       "</div>"
      ],
      "text/plain": [
       "   product_id state        date rating  units_sold   price\n",
       "0           5    ID  2010-02-05      *         6.0   $4.73\n",
       "1           4    FL  2010-02-07   ****         7.0     NaN\n",
       "2           1    NY  2010-02-07      *         NaN  $23.81\n",
       "3           7    HI  2010-03-12      *         4.0  $21.78\n",
       "4           5    NY  2010-04-07   ****         6.0   $4.73"
      ]
     },
     "execution_count": 6,
     "metadata": {},
     "output_type": "execute_result"
    }
   ],
   "source": [
    "df.head()"
   ]
  },
  {
   "cell_type": "markdown",
   "metadata": {},
   "source": [
    "Inspect the data frame with the `.info()` method.  Where do we have nans?"
   ]
  },
  {
   "cell_type": "code",
   "execution_count": 7,
   "metadata": {},
   "outputs": [
    {
     "name": "stdout",
     "output_type": "stream",
     "text": [
      "<class 'pandas.core.frame.DataFrame'>\n",
      "RangeIndex: 213 entries, 0 to 212\n",
      "Data columns (total 6 columns):\n",
      "product_id    213 non-null int64\n",
      "state         213 non-null object\n",
      "date          213 non-null object\n",
      "rating        187 non-null object\n",
      "units_sold    187 non-null float64\n",
      "price         185 non-null object\n",
      "dtypes: float64(1), int64(1), object(4)\n",
      "memory usage: 10.1+ KB\n"
     ]
    }
   ],
   "source": [
    "df.info()"
   ]
  },
  {
   "cell_type": "markdown",
   "metadata": {},
   "source": [
    "Further inspect the data frame with `.isna()` or `.isnull()`\n",
    "\n",
    "What percentage of each column is `NaN`?"
   ]
  },
  {
   "cell_type": "code",
   "execution_count": 8,
   "metadata": {},
   "outputs": [
    {
     "data": {
      "text/plain": [
       "product_id     0\n",
       "state          0\n",
       "date           0\n",
       "rating        26\n",
       "units_sold    26\n",
       "price         28\n",
       "dtype: int64"
      ]
     },
     "execution_count": 8,
     "metadata": {},
     "output_type": "execute_result"
    }
   ],
   "source": [
    "df.isna().sum()"
   ]
  },
  {
   "cell_type": "code",
   "execution_count": 9,
   "metadata": {},
   "outputs": [
    {
     "data": {
      "text/plain": [
       "product_id    0.000000\n",
       "state         0.000000\n",
       "date          0.000000\n",
       "rating        0.122066\n",
       "units_sold    0.122066\n",
       "price         0.131455\n",
       "dtype: float64"
      ]
     },
     "execution_count": 9,
     "metadata": {},
     "output_type": "execute_result"
    }
   ],
   "source": [
    "df.isna().mean()"
   ]
  },
  {
   "cell_type": "markdown",
   "metadata": {},
   "source": [
    "Convert the price column to numeric"
   ]
  },
  {
   "cell_type": "code",
   "execution_count": 10,
   "metadata": {},
   "outputs": [],
   "source": [
    "df['price'] = df['price'].str.strip('$')\n",
    "df['price'] = pd.to_numeric(df['price'])"
   ]
  },
  {
   "cell_type": "markdown",
   "metadata": {},
   "source": [
    "Using `pd.to_numeric` with the option `errors=\"coerce\"` can create new `NaN`s. \n",
    "\n",
    "Redo the same missing value analysis."
   ]
  },
  {
   "cell_type": "code",
   "execution_count": 11,
   "metadata": {},
   "outputs": [],
   "source": [
    "df['price'] = pd.to_numeric(df['price'])"
   ]
  },
  {
   "cell_type": "markdown",
   "metadata": {},
   "source": [
    "Convert the ratings column to numeric."
   ]
  },
  {
   "cell_type": "code",
   "execution_count": 12,
   "metadata": {},
   "outputs": [],
   "source": [
    "mapping ={'*':1, '**':2, '***':3, '****':4, '*****':5}\n",
    "#df['rating'].replace(mapping)"
   ]
  },
  {
   "cell_type": "code",
   "execution_count": 13,
   "metadata": {},
   "outputs": [
    {
     "data": {
      "text/plain": [
       "0      1.0\n",
       "1      4.0\n",
       "2      1.0\n",
       "3      1.0\n",
       "4      4.0\n",
       "5      4.0\n",
       "6      5.0\n",
       "7      NaN\n",
       "8      1.0\n",
       "9      5.0\n",
       "10     3.0\n",
       "11     NaN\n",
       "12     3.0\n",
       "13     5.0\n",
       "14     1.0\n",
       "15     5.0\n",
       "16     5.0\n",
       "17     3.0\n",
       "18     2.0\n",
       "19     1.0\n",
       "20     3.0\n",
       "21     2.0\n",
       "22     2.0\n",
       "23     4.0\n",
       "24     1.0\n",
       "25     2.0\n",
       "26     3.0\n",
       "27     4.0\n",
       "28     1.0\n",
       "29     5.0\n",
       "      ... \n",
       "183    1.0\n",
       "184    3.0\n",
       "185    3.0\n",
       "186    2.0\n",
       "187    NaN\n",
       "188    4.0\n",
       "189    4.0\n",
       "190    3.0\n",
       "191    2.0\n",
       "192    4.0\n",
       "193    3.0\n",
       "194    5.0\n",
       "195    4.0\n",
       "196    3.0\n",
       "197    3.0\n",
       "198    1.0\n",
       "199    5.0\n",
       "200    1.0\n",
       "201    NaN\n",
       "202    1.0\n",
       "203    1.0\n",
       "204    4.0\n",
       "205    3.0\n",
       "206    NaN\n",
       "207    1.0\n",
       "208    5.0\n",
       "209    1.0\n",
       "210    2.0\n",
       "211    1.0\n",
       "212    4.0\n",
       "Name: rating, Length: 213, dtype: float64"
      ]
     },
     "execution_count": 13,
     "metadata": {},
     "output_type": "execute_result"
    }
   ],
   "source": [
    "df['rating'].str.len()"
   ]
  },
  {
   "cell_type": "markdown",
   "metadata": {},
   "source": [
    "Convert the date column to a date datatype and sort by it"
   ]
  },
  {
   "cell_type": "code",
   "execution_count": 14,
   "metadata": {},
   "outputs": [],
   "source": [
    "df['date'] = pd.to_datetime(df['date'])"
   ]
  },
  {
   "cell_type": "code",
   "execution_count": null,
   "metadata": {},
   "outputs": [],
   "source": []
  },
  {
   "cell_type": "markdown",
   "metadata": {},
   "source": [
    "Now let's address the missing values.\n",
    "\n",
    "In practice, the 2 main ways we might handle NAs are:\n",
    "\n",
    "* Drop them\n",
    "* Fill them in with a value\n",
    "  * Some people didn't mark their height on a survey, maybe we fill in with the average height reported\n",
    "  * The thermeter broke so we're missing a temperature at time 4, maybe we fill it in with the average of time 3 and time 5 (linear interpolation)\n",
    "\n",
    "\n",
    "Before dropping we'd like to know why the values are NA because we might be dropping valid data.  For example, you might have seen something like below on a survey:\n",
    "\n",
    "> 10. Are you a veteran?:  &emsp;&emsp; Yes [&emsp;]&emsp;&emsp;No [&emsp;]\n",
    "> \n",
    "> (only answer the following questions if you answered yes to question 10)\n",
    "\n",
    "In this case, we should expect non-veterans to have missing values to the veteran only questions.  Other times, missing values aren't that deep and they're just missing.  For example, maybe a survey taker didn't know there was a page 2 so they left it all blank.\n",
    "\n",
    "In practice it's very important to know how the data was collected and what a missing value indicates.\n",
    "\n",
    "* Is there any pattern to any of the missingness?"
   ]
  },
  {
   "cell_type": "code",
   "execution_count": 15,
   "metadata": {},
   "outputs": [],
   "source": [
    "rows_with_na = df.isna().any(axis=1)\n",
    "# columns_with_na = df.isna().any"
   ]
  },
  {
   "cell_type": "code",
   "execution_count": 16,
   "metadata": {},
   "outputs": [
    {
     "data": {
      "text/plain": [
       "0      False\n",
       "1       True\n",
       "2       True\n",
       "3      False\n",
       "4      False\n",
       "5      False\n",
       "6       True\n",
       "7       True\n",
       "8       True\n",
       "9      False\n",
       "10     False\n",
       "11      True\n",
       "12     False\n",
       "13      True\n",
       "14     False\n",
       "15     False\n",
       "16     False\n",
       "17     False\n",
       "18     False\n",
       "19     False\n",
       "20     False\n",
       "21      True\n",
       "22     False\n",
       "23     False\n",
       "24     False\n",
       "25     False\n",
       "26     False\n",
       "27     False\n",
       "28     False\n",
       "29     False\n",
       "       ...  \n",
       "183    False\n",
       "184    False\n",
       "185    False\n",
       "186    False\n",
       "187     True\n",
       "188    False\n",
       "189    False\n",
       "190    False\n",
       "191    False\n",
       "192    False\n",
       "193    False\n",
       "194    False\n",
       "195    False\n",
       "196     True\n",
       "197    False\n",
       "198    False\n",
       "199     True\n",
       "200    False\n",
       "201     True\n",
       "202     True\n",
       "203     True\n",
       "204    False\n",
       "205    False\n",
       "206     True\n",
       "207     True\n",
       "208    False\n",
       "209     True\n",
       "210    False\n",
       "211    False\n",
       "212    False\n",
       "Length: 213, dtype: bool"
      ]
     },
     "execution_count": 16,
     "metadata": {},
     "output_type": "execute_result"
    }
   ],
   "source": [
    "df.isna().any(axis=1)"
   ]
  },
  {
   "cell_type": "markdown",
   "metadata": {},
   "source": [
    "We want to move forward with a dataframe that doesn't have any missing values.\n",
    "\n",
    "* What options do we have?\n",
    "* Which ones make sense for each column?\n",
    "    * How do we decide which ones make sense?\n",
    "    \n",
    "Once these questions are answered.  Let's apply them until we have no missing values."
   ]
  },
  {
   "cell_type": "code",
   "execution_count": 17,
   "metadata": {},
   "outputs": [
    {
     "data": {
      "text/plain": [
       "***      7\n",
       "**       7\n",
       "*****    4\n",
       "*        4\n",
       "****     3\n",
       "Name: rating, dtype: int64"
      ]
     },
     "execution_count": 17,
     "metadata": {},
     "output_type": "execute_result"
    }
   ],
   "source": [
    "rows_missing_price = df.loc[df['price'].isna(), :]\n",
    "rows_missing_price['rating'].value_counts()"
   ]
  },
  {
   "cell_type": "code",
   "execution_count": 18,
   "metadata": {},
   "outputs": [
    {
     "data": {
      "text/plain": [
       "product_id     0\n",
       "state          0\n",
       "date           0\n",
       "rating         0\n",
       "units_sold    21\n",
       "price         25\n",
       "dtype: int64"
      ]
     },
     "execution_count": 18,
     "metadata": {},
     "output_type": "execute_result"
    }
   ],
   "source": [
    "df.dropna(subset=['rating']).isna().sum()"
   ]
  },
  {
   "cell_type": "code",
   "execution_count": 19,
   "metadata": {},
   "outputs": [
    {
     "data": {
      "image/png": "[encoded data removed]",
      "text/plain": [
       "<Figure size 432x288 with 1 Axes>"
      ]
     },
     "metadata": {
      "needs_background": "light"
     },
     "output_type": "display_data"
    }
   ],
   "source": [
    "plt.plot(df['units_sold'],df['date'])\n",
    "plt.show()"
   ]
  },
  {
   "cell_type": "code",
   "execution_count": 20,
   "metadata": {},
   "outputs": [
    {
     "data": {
      "text/html": [
       "<div>\n",
       "<style scoped>\n",
       "    .dataframe tbody tr th:only-of-type {\n",
       "        vertical-align: middle;\n",
       "    }\n",
       "\n",
       "    .dataframe tbody tr th {\n",
       "        vertical-align: top;\n",
       "    }\n",
       "\n",
       "    .dataframe thead th {\n",
       "        text-align: right;\n",
       "    }\n",
       "</style>\n",
       "<table border=\"1\" class=\"dataframe\">\n",
       "  <thead>\n",
       "    <tr style=\"text-align: right;\">\n",
       "      <th></th>\n",
       "      <th>product_id</th>\n",
       "      <th>state</th>\n",
       "      <th>date</th>\n",
       "      <th>rating</th>\n",
       "      <th>units_sold</th>\n",
       "      <th>price</th>\n",
       "    </tr>\n",
       "  </thead>\n",
       "  <tbody>\n",
       "    <tr>\n",
       "      <th>0</th>\n",
       "      <td>5</td>\n",
       "      <td>ID</td>\n",
       "      <td>2010-02-05</td>\n",
       "      <td>*</td>\n",
       "      <td>6.0</td>\n",
       "      <td>4.73</td>\n",
       "    </tr>\n",
       "    <tr>\n",
       "      <th>1</th>\n",
       "      <td>4</td>\n",
       "      <td>FL</td>\n",
       "      <td>2010-02-07</td>\n",
       "      <td>****</td>\n",
       "      <td>7.0</td>\n",
       "      <td>NaN</td>\n",
       "    </tr>\n",
       "    <tr>\n",
       "      <th>2</th>\n",
       "      <td>1</td>\n",
       "      <td>NY</td>\n",
       "      <td>2010-02-07</td>\n",
       "      <td>*</td>\n",
       "      <td>NaN</td>\n",
       "      <td>23.81</td>\n",
       "    </tr>\n",
       "    <tr>\n",
       "      <th>3</th>\n",
       "      <td>7</td>\n",
       "      <td>HI</td>\n",
       "      <td>2010-03-12</td>\n",
       "      <td>*</td>\n",
       "      <td>4.0</td>\n",
       "      <td>21.78</td>\n",
       "    </tr>\n",
       "    <tr>\n",
       "      <th>4</th>\n",
       "      <td>5</td>\n",
       "      <td>NY</td>\n",
       "      <td>2010-04-07</td>\n",
       "      <td>****</td>\n",
       "      <td>6.0</td>\n",
       "      <td>4.73</td>\n",
       "    </tr>\n",
       "  </tbody>\n",
       "</table>\n",
       "</div>"
      ],
      "text/plain": [
       "   product_id state       date rating  units_sold  price\n",
       "0           5    ID 2010-02-05      *         6.0   4.73\n",
       "1           4    FL 2010-02-07   ****         7.0    NaN\n",
       "2           1    NY 2010-02-07      *         NaN  23.81\n",
       "3           7    HI 2010-03-12      *         4.0  21.78\n",
       "4           5    NY 2010-04-07   ****         6.0   4.73"
      ]
     },
     "execution_count": 20,
     "metadata": {},
     "output_type": "execute_result"
    }
   ],
   "source": [
    "df = df.sort_values('date')\n",
    "df.head()"
   ]
  },
  {
   "cell_type": "code",
   "execution_count": 21,
   "metadata": {},
   "outputs": [
    {
     "data": {
      "text/html": [
       "<div>\n",
       "<style scoped>\n",
       "    .dataframe tbody tr th:only-of-type {\n",
       "        vertical-align: middle;\n",
       "    }\n",
       "\n",
       "    .dataframe tbody tr th {\n",
       "        vertical-align: top;\n",
       "    }\n",
       "\n",
       "    .dataframe thead th {\n",
       "        text-align: right;\n",
       "    }\n",
       "</style>\n",
       "<table border=\"1\" class=\"dataframe\">\n",
       "  <thead>\n",
       "    <tr style=\"text-align: right;\">\n",
       "      <th></th>\n",
       "      <th>product_id</th>\n",
       "      <th>state</th>\n",
       "      <th>date</th>\n",
       "      <th>rating</th>\n",
       "      <th>units_sold</th>\n",
       "      <th>price</th>\n",
       "    </tr>\n",
       "  </thead>\n",
       "  <tbody>\n",
       "    <tr>\n",
       "      <th>0</th>\n",
       "      <td>5</td>\n",
       "      <td>ID</td>\n",
       "      <td>2010-02-05</td>\n",
       "      <td>*</td>\n",
       "      <td>6.0</td>\n",
       "      <td>4.73</td>\n",
       "    </tr>\n",
       "    <tr>\n",
       "      <th>1</th>\n",
       "      <td>4</td>\n",
       "      <td>FL</td>\n",
       "      <td>2010-02-07</td>\n",
       "      <td>****</td>\n",
       "      <td>7.0</td>\n",
       "      <td>NaN</td>\n",
       "    </tr>\n",
       "    <tr>\n",
       "      <th>2</th>\n",
       "      <td>1</td>\n",
       "      <td>NY</td>\n",
       "      <td>2010-02-07</td>\n",
       "      <td>*</td>\n",
       "      <td>NaN</td>\n",
       "      <td>23.81</td>\n",
       "    </tr>\n",
       "    <tr>\n",
       "      <th>3</th>\n",
       "      <td>7</td>\n",
       "      <td>HI</td>\n",
       "      <td>2010-03-12</td>\n",
       "      <td>*</td>\n",
       "      <td>4.0</td>\n",
       "      <td>21.78</td>\n",
       "    </tr>\n",
       "    <tr>\n",
       "      <th>4</th>\n",
       "      <td>5</td>\n",
       "      <td>NY</td>\n",
       "      <td>2010-04-07</td>\n",
       "      <td>****</td>\n",
       "      <td>6.0</td>\n",
       "      <td>4.73</td>\n",
       "    </tr>\n",
       "  </tbody>\n",
       "</table>\n",
       "</div>"
      ],
      "text/plain": [
       "   product_id state       date rating  units_sold  price\n",
       "0           5    ID 2010-02-05      *         6.0   4.73\n",
       "1           4    FL 2010-02-07   ****         7.0    NaN\n",
       "2           1    NY 2010-02-07      *         NaN  23.81\n",
       "3           7    HI 2010-03-12      *         4.0  21.78\n",
       "4           5    NY 2010-04-07   ****         6.0   4.73"
      ]
     },
     "execution_count": 21,
     "metadata": {},
     "output_type": "execute_result"
    }
   ],
   "source": [
    "df['units_sold'].fillna(method='ffill')\n",
    "df.head()"
   ]
  },
  {
   "cell_type": "code",
   "execution_count": 22,
   "metadata": {},
   "outputs": [],
   "source": [
    "df['units_sold'] = df['units_sold'].interpolate()"
   ]
  },
  {
   "cell_type": "code",
   "execution_count": 23,
   "metadata": {},
   "outputs": [
    {
     "data": {
      "text/html": [
       "<div>\n",
       "<style scoped>\n",
       "    .dataframe tbody tr th:only-of-type {\n",
       "        vertical-align: middle;\n",
       "    }\n",
       "\n",
       "    .dataframe tbody tr th {\n",
       "        vertical-align: top;\n",
       "    }\n",
       "\n",
       "    .dataframe thead th {\n",
       "        text-align: right;\n",
       "    }\n",
       "</style>\n",
       "<table border=\"1\" class=\"dataframe\">\n",
       "  <thead>\n",
       "    <tr style=\"text-align: right;\">\n",
       "      <th></th>\n",
       "      <th>product_id</th>\n",
       "      <th>state</th>\n",
       "      <th>date</th>\n",
       "      <th>rating</th>\n",
       "      <th>units_sold</th>\n",
       "      <th>price</th>\n",
       "    </tr>\n",
       "  </thead>\n",
       "  <tbody>\n",
       "    <tr>\n",
       "      <th>0</th>\n",
       "      <td>5</td>\n",
       "      <td>ID</td>\n",
       "      <td>2010-02-05</td>\n",
       "      <td>*</td>\n",
       "      <td>6.0</td>\n",
       "      <td>4.73</td>\n",
       "    </tr>\n",
       "    <tr>\n",
       "      <th>1</th>\n",
       "      <td>4</td>\n",
       "      <td>FL</td>\n",
       "      <td>2010-02-07</td>\n",
       "      <td>****</td>\n",
       "      <td>7.0</td>\n",
       "      <td>NaN</td>\n",
       "    </tr>\n",
       "    <tr>\n",
       "      <th>2</th>\n",
       "      <td>1</td>\n",
       "      <td>NY</td>\n",
       "      <td>2010-02-07</td>\n",
       "      <td>*</td>\n",
       "      <td>5.5</td>\n",
       "      <td>23.81</td>\n",
       "    </tr>\n",
       "    <tr>\n",
       "      <th>3</th>\n",
       "      <td>7</td>\n",
       "      <td>HI</td>\n",
       "      <td>2010-03-12</td>\n",
       "      <td>*</td>\n",
       "      <td>4.0</td>\n",
       "      <td>21.78</td>\n",
       "    </tr>\n",
       "    <tr>\n",
       "      <th>4</th>\n",
       "      <td>5</td>\n",
       "      <td>NY</td>\n",
       "      <td>2010-04-07</td>\n",
       "      <td>****</td>\n",
       "      <td>6.0</td>\n",
       "      <td>4.73</td>\n",
       "    </tr>\n",
       "  </tbody>\n",
       "</table>\n",
       "</div>"
      ],
      "text/plain": [
       "   product_id state       date rating  units_sold  price\n",
       "0           5    ID 2010-02-05      *         6.0   4.73\n",
       "1           4    FL 2010-02-07   ****         7.0    NaN\n",
       "2           1    NY 2010-02-07      *         5.5  23.81\n",
       "3           7    HI 2010-03-12      *         4.0  21.78\n",
       "4           5    NY 2010-04-07   ****         6.0   4.73"
      ]
     },
     "execution_count": 23,
     "metadata": {},
     "output_type": "execute_result"
    }
   ],
   "source": [
    "df.head()"
   ]
  },
  {
   "cell_type": "code",
   "execution_count": null,
   "metadata": {},
   "outputs": [],
   "source": []
  }
 ],
 "metadata": {
  "kernelspec": {
   "display_name": "Python 3",
   "language": "python",
   "name": "python3"
  },
  "language_info": {
   "codemirror_mode": {
    "name": "ipython",
    "version": 3
   },
   "file_extension": ".py",
   "mimetype": "text/x-python",
   "name": "python",
   "nbconvert_exporter": "python",
   "pygments_lexer": "ipython3",
   "version": "3.7.0"
  }
 },
 "nbformat": 4,
 "nbformat_minor": 2
}
