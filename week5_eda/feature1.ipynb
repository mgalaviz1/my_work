{
 "cells": [
  {
   "cell_type": "code",
   "execution_count": 24,
   "metadata": {},
   "outputs": [],
   "source": [
    "import pandas as pd\n",
    "import matplotlib.pyplot as plt\n",
    "import seaborn as sns\n",
    "from sqlalchemy import create_engine\n",
    "from scipy.stats.stats import ttest_ind\n",
    "from scipy.stats import boxcox\n",
    "import warnings\n",
    "\n",
    "from scipy.stats import jarque_bera\n",
    "from scipy.stats import normaltest\n",
    "\n",
    "warnings.filterwarnings('ignore')\n",
    "sns.set(style=\"whitegrid\")"
   ]
  },
  {
   "cell_type": "code",
   "execution_count": 2,
   "metadata": {},
   "outputs": [],
   "source": [
    "postgres_user = 'dsbc_student'\n",
    "postgres_pw = '7*.8G9QH21'\n",
    "postgres_host = '142.93.121.174'\n",
    "postgres_port = '5432'\n",
    "postgres_db = 'studentsperformance'\n",
    "\n",
    "engine = create_engine('postgresql://{}:{}@{}:{}/{}'.format(\n",
    "    postgres_user, postgres_pw, postgres_host, postgres_port, postgres_db))\n",
    "\n",
    "df = pd.read_sql_query('select * from studentsperformance',con=engine)\n",
    "\n",
    "# no need for an open connection, \n",
    "# as we're only doing a single query\n",
    "engine.dispose()"
   ]
  },
  {
   "cell_type": "code",
   "execution_count": 3,
   "metadata": {},
   "outputs": [
    {
     "data": {
      "text/html": [
       "<div>\n",
       "<style scoped>\n",
       "    .dataframe tbody tr th:only-of-type {\n",
       "        vertical-align: middle;\n",
       "    }\n",
       "\n",
       "    .dataframe tbody tr th {\n",
       "        vertical-align: top;\n",
       "    }\n",
       "\n",
       "    .dataframe thead th {\n",
       "        text-align: right;\n",
       "    }\n",
       "</style>\n",
       "<table border=\"1\" class=\"dataframe\">\n",
       "  <thead>\n",
       "    <tr style=\"text-align: right;\">\n",
       "      <th></th>\n",
       "      <th>gender</th>\n",
       "      <th>race/ethnicity</th>\n",
       "      <th>parental level of education</th>\n",
       "      <th>lunch</th>\n",
       "      <th>test preparation course</th>\n",
       "      <th>math score</th>\n",
       "      <th>reading score</th>\n",
       "      <th>writing score</th>\n",
       "    </tr>\n",
       "  </thead>\n",
       "  <tbody>\n",
       "    <tr>\n",
       "      <th>0</th>\n",
       "      <td>female</td>\n",
       "      <td>group B</td>\n",
       "      <td>bachelor's degree</td>\n",
       "      <td>standard</td>\n",
       "      <td>none</td>\n",
       "      <td>72</td>\n",
       "      <td>72</td>\n",
       "      <td>74</td>\n",
       "    </tr>\n",
       "    <tr>\n",
       "      <th>1</th>\n",
       "      <td>female</td>\n",
       "      <td>group C</td>\n",
       "      <td>some college</td>\n",
       "      <td>standard</td>\n",
       "      <td>completed</td>\n",
       "      <td>69</td>\n",
       "      <td>90</td>\n",
       "      <td>88</td>\n",
       "    </tr>\n",
       "    <tr>\n",
       "      <th>2</th>\n",
       "      <td>female</td>\n",
       "      <td>group B</td>\n",
       "      <td>master's degree</td>\n",
       "      <td>standard</td>\n",
       "      <td>none</td>\n",
       "      <td>90</td>\n",
       "      <td>95</td>\n",
       "      <td>93</td>\n",
       "    </tr>\n",
       "    <tr>\n",
       "      <th>3</th>\n",
       "      <td>male</td>\n",
       "      <td>group A</td>\n",
       "      <td>associate's degree</td>\n",
       "      <td>free/reduced</td>\n",
       "      <td>none</td>\n",
       "      <td>47</td>\n",
       "      <td>57</td>\n",
       "      <td>44</td>\n",
       "    </tr>\n",
       "    <tr>\n",
       "      <th>4</th>\n",
       "      <td>male</td>\n",
       "      <td>group C</td>\n",
       "      <td>some college</td>\n",
       "      <td>standard</td>\n",
       "      <td>none</td>\n",
       "      <td>76</td>\n",
       "      <td>78</td>\n",
       "      <td>75</td>\n",
       "    </tr>\n",
       "  </tbody>\n",
       "</table>\n",
       "</div>"
      ],
      "text/plain": [
       "   gender race/ethnicity parental level of education         lunch  \\\n",
       "0  female        group B           bachelor's degree      standard   \n",
       "1  female        group C                some college      standard   \n",
       "2  female        group B             master's degree      standard   \n",
       "3    male        group A          associate's degree  free/reduced   \n",
       "4    male        group C                some college      standard   \n",
       "\n",
       "  test preparation course  math score  reading score  writing score  \n",
       "0                    none          72             72             74  \n",
       "1               completed          69             90             88  \n",
       "2                    none          90             95             93  \n",
       "3                    none          47             57             44  \n",
       "4                    none          76             78             75  "
      ]
     },
     "execution_count": 3,
     "metadata": {},
     "output_type": "execute_result"
    }
   ],
   "source": [
    "df.head()"
   ]
  },
  {
   "cell_type": "code",
   "execution_count": 4,
   "metadata": {},
   "outputs": [
    {
     "name": "stdout",
     "output_type": "stream",
     "text": [
      "<class 'pandas.core.frame.DataFrame'>\n",
      "RangeIndex: 1000 entries, 0 to 999\n",
      "Data columns (total 8 columns):\n",
      "gender                         1000 non-null object\n",
      "race/ethnicity                 1000 non-null object\n",
      "parental level of education    1000 non-null object\n",
      "lunch                          1000 non-null object\n",
      "test preparation course        1000 non-null object\n",
      "math score                     1000 non-null int64\n",
      "reading score                  1000 non-null int64\n",
      "writing score                  1000 non-null int64\n",
      "dtypes: int64(3), object(5)\n",
      "memory usage: 62.6+ KB\n"
     ]
    }
   ],
   "source": [
    "df.info()"
   ]
  },
  {
   "cell_type": "code",
   "execution_count": 5,
   "metadata": {},
   "outputs": [
    {
     "data": {
      "text/html": [
       "<div>\n",
       "<style scoped>\n",
       "    .dataframe tbody tr th:only-of-type {\n",
       "        vertical-align: middle;\n",
       "    }\n",
       "\n",
       "    .dataframe tbody tr th {\n",
       "        vertical-align: top;\n",
       "    }\n",
       "\n",
       "    .dataframe thead th {\n",
       "        text-align: right;\n",
       "    }\n",
       "</style>\n",
       "<table border=\"1\" class=\"dataframe\">\n",
       "  <thead>\n",
       "    <tr style=\"text-align: right;\">\n",
       "      <th></th>\n",
       "      <th>math score</th>\n",
       "      <th>reading score</th>\n",
       "      <th>writing score</th>\n",
       "    </tr>\n",
       "  </thead>\n",
       "  <tbody>\n",
       "    <tr>\n",
       "      <th>count</th>\n",
       "      <td>1000.00000</td>\n",
       "      <td>1000.000000</td>\n",
       "      <td>1000.000000</td>\n",
       "    </tr>\n",
       "    <tr>\n",
       "      <th>mean</th>\n",
       "      <td>66.08900</td>\n",
       "      <td>69.169000</td>\n",
       "      <td>68.054000</td>\n",
       "    </tr>\n",
       "    <tr>\n",
       "      <th>std</th>\n",
       "      <td>15.16308</td>\n",
       "      <td>14.600192</td>\n",
       "      <td>15.195657</td>\n",
       "    </tr>\n",
       "    <tr>\n",
       "      <th>min</th>\n",
       "      <td>0.00000</td>\n",
       "      <td>17.000000</td>\n",
       "      <td>10.000000</td>\n",
       "    </tr>\n",
       "    <tr>\n",
       "      <th>25%</th>\n",
       "      <td>57.00000</td>\n",
       "      <td>59.000000</td>\n",
       "      <td>57.750000</td>\n",
       "    </tr>\n",
       "    <tr>\n",
       "      <th>50%</th>\n",
       "      <td>66.00000</td>\n",
       "      <td>70.000000</td>\n",
       "      <td>69.000000</td>\n",
       "    </tr>\n",
       "    <tr>\n",
       "      <th>75%</th>\n",
       "      <td>77.00000</td>\n",
       "      <td>79.000000</td>\n",
       "      <td>79.000000</td>\n",
       "    </tr>\n",
       "    <tr>\n",
       "      <th>max</th>\n",
       "      <td>100.00000</td>\n",
       "      <td>100.000000</td>\n",
       "      <td>100.000000</td>\n",
       "    </tr>\n",
       "  </tbody>\n",
       "</table>\n",
       "</div>"
      ],
      "text/plain": [
       "       math score  reading score  writing score\n",
       "count  1000.00000    1000.000000    1000.000000\n",
       "mean     66.08900      69.169000      68.054000\n",
       "std      15.16308      14.600192      15.195657\n",
       "min       0.00000      17.000000      10.000000\n",
       "25%      57.00000      59.000000      57.750000\n",
       "50%      66.00000      70.000000      69.000000\n",
       "75%      77.00000      79.000000      79.000000\n",
       "max     100.00000     100.000000     100.000000"
      ]
     },
     "execution_count": 5,
     "metadata": {},
     "output_type": "execute_result"
    }
   ],
   "source": [
    "df.describe()"
   ]
  },
  {
   "cell_type": "code",
   "execution_count": 6,
   "metadata": {},
   "outputs": [
    {
     "data": {
      "text/plain": [
       "some college          226\n",
       "associate's degree    222\n",
       "high school           196\n",
       "some high school      179\n",
       "bachelor's degree     118\n",
       "master's degree        59\n",
       "Name: parental level of education, dtype: int64"
      ]
     },
     "execution_count": 6,
     "metadata": {},
     "output_type": "execute_result"
    }
   ],
   "source": [
    "df['parental level of education'].value_counts()"
   ]
  },
  {
   "cell_type": "code",
   "execution_count": 7,
   "metadata": {},
   "outputs": [
    {
     "data": {
      "text/plain": [
       "standard        645\n",
       "free/reduced    355\n",
       "Name: lunch, dtype: int64"
      ]
     },
     "execution_count": 7,
     "metadata": {},
     "output_type": "execute_result"
    }
   ],
   "source": [
    "df['lunch'].value_counts()"
   ]
  },
  {
   "cell_type": "code",
   "execution_count": 8,
   "metadata": {},
   "outputs": [
    {
     "data": {
      "text/plain": [
       "none         642\n",
       "completed    358\n",
       "Name: test preparation course, dtype: int64"
      ]
     },
     "execution_count": 8,
     "metadata": {},
     "output_type": "execute_result"
    }
   ],
   "source": [
    "df['test preparation course'].value_counts()"
   ]
  },
  {
   "cell_type": "code",
   "execution_count": 9,
   "metadata": {},
   "outputs": [
    {
     "data": {
      "text/plain": [
       "group C    319\n",
       "group D    262\n",
       "group B    190\n",
       "group E    140\n",
       "group A     89\n",
       "Name: race/ethnicity, dtype: int64"
      ]
     },
     "execution_count": 9,
     "metadata": {},
     "output_type": "execute_result"
    }
   ],
   "source": [
    "df['race/ethnicity'].value_counts()"
   ]
  },
  {
   "cell_type": "code",
   "execution_count": 10,
   "metadata": {},
   "outputs": [
    {
     "data": {
      "text/plain": [
       "female    518\n",
       "male      482\n",
       "Name: gender, dtype: int64"
      ]
     },
     "execution_count": 10,
     "metadata": {},
     "output_type": "execute_result"
    }
   ],
   "source": [
    "df['gender'].value_counts()"
   ]
  },
  {
   "cell_type": "markdown",
   "metadata": {},
   "source": [
    "1. Are the exam score variables distributed normally? If not, apply Box-Cox transformation. Does anything change?"
   ]
  },
  {
   "cell_type": "code",
   "execution_count": 11,
   "metadata": {},
   "outputs": [
    {
     "data": {
      "text/plain": [
       "gender                         0\n",
       "race/ethnicity                 0\n",
       "parental level of education    0\n",
       "lunch                          0\n",
       "test preparation course        0\n",
       "math score                     0\n",
       "reading score                  0\n",
       "writing score                  0\n",
       "dtype: int64"
      ]
     },
     "execution_count": 11,
     "metadata": {},
     "output_type": "execute_result"
    }
   ],
   "source": [
    "df.isnull().sum()"
   ]
  },
  {
   "cell_type": "code",
   "execution_count": 12,
   "metadata": {},
   "outputs": [
    {
     "data": {
      "text/plain": [
       "59       0\n",
       "980      8\n",
       "17      18\n",
       "787     19\n",
       "145     22\n",
       "842     23\n",
       "338     24\n",
       "466     26\n",
       "91      27\n",
       "363     27\n",
       "327     28\n",
       "683     29\n",
       "528     29\n",
       "602     29\n",
       "76      30\n",
       "597     30\n",
       "785     32\n",
       "895     32\n",
       "555     32\n",
       "55      33\n",
       "217     34\n",
       "902     34\n",
       "921     35\n",
       "339     35\n",
       "211     35\n",
       "777     35\n",
       "621     35\n",
       "527     36\n",
       "896     36\n",
       "617     37\n",
       "      ... \n",
       "501     94\n",
       "815     94\n",
       "685     94\n",
       "171     94\n",
       "613     94\n",
       "950     94\n",
       "503     95\n",
       "619     95\n",
       "717     96\n",
       "165     96\n",
       "563     96\n",
       "34      97\n",
       "864     97\n",
       "286     97\n",
       "179     97\n",
       "855     97\n",
       "539     97\n",
       "104     98\n",
       "934     98\n",
       "712     98\n",
       "306     99\n",
       "114     99\n",
       "263     99\n",
       "916    100\n",
       "458    100\n",
       "626    100\n",
       "624    100\n",
       "451    100\n",
       "962    100\n",
       "149    100\n",
       "Name: math score, Length: 1000, dtype: int64"
      ]
     },
     "execution_count": 12,
     "metadata": {},
     "output_type": "execute_result"
    }
   ],
   "source": [
    "df['math score'].sort_values()"
   ]
  },
  {
   "cell_type": "code",
   "execution_count": 13,
   "metadata": {},
   "outputs": [
    {
     "data": {
      "text/plain": [
       "59      17\n",
       "327     23\n",
       "597     24\n",
       "980     24\n",
       "76      26\n",
       "211     28\n",
       "602     29\n",
       "896     29\n",
       "466     31\n",
       "810     31\n",
       "17      32\n",
       "895     34\n",
       "363     34\n",
       "91      34\n",
       "706     34\n",
       "66      37\n",
       "131     37\n",
       "331     37\n",
       "338     38\n",
       "787     38\n",
       "145     39\n",
       "555     39\n",
       "729     39\n",
       "424     39\n",
       "61      39\n",
       "84      39\n",
       "683     40\n",
       "296     41\n",
       "978     41\n",
       "204     41\n",
       "      ... \n",
       "229     95\n",
       "717     96\n",
       "919     96\n",
       "572     96\n",
       "624     96\n",
       "373     97\n",
       "514     97\n",
       "626     97\n",
       "855     97\n",
       "581     97\n",
       "995     99\n",
       "685     99\n",
       "403     99\n",
       "149    100\n",
       "546    100\n",
       "165    100\n",
       "886    100\n",
       "957    100\n",
       "903    100\n",
       "916    100\n",
       "567    100\n",
       "114    100\n",
       "712    100\n",
       "381    100\n",
       "970    100\n",
       "106    100\n",
       "595    100\n",
       "962    100\n",
       "179    100\n",
       "458    100\n",
       "Name: reading score, Length: 1000, dtype: int64"
      ]
     },
     "execution_count": 13,
     "metadata": {},
     "output_type": "execute_result"
    }
   ],
   "source": [
    "df['reading score'].sort_values()"
   ]
  },
  {
   "cell_type": "code",
   "execution_count": 14,
   "metadata": {},
   "outputs": [
    {
     "data": {
      "text/plain": [
       "59      10\n",
       "597     15\n",
       "327     19\n",
       "76      22\n",
       "980     23\n",
       "338     27\n",
       "896     27\n",
       "211     27\n",
       "17      28\n",
       "602     30\n",
       "363     32\n",
       "787     32\n",
       "555     33\n",
       "145     33\n",
       "84      34\n",
       "424     34\n",
       "61      34\n",
       "331     35\n",
       "842     36\n",
       "91      36\n",
       "810     36\n",
       "706     36\n",
       "729     37\n",
       "66      37\n",
       "862     38\n",
       "33      38\n",
       "617     38\n",
       "466     38\n",
       "75      38\n",
       "895     38\n",
       "      ... \n",
       "334     95\n",
       "995     95\n",
       "886     95\n",
       "268     95\n",
       "941     96\n",
       "855     96\n",
       "373     96\n",
       "581     96\n",
       "546     97\n",
       "451     97\n",
       "110     98\n",
       "652     98\n",
       "626     99\n",
       "595     99\n",
       "712     99\n",
       "717     99\n",
       "567    100\n",
       "962    100\n",
       "377    100\n",
       "165    100\n",
       "403    100\n",
       "685    100\n",
       "458    100\n",
       "903    100\n",
       "179    100\n",
       "970    100\n",
       "106    100\n",
       "957    100\n",
       "916    100\n",
       "114    100\n",
       "Name: writing score, Length: 1000, dtype: int64"
      ]
     },
     "execution_count": 14,
     "metadata": {},
     "output_type": "execute_result"
    }
   ],
   "source": [
    "df['writing score'].sort_values()"
   ]
  },
  {
   "cell_type": "code",
   "execution_count": 18,
   "metadata": {},
   "outputs": [],
   "source": [
    "# removing row with 0 in math score. transforming requires positive values\n",
    "df = df.drop(df.index[59])"
   ]
  },
  {
   "cell_type": "code",
   "execution_count": 19,
   "metadata": {},
   "outputs": [
    {
     "data": {
      "text/plain": [
       "980      8\n",
       "17      18\n",
       "787     19\n",
       "145     22\n",
       "842     23\n",
       "338     24\n",
       "466     26\n",
       "91      27\n",
       "363     27\n",
       "327     28\n",
       "683     29\n",
       "528     29\n",
       "602     29\n",
       "76      30\n",
       "597     30\n",
       "555     32\n",
       "895     32\n",
       "785     32\n",
       "55      33\n",
       "902     34\n",
       "217     34\n",
       "339     35\n",
       "777     35\n",
       "211     35\n",
       "621     35\n",
       "921     35\n",
       "527     36\n",
       "896     36\n",
       "741     37\n",
       "617     37\n",
       "      ... \n",
       "613     94\n",
       "501     94\n",
       "685     94\n",
       "950     94\n",
       "815     94\n",
       "779     94\n",
       "619     95\n",
       "503     95\n",
       "717     96\n",
       "563     96\n",
       "165     96\n",
       "864     97\n",
       "286     97\n",
       "539     97\n",
       "855     97\n",
       "179     97\n",
       "34      97\n",
       "934     98\n",
       "712     98\n",
       "104     98\n",
       "114     99\n",
       "263     99\n",
       "306     99\n",
       "916    100\n",
       "149    100\n",
       "624    100\n",
       "626    100\n",
       "962    100\n",
       "451    100\n",
       "458    100\n",
       "Name: math score, Length: 999, dtype: int64"
      ]
     },
     "execution_count": 19,
     "metadata": {},
     "output_type": "execute_result"
    }
   ],
   "source": [
    "df['math score'].sort_values()"
   ]
  },
  {
   "cell_type": "markdown",
   "metadata": {},
   "source": [
    "Are the exam score variables normally distributed? If not, apply a Box-Cox transformation. Does anything change?\n",
    "\n",
    "ANSWER: Distribution of scores were somewhat normal but skewed left. Box-Cox appeared to normalize them as p values are all lower than 0.05. "
   ]
  },
  {
   "cell_type": "code",
   "execution_count": 22,
   "metadata": {},
   "outputs": [
    {
     "data": {
      "image/png": "[encoded data removed]",
      "text/plain": [
       "<Figure size 1296x720 with 6 Axes>"
      ]
     },
     "metadata": {
      "needs_background": "light"
     },
     "output_type": "display_data"
    }
   ],
   "source": [
    "math_boxcox,_ = boxcox(df[\"math score\"])\n",
    "reading_boxcox,_ = boxcox(df[\"reading score\"])\n",
    "writing_boxcox,_ = boxcox(df[\"writing score\"])\n",
    "\n",
    "plt.figure(figsize=(18,10))\n",
    "\n",
    "plt.subplot(2, 3, 1)\n",
    "plt.hist(df[\"math score\"])\n",
    "plt.title(\"Histogram of math score\")\n",
    "\n",
    "plt.subplot(2, 3, 2)\n",
    "plt.hist(df[\"reading score\"])\n",
    "plt.title(\"Histogram of reading score\")\n",
    "\n",
    "plt.subplot(2, 3, 3)\n",
    "plt.hist(df[\"writing score\"])\n",
    "plt.title(\"Histogram of writing score\")\n",
    "\n",
    "plt.subplot(2, 3, 4)\n",
    "plt.hist(math_boxcox)\n",
    "plt.title(\"Histogram of math score (box-cox)\")\n",
    "\n",
    "plt.subplot(2, 3, 5)\n",
    "plt.hist(reading_boxcox)\n",
    "plt.title(\"Histogram of reading score (box-cox)\")\n",
    "\n",
    "plt.subplot(2, 3, 6)\n",
    "plt.hist(writing_boxcox)\n",
    "plt.title(\"Histogram of writing score (box-cox)\")\n",
    "\n",
    "plt.show()"
   ]
  },
  {
   "cell_type": "code",
   "execution_count": 25,
   "metadata": {},
   "outputs": [
    {
     "name": "stdout",
     "output_type": "stream",
     "text": [
      "Jarque-Bera test statistics is 7.67308445764244 and p value is 0.02156804993927408\n",
      "Normality test statistics is 7.661032525153008 and p value is 0.021698410660350678\n",
      "Jarque-Bera test statistics is 9.776353497445086 and p value is 0.007535148427256777\n",
      "Normality test statistics is 9.673376920700841 and p value is 0.007933281978037242\n",
      "Jarque-Bera test statistics is 11.587461259316736 and p value is 0.003046595230866145\n",
      "Normality test statistics is 11.43053575430092 and p value is 0.0032952676764974485\n"
     ]
    }
   ],
   "source": [
    "jb_stats = jarque_bera(df[\"math score\"])\n",
    "norm_stats = normaltest(df[\"math score\"])\n",
    "\n",
    "print(\"Jarque-Bera test statistics is {0} and p value is {1}\".format(jb_stats[0], jb_stats[1]))\n",
    "print(\"Normality test statistics is {0} and p value is {1}\".format(norm_stats[0], norm_stats[1]))\n",
    "\n",
    "jb_stats = jarque_bera(df[\"reading score\"])\n",
    "norm_stats = normaltest(df[\"reading score\"])\n",
    "\n",
    "print(\"Jarque-Bera test statistics is {0} and p value is {1}\".format(jb_stats[0], jb_stats[1]))\n",
    "print(\"Normality test statistics is {0} and p value is {1}\".format(norm_stats[0], norm_stats[1]))\n",
    "\n",
    "jb_stats = jarque_bera(df[\"writing score\"])\n",
    "norm_stats = normaltest(df[\"writing score\"])\n",
    "\n",
    "print(\"Jarque-Bera test statistics is {0} and p value is {1}\".format(jb_stats[0], jb_stats[1]))\n",
    "print(\"Normality test statistics is {0} and p value is {1}\".format(norm_stats[0], norm_stats[1]))"
   ]
  },
  {
   "cell_type": "markdown",
   "metadata": {},
   "source": [
    "2. Say, we want to use a single variable for the exam scores as our target. For this purpose, create a new variable by taking a weighted average of the exam scores. Check whether this new variable is normally distributed or not. If it's not normally distributed, apply Box-Cox transformation and check whether the transformed variable is normally distributed.\n",
    "\n",
    "ANSWER: The newly created variable was almost normally distributed but skewed left. The Box-Cox transformed the variable to be much more normally distributed. "
   ]
  },
  {
   "cell_type": "code",
   "execution_count": 27,
   "metadata": {},
   "outputs": [
    {
     "data": {
      "image/png": "[encoded data removed]",
      "text/plain": [
       "<Figure size 432x288 with 1 Axes>"
      ]
     },
     "metadata": {},
     "output_type": "display_data"
    },
    {
     "name": "stdout",
     "output_type": "stream",
     "text": [
      "Jarque-Bera test statistics is 10.345394363749879 and p value is 0.0056692571616785425\n",
      "Normality test statistics is 10.127189207749474 and p value is 0.006322790687068094\n"
     ]
    }
   ],
   "source": [
    "weighted_exam_score = (df[\"math score\"] + df[\"reading score\"] + df[\"writing score\"])/3\n",
    "\n",
    "plt.hist(weighted_exam_score)\n",
    "plt.title(\"Histogram of Weighted Exam Score\")\n",
    "plt.show()\n",
    "\n",
    "jb_stats = jarque_bera(exam_score)\n",
    "norm_stats = normaltest(exam_score)\n",
    "\n",
    "print(\"Jarque-Bera test statistics is {0} and p value is {1}\".format(jb_stats[0], jb_stats[1]))\n",
    "print(\"Normality test statistics is {0} and p value is {1}\".format(norm_stats[0], norm_stats[1]))"
   ]
  },
  {
   "cell_type": "code",
   "execution_count": 28,
   "metadata": {},
   "outputs": [
    {
     "data": {
      "image/png": "[encoded data removed]",
      "text/plain": [
       "<Figure size 432x288 with 1 Axes>"
      ]
     },
     "metadata": {},
     "output_type": "display_data"
    },
    {
     "name": "stdout",
     "output_type": "stream",
     "text": [
      "Jarque-Bera test statistics is 3.4323846909111793 and p value is 0.17974926966382276\n",
      "Normality test statistics is 4.219879978703656 and p value is 0.12124524222064059\n"
     ]
    }
   ],
   "source": [
    "exams_boxcox,_ = boxcox(weighted_exam_score)\n",
    "\n",
    "plt.hist(exams_boxcox)\n",
    "plt.title(\"Histogram of Weighted Exam Score (box-cox)\")\n",
    "plt.show()\n",
    "\n",
    "jb_stats = jarque_bera(exams_boxcox)\n",
    "norm_stats = normaltest(exams_boxcox)\n",
    "\n",
    "print(\"Jarque-Bera test statistics is {0} and p value is {1}\".format(jb_stats[0], jb_stats[1]))\n",
    "print(\"Normality test statistics is {0} and p value is {1}\".format(norm_stats[0], norm_stats[1]))"
   ]
  },
  {
   "cell_type": "markdown",
   "metadata": {},
   "source": [
    "3. Which variables do seem to be related with the target variable (the newly created variable in the previous question)? If our goal is to explain the determinants of the success in the exams, which variables in our dataset might be useful?\n",
    "\n",
    "ANSWER:  Females in group E who have parents with a bachelors or masters and who have a standard lunch and completed the prep course seem to have higher test scores. "
   ]
  },
  {
   "cell_type": "code",
   "execution_count": 29,
   "metadata": {},
   "outputs": [
    {
     "data": {
      "text/plain": [
       "Index(['gender', 'race/ethnicity', 'parental level of education', 'lunch',\n",
       "       'test preparation course', 'math score', 'reading score',\n",
       "       'writing score'],\n",
       "      dtype='object')"
      ]
     },
     "execution_count": 29,
     "metadata": {},
     "output_type": "execute_result"
    }
   ],
   "source": [
    "df.columns"
   ]
  },
  {
   "cell_type": "code",
   "execution_count": null,
   "metadata": {},
   "outputs": [],
   "source": [
    "X = ['gender', 'race/ethnicity', 'parental level of education', 'lunch', 'test preparation course']"
   ]
  },
  {
   "cell_type": "code",
   "execution_count": 31,
   "metadata": {},
   "outputs": [
    {
     "data": {
      "image/png": "[encoded data removed]",
      "text/plain": [
       "<Figure size 1296x720 with 5 Axes>"
      ]
     },
     "metadata": {},
     "output_type": "display_data"
    }
   ],
   "source": [
    "df[\"weighted_exam_score\"] = exam_score\n",
    "\n",
    "plt.figure(figsize=(18, 10))\n",
    "\n",
    "plt.subplot(2, 3, 1)\n",
    "plt.bar(df.groupby(\"gender\")\n",
    "        [\"weighted_exam_score\"].mean().index, df.groupby(\"gender\")[\"weighted_exam_score\"].mean())\n",
    "\n",
    "plt.title(\"average exam scores & gender\")\n",
    "plt.xticks(rotation=\"vertical\")\n",
    "\n",
    "plt.subplot(2, 3, 2)\n",
    "plt.bar(df.groupby(\"race/ethnicity\")\n",
    "        [\"weighted_exam_score\"].mean().index, df.groupby(\"race/ethnicity\")[\"weighted_exam_score\"].mean())\n",
    "\n",
    "plt.title(\"average exam scores & race/ethnicity\")\n",
    "plt.xticks(rotation=\"vertical\")\n",
    "\n",
    "plt.subplot(2, 3, 3)\n",
    "plt.bar(df.groupby(\"parental level of education\")\n",
    "        [\"weighted_exam_score\"].mean().index, df.groupby(\"parental level of education\")[\"weighted_exam_score\"].mean())\n",
    "\n",
    "plt.title(\"average exam scores & parental level of education\")\n",
    "plt.xticks(rotation=\"vertical\")\n",
    "\n",
    "plt.subplot(2, 3, 4)\n",
    "plt.bar(df.groupby(\"lunch\")\n",
    "        [\"weighted_exam_score\"].mean().index, df.groupby(\"lunch\")[\"weighted_exam_score\"].mean())\n",
    "\n",
    "plt.title(\"average exam scores & lunch\")\n",
    "plt.xticks(rotation=\"vertical\")\n",
    "\n",
    "plt.subplot(2, 3, 5)\n",
    "plt.bar(df.groupby(\"test preparation course\")\n",
    "        [\"weighted_exam_score\"].mean().index, df.groupby(\"test preparation course\")[\"weighted_exam_score\"].mean())\n",
    "\n",
    "plt.title(\"average exam scores & test preparation course\")\n",
    "plt.xticks(rotation=\"vertical\")\n",
    "\n",
    "plt.tight_layout()\n",
    "plt.show()"
   ]
  }
 ],
 "metadata": {
  "kernelspec": {
   "display_name": "Python 3",
   "language": "python",
   "name": "python3"
  },
  "language_info": {
   "codemirror_mode": {
    "name": "ipython",
    "version": 3
   },
   "file_extension": ".py",
   "mimetype": "text/x-python",
   "name": "python",
   "nbconvert_exporter": "python",
   "pygments_lexer": "ipython3",
   "version": "3.7.0"
  }
 },
 "nbformat": 4,
 "nbformat_minor": 2
}
