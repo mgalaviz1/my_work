{
 "cells": [
  {
   "cell_type": "code",
   "execution_count": 11,
   "metadata": {},
   "outputs": [],
   "source": [
    "import matplotlib.pyplot as plt\n",
    "import numpy as np\n",
    "import pandas as pd\n",
    "from sqlalchemy import create_engine\n",
    "import warnings\n",
    "\n",
    "%matplotlib inline\n",
    "\n",
    "warnings.filterwarnings('ignore')"
   ]
  },
  {
   "cell_type": "code",
   "execution_count": 3,
   "metadata": {},
   "outputs": [],
   "source": [
    "postgres_user = 'dsbc_student'\n",
    "postgres_pw = '7*.8G9QH21'\n",
    "postgres_host = '142.93.121.174'\n",
    "postgres_port = '5432'\n",
    "postgres_db = 'useducation'\n",
    "\n",
    "engine = create_engine('postgresql://{}:{}@{}:{}/{}'.format(\n",
    "    postgres_user, postgres_pw, postgres_host, postgres_port, postgres_db))\n",
    "\n",
    "df = pd.read_sql_query('select * from useducation',con=engine)\n",
    "\n",
    "# No need for an open connection, \n",
    "# because you're only doing a single query\n",
    "engine.dispose()"
   ]
  },
  {
   "cell_type": "markdown",
   "metadata": {},
   "source": [
    "1. Deal with missing variables.\n",
    "\n",
    "2. Consider the two variables: TOTAL_REVENUE and TOTAL_EXPENDITURE. Do these variables have outlier values?\n",
    "\n",
    "3. If you detect outliers in the TOTAL_REVENUE and TOTAL_EXPENDITURE variables, apply the techniques you learned in this checkpoint to eliminate them and validate that there are no outlier values after you handled them.\n",
    "\n",
    "4. Create another variable by subtracting the original TOTAL_EXPENDITURE from TOTAL_REVENUE (before you eliminated the outliers). You can think of it as a kind of budget deficit in education. Do you find any outlier values in this new variable? If so, eliminate them using the technique that think is most suitable.\n",
    "\n",
    "5. Now create another variable by subtracting the TOTAL_EXPENDITURE from TOTAL_REVENUE. This time, use the outlier eliminated versions of TOTAL_EXPENDITURE from TOTAL_REVENUE. In this newly created variable, can you find any outliers? If so, eliminate them.\n",
    "\n",
    "6. Compare some basic descriptive statistics of the budget variables you end up with in the third and the fourth questions. Do you see any differences?\n",
    "\n",
    "7. If your variable of interest is the budget deficit variable, which method do you think is the most appropriate in dealing with the outliers in this variable: the method in the third question or the one in the fourth question?\n",
    "Answer the following questions as you complete this challenge, and then submit a link to your Notebook. "
   ]
  },
  {
   "cell_type": "code",
   "execution_count": 4,
   "metadata": {},
   "outputs": [
    {
     "data": {
      "text/html": [
       "<div>\n",
       "<style scoped>\n",
       "    .dataframe tbody tr th:only-of-type {\n",
       "        vertical-align: middle;\n",
       "    }\n",
       "\n",
       "    .dataframe tbody tr th {\n",
       "        vertical-align: top;\n",
       "    }\n",
       "\n",
       "    .dataframe thead th {\n",
       "        text-align: right;\n",
       "    }\n",
       "</style>\n",
       "<table border=\"1\" class=\"dataframe\">\n",
       "  <thead>\n",
       "    <tr style=\"text-align: right;\">\n",
       "      <th></th>\n",
       "      <th>PRIMARY_KEY</th>\n",
       "      <th>STATE</th>\n",
       "      <th>YEAR</th>\n",
       "      <th>ENROLL</th>\n",
       "      <th>TOTAL_REVENUE</th>\n",
       "      <th>FEDERAL_REVENUE</th>\n",
       "      <th>STATE_REVENUE</th>\n",
       "      <th>LOCAL_REVENUE</th>\n",
       "      <th>TOTAL_EXPENDITURE</th>\n",
       "      <th>INSTRUCTION_EXPENDITURE</th>\n",
       "      <th>...</th>\n",
       "      <th>GRADES_4_G</th>\n",
       "      <th>GRADES_8_G</th>\n",
       "      <th>GRADES_12_G</th>\n",
       "      <th>GRADES_1_8_G</th>\n",
       "      <th>GRADES_9_12_G</th>\n",
       "      <th>GRADES_ALL_G</th>\n",
       "      <th>AVG_MATH_4_SCORE</th>\n",
       "      <th>AVG_MATH_8_SCORE</th>\n",
       "      <th>AVG_READING_4_SCORE</th>\n",
       "      <th>AVG_READING_8_SCORE</th>\n",
       "    </tr>\n",
       "  </thead>\n",
       "  <tbody>\n",
       "    <tr>\n",
       "      <th>0</th>\n",
       "      <td>1992_ALABAMA</td>\n",
       "      <td>ALABAMA</td>\n",
       "      <td>1992</td>\n",
       "      <td>NaN</td>\n",
       "      <td>2678885.0</td>\n",
       "      <td>304177.0</td>\n",
       "      <td>1659028.0</td>\n",
       "      <td>715680.0</td>\n",
       "      <td>2653798.0</td>\n",
       "      <td>1481703.0</td>\n",
       "      <td>...</td>\n",
       "      <td>57948.0</td>\n",
       "      <td>58025.0</td>\n",
       "      <td>41167.0</td>\n",
       "      <td>471564.0</td>\n",
       "      <td>196386.0</td>\n",
       "      <td>676174.0</td>\n",
       "      <td>208.327876</td>\n",
       "      <td>252.187522</td>\n",
       "      <td>207.963517</td>\n",
       "      <td>NaN</td>\n",
       "    </tr>\n",
       "    <tr>\n",
       "      <th>1</th>\n",
       "      <td>1992_ALASKA</td>\n",
       "      <td>ALASKA</td>\n",
       "      <td>1992</td>\n",
       "      <td>NaN</td>\n",
       "      <td>1049591.0</td>\n",
       "      <td>106780.0</td>\n",
       "      <td>720711.0</td>\n",
       "      <td>222100.0</td>\n",
       "      <td>972488.0</td>\n",
       "      <td>498362.0</td>\n",
       "      <td>...</td>\n",
       "      <td>9748.0</td>\n",
       "      <td>8789.0</td>\n",
       "      <td>6714.0</td>\n",
       "      <td>79117.0</td>\n",
       "      <td>30847.0</td>\n",
       "      <td>112335.0</td>\n",
       "      <td>NaN</td>\n",
       "      <td>NaN</td>\n",
       "      <td>NaN</td>\n",
       "      <td>258.859712</td>\n",
       "    </tr>\n",
       "    <tr>\n",
       "      <th>2</th>\n",
       "      <td>1992_ARIZONA</td>\n",
       "      <td>ARIZONA</td>\n",
       "      <td>1992</td>\n",
       "      <td>NaN</td>\n",
       "      <td>3258079.0</td>\n",
       "      <td>297888.0</td>\n",
       "      <td>1369815.0</td>\n",
       "      <td>1590376.0</td>\n",
       "      <td>3401580.0</td>\n",
       "      <td>1435908.0</td>\n",
       "      <td>...</td>\n",
       "      <td>55433.0</td>\n",
       "      <td>49081.0</td>\n",
       "      <td>37410.0</td>\n",
       "      <td>437127.0</td>\n",
       "      <td>175210.0</td>\n",
       "      <td>614881.0</td>\n",
       "      <td>215.253932</td>\n",
       "      <td>265.366278</td>\n",
       "      <td>206.212716</td>\n",
       "      <td>262.169895</td>\n",
       "    </tr>\n",
       "    <tr>\n",
       "      <th>3</th>\n",
       "      <td>1992_ARKANSAS</td>\n",
       "      <td>ARKANSAS</td>\n",
       "      <td>1992</td>\n",
       "      <td>NaN</td>\n",
       "      <td>1711959.0</td>\n",
       "      <td>178571.0</td>\n",
       "      <td>958785.0</td>\n",
       "      <td>574603.0</td>\n",
       "      <td>1743022.0</td>\n",
       "      <td>964323.0</td>\n",
       "      <td>...</td>\n",
       "      <td>34632.0</td>\n",
       "      <td>36011.0</td>\n",
       "      <td>27651.0</td>\n",
       "      <td>281338.0</td>\n",
       "      <td>123113.0</td>\n",
       "      <td>405259.0</td>\n",
       "      <td>210.206028</td>\n",
       "      <td>256.312090</td>\n",
       "      <td>208.634458</td>\n",
       "      <td>264.619665</td>\n",
       "    </tr>\n",
       "    <tr>\n",
       "      <th>4</th>\n",
       "      <td>1992_CALIFORNIA</td>\n",
       "      <td>CALIFORNIA</td>\n",
       "      <td>1992</td>\n",
       "      <td>NaN</td>\n",
       "      <td>26260025.0</td>\n",
       "      <td>2072470.0</td>\n",
       "      <td>16546514.0</td>\n",
       "      <td>7641041.0</td>\n",
       "      <td>27138832.0</td>\n",
       "      <td>14358922.0</td>\n",
       "      <td>...</td>\n",
       "      <td>418418.0</td>\n",
       "      <td>363296.0</td>\n",
       "      <td>270675.0</td>\n",
       "      <td>3286034.0</td>\n",
       "      <td>1372011.0</td>\n",
       "      <td>4717112.0</td>\n",
       "      <td>208.398961</td>\n",
       "      <td>260.892247</td>\n",
       "      <td>196.764414</td>\n",
       "      <td>NaN</td>\n",
       "    </tr>\n",
       "  </tbody>\n",
       "</table>\n",
       "<p>5 rows × 25 columns</p>\n",
       "</div>"
      ],
      "text/plain": [
       "       PRIMARY_KEY       STATE  YEAR  ENROLL  TOTAL_REVENUE  FEDERAL_REVENUE  \\\n",
       "0     1992_ALABAMA     ALABAMA  1992     NaN      2678885.0         304177.0   \n",
       "1      1992_ALASKA      ALASKA  1992     NaN      1049591.0         106780.0   \n",
       "2     1992_ARIZONA     ARIZONA  1992     NaN      3258079.0         297888.0   \n",
       "3    1992_ARKANSAS    ARKANSAS  1992     NaN      1711959.0         178571.0   \n",
       "4  1992_CALIFORNIA  CALIFORNIA  1992     NaN     26260025.0        2072470.0   \n",
       "\n",
       "   STATE_REVENUE  LOCAL_REVENUE  TOTAL_EXPENDITURE  INSTRUCTION_EXPENDITURE  \\\n",
       "0      1659028.0       715680.0          2653798.0                1481703.0   \n",
       "1       720711.0       222100.0           972488.0                 498362.0   \n",
       "2      1369815.0      1590376.0          3401580.0                1435908.0   \n",
       "3       958785.0       574603.0          1743022.0                 964323.0   \n",
       "4     16546514.0      7641041.0         27138832.0               14358922.0   \n",
       "\n",
       "          ...           GRADES_4_G  GRADES_8_G  GRADES_12_G  GRADES_1_8_G  \\\n",
       "0         ...              57948.0     58025.0      41167.0      471564.0   \n",
       "1         ...               9748.0      8789.0       6714.0       79117.0   \n",
       "2         ...              55433.0     49081.0      37410.0      437127.0   \n",
       "3         ...              34632.0     36011.0      27651.0      281338.0   \n",
       "4         ...             418418.0    363296.0     270675.0     3286034.0   \n",
       "\n",
       "   GRADES_9_12_G  GRADES_ALL_G  AVG_MATH_4_SCORE  AVG_MATH_8_SCORE  \\\n",
       "0       196386.0      676174.0        208.327876        252.187522   \n",
       "1        30847.0      112335.0               NaN               NaN   \n",
       "2       175210.0      614881.0        215.253932        265.366278   \n",
       "3       123113.0      405259.0        210.206028        256.312090   \n",
       "4      1372011.0     4717112.0        208.398961        260.892247   \n",
       "\n",
       "   AVG_READING_4_SCORE  AVG_READING_8_SCORE  \n",
       "0           207.963517                  NaN  \n",
       "1                  NaN           258.859712  \n",
       "2           206.212716           262.169895  \n",
       "3           208.634458           264.619665  \n",
       "4           196.764414                  NaN  \n",
       "\n",
       "[5 rows x 25 columns]"
      ]
     },
     "execution_count": 4,
     "metadata": {},
     "output_type": "execute_result"
    }
   ],
   "source": [
    "df.head()"
   ]
  },
  {
   "cell_type": "code",
   "execution_count": null,
   "metadata": {},
   "outputs": [],
   "source": [
    "#fill_list = [\"ENROLL\", \"TOTAL_REVENUE\", \"FEDERAL_REVENUE\",\n",
    "#             \"STATE_REVENUE\", \"LOCAL_REVENUE\", \"TOTAL_EXPENDITURE\",\n",
    "#             \"INSTRUCTION_EXPENDITURE\", \"SUPPORT_SERVICES_EXPENDITURE\",\n",
    "#             \"OTHER_EXPENDITURE\", \"CAPITAL_OUTLAY_EXPENDITURE\", \"GRADES_PK_G\",\n",
    "#             \"GRADES_KG_G\", \"GRADES_4_G\", \"GRADES_8_G\", \"GRADES_12_G\", \"GRADES_1_8_G\",\n",
    "#             \"GRADES_9_12_G\", \"GRADES_ALL_G\"]\n",
    "#\n",
    "#states = education_df[\"STATE\"].unique()\n",
    "#\n",
    "#for state in states:\n",
    "#    education_df.loc[education_df[\"STATE\"] == state, fill_list] = education_df.loc[education_df[\"STATE\"] == state, fill_list].interpolate()\n",
    "#\n",
    "## we drop the null values after interpolation\n",
    "#education_df.dropna(inplace=True)"
   ]
  },
  {
   "cell_type": "code",
   "execution_count": 9,
   "metadata": {},
   "outputs": [
    {
     "name": "stdout",
     "output_type": "stream",
     "text": [
      "<class 'pandas.core.frame.DataFrame'>\n",
      "RangeIndex: 1492 entries, 0 to 1491\n",
      "Data columns (total 25 columns):\n",
      "PRIMARY_KEY                     1492 non-null object\n",
      "STATE                           1492 non-null object\n",
      "YEAR                            1492 non-null int64\n",
      "ENROLL                          1229 non-null float64\n",
      "TOTAL_REVENUE                   1280 non-null float64\n",
      "FEDERAL_REVENUE                 1280 non-null float64\n",
      "STATE_REVENUE                   1280 non-null float64\n",
      "LOCAL_REVENUE                   1280 non-null float64\n",
      "TOTAL_EXPENDITURE               1280 non-null float64\n",
      "INSTRUCTION_EXPENDITURE         1280 non-null float64\n",
      "SUPPORT_SERVICES_EXPENDITURE    1280 non-null float64\n",
      "OTHER_EXPENDITURE               1229 non-null float64\n",
      "CAPITAL_OUTLAY_EXPENDITURE      1280 non-null float64\n",
      "GRADES_PK_G                     1319 non-null float64\n",
      "GRADES_KG_G                     1360 non-null float64\n",
      "GRADES_4_G                      1361 non-null float64\n",
      "GRADES_8_G                      1361 non-null float64\n",
      "GRADES_12_G                     1361 non-null float64\n",
      "GRADES_1_8_G                    1361 non-null float64\n",
      "GRADES_9_12_G                   1361 non-null float64\n",
      "GRADES_ALL_G                    1319 non-null float64\n",
      "AVG_MATH_4_SCORE                536 non-null float64\n",
      "AVG_MATH_8_SCORE                532 non-null float64\n",
      "AVG_READING_4_SCORE             533 non-null float64\n",
      "AVG_READING_8_SCORE             498 non-null float64\n",
      "dtypes: float64(22), int64(1), object(2)\n",
      "memory usage: 291.5+ KB\n"
     ]
    }
   ],
   "source": [
    "df.info()"
   ]
  },
  {
   "cell_type": "code",
   "execution_count": 74,
   "metadata": {},
   "outputs": [
    {
     "data": {
      "text/plain": [
       "PRIMARY_KEY                     0.0\n",
       "STATE                           0.0\n",
       "YEAR                            0.0\n",
       "ENROLL                          0.0\n",
       "TOTAL_REVENUE                   0.0\n",
       "FEDERAL_REVENUE                 0.0\n",
       "STATE_REVENUE                   0.0\n",
       "LOCAL_REVENUE                   0.0\n",
       "TOTAL_EXPENDITURE               0.0\n",
       "INSTRUCTION_EXPENDITURE         0.0\n",
       "SUPPORT_SERVICES_EXPENDITURE    0.0\n",
       "OTHER_EXPENDITURE               0.0\n",
       "CAPITAL_OUTLAY_EXPENDITURE      0.0\n",
       "GRADES_PK_G                     0.0\n",
       "GRADES_KG_G                     0.0\n",
       "GRADES_4_G                      0.0\n",
       "GRADES_8_G                      0.0\n",
       "GRADES_12_G                     0.0\n",
       "GRADES_1_8_G                    0.0\n",
       "GRADES_9_12_G                   0.0\n",
       "GRADES_ALL_G                    0.0\n",
       "AVG_MATH_4_SCORE                0.0\n",
       "AVG_MATH_8_SCORE                0.0\n",
       "AVG_READING_4_SCORE             0.0\n",
       "AVG_READING_8_SCORE             0.0\n",
       "dtype: float64"
      ]
     },
     "execution_count": 74,
     "metadata": {},
     "output_type": "execute_result"
    }
   ],
   "source": [
    "# finding percentages of missing values\n",
    "df.isnull().sum()*100/df.isnull().count()"
   ]
  },
  {
   "cell_type": "code",
   "execution_count": 59,
   "metadata": {},
   "outputs": [],
   "source": [
    "# backfill missing enrollment values\n",
    "df['ENROLL'] = df['ENROLL'].fillna(method='ffill')"
   ]
  },
  {
   "cell_type": "code",
   "execution_count": 61,
   "metadata": {},
   "outputs": [],
   "source": [
    "# forwardfill missing enrollment values\n",
    "df['ENROLL'] = df['ENROLL'].fillna(method='bfill')"
   ]
  },
  {
   "cell_type": "code",
   "execution_count": 20,
   "metadata": {},
   "outputs": [],
   "source": [
    "#dropping YEAR 2017 as values are missing except for 4 average values\n",
    "df.drop(df[df['YEAR'] == 2017].index, inplace=True)"
   ]
  },
  {
   "cell_type": "code",
   "execution_count": 65,
   "metadata": {},
   "outputs": [
    {
     "data": {
      "text/html": [
       "<div>\n",
       "<style scoped>\n",
       "    .dataframe tbody tr th:only-of-type {\n",
       "        vertical-align: middle;\n",
       "    }\n",
       "\n",
       "    .dataframe tbody tr th {\n",
       "        vertical-align: top;\n",
       "    }\n",
       "\n",
       "    .dataframe thead th {\n",
       "        text-align: right;\n",
       "    }\n",
       "</style>\n",
       "<table border=\"1\" class=\"dataframe\">\n",
       "  <thead>\n",
       "    <tr style=\"text-align: right;\">\n",
       "      <th></th>\n",
       "      <th>OTHER_EXPENDITURE</th>\n",
       "    </tr>\n",
       "    <tr>\n",
       "      <th>YEAR</th>\n",
       "      <th></th>\n",
       "    </tr>\n",
       "  </thead>\n",
       "  <tbody>\n",
       "    <tr>\n",
       "      <th>1992</th>\n",
       "      <td>143312.0</td>\n",
       "    </tr>\n",
       "    <tr>\n",
       "      <th>1993</th>\n",
       "      <td>143312.0</td>\n",
       "    </tr>\n",
       "    <tr>\n",
       "      <th>1994</th>\n",
       "      <td>150749.0</td>\n",
       "    </tr>\n",
       "    <tr>\n",
       "      <th>1995</th>\n",
       "      <td>204052.0</td>\n",
       "    </tr>\n",
       "    <tr>\n",
       "      <th>1996</th>\n",
       "      <td>212389.0</td>\n",
       "    </tr>\n",
       "    <tr>\n",
       "      <th>1997</th>\n",
       "      <td>226505.0</td>\n",
       "    </tr>\n",
       "    <tr>\n",
       "      <th>1998</th>\n",
       "      <td>240608.0</td>\n",
       "    </tr>\n",
       "    <tr>\n",
       "      <th>1999</th>\n",
       "      <td>245363.0</td>\n",
       "    </tr>\n",
       "    <tr>\n",
       "      <th>2000</th>\n",
       "      <td>260900.0</td>\n",
       "    </tr>\n",
       "    <tr>\n",
       "      <th>2001</th>\n",
       "      <td>269157.0</td>\n",
       "    </tr>\n",
       "    <tr>\n",
       "      <th>2002</th>\n",
       "      <td>278099.0</td>\n",
       "    </tr>\n",
       "    <tr>\n",
       "      <th>2003</th>\n",
       "      <td>284796.0</td>\n",
       "    </tr>\n",
       "    <tr>\n",
       "      <th>2004</th>\n",
       "      <td>329243.0</td>\n",
       "    </tr>\n",
       "    <tr>\n",
       "      <th>2005</th>\n",
       "      <td>336579.0</td>\n",
       "    </tr>\n",
       "    <tr>\n",
       "      <th>2006</th>\n",
       "      <td>338521.0</td>\n",
       "    </tr>\n",
       "    <tr>\n",
       "      <th>2007</th>\n",
       "      <td>371495.0</td>\n",
       "    </tr>\n",
       "    <tr>\n",
       "      <th>2008</th>\n",
       "      <td>393255.5</td>\n",
       "    </tr>\n",
       "    <tr>\n",
       "      <th>2009</th>\n",
       "      <td>403357.0</td>\n",
       "    </tr>\n",
       "    <tr>\n",
       "      <th>2010</th>\n",
       "      <td>395163.5</td>\n",
       "    </tr>\n",
       "    <tr>\n",
       "      <th>2011</th>\n",
       "      <td>367172.0</td>\n",
       "    </tr>\n",
       "    <tr>\n",
       "      <th>2012</th>\n",
       "      <td>353940.0</td>\n",
       "    </tr>\n",
       "    <tr>\n",
       "      <th>2013</th>\n",
       "      <td>365228.0</td>\n",
       "    </tr>\n",
       "    <tr>\n",
       "      <th>2014</th>\n",
       "      <td>373620.0</td>\n",
       "    </tr>\n",
       "    <tr>\n",
       "      <th>2015</th>\n",
       "      <td>397263.0</td>\n",
       "    </tr>\n",
       "    <tr>\n",
       "      <th>2016</th>\n",
       "      <td>399899.0</td>\n",
       "    </tr>\n",
       "  </tbody>\n",
       "</table>\n",
       "</div>"
      ],
      "text/plain": [
       "      OTHER_EXPENDITURE\n",
       "YEAR                   \n",
       "1992           143312.0\n",
       "1993           143312.0\n",
       "1994           150749.0\n",
       "1995           204052.0\n",
       "1996           212389.0\n",
       "1997           226505.0\n",
       "1998           240608.0\n",
       "1999           245363.0\n",
       "2000           260900.0\n",
       "2001           269157.0\n",
       "2002           278099.0\n",
       "2003           284796.0\n",
       "2004           329243.0\n",
       "2005           336579.0\n",
       "2006           338521.0\n",
       "2007           371495.0\n",
       "2008           393255.5\n",
       "2009           403357.0\n",
       "2010           395163.5\n",
       "2011           367172.0\n",
       "2012           353940.0\n",
       "2013           365228.0\n",
       "2014           373620.0\n",
       "2015           397263.0\n",
       "2016           399899.0"
      ]
     },
     "execution_count": 65,
     "metadata": {},
     "output_type": "execute_result"
    }
   ],
   "source": [
    "df.groupby('YEAR').agg({'OTHER_EXPENDITURE':'median'})"
   ]
  },
  {
   "cell_type": "code",
   "execution_count": 64,
   "metadata": {},
   "outputs": [],
   "source": [
    "# replacing Other Expenditure missing values for 1992 with 1993 median\n",
    "df['OTHER_EXPENDITURE'].fillna(value = 143312.0,inplace=True)"
   ]
  },
  {
   "cell_type": "code",
   "execution_count": 56,
   "metadata": {},
   "outputs": [],
   "source": [
    "# Dropping states with <= value counts <=23\n",
    "\n",
    "# dropped_states = ['PUERTO_RICO', 'VIRGIN_ISLANDS','AMERICAN_SAMOA','NORTHERN_MARIANAS','DOD_DOMESTIC','DOD_OVERSEAS'\n",
    "# ,'BUREAU_OF_INDIAN_AFFAIRS','BI','DD','NORTHERN_MARIANA_ISLANDS','COMMONWEALTH_OF_MARIANAS','DOD_-_OVERSEAS','BIE'\n",
    "# ,'DOD_-_DOMESTIC','BUREAU_OF_INDIAN_EDUCATION','MARIANAS','DEPARTMENT_OF_DEFENSE','DEPARTMENT_OF_DEFENSE_EDUCATION_ACTIVITY'\n",
    "# ,'AS','GU','PR','DOD','DOD_-_FOREIGN','DOD_(OVERSEAS_AND_DOMESTIC_COMBINED)','VI','MP','BUREAU_OF_INDIAN_EDUCATIO','U.S._VIRGIN_ISLANDS']                          1\n",
    "\n",
    "df.drop(df[df['STATE'] == 'BUREAU_OF_INDIAN_EDUCATIO'].index, inplace=True)"
   ]
  },
  {
   "cell_type": "code",
   "execution_count": 73,
   "metadata": {
    "scrolled": true
   },
   "outputs": [
    {
     "data": {
      "text/plain": [
       "PRIMARY_KEY                     0\n",
       "STATE                           0\n",
       "YEAR                            0\n",
       "ENROLL                          0\n",
       "TOTAL_REVENUE                   0\n",
       "FEDERAL_REVENUE                 0\n",
       "STATE_REVENUE                   0\n",
       "LOCAL_REVENUE                   0\n",
       "TOTAL_EXPENDITURE               0\n",
       "INSTRUCTION_EXPENDITURE         0\n",
       "SUPPORT_SERVICES_EXPENDITURE    0\n",
       "OTHER_EXPENDITURE               0\n",
       "CAPITAL_OUTLAY_EXPENDITURE      0\n",
       "GRADES_PK_G                     0\n",
       "GRADES_KG_G                     0\n",
       "GRADES_4_G                      0\n",
       "GRADES_8_G                      0\n",
       "GRADES_12_G                     0\n",
       "GRADES_1_8_G                    0\n",
       "GRADES_9_12_G                   0\n",
       "GRADES_ALL_G                    0\n",
       "AVG_MATH_4_SCORE                0\n",
       "AVG_MATH_8_SCORE                0\n",
       "AVG_READING_4_SCORE             0\n",
       "AVG_READING_8_SCORE             0\n",
       "dtype: int64"
      ]
     },
     "execution_count": 73,
     "metadata": {},
     "output_type": "execute_result"
    }
   ],
   "source": [
    "df.isnull().sum()"
   ]
  },
  {
   "cell_type": "code",
   "execution_count": 57,
   "metadata": {},
   "outputs": [
    {
     "data": {
      "text/plain": [
       "DISTRICT_OF_COLUMBIA    28\n",
       "VIRGINIA                27\n",
       "MASSACHUSETTS           25\n",
       "ILLINOIS                25\n",
       "MINNESOTA               25\n",
       "ALABAMA                 25\n",
       "UTAH                    25\n",
       "CONNECTICUT             25\n",
       "IOWA                    25\n",
       "RHODE_ISLAND            25\n",
       "ALASKA                  25\n",
       "NORTH_CAROLINA          25\n",
       "SOUTH_DAKOTA            25\n",
       "LOUISIANA               25\n",
       "KENTUCKY                25\n",
       "FLORIDA                 25\n",
       "MICHIGAN                25\n",
       "WEST_VIRGINIA           25\n",
       "CALIFORNIA              25\n",
       "VERMONT                 25\n",
       "GEORGIA                 25\n",
       "NEW_JERSEY              25\n",
       "IDAHO                   25\n",
       "NEVADA                  25\n",
       "MONTANA                 25\n",
       "OHIO                    25\n",
       "OKLAHOMA                25\n",
       "TENNESSEE               25\n",
       "DELAWARE                25\n",
       "NORTH_DAKOTA            25\n",
       "OREGON                  25\n",
       "COLORADO                25\n",
       "ARIZONA                 25\n",
       "INDIANA                 25\n",
       "MISSOURI                25\n",
       "NEW_MEXICO              25\n",
       "TEXAS                   25\n",
       "NEW_YORK                25\n",
       "KANSAS                  25\n",
       "WASHINGTON              25\n",
       "NEBRASKA                25\n",
       "SOUTH_CAROLINA          25\n",
       "MAINE                   25\n",
       "WISCONSIN               25\n",
       "MARYLAND                25\n",
       "MISSISSIPPI             25\n",
       "HAWAII                  25\n",
       "ARKANSAS                25\n",
       "PENNSYLVANIA            25\n",
       "NEW_HAMPSHIRE           25\n",
       "WYOMING                 25\n",
       "Name: STATE, dtype: int64"
      ]
     },
     "execution_count": 57,
     "metadata": {},
     "output_type": "execute_result"
    }
   ],
   "source": [
    "df.STATE.value_counts()"
   ]
  },
  {
   "cell_type": "code",
   "execution_count": 68,
   "metadata": {},
   "outputs": [],
   "source": [
    "# interpolating grades columns\n",
    "df[\"GRADES_PK_G\"] = df[\"GRADES_PK_G\"].interpolate(method='ffill')\n",
    "df[\"GRADES_KG_G\"] = df[\"GRADES_KG_G\"].interpolate(method='ffill')\n",
    "df[\"GRADES_4_G\"] = df[\"GRADES_4_G\"].interpolate(method='ffill')\n",
    "df[\"GRADES_8_G\"] = df[\"GRADES_8_G\"].interpolate(method='ffill')\n",
    "df[\"GRADES_12_G\"] = df[\"GRADES_12_G\"].interpolate(method='ffill')\n",
    "df[\"GRADES_1_8_G\"] = df[\"GRADES_1_8_G\"].interpolate(method='ffill')\n",
    "df[\"GRADES_9_12_G\"] = df[\"GRADES_9_12_G\"].interpolate(method='ffill')\n",
    "df[\"GRADES_ALL_G\"] = df[\"GRADES_ALL_G\"].interpolate(method='ffill')"
   ]
  },
  {
   "cell_type": "code",
   "execution_count": 72,
   "metadata": {},
   "outputs": [],
   "source": [
    "# interpolating average grades columns\n",
    "#df[\"AVG_MATH_4_SCORE\"] = df[\"AVG_MATH_4_SCORE\"].interpolate(method='ffill')\n",
    "#df[\"AVG_MATH_8_SCORE\"] = df[\"AVG_MATH_8_SCORE\"].interpolate(method='ffill')\n",
    "#df[\"AVG_READING_4_SCORE\"] = df[\"AVG_READING_4_SCORE\"].interpolate(method='ffill')\n",
    "df[\"AVG_READING_8_SCORE\"] = df[\"AVG_READING_8_SCORE\"].interpolate(method='ffill')"
   ]
  },
  {
   "cell_type": "markdown",
   "metadata": {},
   "source": [
    "2. Consider the two variables: TOTAL_REVENUE and TOTAL_EXPENDITURE. Do these variables have outlier values?\n",
    "\n",
    "ANSWER#: By boxplots and Tukey's methods both variables have outliers."
   ]
  },
  {
   "cell_type": "code",
   "execution_count": 76,
   "metadata": {},
   "outputs": [
    {
     "data": {
      "image/png": "[encoded data removed]",
      "text/plain": [
       "<Figure size 432x288 with 1 Axes>"
      ]
     },
     "metadata": {
      "needs_background": "light"
     },
     "output_type": "display_data"
    }
   ],
   "source": [
    "plt.boxplot(df['TOTAL_EXPENDITURE'])\n",
    "plt.title('TOTAL_EXPENDITURE')\n",
    "plt.show()"
   ]
  },
  {
   "cell_type": "code",
   "execution_count": 75,
   "metadata": {},
   "outputs": [
    {
     "data": {
      "image/png": "[encoded data removed]",
      "text/plain": [
       "<Figure size 432x288 with 1 Axes>"
      ]
     },
     "metadata": {
      "needs_background": "light"
     },
     "output_type": "display_data"
    }
   ],
   "source": [
    "plt.boxplot(df['TOTAL_REVENUE'])\n",
    "plt.title('TOTAL_REVENUE')\n",
    "plt.show()"
   ]
  },
  {
   "cell_type": "code",
   "execution_count": 77,
   "metadata": {},
   "outputs": [
    {
     "name": "stdout",
     "output_type": "stream",
     "text": [
      "The score threshold is: 1.0\n",
      "Number of outliers is: 152\n",
      "The score threshold is: 1.5\n",
      "Number of outliers is: 111\n",
      "The score threshold is: 2.0\n",
      "Number of outliers is: 80\n",
      "The score threshold is: 2.5\n",
      "Number of outliers is: 55\n",
      "The score threshold is: 3.0\n",
      "Number of outliers is: 49\n",
      "The score threshold is: 3.5\n",
      "Number of outliers is: 43\n",
      "The score threshold is: 4.0\n",
      "Number of outliers is: 39\n",
      "The score threshold is: 4.5\n",
      "Number of outliers is: 35\n"
     ]
    }
   ],
   "source": [
    "# NumPy's `percentile()` method returns the \n",
    "# values of the given percentiles. In this case,\n",
    "# give `75` and `25` as parameters, which corresponds \n",
    "# to the third and the first quartiles.\n",
    "q75, q25 = np.percentile(df[\"TOTAL_EXPENDITURE\"], [75 ,25])\n",
    "iqr = q75 - q25\n",
    "\n",
    "for threshold in np.arange(1,5,0.5):\n",
    "    min_val = q25 - (iqr*threshold)\n",
    "    max_val = q75 + (iqr*threshold)\n",
    "    print(\"The score threshold is: {}\".format(threshold))\n",
    "    print(\"Number of outliers is: {}\".format(\n",
    "        len((np.where((df[\"TOTAL_EXPENDITURE\"] > max_val) \n",
    "                      | (df[\"TOTAL_EXPENDITURE\"] < min_val))[0]))\n",
    "    ))"
   ]
  },
  {
   "cell_type": "code",
   "execution_count": 78,
   "metadata": {},
   "outputs": [
    {
     "name": "stdout",
     "output_type": "stream",
     "text": [
      "The score threshold is: 1.0\n",
      "Number of outliers is: 146\n",
      "The score threshold is: 1.5\n",
      "Number of outliers is: 110\n",
      "The score threshold is: 2.0\n",
      "Number of outliers is: 74\n",
      "The score threshold is: 2.5\n",
      "Number of outliers is: 52\n",
      "The score threshold is: 3.0\n",
      "Number of outliers is: 45\n",
      "The score threshold is: 3.5\n",
      "Number of outliers is: 40\n",
      "The score threshold is: 4.0\n",
      "Number of outliers is: 37\n",
      "The score threshold is: 4.5\n",
      "Number of outliers is: 32\n"
     ]
    }
   ],
   "source": [
    "# NumPy's `percentile()` method returns the \n",
    "# values of the given percentiles. In this case,\n",
    "# give `75` and `25` as parameters, which corresponds \n",
    "# to the third and the first quartiles.\n",
    "q75, q25 = np.percentile(df[\"TOTAL_REVENUE\"], [75 ,25])\n",
    "iqr = q75 - q25\n",
    "\n",
    "for threshold in np.arange(1,5,0.5):\n",
    "    min_val = q25 - (iqr*threshold)\n",
    "    max_val = q75 + (iqr*threshold)\n",
    "    print(\"The score threshold is: {}\".format(threshold))\n",
    "    print(\"Number of outliers is: {}\".format(\n",
    "        len((np.where((df[\"TOTAL_REVENUE\"] > max_val) \n",
    "                      | (df[\"TOTAL_REVENUE\"] < min_val))[0]))\n",
    "    ))"
   ]
  },
  {
   "cell_type": "markdown",
   "metadata": {},
   "source": [
    "3. If you detect outliers in the TOTAL_REVENUE and TOTAL_EXPENDITURE variables, apply the techniques you learned in this checkpoint to eliminate them and validate that there are no outlier values after you handled them.\n",
    "\n",
    "ANSWER:  After applying a log transform to both variables, the data is normally distributed and without outliers."
   ]
  },
  {
   "cell_type": "code",
   "execution_count": 83,
   "metadata": {},
   "outputs": [
    {
     "data": {
      "image/png": "[encoded data removed]",
      "text/plain": [
       "<Figure size 1080x360 with 2 Axes>"
      ]
     },
     "metadata": {
      "needs_background": "light"
     },
     "output_type": "display_data"
    }
   ],
   "source": [
    "plt.figure(figsize = (15,5))\n",
    "\n",
    "plt.subplot(1,2,1)\n",
    "plt.hist(df[\"TOTAL_EXPENDITURE\"])\n",
    "plt.title(\"Histogram of TOTAL_EXPENDITURE\")\n",
    "\n",
    "plt.subplot(1,2,2)\n",
    "plt.hist(np.log(df[\"TOTAL_EXPENDITURE\"]))\n",
    "plt.title(\"Histogram of log transformed TOTAL_EXPENDITURE\")\n",
    "plt.show()"
   ]
  },
  {
   "cell_type": "code",
   "execution_count": 84,
   "metadata": {},
   "outputs": [
    {
     "data": {
      "image/png": "[encoded data removed]",
      "text/plain": [
       "<Figure size 1080x360 with 2 Axes>"
      ]
     },
     "metadata": {
      "needs_background": "light"
     },
     "output_type": "display_data"
    }
   ],
   "source": [
    "plt.figure(figsize = (15,5))\n",
    "\n",
    "plt.subplot(1,2,1)\n",
    "plt.hist(df[\"TOTAL_REVENUE\"])\n",
    "plt.title(\"Histogram of TOTAL_REVENUE\")\n",
    "\n",
    "plt.subplot(1,2,2)\n",
    "plt.hist(np.log(df[\"TOTAL_REVENUE\"]))\n",
    "plt.title(\"Histogram of log transformed TOTAL_REVENUE\")\n",
    "plt.show()"
   ]
  },
  {
   "cell_type": "code",
   "execution_count": 85,
   "metadata": {},
   "outputs": [
    {
     "name": "stdout",
     "output_type": "stream",
     "text": [
      "The score threshold is: 1.0\n",
      "Number of outliers is: 28\n",
      "The score threshold is: 1.5\n",
      "Number of outliers is: 0\n",
      "The score threshold is: 2.0\n",
      "Number of outliers is: 0\n",
      "The score threshold is: 2.5\n",
      "Number of outliers is: 0\n",
      "The score threshold is: 3.0\n",
      "Number of outliers is: 0\n",
      "The score threshold is: 3.5\n",
      "Number of outliers is: 0\n",
      "The score threshold is: 4.0\n",
      "Number of outliers is: 0\n",
      "The score threshold is: 4.5\n",
      "Number of outliers is: 0\n"
     ]
    }
   ],
   "source": [
    "# Take the log of TOTAL_EXPENDITURE and calculate\n",
    "# the quartiles accordingly.\n",
    "q75, q25 = np.percentile(np.log(df[\"TOTAL_EXPENDITURE\"]), [75 ,25])\n",
    "iqr = q75 - q25\n",
    "\n",
    "for threshold in np.arange(1,5,0.5):\n",
    "    min_val = q25 - (iqr*threshold)\n",
    "    max_val = q75 + (iqr*threshold)\n",
    "    print(\"The score threshold is: {}\".format(threshold))\n",
    "    print(\"Number of outliers is: {}\".format(\n",
    "        len((np.where((np.log(df[\"TOTAL_EXPENDITURE\"]) > max_val) \n",
    "                      | (np.log(df[\"TOTAL_EXPENDITURE\"]) < min_val))[0]))\n",
    "    ))"
   ]
  },
  {
   "cell_type": "code",
   "execution_count": 86,
   "metadata": {},
   "outputs": [
    {
     "name": "stdout",
     "output_type": "stream",
     "text": [
      "The score threshold is: 1.0\n",
      "Number of outliers is: 25\n",
      "The score threshold is: 1.5\n",
      "Number of outliers is: 0\n",
      "The score threshold is: 2.0\n",
      "Number of outliers is: 0\n",
      "The score threshold is: 2.5\n",
      "Number of outliers is: 0\n",
      "The score threshold is: 3.0\n",
      "Number of outliers is: 0\n",
      "The score threshold is: 3.5\n",
      "Number of outliers is: 0\n",
      "The score threshold is: 4.0\n",
      "Number of outliers is: 0\n",
      "The score threshold is: 4.5\n",
      "Number of outliers is: 0\n"
     ]
    }
   ],
   "source": [
    "# Take the log of TOTAL_REVENUE and calculate\n",
    "# the quartiles accordingly.\n",
    "q75, q25 = np.percentile(np.log(df[\"TOTAL_REVENUE\"]), [75 ,25])\n",
    "iqr = q75 - q25\n",
    "\n",
    "for threshold in np.arange(1,5,0.5):\n",
    "    min_val = q25 - (iqr*threshold)\n",
    "    max_val = q75 + (iqr*threshold)\n",
    "    print(\"The score threshold is: {}\".format(threshold))\n",
    "    print(\"Number of outliers is: {}\".format(\n",
    "        len((np.where((np.log(df[\"TOTAL_REVENUE\"]) > max_val) \n",
    "                      | (np.log(df[\"TOTAL_REVENUE\"]) < min_val))[0]))\n",
    "    ))"
   ]
  },
  {
   "cell_type": "markdown",
   "metadata": {},
   "source": [
    "4. Create another variable by subtracting the original TOTAL_EXPENDITURE from TOTAL_REVENUE (before you eliminated the outliers). You can think of it as a kind of budget deficit in education. Do you find any outlier values in this new variable? If so, eliminate them using the technique that think is most suitable.\n",
    "\n",
    "ANSWER:  Subtracting TE from TR before eliminating outliers created outliers on both ends reflecting the many deficits."
   ]
  },
  {
   "cell_type": "code",
   "execution_count": 97,
   "metadata": {},
   "outputs": [],
   "source": [
    "df['deficit_with_outliers']= df['TOTAL_REVENUE'] - df['TOTAL_EXPENDITURE']"
   ]
  },
  {
   "cell_type": "code",
   "execution_count": 98,
   "metadata": {},
   "outputs": [
    {
     "data": {
      "text/plain": [
       "Text(0.5,1,'Histogram of deficit_with_outliers')"
      ]
     },
     "execution_count": 98,
     "metadata": {},
     "output_type": "execute_result"
    },
    {
     "data": {
      "image/png": "[encoded data removed]",
      "text/plain": [
       "<Figure size 432x288 with 1 Axes>"
      ]
     },
     "metadata": {
      "needs_background": "light"
     },
     "output_type": "display_data"
    }
   ],
   "source": [
    "plt.subplot(1,2,1)\n",
    "\n",
    "plt.hist(df[\"deficit_with_outliers\"])\n",
    "plt.title(\"Histogram of deficit_with_outliers\")"
   ]
  },
  {
   "cell_type": "code",
   "execution_count": 99,
   "metadata": {},
   "outputs": [
    {
     "data": {
      "image/png": "[encoded data removed]",
      "text/plain": [
       "<Figure size 432x288 with 1 Axes>"
      ]
     },
     "metadata": {
      "needs_background": "light"
     },
     "output_type": "display_data"
    }
   ],
   "source": [
    "plt.boxplot(df['deficit_with_outliers'])\n",
    "plt.title('deficit_with_outliers')\n",
    "plt.show()"
   ]
  },
  {
   "cell_type": "code",
   "execution_count": 108,
   "metadata": {},
   "outputs": [
    {
     "name": "stdout",
     "output_type": "stream",
     "text": [
      "The score threshold is: 1.0\n",
      "Number of outliers is: 0\n",
      "The score threshold is: 1.5\n",
      "Number of outliers is: 0\n",
      "The score threshold is: 2.0\n",
      "Number of outliers is: 0\n",
      "The score threshold is: 2.5\n",
      "Number of outliers is: 0\n",
      "The score threshold is: 3.0\n",
      "Number of outliers is: 0\n",
      "The score threshold is: 3.5\n",
      "Number of outliers is: 0\n",
      "The score threshold is: 4.0\n",
      "Number of outliers is: 0\n",
      "The score threshold is: 4.5\n",
      "Number of outliers is: 0\n"
     ]
    }
   ],
   "source": [
    "# Take the log of the deficit_with_outliers and calculate\n",
    "# the quartiles accordingly.\n",
    "q75, q25 = np.percentile(np.log(df[\"deficit_with_outliers\"]), [75 ,25])\n",
    "iqr = q75 - q25\n",
    "\n",
    "for threshold in np.arange(1,5,0.5):\n",
    "    min_val = q25 - (iqr*threshold)\n",
    "    max_val = q75 + (iqr*threshold)\n",
    "    print(\"The score threshold is: {}\".format(threshold))\n",
    "    print(\"Number of outliers is: {}\".format(\n",
    "        len((np.where((np.log(df[\"deficit_with_outliers\"]) > max_val) \n",
    "                      | (np.log(df[\"deficit_with_outliers\"]) < min_val))[0]))\n",
    "    ))"
   ]
  },
  {
   "cell_type": "markdown",
   "metadata": {},
   "source": [
    "5. Now create another variable by subtracting the TOTAL_EXPENDITURE from TOTAL_REVENUE. This time, use the outlier eliminated versions of TOTAL_EXPENDITURE from TOTAL_REVENUE. In this newly created variable, can you find any outliers? If so, eliminate them.\n",
    "\n",
    "ANSWER: Subtracting TE from TR even after removing outliers created outliers reflecting many states deficits but there are less outliers."
   ]
  },
  {
   "cell_type": "code",
   "execution_count": 100,
   "metadata": {},
   "outputs": [],
   "source": [
    "df['deficit_without_outliers']= np.log(df['TOTAL_REVENUE']) - np.log(df['TOTAL_EXPENDITURE'])"
   ]
  },
  {
   "cell_type": "code",
   "execution_count": 101,
   "metadata": {},
   "outputs": [
    {
     "data": {
      "text/plain": [
       "Text(0.5,1,'Histogram of deficit_without_outliers')"
      ]
     },
     "execution_count": 101,
     "metadata": {},
     "output_type": "execute_result"
    },
    {
     "data": {
      "image/png": "[encoded data removed]",
      "text/plain": [
       "<Figure size 432x288 with 1 Axes>"
      ]
     },
     "metadata": {
      "needs_background": "light"
     },
     "output_type": "display_data"
    }
   ],
   "source": [
    "plt.subplot(1,2,1)\n",
    "plt.hist(df[\"deficit_without_outliers\"])\n",
    "plt.title(\"Histogram of deficit_without_outliers\")"
   ]
  },
  {
   "cell_type": "code",
   "execution_count": 102,
   "metadata": {},
   "outputs": [
    {
     "data": {
      "image/png": "[encoded data removed]",
      "text/plain": [
       "<Figure size 432x288 with 1 Axes>"
      ]
     },
     "metadata": {
      "needs_background": "light"
     },
     "output_type": "display_data"
    }
   ],
   "source": [
    "plt.boxplot(df['deficit_without_outliers'])\n",
    "plt.title('deficit_without_outliers')\n",
    "plt.show()"
   ]
  },
  {
   "cell_type": "code",
   "execution_count": 104,
   "metadata": {},
   "outputs": [
    {
     "name": "stdout",
     "output_type": "stream",
     "text": [
      "The score threshold is: 1.0\n",
      "Number of outliers is: 0\n",
      "The score threshold is: 1.5\n",
      "Number of outliers is: 0\n",
      "The score threshold is: 2.0\n",
      "Number of outliers is: 0\n",
      "The score threshold is: 2.5\n",
      "Number of outliers is: 0\n",
      "The score threshold is: 3.0\n",
      "Number of outliers is: 0\n",
      "The score threshold is: 3.5\n",
      "Number of outliers is: 0\n",
      "The score threshold is: 4.0\n",
      "Number of outliers is: 0\n",
      "The score threshold is: 4.5\n",
      "Number of outliers is: 0\n"
     ]
    }
   ],
   "source": [
    "# Take the log of the deficit_without_outliers and calculate\n",
    "# the quartiles accordingly.\n",
    "q75, q25 = np.percentile(np.log(df[\"deficit_without_outliers\"]), [75 ,25])\n",
    "iqr = q75 - q25\n",
    "\n",
    "for threshold in np.arange(1,5,0.5):\n",
    "    min_val = q25 - (iqr*threshold)\n",
    "    max_val = q75 + (iqr*threshold)\n",
    "    print(\"The score threshold is: {}\".format(threshold))\n",
    "    print(\"Number of outliers is: {}\".format(\n",
    "        len((np.where((np.log(df[\"deficit_without_outliers\"]) > max_val) \n",
    "                      | (np.log(df[\"deficit_without_outliers\"]) < min_val))[0]))\n",
    "    ))"
   ]
  },
  {
   "cell_type": "markdown",
   "metadata": {},
   "source": [
    "5. Compare some basic descriptive statistics of the budget variables you end up with in the third and the fourth questions. Do you see any differences?\n",
    "ANSWER:  Removing outliers and then subtracting greatly reduced the variability or spread of the deficit variable. It increased the mean and std to near zero.\n",
    "\n",
    "6.  If your variable of interest is the budget deficit variable, which method do you think is the most appropriate in dealing with the outliers in this variable: the method in the third question or the one in the fourth question?\n",
    "\n",
    "ANSWER: According to Tukey's method, neither produced outliers at minimun thresholds = 1 so I would likely use deficit with outliers as it would help to increase interpretability. "
   ]
  },
  {
   "cell_type": "code",
   "execution_count": 106,
   "metadata": {},
   "outputs": [
    {
     "data": {
      "text/plain": [
       "count    1.280000e+03\n",
       "mean    -1.045990e+05\n",
       "std      5.734045e+05\n",
       "min     -5.487742e+06\n",
       "25%     -1.816858e+05\n",
       "50%     -2.148400e+04\n",
       "75%      5.130425e+04\n",
       "max      3.897129e+06\n",
       "Name: deficit_with_outliers, dtype: float64"
      ]
     },
     "execution_count": 106,
     "metadata": {},
     "output_type": "execute_result"
    }
   ],
   "source": [
    "df.deficit_with_outliers.describe()"
   ]
  },
  {
   "cell_type": "code",
   "execution_count": 105,
   "metadata": {},
   "outputs": [
    {
     "data": {
      "text/plain": [
       "count    1280.000000\n",
       "mean       -0.005898\n",
       "std         0.044045\n",
       "min        -0.170369\n",
       "25%        -0.029241\n",
       "50%        -0.006391\n",
       "75%         0.015571\n",
       "max         0.332627\n",
       "Name: deficit_without_outliers, dtype: float64"
      ]
     },
     "execution_count": 105,
     "metadata": {},
     "output_type": "execute_result"
    }
   ],
   "source": [
    "df.deficit_without_outliers.describe()"
   ]
  },
  {
   "cell_type": "code",
   "execution_count": null,
   "metadata": {},
   "outputs": [],
   "source": []
  }
 ],
 "metadata": {
  "kernelspec": {
   "display_name": "Python 3",
   "language": "python",
   "name": "python3"
  },
  "language_info": {
   "codemirror_mode": {
    "name": "ipython",
    "version": 3
   },
   "file_extension": ".py",
   "mimetype": "text/x-python",
   "name": "python",
   "nbconvert_exporter": "python",
   "pygments_lexer": "ipython3",
   "version": "3.7.0"
  }
 },
 "nbformat": 4,
 "nbformat_minor": 2
}
