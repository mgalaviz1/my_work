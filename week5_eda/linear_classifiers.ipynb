{
 "cells": [
  {
   "cell_type": "code",
   "execution_count": 1,
   "metadata": {
    "collapsed": true
   },
   "outputs": [
    {
     "name": "stdout",
     "output_type": "stream",
     "text": [
      "Requirement already satisfied: mlxtend==0.13.0 in c:\\users\\mike\\anaconda3\\lib\\site-packages (0.13.0)\n",
      "Requirement already satisfied: numpy>=1.10.4 in c:\\users\\mike\\anaconda3\\lib\\site-packages (from mlxtend==0.13.0) (1.19.3)\n",
      "Requirement already satisfied: matplotlib>=1.5.1 in c:\\users\\mike\\anaconda3\\lib\\site-packages (from mlxtend==0.13.0) (2.2.3)\n",
      "Requirement already satisfied: scipy>=0.17 in c:\\users\\mike\\anaconda3\\lib\\site-packages (from mlxtend==0.13.0) (1.5.4)\n",
      "Requirement already satisfied: pandas>=0.17.1 in c:\\users\\mike\\anaconda3\\lib\\site-packages (from mlxtend==0.13.0) (1.1.5)\n",
      "Requirement already satisfied: setuptools in c:\\users\\mike\\anaconda3\\lib\\site-packages (from mlxtend==0.13.0) (40.2.0)\n",
      "Requirement already satisfied: scikit-learn>=0.18 in c:\\users\\mike\\anaconda3\\lib\\site-packages (from mlxtend==0.13.0) (0.23.2)\n",
      "Requirement already satisfied: numpy>=1.10.4 in c:\\users\\mike\\anaconda3\\lib\\site-packages (from mlxtend==0.13.0) (1.19.3)\n",
      "Requirement already satisfied: cycler>=0.10 in c:\\users\\mike\\anaconda3\\lib\\site-packages (from matplotlib>=1.5.1->mlxtend==0.13.0) (0.10.0)\n",
      "Requirement already satisfied: pyparsing!=2.0.4,!=2.1.2,!=2.1.6,>=2.0.1 in c:\\users\\mike\\anaconda3\\lib\\site-packages (from matplotlib>=1.5.1->mlxtend==0.13.0) (2.2.0)\n",
      "Requirement already satisfied: python-dateutil>=2.1 in c:\\users\\mike\\anaconda3\\lib\\site-packages (from matplotlib>=1.5.1->mlxtend==0.13.0) (2.7.3)\n",
      "Requirement already satisfied: pytz in c:\\users\\mike\\anaconda3\\lib\\site-packages (from matplotlib>=1.5.1->mlxtend==0.13.0) (2018.5)\n",
      "Requirement already satisfied: six>=1.10 in c:\\users\\mike\\anaconda3\\lib\\site-packages (from matplotlib>=1.5.1->mlxtend==0.13.0) (1.11.0)\n",
      "Requirement already satisfied: kiwisolver>=1.0.1 in c:\\users\\mike\\anaconda3\\lib\\site-packages (from matplotlib>=1.5.1->mlxtend==0.13.0) (1.0.1)\n",
      "Requirement already satisfied: six>=1.10 in c:\\users\\mike\\anaconda3\\lib\\site-packages (from matplotlib>=1.5.1->mlxtend==0.13.0) (1.11.0)\n",
      "Requirement already satisfied: setuptools in c:\\users\\mike\\anaconda3\\lib\\site-packages (from mlxtend==0.13.0) (40.2.0)\n",
      "Requirement already satisfied: pytz in c:\\users\\mike\\anaconda3\\lib\\site-packages (from matplotlib>=1.5.1->mlxtend==0.13.0) (2018.5)\n",
      "Requirement already satisfied: numpy>=1.10.4 in c:\\users\\mike\\anaconda3\\lib\\site-packages (from mlxtend==0.13.0) (1.19.3)\n",
      "Requirement already satisfied: python-dateutil>=2.1 in c:\\users\\mike\\anaconda3\\lib\\site-packages (from matplotlib>=1.5.1->mlxtend==0.13.0) (2.7.3)\n",
      "Requirement already satisfied: six>=1.10 in c:\\users\\mike\\anaconda3\\lib\\site-packages (from matplotlib>=1.5.1->mlxtend==0.13.0) (1.11.0)\n",
      "Requirement already satisfied: joblib>=0.11 in c:\\users\\mike\\anaconda3\\lib\\site-packages (from scikit-learn>=0.18->mlxtend==0.13.0) (0.17.0)\n",
      "Requirement already satisfied: numpy>=1.10.4 in c:\\users\\mike\\anaconda3\\lib\\site-packages (from mlxtend==0.13.0) (1.19.3)\n",
      "Requirement already satisfied: scipy>=0.17 in c:\\users\\mike\\anaconda3\\lib\\site-packages (from mlxtend==0.13.0) (1.5.4)\n",
      "Requirement already satisfied: threadpoolctl>=2.0.0 in c:\\users\\mike\\anaconda3\\lib\\site-packages (from scikit-learn>=0.18->mlxtend==0.13.0) (2.1.0)\n",
      "Requirement already satisfied: numpy>=1.10.4 in c:\\users\\mike\\anaconda3\\lib\\site-packages (from mlxtend==0.13.0) (1.19.3)\n"
     ]
    },
    {
     "name": "stderr",
     "output_type": "stream",
     "text": [
      "WARNING: You are using pip version 20.3; however, version 20.3.1 is available.\n",
      "You should consider upgrading via the 'c:\\users\\mike\\anaconda3\\python.exe -m pip install --upgrade pip' command.\n"
     ]
    }
   ],
   "source": [
    "import matplotlib.pyplot as plt\n",
    "from sklearn.datasets import make_blobs\n",
    "from matplotlib import pyplot\n",
    "from pandas import DataFrame\n",
    "from mlxtend.plotting import plot_decision_regions\n",
    "from sklearn.linear_model import LogisticRegression\n",
    "from sklearn.datasets import load_breast_cancer\n",
    "from sklearn.model_selection import train_test_split\n",
    "import pandas as pd\n",
    "import numpy as np\n",
    "import math\n",
    "from sklearn.preprocessing import StandardScaler\n",
    "from scipy import stats\n",
    "import seaborn as sns\n"
   ]
  },
  {
   "cell_type": "markdown",
   "metadata": {},
   "source": [
    "2. Load and prepare the dataset\n",
    "Load the dataset into a DataFrame named df_data.\n",
    "Drop the name column. This column is not a feature required by the model.\n",
    "Create a DataFrame named X containing all the columns except the status.\n",
    "Create a DataFrame named y containing the status.\n",
    "3. Split the dataset into a training set and a test set\n",
    "4. Create the model\n",
    "Instantiate a logistic regression classifier with an lbfgs solver and penalty set to none.\n",
    "Fit the classifier to the data.\n",
    "If the algorithm fails to converge, what can you change to fix that?\n",
    "\n",
    "5. Calculate accuracy\n",
    "Calculate and print the accuracy of the model on the test data.\n",
    "\n",
    "6. L2 regularization\n",
    "Train another model with L2 regularization and compare the accuracy of the new model to the previous one.\n",
    "\n",
    "7. Choose the C parameter\n",
    "Use a loop to test the effect of varying the C parameter from 0.05 to 1.5 in increments of 0.05. Plot a graph to show the accuracy of the test data versus the accuracy of the training data. Select an appropriate value for C and explain why that may be the best value."
   ]
  },
  {
   "cell_type": "code",
   "execution_count": 6,
   "metadata": {},
   "outputs": [
    {
     "data": {
      "text/html": [
       "<div>\n",
       "<style scoped>\n",
       "    .dataframe tbody tr th:only-of-type {\n",
       "        vertical-align: middle;\n",
       "    }\n",
       "\n",
       "    .dataframe tbody tr th {\n",
       "        vertical-align: top;\n",
       "    }\n",
       "\n",
       "    .dataframe thead th {\n",
       "        text-align: right;\n",
       "    }\n",
       "</style>\n",
       "<table border=\"1\" class=\"dataframe\">\n",
       "  <thead>\n",
       "    <tr style=\"text-align: right;\">\n",
       "      <th></th>\n",
       "      <th>name</th>\n",
       "      <th>MDVP:Fo(Hz)</th>\n",
       "      <th>MDVP:Fhi(Hz)</th>\n",
       "      <th>MDVP:Flo(Hz)</th>\n",
       "      <th>MDVP:Jitter(%)</th>\n",
       "      <th>MDVP:Jitter(Abs)</th>\n",
       "      <th>MDVP:RAP</th>\n",
       "      <th>MDVP:PPQ</th>\n",
       "      <th>Jitter:DDP</th>\n",
       "      <th>MDVP:Shimmer</th>\n",
       "      <th>...</th>\n",
       "      <th>Shimmer:DDA</th>\n",
       "      <th>NHR</th>\n",
       "      <th>HNR</th>\n",
       "      <th>status</th>\n",
       "      <th>RPDE</th>\n",
       "      <th>DFA</th>\n",
       "      <th>spread1</th>\n",
       "      <th>spread2</th>\n",
       "      <th>D2</th>\n",
       "      <th>PPE</th>\n",
       "    </tr>\n",
       "  </thead>\n",
       "  <tbody>\n",
       "    <tr>\n",
       "      <th>0</th>\n",
       "      <td>phon_R01_S01_1</td>\n",
       "      <td>119.992</td>\n",
       "      <td>157.302</td>\n",
       "      <td>74.997</td>\n",
       "      <td>0.00784</td>\n",
       "      <td>0.00007</td>\n",
       "      <td>0.00370</td>\n",
       "      <td>0.00554</td>\n",
       "      <td>0.01109</td>\n",
       "      <td>0.04374</td>\n",
       "      <td>...</td>\n",
       "      <td>0.06545</td>\n",
       "      <td>0.02211</td>\n",
       "      <td>21.033</td>\n",
       "      <td>1</td>\n",
       "      <td>0.414783</td>\n",
       "      <td>0.815285</td>\n",
       "      <td>-4.813031</td>\n",
       "      <td>0.266482</td>\n",
       "      <td>2.301442</td>\n",
       "      <td>0.284654</td>\n",
       "    </tr>\n",
       "    <tr>\n",
       "      <th>1</th>\n",
       "      <td>phon_R01_S01_2</td>\n",
       "      <td>122.400</td>\n",
       "      <td>148.650</td>\n",
       "      <td>113.819</td>\n",
       "      <td>0.00968</td>\n",
       "      <td>0.00008</td>\n",
       "      <td>0.00465</td>\n",
       "      <td>0.00696</td>\n",
       "      <td>0.01394</td>\n",
       "      <td>0.06134</td>\n",
       "      <td>...</td>\n",
       "      <td>0.09403</td>\n",
       "      <td>0.01929</td>\n",
       "      <td>19.085</td>\n",
       "      <td>1</td>\n",
       "      <td>0.458359</td>\n",
       "      <td>0.819521</td>\n",
       "      <td>-4.075192</td>\n",
       "      <td>0.335590</td>\n",
       "      <td>2.486855</td>\n",
       "      <td>0.368674</td>\n",
       "    </tr>\n",
       "    <tr>\n",
       "      <th>2</th>\n",
       "      <td>phon_R01_S01_3</td>\n",
       "      <td>116.682</td>\n",
       "      <td>131.111</td>\n",
       "      <td>111.555</td>\n",
       "      <td>0.01050</td>\n",
       "      <td>0.00009</td>\n",
       "      <td>0.00544</td>\n",
       "      <td>0.00781</td>\n",
       "      <td>0.01633</td>\n",
       "      <td>0.05233</td>\n",
       "      <td>...</td>\n",
       "      <td>0.08270</td>\n",
       "      <td>0.01309</td>\n",
       "      <td>20.651</td>\n",
       "      <td>1</td>\n",
       "      <td>0.429895</td>\n",
       "      <td>0.825288</td>\n",
       "      <td>-4.443179</td>\n",
       "      <td>0.311173</td>\n",
       "      <td>2.342259</td>\n",
       "      <td>0.332634</td>\n",
       "    </tr>\n",
       "    <tr>\n",
       "      <th>3</th>\n",
       "      <td>phon_R01_S01_4</td>\n",
       "      <td>116.676</td>\n",
       "      <td>137.871</td>\n",
       "      <td>111.366</td>\n",
       "      <td>0.00997</td>\n",
       "      <td>0.00009</td>\n",
       "      <td>0.00502</td>\n",
       "      <td>0.00698</td>\n",
       "      <td>0.01505</td>\n",
       "      <td>0.05492</td>\n",
       "      <td>...</td>\n",
       "      <td>0.08771</td>\n",
       "      <td>0.01353</td>\n",
       "      <td>20.644</td>\n",
       "      <td>1</td>\n",
       "      <td>0.434969</td>\n",
       "      <td>0.819235</td>\n",
       "      <td>-4.117501</td>\n",
       "      <td>0.334147</td>\n",
       "      <td>2.405554</td>\n",
       "      <td>0.368975</td>\n",
       "    </tr>\n",
       "    <tr>\n",
       "      <th>4</th>\n",
       "      <td>phon_R01_S01_5</td>\n",
       "      <td>116.014</td>\n",
       "      <td>141.781</td>\n",
       "      <td>110.655</td>\n",
       "      <td>0.01284</td>\n",
       "      <td>0.00011</td>\n",
       "      <td>0.00655</td>\n",
       "      <td>0.00908</td>\n",
       "      <td>0.01966</td>\n",
       "      <td>0.06425</td>\n",
       "      <td>...</td>\n",
       "      <td>0.10470</td>\n",
       "      <td>0.01767</td>\n",
       "      <td>19.649</td>\n",
       "      <td>1</td>\n",
       "      <td>0.417356</td>\n",
       "      <td>0.823484</td>\n",
       "      <td>-3.747787</td>\n",
       "      <td>0.234513</td>\n",
       "      <td>2.332180</td>\n",
       "      <td>0.410335</td>\n",
       "    </tr>\n",
       "  </tbody>\n",
       "</table>\n",
       "<p>5 rows × 24 columns</p>\n",
       "</div>"
      ],
      "text/plain": [
       "             name  MDVP:Fo(Hz)  MDVP:Fhi(Hz)  MDVP:Flo(Hz)  MDVP:Jitter(%)  \\\n",
       "0  phon_R01_S01_1      119.992       157.302        74.997         0.00784   \n",
       "1  phon_R01_S01_2      122.400       148.650       113.819         0.00968   \n",
       "2  phon_R01_S01_3      116.682       131.111       111.555         0.01050   \n",
       "3  phon_R01_S01_4      116.676       137.871       111.366         0.00997   \n",
       "4  phon_R01_S01_5      116.014       141.781       110.655         0.01284   \n",
       "\n",
       "   MDVP:Jitter(Abs)  MDVP:RAP  MDVP:PPQ  Jitter:DDP  MDVP:Shimmer  ...  \\\n",
       "0           0.00007   0.00370   0.00554     0.01109       0.04374  ...   \n",
       "1           0.00008   0.00465   0.00696     0.01394       0.06134  ...   \n",
       "2           0.00009   0.00544   0.00781     0.01633       0.05233  ...   \n",
       "3           0.00009   0.00502   0.00698     0.01505       0.05492  ...   \n",
       "4           0.00011   0.00655   0.00908     0.01966       0.06425  ...   \n",
       "\n",
       "   Shimmer:DDA      NHR     HNR  status      RPDE       DFA   spread1  \\\n",
       "0      0.06545  0.02211  21.033       1  0.414783  0.815285 -4.813031   \n",
       "1      0.09403  0.01929  19.085       1  0.458359  0.819521 -4.075192   \n",
       "2      0.08270  0.01309  20.651       1  0.429895  0.825288 -4.443179   \n",
       "3      0.08771  0.01353  20.644       1  0.434969  0.819235 -4.117501   \n",
       "4      0.10470  0.01767  19.649       1  0.417356  0.823484 -3.747787   \n",
       "\n",
       "    spread2        D2       PPE  \n",
       "0  0.266482  2.301442  0.284654  \n",
       "1  0.335590  2.486855  0.368674  \n",
       "2  0.311173  2.342259  0.332634  \n",
       "3  0.334147  2.405554  0.368975  \n",
       "4  0.234513  2.332180  0.410335  \n",
       "\n",
       "[5 rows x 24 columns]"
      ]
     },
     "execution_count": 6,
     "metadata": {},
     "output_type": "execute_result"
    }
   ],
   "source": [
    "df_data = pd.read_excel('parkinsons.data.xlsx')\n",
    "df_data.head()"
   ]
  },
  {
   "cell_type": "code",
   "execution_count": 7,
   "metadata": {},
   "outputs": [],
   "source": [
    "# dropping name variable from df\n",
    "df_data.drop(['name'], axis=1, inplace=True)"
   ]
  },
  {
   "cell_type": "code",
   "execution_count": 8,
   "metadata": {},
   "outputs": [],
   "source": [
    "#creating x and y for model\n",
    "X = df_data.drop('status', axis = 1) \n",
    "y = df_data['status']"
   ]
  },
  {
   "cell_type": "code",
   "execution_count": 9,
   "metadata": {},
   "outputs": [],
   "source": [
    "X_train, X_test, y_train, y_test = train_test_split(X, y, test_size=0.2, random_state=42)"
   ]
  },
  {
   "cell_type": "code",
   "execution_count": 10,
   "metadata": {},
   "outputs": [
    {
     "name": "stdout",
     "output_type": "stream",
     "text": [
      "accuracy score: 0.9230769230769231\n",
      "# of iterations 100\n"
     ]
    },
    {
     "name": "stderr",
     "output_type": "stream",
     "text": [
      "C:\\Users\\Mike\\Anaconda3\\lib\\site-packages\\sklearn\\linear_model\\_logistic.py:764: ConvergenceWarning: lbfgs failed to converge (status=1):\n",
      "STOP: TOTAL NO. of ITERATIONS REACHED LIMIT.\n",
      "\n",
      "Increase the number of iterations (max_iter) or scale the data as shown in:\n",
      "    https://scikit-learn.org/stable/modules/preprocessing.html\n",
      "Please also refer to the documentation for alternative solver options:\n",
      "    https://scikit-learn.org/stable/modules/linear_model.html#logistic-regression\n",
      "  extra_warning_msg=_LOGISTIC_SOLVER_CONVERGENCE_MSG)\n"
     ]
    }
   ],
   "source": [
    "# creating lr model\n",
    "lr = LogisticRegression(solver='lbfgs', penalty='none', random_state=4)\n",
    "lr.fit(X, y)\n",
    "\n",
    "print('accuracy score: %s' % lr.score(X_test, y_test))\n",
    "print('# of iterations %s' % lr.n_iter_[0])\n",
    "\n",
    "# model failed to converge after 100 iterations"
   ]
  },
  {
   "cell_type": "code",
   "execution_count": 12,
   "metadata": {},
   "outputs": [
    {
     "name": "stdout",
     "output_type": "stream",
     "text": [
      "accuracy score: 0.9230769230769231\n",
      "# of iterations 936\n"
     ]
    }
   ],
   "source": [
    "lr = LogisticRegression(solver='lbfgs', penalty='none', max_iter=1000, random_state=4)\n",
    "lr.fit(X, y)\n",
    "\n",
    "print('accuracy score: %s' % lr.score(X_test, y_test))\n",
    "print('# of iterations %s' % lr.n_iter_[0])\n",
    "\n",
    "# after increasing 1000 iterations, model converged but accuracy is unchanged. "
   ]
  },
  {
   "cell_type": "code",
   "execution_count": 13,
   "metadata": {},
   "outputs": [
    {
     "name": "stdout",
     "output_type": "stream",
     "text": [
      "accuracy score: 0.9230769230769231\n",
      "# of iterations 100\n",
      "Score on training data:  0.8525641025641025\n",
      "Score on test data:  0.9230769230769231\n"
     ]
    },
    {
     "name": "stderr",
     "output_type": "stream",
     "text": [
      "C:\\Users\\Mike\\Anaconda3\\lib\\site-packages\\sklearn\\linear_model\\_logistic.py:764: ConvergenceWarning: lbfgs failed to converge (status=1):\n",
      "STOP: TOTAL NO. of ITERATIONS REACHED LIMIT.\n",
      "\n",
      "Increase the number of iterations (max_iter) or scale the data as shown in:\n",
      "    https://scikit-learn.org/stable/modules/preprocessing.html\n",
      "Please also refer to the documentation for alternative solver options:\n",
      "    https://scikit-learn.org/stable/modules/linear_model.html#logistic-regression\n",
      "  extra_warning_msg=_LOGISTIC_SOLVER_CONVERGENCE_MSG)\n"
     ]
    }
   ],
   "source": [
    "#comparing model to test data\n",
    "lr = LogisticRegression(solver='lbfgs', penalty='none', random_state=4)\n",
    "lr.fit(X, y)\n",
    "\n",
    "test_score = lr.score(X_test, y_test)\n",
    "train_score = lr.score(X_train, y_train)\n",
    "\n",
    "print('accuracy score: %s' % lr.score(X_test, y_test))\n",
    "print('# of iterations %s' % lr.n_iter_[0])\n",
    "\n",
    "print('Score on training data: ', train_score)\n",
    "print('Score on test data: ', test_score)\n",
    "\n",
    "# the model is underfit"
   ]
  },
  {
   "cell_type": "code",
   "execution_count": 16,
   "metadata": {},
   "outputs": [
    {
     "name": "stdout",
     "output_type": "stream",
     "text": [
      "Score on training data:  0.8525641025641025\n",
      "Score on test data:  0.8974358974358975\n"
     ]
    }
   ],
   "source": [
    "# looking at effects on model by L2 regularization\n",
    "\n",
    "lr_regularized = LogisticRegression(solver='lbfgs', penalty='l2', max_iter=10000, random_state=2)\n",
    "lr_regularized.fit(X_train, y_train)\n",
    "\n",
    "test_score = lr_regularized.score(X_test, y_test)\n",
    "train_score = lr_regularized.score(X_train, y_train)\n",
    "\n",
    "print('Score on training data: ', train_score)\n",
    "print('Score on test data: ', test_score)\n",
    "\n",
    "# using and L2 param, accuracy has increased and underfitting has improved. The range of coefficients is reduced\n",
    "# from 0 to 4.5 without L2 to between -0.5 to 1.7 or from a about a 4 point spread to a 2 point spread."
   ]
  },
  {
   "cell_type": "code",
   "execution_count": 17,
   "metadata": {},
   "outputs": [
    {
     "data": {
      "image/png": "[encoded data removed]",
      "text/plain": [
       "<Figure size 576x576 with 3 Axes>"
      ]
     },
     "metadata": {
      "needs_background": "light"
     },
     "output_type": "display_data"
    }
   ],
   "source": [
    "fig = plt.figure(figsize=(8, 8))\n",
    "grid = plt.GridSpec(2, 2, hspace=0.5, wspace=0.5)\n",
    "\n",
    "\n",
    "x = np.arange(0, len(lr.coef_[0]),1)\n",
    "y = lr.coef_[0]\n",
    "ax1 = fig.add_subplot(grid[0, 0])\n",
    "ax1.plot(x, y, '-g')\n",
    "ax1.set(xlabel='Features', ylabel='Coefficients')\n",
    "ax1.set_title('No Regularization')\n",
    "\n",
    "y_reg = lr_regularized.coef_[0]\n",
    "ax2 = fig.add_subplot(grid[0, 1])\n",
    "ax2.plot(x, y_reg, '-r')\n",
    "ax2.set(xlabel='Features', ylabel='Coefficients')\n",
    "ax2.set_title('L2 Regularization')\n",
    "\n",
    "ax3 = fig.add_subplot(grid[1, 0:])\n",
    "ax3.plot(x, y, '-g')\n",
    "ax3.plot(x, y_reg, '-r')\n",
    "\n",
    "ax3.set(xlabel='Features', ylabel='Coefficients')\n",
    "ax3.set_title('Both on same chart for comparison')\n",
    "plt.show()"
   ]
  },
  {
   "cell_type": "markdown",
   "metadata": {},
   "source": [
    "L2 regularization Train another model with L2 regularization and compare the accuracy of the new model to the previous one.\n",
    "\n",
    "Choose the C parameter. Use a loop to test the effect of varying the C parameter from 0.05 to 1.5 in increments of 0.05. Plot a graph to show the accuracy of the test data versus the accuracy of the training data. Select an appropriate value for C and explain why that may be the best value."
   ]
  },
  {
   "cell_type": "code",
   "execution_count": 21,
   "metadata": {},
   "outputs": [
    {
     "data": {
      "image/png": "[encoded data removed]",
      "text/plain": [
       "<Figure size 576x288 with 1 Axes>"
      ]
     },
     "metadata": {
      "needs_background": "light"
     },
     "output_type": "display_data"
    }
   ],
   "source": [
    "# looking at effect of various values of C on the model\n",
    "\n",
    "c_vals = np.arange(0.01, 1.0, 0.05)\n",
    "test_accuracy = []\n",
    "train_accuracy = []\n",
    "\n",
    "for c in c_vals:\n",
    "  lr = LogisticRegression(solver='lbfgs', penalty='l2', C=c, max_iter=10000, random_state=2)\n",
    "  lr.fit(X_train, y_train)\n",
    "  test_accuracy.append(lr.score(X_test, y_test))\n",
    "  train_accuracy.append(lr.score(X_train, y_train))\n",
    "\n",
    "fig = plt.figure(figsize=(8, 4))\n",
    "ax1 = fig.add_subplot(1, 1, 1)\n",
    "ax1.plot(c_vals, test_accuracy, '-g', label='Test Accuracy')\n",
    "ax1.plot(c_vals, train_accuracy, '-b', label='Train Accuracy')\n",
    "ax1.set(xlabel='C', ylabel='Accuracy')\n",
    "ax1.set_title('Effect of C on Accuracy')\n",
    "ax1.legend()\n",
    "plt.show()\n",
    "\n",
    "# The minimum value of C occurs at C = 0.01."
   ]
  },
  {
   "cell_type": "code",
   "execution_count": null,
   "metadata": {},
   "outputs": [],
   "source": []
  }
 ],
 "metadata": {
  "kernelspec": {
   "display_name": "Python 3",
   "language": "python",
   "name": "python3"
  },
  "language_info": {
   "codemirror_mode": {
    "name": "ipython",
    "version": 3
   },
   "file_extension": ".py",
   "mimetype": "text/x-python",
   "name": "python",
   "nbconvert_exporter": "python",
   "pygments_lexer": "ipython3",
   "version": "3.7.0"
  }
 },
 "nbformat": 4,
 "nbformat_minor": 2
}
