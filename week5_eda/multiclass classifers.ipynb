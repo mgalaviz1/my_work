{
 "cells": [
  {
   "cell_type": "markdown",
   "metadata": {},
   "source": [
    "# Multiclass Classifiers\n",
    "In this assignment you will load a dataset and train two models to perform multiclass classification and compare the results of the models. The dataset is the digits dataset available from the sklearn's datasets library. This dataset contain 1797 samples of written digits. The goal is to correctly identify digits from 0 to 9."
   ]
  },
  {
   "cell_type": "code",
   "execution_count": 1,
   "metadata": {},
   "outputs": [],
   "source": [
    "from sklearn.linear_model import LogisticRegression\n",
    "from sklearn.ensemble import RandomForestClassifier\n",
    "from sklearn.model_selection import train_test_split, cross_val_score\n",
    "from sklearn.metrics import classification_report, confusion_matrix\n",
    "\n",
    "from sklearn.ensemble import RandomForestClassifier, ExtraTreesClassifier\n",
    "\n",
    "import matplotlib.pyplot as plt\n",
    "import pandas as pd\n",
    "import numpy as np\n",
    "import seaborn as sns\n",
    "\n",
    "%matplotlib inline"
   ]
  },
  {
   "cell_type": "markdown",
   "metadata": {},
   "source": [
    "## Load the data\n",
    "\n",
    "1. import the *load_digits* function from the *sklearn.datasets* library\n",
    "2. invoke *load_digits* with the *return_X_y* parameter set to true and store the returned dataset in variable **X** and **y**."
   ]
  },
  {
   "cell_type": "code",
   "execution_count": 2,
   "metadata": {},
   "outputs": [],
   "source": [
    "from sklearn.datasets import load_digits\n",
    "\n",
    "X, y = load_digits(return_X_y=True)\n",
    "\n",
    "#dataset = load_digits()\n",
    "#X, y = dataset.data, dataset.target\n"
   ]
  },
  {
   "cell_type": "markdown",
   "metadata": {},
   "source": [
    "## Exploratory Data Analysis\n",
    "Perform a few exploratory  steps including:\n",
    "\n",
    "1. Display the number of rows of data returned\n",
    "2. Display the number of features in the dataset\n",
    "3. Use Numpy's **bincount** to display how many samples belong to each class. Is this a balanced dataset?"
   ]
  },
  {
   "cell_type": "code",
   "execution_count": 3,
   "metadata": {},
   "outputs": [
    {
     "name": "stdout",
     "output_type": "stream",
     "text": [
      "0 178\n",
      "1 182\n",
      "2 177\n",
      "3 183\n",
      "4 181\n",
      "5 182\n",
      "6 181\n",
      "7 179\n",
      "8 174\n",
      "9 180\n"
     ]
    }
   ],
   "source": [
    "# target variable has 10 classes that are balanced \n",
    "\n",
    "for class_name, class_count in zip(y, np.bincount(y)):\n",
    "    print(class_name, class_count)\n"
   ]
  },
  {
   "cell_type": "code",
   "execution_count": 4,
   "metadata": {},
   "outputs": [
    {
     "name": "stdout",
     "output_type": "stream",
     "text": [
      "The number of rows in the dataset is 1797\n",
      "The number of features in the dataset is 64\n"
     ]
    }
   ],
   "source": [
    "print('The number of rows in the dataset is {:d}'.format(X.shape[0]))\n",
    "print('The number of features in the dataset is {:d}'.format(X.shape[1]))\n",
    "#np.___(y)"
   ]
  },
  {
   "cell_type": "markdown",
   "metadata": {},
   "source": [
    "## Prepare training and testing data\n",
    "1. Use *train_test_split* to split the dataset into a training set and a test set. Set the proportion of test data to 20%. Set a random state value so that the results will be repeatable."
   ]
  },
  {
   "cell_type": "code",
   "execution_count": 5,
   "metadata": {},
   "outputs": [],
   "source": [
    "# spliting data into training set and 20% test set\n",
    "\n",
    "X_train, X_test, y_train, y_test = train_test_split(X, y, test_size=0.2, random_state=42)"
   ]
  },
  {
   "cell_type": "markdown",
   "metadata": {},
   "source": [
    "## Cross validation with Logistic Regression\n",
    "In this step you will create a LogisticRegression classifier and use 5-fold cross validation to train the model.\n",
    "\n",
    "1. import *LogisticRegression* classifier from sklearn\n",
    "2. instantiate a LogisticRegression classifier with the 'lbfgs' solver and 'ovr' multiclass strategy. You may have to set the maximum number of iterations to 1000.\n",
    "3. perform cross validation on the model\n",
    "4. print the cross validation scores and the mean of the cross validation scores."
   ]
  },
  {
   "cell_type": "code",
   "execution_count": 6,
   "metadata": {},
   "outputs": [
    {
     "name": "stdout",
     "output_type": "stream",
     "text": [
      "Accuracy scores for the 5 folds:  [0.96527778 0.95486111 0.94773519 0.95121951 0.91637631]\n",
      "Mean cross validation score: 0.947\n"
     ]
    }
   ],
   "source": [
    "# using OvR multiclass logistic regression\n",
    "\n",
    "lr_clf = LogisticRegression(solver='lbfgs', multi_class='ovr', max_iter=1000, random_state=20)\n",
    "lr_cv_scores = cross_val_score(lr_clf, X_train, y_train, cv=5)\n",
    "\n",
    "print('Accuracy scores for the 5 folds: ', lr_cv_scores)\n",
    "print('Mean cross validation score: {:.3f}'.format(np.mean(lr_cv_scores)))\n"
   ]
  },
  {
   "cell_type": "markdown",
   "metadata": {},
   "source": [
    "## Cross validation with RandomForest\n",
    "Perform the same steps as above but this time with a RandomForestClassifier."
   ]
  },
  {
   "cell_type": "code",
   "execution_count": 7,
   "metadata": {},
   "outputs": [
    {
     "name": "stdout",
     "output_type": "stream",
     "text": [
      "Accuracy scores for the 5 folds:  [0.925      0.88333333 0.95821727 0.97214485 0.91364903]\n",
      "Mean cross validation score: 0.930\n"
     ]
    }
   ],
   "source": [
    "from sklearn import ensemble\n",
    "\n",
    "rf_clf = ensemble.RandomForestClassifier(n_estimators=24)\n",
    "rf_cv_scores = cross_val_score(rf_clf, X, y, cv=5)\n",
    "\n",
    "print('Accuracy scores for the 5 folds: ', rf_cv_scores)\n",
    "print('Mean cross validation score: {:.3f}'.format(np.mean(rf_cv_scores)))\n"
   ]
  },
  {
   "cell_type": "code",
   "execution_count": null,
   "metadata": {},
   "outputs": [],
   "source": []
  }
 ],
 "metadata": {
  "kernelspec": {
   "display_name": "Python 3",
   "language": "python",
   "name": "python3"
  },
  "language_info": {
   "codemirror_mode": {
    "name": "ipython",
    "version": 3
   },
   "file_extension": ".py",
   "mimetype": "text/x-python",
   "name": "python",
   "nbconvert_exporter": "python",
   "pygments_lexer": "ipython3",
   "version": "3.7.0"
  }
 },
 "nbformat": 4,
 "nbformat_minor": 2
}
