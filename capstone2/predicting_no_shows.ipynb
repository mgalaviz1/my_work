{
 "cells": [
  {
   "cell_type": "code",
   "execution_count": 1,
   "metadata": {},
   "outputs": [],
   "source": [
    "import warnings\n",
    "import pandas as pd\n",
    "import numpy as np\n",
    "\n",
    "import matplotlib.pyplot as plt\n",
    "%matplotlib inline\n",
    "\n",
    "from sklearn.model_selection import train_test_split, cross_val_score, GridSearchCV\n",
    "from sklearn.feature_selection import SelectFromModel\n",
    "from statsmodels.stats.outliers_influence import variance_inflation_factor\n",
    "from scipy import stats\n",
    "\n",
    "from sklearn.metrics import classification_report, confusion_matrix, f1_score, make_scorer\n",
    "\n",
    "from statsmodels.stats.diagnostic import het_breuschpagan\n",
    "from sklearn.neighbors import KNeighborsClassifier\n",
    "\n",
    "from category_encoders import LeaveOneOutEncoder\n",
    "from sklearn.preprocessing import OneHotEncoder, StandardScaler\n",
    "from sklearn.compose import ColumnTransformer\n",
    "from xgboost import XGBClassifier\n",
    "from sklearn.ensemble import GradientBoostingClassifier, RandomForestClassifier\n",
    "from sklearn.pipeline import Pipeline\n",
    "from sklearn.svm import SVC\n",
    "\n",
    "import statsmodels.api as sm\n",
    "\n",
    "import seaborn as sns\n",
    "from sklearn.metrics import mean_absolute_error\n",
    "from statsmodels.tools.eval_measures import mse, rmse\n",
    "\n",
    "from dateutil.relativedelta import relativedelta\n",
    "from datetime import date\n",
    "\n",
    "from IPython.display import display_html"
   ]
  },
  {
   "cell_type": "code",
   "execution_count": 2,
   "metadata": {},
   "outputs": [],
   "source": [
    "from sklearn.linear_model import SGDClassifier"
   ]
  },
  {
   "cell_type": "code",
   "execution_count": 3,
   "metadata": {},
   "outputs": [],
   "source": [
    "from mlxtend.plotting import plot_decision_regions\n",
    "\n",
    "import math\n",
    "\n",
    "from sklearn.dummy import DummyClassifier\n",
    "\n",
    "from sklearn.utils.multiclass import unique_labels\n",
    "from sklearn.metrics import accuracy_score, precision_score, recall_score, fbeta_score\n",
    "from sklearn.metrics import roc_curve, precision_recall_curve, roc_auc_score"
   ]
  },
  {
   "cell_type": "code",
   "execution_count": 4,
   "metadata": {},
   "outputs": [],
   "source": [
    "from sklearn.linear_model import LogisticRegression, ElasticNet\n",
    "from sklearn.utils.class_weight import compute_class_weight"
   ]
  },
  {
   "cell_type": "code",
   "execution_count": 5,
   "metadata": {},
   "outputs": [],
   "source": [
    "#import pydotplus\n",
    "#import graphviz\n",
    "#import pickle"
   ]
  },
  {
   "cell_type": "code",
   "execution_count": 6,
   "metadata": {},
   "outputs": [],
   "source": [
    "#!pip install nb_black\n",
    "#%load_ext nb_black"
   ]
  },
  {
   "cell_type": "code",
   "execution_count": 7,
   "metadata": {},
   "outputs": [],
   "source": [
    "def print_vif(x):\n",
    "    \"\"\"Utility for checking multicollinearity assumption\n",
    "    \n",
    "    :param x: input features to check using VIF. This is assumed to be a pandas.DataFrame\n",
    "    :return: nothing is returned the VIFs are printed as a pandas series\n",
    "    \"\"\"\n",
    "    # Silence numpy FutureWarning about .ptp\n",
    "    with warnings.catch_warnings():\n",
    "        warnings.simplefilter(\"ignore\")\n",
    "        x = sm.add_constant(x)\n",
    "\n",
    "    vifs = []\n",
    "    for i in range(x.shape[1]):\n",
    "        vif = variance_inflation_factor(x.values, i)\n",
    "        vifs.append(vif)\n",
    "\n",
    "    print(\"VIF results\\n-------------------------------\")\n",
    "    print(pd.Series(vifs, index=x.columns))\n",
    "    print(\"-------------------------------\\n\")\n",
    "\n",
    "\n",
    "def eval_preds(y_true, y_pred):\n",
    "    error = y_true - y_pred\n",
    "\n",
    "    rmse = np.sqrt((error ** 2).mean())\n",
    "    mae = error.abs().mean()\n",
    "    mape = (error / y_true).abs().mean()\n",
    "\n",
    "    print(f\"rmse {rmse:.2f}\")\n",
    "    print(f\"mae {mae:.2f}\")\n",
    "    print(f\"mape {mape:.2f}\")\n",
    "\n",
    "    line_pts = [y_true.min(), y_true.max()]\n",
    "    plt.scatter(y_true, y_pred)\n",
    "    plt.plot(line_pts, line_pts, c=\"red\", ls=\"--\", alpha=0.5)\n",
    "    plt.xlabel(\"Actual\")\n",
    "    plt.ylabel(\"Fit\")\n",
    "    plt.show()"
   ]
  },
  {
   "cell_type": "code",
   "execution_count": 8,
   "metadata": {},
   "outputs": [],
   "source": [
    "# y_pred is an array of predictions\n",
    "def bestThresshold(y_true,y_pred):\n",
    "    best_thresh = None\n",
    "    best_score = 0\n",
    "    for thresh in np.arange(0.1, 0.501, 0.01):\n",
    "        score = f1_score(y_true, np.array(y_pred)>thresh)\n",
    "        if score > best_score:\n",
    "            best_thresh = thresh\n",
    "            best_score = score\n",
    "    return best_score , best_thresh\n"
   ]
  },
  {
   "cell_type": "code",
   "execution_count": 9,
   "metadata": {},
   "outputs": [],
   "source": [
    "def display_side_by_side(*args):\n",
    "    html_str = \"\"\n",
    "    for df in args:\n",
    "        html_str += df.to_html()\n",
    "    display_html(html_str.replace(\"table\", 'table style=\"display:inline\"'), raw=True)\n",
    "\n",
    "\n",
    "def top_corrs(df, column, n=20):\n",
    "    corr_df = df.corr()[[column]]\n",
    "    corr_df.columns = [\"corr\"]\n",
    "    corr_df[\"abs_corr\"] = corr_df.abs()\n",
    "\n",
    "    top_n_num = corr_df.sort_values(\"abs_corr\", ascending=False).head(20)\n",
    "    return top_n_num\n",
    "\n",
    "\n",
    "def plot_top_corrs(df, column, n=10):\n",
    "    top_corrs_df = top_corrs(df, column, n)\n",
    "    top_feats = top_corrs_df.index\n",
    "    top_corr = df[top_feats]\n",
    "    top_corr_tall = pd.melt(top_corr, column)\n",
    "\n",
    "    fg = sns.FacetGrid(top_corr_tall, col=\"variable\", col_wrap=5, sharex=False)\n",
    "    fg.map(sns.scatterplot, \"value\", column)\n",
    "    plt.show()\n",
    "    \n",
    "# from TowardsDataScience.com by Shaked Zychlinski\n",
    "# URL: https://towardsdatascience.com/the-search-for-categorical-correlation-a1cf7f1888c9\n",
    "\n",
    "def cramers_v(x, y):\n",
    "    confusion_matrix = pd.crosstab(x,y)\n",
    "    chi2 = ss.chi2_contingency(confusion_matrix)[0]\n",
    "    n = confusion_matrix.sum().sum()\n",
    "    phi2 = chi2/n\n",
    "    r,k = confusion_matrix.shape\n",
    "    phi2corr = max(0, phi2-((k-1)*(r-1))/(n-1))\n",
    "    rcorr = r-((r-1)**2)/(n-1)\n",
    "    kcorr = k-((k-1)**2)/(n-1)\n",
    "    return np.sqrt(phi2corr/min((kcorr-1),(rcorr-1)))"
   ]
  },
  {
   "cell_type": "markdown",
   "metadata": {},
   "source": [
    "## Pulling in weather data\n",
    "from Openweather.org. URL: https://home.openweathermap.org/history_bulks/new"
   ]
  },
  {
   "cell_type": "code",
   "execution_count": 10,
   "metadata": {},
   "outputs": [
    {
     "data": {
      "text/html": [
       "<div>\n",
       "<style scoped>\n",
       "    .dataframe tbody tr th:only-of-type {\n",
       "        vertical-align: middle;\n",
       "    }\n",
       "\n",
       "    .dataframe tbody tr th {\n",
       "        vertical-align: top;\n",
       "    }\n",
       "\n",
       "    .dataframe thead th {\n",
       "        text-align: right;\n",
       "    }\n",
       "</style>\n",
       "<table border=\"1\" class=\"dataframe\">\n",
       "  <thead>\n",
       "    <tr style=\"text-align: right;\">\n",
       "      <th></th>\n",
       "      <th>dt</th>\n",
       "      <th>dt_iso</th>\n",
       "      <th>timezone</th>\n",
       "      <th>city_name</th>\n",
       "      <th>lat</th>\n",
       "      <th>lon</th>\n",
       "      <th>temp</th>\n",
       "      <th>feels_like</th>\n",
       "      <th>temp_min</th>\n",
       "      <th>temp_max</th>\n",
       "      <th>...</th>\n",
       "      <th>wind_deg</th>\n",
       "      <th>rain_1h</th>\n",
       "      <th>rain_3h</th>\n",
       "      <th>snow_1h</th>\n",
       "      <th>snow_3h</th>\n",
       "      <th>clouds_all</th>\n",
       "      <th>weather_id</th>\n",
       "      <th>weather_main</th>\n",
       "      <th>weather_description</th>\n",
       "      <th>weather_icon</th>\n",
       "    </tr>\n",
       "  </thead>\n",
       "  <tbody>\n",
       "    <tr>\n",
       "      <th>0</th>\n",
       "      <td>1461888000</td>\n",
       "      <td>2016-04-29 00:00:00 +0000 UTC</td>\n",
       "      <td>-10800</td>\n",
       "      <td>Vitoria</td>\n",
       "      <td>-20.297618</td>\n",
       "      <td>-40.295777</td>\n",
       "      <td>73.80</td>\n",
       "      <td>73.27</td>\n",
       "      <td>73.40</td>\n",
       "      <td>75.96</td>\n",
       "      <td>...</td>\n",
       "      <td>220</td>\n",
       "      <td>NaN</td>\n",
       "      <td>NaN</td>\n",
       "      <td>NaN</td>\n",
       "      <td>NaN</td>\n",
       "      <td>75</td>\n",
       "      <td>803</td>\n",
       "      <td>Clouds</td>\n",
       "      <td>broken clouds</td>\n",
       "      <td>04n</td>\n",
       "    </tr>\n",
       "    <tr>\n",
       "      <th>1</th>\n",
       "      <td>1461891600</td>\n",
       "      <td>2016-04-29 01:00:00 +0000 UTC</td>\n",
       "      <td>-10800</td>\n",
       "      <td>Vitoria</td>\n",
       "      <td>-20.297618</td>\n",
       "      <td>-40.295777</td>\n",
       "      <td>73.85</td>\n",
       "      <td>72.05</td>\n",
       "      <td>73.40</td>\n",
       "      <td>76.05</td>\n",
       "      <td>...</td>\n",
       "      <td>220</td>\n",
       "      <td>NaN</td>\n",
       "      <td>NaN</td>\n",
       "      <td>NaN</td>\n",
       "      <td>NaN</td>\n",
       "      <td>75</td>\n",
       "      <td>803</td>\n",
       "      <td>Clouds</td>\n",
       "      <td>broken clouds</td>\n",
       "      <td>04n</td>\n",
       "    </tr>\n",
       "    <tr>\n",
       "      <th>2</th>\n",
       "      <td>1461895200</td>\n",
       "      <td>2016-04-29 02:00:00 +0000 UTC</td>\n",
       "      <td>-10800</td>\n",
       "      <td>Vitoria</td>\n",
       "      <td>-20.297618</td>\n",
       "      <td>-40.295777</td>\n",
       "      <td>73.81</td>\n",
       "      <td>73.09</td>\n",
       "      <td>73.40</td>\n",
       "      <td>75.78</td>\n",
       "      <td>...</td>\n",
       "      <td>240</td>\n",
       "      <td>NaN</td>\n",
       "      <td>NaN</td>\n",
       "      <td>NaN</td>\n",
       "      <td>NaN</td>\n",
       "      <td>75</td>\n",
       "      <td>803</td>\n",
       "      <td>Clouds</td>\n",
       "      <td>broken clouds</td>\n",
       "      <td>04n</td>\n",
       "    </tr>\n",
       "    <tr>\n",
       "      <th>3</th>\n",
       "      <td>1461898800</td>\n",
       "      <td>2016-04-29 03:00:00 +0000 UTC</td>\n",
       "      <td>-10800</td>\n",
       "      <td>Vitoria</td>\n",
       "      <td>-20.297618</td>\n",
       "      <td>-40.295777</td>\n",
       "      <td>73.65</td>\n",
       "      <td>72.23</td>\n",
       "      <td>72.76</td>\n",
       "      <td>75.67</td>\n",
       "      <td>...</td>\n",
       "      <td>230</td>\n",
       "      <td>NaN</td>\n",
       "      <td>NaN</td>\n",
       "      <td>NaN</td>\n",
       "      <td>NaN</td>\n",
       "      <td>75</td>\n",
       "      <td>803</td>\n",
       "      <td>Clouds</td>\n",
       "      <td>broken clouds</td>\n",
       "      <td>04n</td>\n",
       "    </tr>\n",
       "    <tr>\n",
       "      <th>4</th>\n",
       "      <td>1461902400</td>\n",
       "      <td>2016-04-29 04:00:00 +0000 UTC</td>\n",
       "      <td>-10800</td>\n",
       "      <td>Vitoria</td>\n",
       "      <td>-20.297618</td>\n",
       "      <td>-40.295777</td>\n",
       "      <td>73.56</td>\n",
       "      <td>71.44</td>\n",
       "      <td>72.60</td>\n",
       "      <td>75.44</td>\n",
       "      <td>...</td>\n",
       "      <td>230</td>\n",
       "      <td>NaN</td>\n",
       "      <td>NaN</td>\n",
       "      <td>NaN</td>\n",
       "      <td>NaN</td>\n",
       "      <td>90</td>\n",
       "      <td>804</td>\n",
       "      <td>Clouds</td>\n",
       "      <td>overcast clouds</td>\n",
       "      <td>04n</td>\n",
       "    </tr>\n",
       "  </tbody>\n",
       "</table>\n",
       "<p>5 rows × 25 columns</p>\n",
       "</div>"
      ],
      "text/plain": [
       "           dt                         dt_iso  timezone city_name        lat  \\\n",
       "0  1461888000  2016-04-29 00:00:00 +0000 UTC    -10800   Vitoria -20.297618   \n",
       "1  1461891600  2016-04-29 01:00:00 +0000 UTC    -10800   Vitoria -20.297618   \n",
       "2  1461895200  2016-04-29 02:00:00 +0000 UTC    -10800   Vitoria -20.297618   \n",
       "3  1461898800  2016-04-29 03:00:00 +0000 UTC    -10800   Vitoria -20.297618   \n",
       "4  1461902400  2016-04-29 04:00:00 +0000 UTC    -10800   Vitoria -20.297618   \n",
       "\n",
       "         lon   temp  feels_like  temp_min  temp_max  ...  wind_deg  rain_1h  \\\n",
       "0 -40.295777  73.80       73.27     73.40     75.96  ...       220      NaN   \n",
       "1 -40.295777  73.85       72.05     73.40     76.05  ...       220      NaN   \n",
       "2 -40.295777  73.81       73.09     73.40     75.78  ...       240      NaN   \n",
       "3 -40.295777  73.65       72.23     72.76     75.67  ...       230      NaN   \n",
       "4 -40.295777  73.56       71.44     72.60     75.44  ...       230      NaN   \n",
       "\n",
       "   rain_3h  snow_1h  snow_3h  clouds_all  weather_id  weather_main  \\\n",
       "0      NaN      NaN      NaN          75         803        Clouds   \n",
       "1      NaN      NaN      NaN          75         803        Clouds   \n",
       "2      NaN      NaN      NaN          75         803        Clouds   \n",
       "3      NaN      NaN      NaN          75         803        Clouds   \n",
       "4      NaN      NaN      NaN          90         804        Clouds   \n",
       "\n",
       "   weather_description  weather_icon  \n",
       "0        broken clouds           04n  \n",
       "1        broken clouds           04n  \n",
       "2        broken clouds           04n  \n",
       "3        broken clouds           04n  \n",
       "4      overcast clouds           04n  \n",
       "\n",
       "[5 rows x 25 columns]"
      ]
     },
     "execution_count": 10,
     "metadata": {},
     "output_type": "execute_result"
    }
   ],
   "source": [
    "weather = pd.read_csv('http://history.openweathermap.org/storage/2190c766ac5f9f46f1c8c871c49523ec.csv')\n",
    "weather.head()"
   ]
  },
  {
   "cell_type": "code",
   "execution_count": 11,
   "metadata": {},
   "outputs": [
    {
     "name": "stdout",
     "output_type": "stream",
     "text": [
      "<class 'pandas.core.frame.DataFrame'>\n",
      "RangeIndex: 986 entries, 0 to 985\n",
      "Data columns (total 25 columns):\n",
      " #   Column               Non-Null Count  Dtype  \n",
      "---  ------               --------------  -----  \n",
      " 0   dt                   986 non-null    int64  \n",
      " 1   dt_iso               986 non-null    object \n",
      " 2   timezone             986 non-null    int64  \n",
      " 3   city_name            986 non-null    object \n",
      " 4   lat                  986 non-null    float64\n",
      " 5   lon                  986 non-null    float64\n",
      " 6   temp                 986 non-null    float64\n",
      " 7   feels_like           986 non-null    float64\n",
      " 8   temp_min             986 non-null    float64\n",
      " 9   temp_max             986 non-null    float64\n",
      " 10  pressure             986 non-null    int64  \n",
      " 11  sea_level            0 non-null      float64\n",
      " 12  grnd_level           0 non-null      float64\n",
      " 13  humidity             986 non-null    int64  \n",
      " 14  wind_speed           986 non-null    float64\n",
      " 15  wind_deg             986 non-null    int64  \n",
      " 16  rain_1h              13 non-null     float64\n",
      " 17  rain_3h              0 non-null      float64\n",
      " 18  snow_1h              0 non-null      float64\n",
      " 19  snow_3h              0 non-null      float64\n",
      " 20  clouds_all           986 non-null    int64  \n",
      " 21  weather_id           986 non-null    int64  \n",
      " 22  weather_main         986 non-null    object \n",
      " 23  weather_description  986 non-null    object \n",
      " 24  weather_icon         986 non-null    object \n",
      "dtypes: float64(13), int64(7), object(5)\n",
      "memory usage: 192.7+ KB\n"
     ]
    }
   ],
   "source": [
    "weather.info()"
   ]
  },
  {
   "cell_type": "code",
   "execution_count": 12,
   "metadata": {},
   "outputs": [],
   "source": [
    "weather[\"dt_iso\"] = weather[\"dt_iso\"].map(lambda x: str(x)[:-4])"
   ]
  },
  {
   "cell_type": "code",
   "execution_count": 13,
   "metadata": {},
   "outputs": [],
   "source": [
    "# changing to datetime format\n",
    "weather['dt_iso'] = pd.to_datetime(weather['dt_iso'])"
   ]
  },
  {
   "cell_type": "code",
   "execution_count": 14,
   "metadata": {},
   "outputs": [],
   "source": [
    "# keeping important weather data for merge\n",
    "weather_drop_cols = ['dt', 'timezone', 'city_name', 'lat', 'lon', 'temp',\n",
    "       'temp_min', 'temp_max', 'pressure', 'sea_level',\n",
    "       'grnd_level', 'humidity', 'wind_speed', 'wind_deg', 'rain_1h',\n",
    "       'rain_3h', 'snow_1h', 'snow_3h', 'clouds_all', 'weather_id',\n",
    "       'weather_description', 'weather_icon']\n",
    "weather = weather.drop(columns=weather_drop_cols)"
   ]
  },
  {
   "cell_type": "code",
   "execution_count": 15,
   "metadata": {},
   "outputs": [],
   "source": [
    "weather = weather.rename(columns={'dt_iso':'AppointmentDay'})"
   ]
  },
  {
   "cell_type": "code",
   "execution_count": 16,
   "metadata": {},
   "outputs": [
    {
     "name": "stdout",
     "output_type": "stream",
     "text": [
      "<class 'pandas.core.frame.DataFrame'>\n",
      "RangeIndex: 986 entries, 0 to 985\n",
      "Data columns (total 3 columns):\n",
      " #   Column          Non-Null Count  Dtype              \n",
      "---  ------          --------------  -----              \n",
      " 0   AppointmentDay  986 non-null    datetime64[ns, UTC]\n",
      " 1   feels_like      986 non-null    float64            \n",
      " 2   weather_main    986 non-null    object             \n",
      "dtypes: datetime64[ns, UTC](1), float64(1), object(1)\n",
      "memory usage: 23.2+ KB\n"
     ]
    }
   ],
   "source": [
    "weather.info()"
   ]
  },
  {
   "cell_type": "code",
   "execution_count": 17,
   "metadata": {},
   "outputs": [
    {
     "data": {
      "text/html": [
       "<div>\n",
       "<style scoped>\n",
       "    .dataframe tbody tr th:only-of-type {\n",
       "        vertical-align: middle;\n",
       "    }\n",
       "\n",
       "    .dataframe tbody tr th {\n",
       "        vertical-align: top;\n",
       "    }\n",
       "\n",
       "    .dataframe thead th {\n",
       "        text-align: right;\n",
       "    }\n",
       "</style>\n",
       "<table border=\"1\" class=\"dataframe\">\n",
       "  <thead>\n",
       "    <tr style=\"text-align: right;\">\n",
       "      <th></th>\n",
       "      <th>AppointmentDay</th>\n",
       "      <th>feels_like</th>\n",
       "      <th>weather_main</th>\n",
       "    </tr>\n",
       "  </thead>\n",
       "  <tbody>\n",
       "    <tr>\n",
       "      <th>0</th>\n",
       "      <td>2016-04-29 00:00:00+00:00</td>\n",
       "      <td>73.27</td>\n",
       "      <td>Clouds</td>\n",
       "    </tr>\n",
       "    <tr>\n",
       "      <th>1</th>\n",
       "      <td>2016-04-29 01:00:00+00:00</td>\n",
       "      <td>72.05</td>\n",
       "      <td>Clouds</td>\n",
       "    </tr>\n",
       "    <tr>\n",
       "      <th>2</th>\n",
       "      <td>2016-04-29 02:00:00+00:00</td>\n",
       "      <td>73.09</td>\n",
       "      <td>Clouds</td>\n",
       "    </tr>\n",
       "    <tr>\n",
       "      <th>3</th>\n",
       "      <td>2016-04-29 03:00:00+00:00</td>\n",
       "      <td>72.23</td>\n",
       "      <td>Clouds</td>\n",
       "    </tr>\n",
       "    <tr>\n",
       "      <th>4</th>\n",
       "      <td>2016-04-29 04:00:00+00:00</td>\n",
       "      <td>71.44</td>\n",
       "      <td>Clouds</td>\n",
       "    </tr>\n",
       "  </tbody>\n",
       "</table>\n",
       "</div>"
      ],
      "text/plain": [
       "             AppointmentDay  feels_like weather_main\n",
       "0 2016-04-29 00:00:00+00:00       73.27       Clouds\n",
       "1 2016-04-29 01:00:00+00:00       72.05       Clouds\n",
       "2 2016-04-29 02:00:00+00:00       73.09       Clouds\n",
       "3 2016-04-29 03:00:00+00:00       72.23       Clouds\n",
       "4 2016-04-29 04:00:00+00:00       71.44       Clouds"
      ]
     },
     "execution_count": 17,
     "metadata": {},
     "output_type": "execute_result"
    }
   ],
   "source": [
    "weather.head()"
   ]
  },
  {
   "cell_type": "code",
   "execution_count": 18,
   "metadata": {},
   "outputs": [],
   "source": [
    "weather.feels_like = weather.feels_like.astype(int).round(0)"
   ]
  },
  {
   "cell_type": "code",
   "execution_count": 19,
   "metadata": {},
   "outputs": [
    {
     "data": {
      "text/plain": [
       "Clouds          574\n",
       "Clear           390\n",
       "Rain             11\n",
       "Mist              5\n",
       "Smoke             4\n",
       "Thunderstorm      1\n",
       "Fog               1\n",
       "Name: weather_main, dtype: int64"
      ]
     },
     "execution_count": 19,
     "metadata": {},
     "output_type": "execute_result"
    }
   ],
   "source": [
    "weather.weather_main.value_counts()"
   ]
  },
  {
   "cell_type": "code",
   "execution_count": 20,
   "metadata": {},
   "outputs": [
    {
     "data": {
      "image/png": "[encoded data removed]",
      "text/plain": [
       "<Figure size 432x288 with 1 Axes>"
      ]
     },
     "metadata": {
      "needs_background": "light"
     },
     "output_type": "display_data"
    }
   ],
   "source": [
    "sns.countplot(y='weather_main', data=weather)\n",
    "plt.title('Count of Weather')\n",
    "plt.xlabel('Frequency')\n",
    "plt.ylabel('')\n",
    "plt.show()"
   ]
  },
  {
   "cell_type": "markdown",
   "metadata": {},
   "source": [
    "## Pulling in main appointment data"
   ]
  },
  {
   "cell_type": "code",
   "execution_count": 21,
   "metadata": {},
   "outputs": [],
   "source": [
    "df = pd.read_csv('noshowappointments.csv')"
   ]
  },
  {
   "cell_type": "markdown",
   "metadata": {},
   "source": [
    "This dataset has information about 110527 medical appointments in Vitoria Brazil from 29 April - 8 June 2016\n",
    "The goal is to predict whether a patient will show up to their appointment. \n",
    "\n",
    "Missed appointments cost the US 150b each year. https://www.hcinnovationgroup.com/clinical-it/article/13008175/missed-appointments-cost-the-us-healthcare-system-150b-each-year\n",
    "\n",
    "Data Dictionary: \n",
    "\n",
    "PatientId -Identification of a patient\n",
    "\n",
    "AppointmentID - Identification of each appointment\n",
    "\n",
    "Gender - Male or Female\n",
    "\n",
    "AppointmentDay - The day of the actual appointment, when they have to visit the doctor\n",
    "\n",
    "ScheduledDay - The day someone called or registered the appointment, this is before appointment of course.\n",
    "\n",
    "Age - Age of the patient.\n",
    "\n",
    "Neighborhood - Where the appointment takes place.\n",
    "\n",
    "Scholarship - True of False. Whether or not the school age patient is participating in Bolsa Famila which pays a stipend based on meeting certain metrics like class attendance or getting vaccinated. \n",
    "https://en.wikipedia.org/wiki/Bolsa_Fam%C3%ADlia\n",
    "\n",
    "Hypertension - True or False\n",
    "\n",
    "Diabetes -True or False\n",
    "\n",
    "Alcoholism - True or False\n",
    "\n",
    "Disability - 0-4. 0 is no disability and remaining numbers indicate how many disabilities the patient has\n",
    "\n",
    "Reminder - True or False. 1 or more messages sent to the patient\n",
    "\n",
    "No-show - True or False"
   ]
  },
  {
   "cell_type": "markdown",
   "metadata": {},
   "source": [
    "# Things to do:\n",
    "  *  Break down both dates into hour and day of week to see if there is anything significant with target.\n",
    "      \n",
    "      No hour data in appointment day but we do have interval in days between day scheduled and day of appointment.\n",
    "  \n",
    "  \n",
    "  *  Check for outliers and missing data.\n",
    "      \n",
    "      None but we do have imbalanced classes.\n",
    "  \n",
    "  \n",
    "  *  Investigate whether any variables can be mixed such as Hypertenion and Diabetes.\n",
    "  \n",
    "  \n",
    "  *  Attempt to bring in weather for the appointment day since that is likely to have an impact on target.\n",
    "  \n",
    "      Done.\n",
    "      \n",
    "  \n",
    "  *  Determine which vars are correlated with target and drop those not important.\n",
    "  \n",
    "  \n",
    "  *  Find important variables that help predict whether a patient shows to their appointment. \n",
    "  \n",
    "  \n",
    "  *  Compare different models. KNN is best using continous data so it's ruled out here. "
   ]
  },
  {
   "cell_type": "code",
   "execution_count": 22,
   "metadata": {},
   "outputs": [
    {
     "data": {
      "text/plain": [
       "Index(['PatientId', 'AppointmentID', 'Gender', 'ScheduledDay',\n",
       "       'AppointmentDay', 'Age', 'Neighbourhood', 'Scholarship', 'Hipertension',\n",
       "       'Diabetes', 'Alcoholism', 'Handcap', 'SMS_received', 'No-show'],\n",
       "      dtype='object')"
      ]
     },
     "execution_count": 22,
     "metadata": {},
     "output_type": "execute_result"
    }
   ],
   "source": [
    "df.columns"
   ]
  },
  {
   "cell_type": "code",
   "execution_count": 23,
   "metadata": {},
   "outputs": [
    {
     "data": {
      "text/plain": [
       "(110527, 14)"
      ]
     },
     "execution_count": 23,
     "metadata": {},
     "output_type": "execute_result"
    }
   ],
   "source": [
    "df.shape"
   ]
  },
  {
   "cell_type": "code",
   "execution_count": 24,
   "metadata": {},
   "outputs": [
    {
     "name": "stdout",
     "output_type": "stream",
     "text": [
      "<class 'pandas.core.frame.DataFrame'>\n",
      "RangeIndex: 110527 entries, 0 to 110526\n",
      "Data columns (total 14 columns):\n",
      " #   Column          Non-Null Count   Dtype  \n",
      "---  ------          --------------   -----  \n",
      " 0   PatientId       110527 non-null  float64\n",
      " 1   AppointmentID   110527 non-null  int64  \n",
      " 2   Gender          110527 non-null  object \n",
      " 3   ScheduledDay    110527 non-null  object \n",
      " 4   AppointmentDay  110527 non-null  object \n",
      " 5   Age             110527 non-null  int64  \n",
      " 6   Neighbourhood   110527 non-null  object \n",
      " 7   Scholarship     110527 non-null  int64  \n",
      " 8   Hipertension    110527 non-null  int64  \n",
      " 9   Diabetes        110527 non-null  int64  \n",
      " 10  Alcoholism      110527 non-null  int64  \n",
      " 11  Handcap         110527 non-null  int64  \n",
      " 12  SMS_received    110527 non-null  int64  \n",
      " 13  No-show         110527 non-null  object \n",
      "dtypes: float64(1), int64(8), object(5)\n",
      "memory usage: 11.8+ MB\n"
     ]
    }
   ],
   "source": [
    "df.info()"
   ]
  },
  {
   "cell_type": "code",
   "execution_count": 25,
   "metadata": {},
   "outputs": [
    {
     "data": {
      "text/plain": [
       "110527"
      ]
     },
     "execution_count": 25,
     "metadata": {},
     "output_type": "execute_result"
    }
   ],
   "source": [
    "df['AppointmentID'].nunique()"
   ]
  },
  {
   "cell_type": "code",
   "execution_count": 26,
   "metadata": {},
   "outputs": [],
   "source": [
    "#dropping appointmentID\n",
    "\n",
    "df = df.drop(columns = 'AppointmentID')"
   ]
  },
  {
   "cell_type": "code",
   "execution_count": 27,
   "metadata": {},
   "outputs": [],
   "source": [
    "# cleaning column names\n",
    "\n",
    "df['Neighborhood'] = df['Neighbourhood']\n",
    "df = df.drop(columns=['Neighbourhood'])\n",
    "\n",
    "df['Hypertension'] = df['Hipertension']\n",
    "df = df.drop(columns=['Hipertension'])\n",
    "\n",
    "df['Disability'] = df['Handcap']\n",
    "df = df.drop(columns=['Handcap'])\n",
    "\n",
    "df['Reminder'] = df['SMS_received']\n",
    "df = df.drop(columns=['SMS_received'])\n",
    "\n",
    "df['show'] = df['No-show']\n",
    "df = df.drop(columns=['No-show'])"
   ]
  },
  {
   "cell_type": "code",
   "execution_count": 28,
   "metadata": {},
   "outputs": [],
   "source": [
    "# changing target to binary\n",
    "df['show'] = df.show.transform(lambda x: int(x =='Yes'))"
   ]
  },
  {
   "cell_type": "markdown",
   "metadata": {},
   "source": [
    "Converting to datetime data type and creating day of week variables."
   ]
  },
  {
   "cell_type": "code",
   "execution_count": 29,
   "metadata": {},
   "outputs": [],
   "source": [
    "df['ScheduledDay'] = pd.to_datetime(df['ScheduledDay'])"
   ]
  },
  {
   "cell_type": "code",
   "execution_count": 30,
   "metadata": {},
   "outputs": [],
   "source": [
    "df['AppointmentDay'] = pd.to_datetime(df['AppointmentDay'])"
   ]
  },
  {
   "cell_type": "code",
   "execution_count": 31,
   "metadata": {},
   "outputs": [],
   "source": [
    "# creating date variables from ScheduleDay\n",
    "\n",
    "df[\"sch_weekday_num\"] = df[\"ScheduledDay\"].dt.weekday\n",
    "df[\"sch_weekday_name\"] = df[\"ScheduledDay\"].dt.day_name()"
   ]
  },
  {
   "cell_type": "code",
   "execution_count": 32,
   "metadata": {
    "scrolled": true
   },
   "outputs": [],
   "source": [
    "# creating date variables from AppointmentDay\n",
    "\n",
    "df[\"appt_weekday_num\"] = df[\"AppointmentDay\"].dt.weekday\n",
    "df[\"appt_weekday_name\"] = df[\"AppointmentDay\"].dt.day_name()"
   ]
  },
  {
   "cell_type": "code",
   "execution_count": 33,
   "metadata": {},
   "outputs": [],
   "source": [
    "df['has_diabetes_and_hyper'] = df['Hypertension'] * df['Diabetes']"
   ]
  },
  {
   "cell_type": "code",
   "execution_count": 34,
   "metadata": {},
   "outputs": [],
   "source": [
    "# creating interval in days between scheduled and appointment days\n",
    "\n",
    "df['day_diff']=(df['AppointmentDay'] - df['ScheduledDay']).dt.days\n",
    "\n",
    "#df_merge['day_diff'] = df_merge['AppointmentDay'] - df_merge['ScheduledDay']\n",
    "#df_merge['day_diff'] = df_merge['day_diff'] / np.timedelta64(1,'D')"
   ]
  },
  {
   "cell_type": "code",
   "execution_count": 35,
   "metadata": {},
   "outputs": [
    {
     "data": {
      "text/plain": [
       "-1      38567\n",
       " 1       6725\n",
       " 3       5290\n",
       " 0       5213\n",
       " 6       4906\n",
       "        ...  \n",
       " 116        1\n",
       " 124        1\n",
       " 125        1\n",
       " 126        1\n",
       " 131        1\n",
       "Name: day_diff, Length: 129, dtype: int64"
      ]
     },
     "execution_count": 35,
     "metadata": {},
     "output_type": "execute_result"
    }
   ],
   "source": [
    "df.day_diff.value_counts()"
   ]
  },
  {
   "cell_type": "code",
   "execution_count": 36,
   "metadata": {},
   "outputs": [],
   "source": [
    "# We have a scheduled hour but no appointment hour resulting in negative day intervals based on the hour.\n",
    "# Will replace with zero since negative intervals are the same day. \n",
    "df.day_diff = np.where(df.day_diff < 0, 0, df.day_diff)"
   ]
  },
  {
   "cell_type": "code",
   "execution_count": 37,
   "metadata": {},
   "outputs": [
    {
     "data": {
      "text/html": [
       "<div>\n",
       "<style scoped>\n",
       "    .dataframe tbody tr th:only-of-type {\n",
       "        vertical-align: middle;\n",
       "    }\n",
       "\n",
       "    .dataframe tbody tr th {\n",
       "        vertical-align: top;\n",
       "    }\n",
       "\n",
       "    .dataframe thead th {\n",
       "        text-align: right;\n",
       "    }\n",
       "</style>\n",
       "<table border=\"1\" class=\"dataframe\">\n",
       "  <thead>\n",
       "    <tr style=\"text-align: right;\">\n",
       "      <th></th>\n",
       "      <th>PatientId</th>\n",
       "      <th>Gender</th>\n",
       "      <th>ScheduledDay</th>\n",
       "      <th>AppointmentDay</th>\n",
       "      <th>Age</th>\n",
       "      <th>Scholarship</th>\n",
       "      <th>Diabetes</th>\n",
       "      <th>Alcoholism</th>\n",
       "      <th>Neighborhood</th>\n",
       "      <th>Hypertension</th>\n",
       "      <th>Disability</th>\n",
       "      <th>Reminder</th>\n",
       "      <th>show</th>\n",
       "      <th>sch_weekday_num</th>\n",
       "      <th>sch_weekday_name</th>\n",
       "      <th>appt_weekday_num</th>\n",
       "      <th>appt_weekday_name</th>\n",
       "      <th>has_diabetes_and_hyper</th>\n",
       "      <th>day_diff</th>\n",
       "    </tr>\n",
       "  </thead>\n",
       "  <tbody>\n",
       "    <tr>\n",
       "      <th>0</th>\n",
       "      <td>2.990000e+13</td>\n",
       "      <td>F</td>\n",
       "      <td>2016-04-29 18:38:08+00:00</td>\n",
       "      <td>2016-04-29 00:00:00+00:00</td>\n",
       "      <td>62</td>\n",
       "      <td>0</td>\n",
       "      <td>0</td>\n",
       "      <td>0</td>\n",
       "      <td>JARDIM DA PENHA</td>\n",
       "      <td>1</td>\n",
       "      <td>0</td>\n",
       "      <td>0</td>\n",
       "      <td>0</td>\n",
       "      <td>4</td>\n",
       "      <td>Friday</td>\n",
       "      <td>4</td>\n",
       "      <td>Friday</td>\n",
       "      <td>0</td>\n",
       "      <td>0</td>\n",
       "    </tr>\n",
       "    <tr>\n",
       "      <th>1</th>\n",
       "      <td>5.590000e+14</td>\n",
       "      <td>M</td>\n",
       "      <td>2016-04-29 16:08:27+00:00</td>\n",
       "      <td>2016-04-29 00:00:00+00:00</td>\n",
       "      <td>56</td>\n",
       "      <td>0</td>\n",
       "      <td>0</td>\n",
       "      <td>0</td>\n",
       "      <td>JARDIM DA PENHA</td>\n",
       "      <td>0</td>\n",
       "      <td>0</td>\n",
       "      <td>0</td>\n",
       "      <td>0</td>\n",
       "      <td>4</td>\n",
       "      <td>Friday</td>\n",
       "      <td>4</td>\n",
       "      <td>Friday</td>\n",
       "      <td>0</td>\n",
       "      <td>0</td>\n",
       "    </tr>\n",
       "    <tr>\n",
       "      <th>2</th>\n",
       "      <td>4.260000e+12</td>\n",
       "      <td>F</td>\n",
       "      <td>2016-04-29 16:19:04+00:00</td>\n",
       "      <td>2016-04-29 00:00:00+00:00</td>\n",
       "      <td>62</td>\n",
       "      <td>0</td>\n",
       "      <td>0</td>\n",
       "      <td>0</td>\n",
       "      <td>MATA DA PRAIA</td>\n",
       "      <td>0</td>\n",
       "      <td>0</td>\n",
       "      <td>0</td>\n",
       "      <td>0</td>\n",
       "      <td>4</td>\n",
       "      <td>Friday</td>\n",
       "      <td>4</td>\n",
       "      <td>Friday</td>\n",
       "      <td>0</td>\n",
       "      <td>0</td>\n",
       "    </tr>\n",
       "    <tr>\n",
       "      <th>3</th>\n",
       "      <td>8.680000e+11</td>\n",
       "      <td>F</td>\n",
       "      <td>2016-04-29 17:29:31+00:00</td>\n",
       "      <td>2016-04-29 00:00:00+00:00</td>\n",
       "      <td>8</td>\n",
       "      <td>0</td>\n",
       "      <td>0</td>\n",
       "      <td>0</td>\n",
       "      <td>PONTAL DE CAMBURI</td>\n",
       "      <td>0</td>\n",
       "      <td>0</td>\n",
       "      <td>0</td>\n",
       "      <td>0</td>\n",
       "      <td>4</td>\n",
       "      <td>Friday</td>\n",
       "      <td>4</td>\n",
       "      <td>Friday</td>\n",
       "      <td>0</td>\n",
       "      <td>0</td>\n",
       "    </tr>\n",
       "    <tr>\n",
       "      <th>4</th>\n",
       "      <td>8.840000e+12</td>\n",
       "      <td>F</td>\n",
       "      <td>2016-04-29 16:07:23+00:00</td>\n",
       "      <td>2016-04-29 00:00:00+00:00</td>\n",
       "      <td>56</td>\n",
       "      <td>0</td>\n",
       "      <td>1</td>\n",
       "      <td>0</td>\n",
       "      <td>JARDIM DA PENHA</td>\n",
       "      <td>1</td>\n",
       "      <td>0</td>\n",
       "      <td>0</td>\n",
       "      <td>0</td>\n",
       "      <td>4</td>\n",
       "      <td>Friday</td>\n",
       "      <td>4</td>\n",
       "      <td>Friday</td>\n",
       "      <td>1</td>\n",
       "      <td>0</td>\n",
       "    </tr>\n",
       "  </tbody>\n",
       "</table>\n",
       "</div>"
      ],
      "text/plain": [
       "      PatientId Gender              ScheduledDay            AppointmentDay  \\\n",
       "0  2.990000e+13      F 2016-04-29 18:38:08+00:00 2016-04-29 00:00:00+00:00   \n",
       "1  5.590000e+14      M 2016-04-29 16:08:27+00:00 2016-04-29 00:00:00+00:00   \n",
       "2  4.260000e+12      F 2016-04-29 16:19:04+00:00 2016-04-29 00:00:00+00:00   \n",
       "3  8.680000e+11      F 2016-04-29 17:29:31+00:00 2016-04-29 00:00:00+00:00   \n",
       "4  8.840000e+12      F 2016-04-29 16:07:23+00:00 2016-04-29 00:00:00+00:00   \n",
       "\n",
       "   Age  Scholarship  Diabetes  Alcoholism       Neighborhood  Hypertension  \\\n",
       "0   62            0         0           0    JARDIM DA PENHA             1   \n",
       "1   56            0         0           0    JARDIM DA PENHA             0   \n",
       "2   62            0         0           0      MATA DA PRAIA             0   \n",
       "3    8            0         0           0  PONTAL DE CAMBURI             0   \n",
       "4   56            0         1           0    JARDIM DA PENHA             1   \n",
       "\n",
       "   Disability  Reminder  show  sch_weekday_num sch_weekday_name  \\\n",
       "0           0         0     0                4           Friday   \n",
       "1           0         0     0                4           Friday   \n",
       "2           0         0     0                4           Friday   \n",
       "3           0         0     0                4           Friday   \n",
       "4           0         0     0                4           Friday   \n",
       "\n",
       "   appt_weekday_num appt_weekday_name  has_diabetes_and_hyper  day_diff  \n",
       "0                 4            Friday                       0         0  \n",
       "1                 4            Friday                       0         0  \n",
       "2                 4            Friday                       0         0  \n",
       "3                 4            Friday                       0         0  \n",
       "4                 4            Friday                       1         0  "
      ]
     },
     "execution_count": 37,
     "metadata": {},
     "output_type": "execute_result"
    }
   ],
   "source": [
    "df.head()"
   ]
  },
  {
   "cell_type": "markdown",
   "metadata": {},
   "source": [
    "## Merging df and weather dataframes"
   ]
  },
  {
   "cell_type": "code",
   "execution_count": 38,
   "metadata": {},
   "outputs": [],
   "source": [
    "df_merge = pd.merge(df, weather, on='AppointmentDay', how='left', indicator=True)"
   ]
  },
  {
   "cell_type": "code",
   "execution_count": 39,
   "metadata": {},
   "outputs": [
    {
     "data": {
      "text/html": [
       "<div>\n",
       "<style scoped>\n",
       "    .dataframe tbody tr th:only-of-type {\n",
       "        vertical-align: middle;\n",
       "    }\n",
       "\n",
       "    .dataframe tbody tr th {\n",
       "        vertical-align: top;\n",
       "    }\n",
       "\n",
       "    .dataframe thead th {\n",
       "        text-align: right;\n",
       "    }\n",
       "</style>\n",
       "<table border=\"1\" class=\"dataframe\">\n",
       "  <thead>\n",
       "    <tr style=\"text-align: right;\">\n",
       "      <th></th>\n",
       "      <th>PatientId</th>\n",
       "      <th>Gender</th>\n",
       "      <th>ScheduledDay</th>\n",
       "      <th>AppointmentDay</th>\n",
       "      <th>Age</th>\n",
       "      <th>Scholarship</th>\n",
       "      <th>Diabetes</th>\n",
       "      <th>Alcoholism</th>\n",
       "      <th>Neighborhood</th>\n",
       "      <th>Hypertension</th>\n",
       "      <th>...</th>\n",
       "      <th>show</th>\n",
       "      <th>sch_weekday_num</th>\n",
       "      <th>sch_weekday_name</th>\n",
       "      <th>appt_weekday_num</th>\n",
       "      <th>appt_weekday_name</th>\n",
       "      <th>has_diabetes_and_hyper</th>\n",
       "      <th>day_diff</th>\n",
       "      <th>feels_like</th>\n",
       "      <th>weather_main</th>\n",
       "      <th>_merge</th>\n",
       "    </tr>\n",
       "  </thead>\n",
       "  <tbody>\n",
       "    <tr>\n",
       "      <th>0</th>\n",
       "      <td>2.990000e+13</td>\n",
       "      <td>F</td>\n",
       "      <td>2016-04-29 18:38:08+00:00</td>\n",
       "      <td>2016-04-29 00:00:00+00:00</td>\n",
       "      <td>62</td>\n",
       "      <td>0</td>\n",
       "      <td>0</td>\n",
       "      <td>0</td>\n",
       "      <td>JARDIM DA PENHA</td>\n",
       "      <td>1</td>\n",
       "      <td>...</td>\n",
       "      <td>0</td>\n",
       "      <td>4</td>\n",
       "      <td>Friday</td>\n",
       "      <td>4</td>\n",
       "      <td>Friday</td>\n",
       "      <td>0</td>\n",
       "      <td>0</td>\n",
       "      <td>73</td>\n",
       "      <td>Clouds</td>\n",
       "      <td>both</td>\n",
       "    </tr>\n",
       "    <tr>\n",
       "      <th>1</th>\n",
       "      <td>5.590000e+14</td>\n",
       "      <td>M</td>\n",
       "      <td>2016-04-29 16:08:27+00:00</td>\n",
       "      <td>2016-04-29 00:00:00+00:00</td>\n",
       "      <td>56</td>\n",
       "      <td>0</td>\n",
       "      <td>0</td>\n",
       "      <td>0</td>\n",
       "      <td>JARDIM DA PENHA</td>\n",
       "      <td>0</td>\n",
       "      <td>...</td>\n",
       "      <td>0</td>\n",
       "      <td>4</td>\n",
       "      <td>Friday</td>\n",
       "      <td>4</td>\n",
       "      <td>Friday</td>\n",
       "      <td>0</td>\n",
       "      <td>0</td>\n",
       "      <td>73</td>\n",
       "      <td>Clouds</td>\n",
       "      <td>both</td>\n",
       "    </tr>\n",
       "    <tr>\n",
       "      <th>2</th>\n",
       "      <td>4.260000e+12</td>\n",
       "      <td>F</td>\n",
       "      <td>2016-04-29 16:19:04+00:00</td>\n",
       "      <td>2016-04-29 00:00:00+00:00</td>\n",
       "      <td>62</td>\n",
       "      <td>0</td>\n",
       "      <td>0</td>\n",
       "      <td>0</td>\n",
       "      <td>MATA DA PRAIA</td>\n",
       "      <td>0</td>\n",
       "      <td>...</td>\n",
       "      <td>0</td>\n",
       "      <td>4</td>\n",
       "      <td>Friday</td>\n",
       "      <td>4</td>\n",
       "      <td>Friday</td>\n",
       "      <td>0</td>\n",
       "      <td>0</td>\n",
       "      <td>73</td>\n",
       "      <td>Clouds</td>\n",
       "      <td>both</td>\n",
       "    </tr>\n",
       "    <tr>\n",
       "      <th>3</th>\n",
       "      <td>8.680000e+11</td>\n",
       "      <td>F</td>\n",
       "      <td>2016-04-29 17:29:31+00:00</td>\n",
       "      <td>2016-04-29 00:00:00+00:00</td>\n",
       "      <td>8</td>\n",
       "      <td>0</td>\n",
       "      <td>0</td>\n",
       "      <td>0</td>\n",
       "      <td>PONTAL DE CAMBURI</td>\n",
       "      <td>0</td>\n",
       "      <td>...</td>\n",
       "      <td>0</td>\n",
       "      <td>4</td>\n",
       "      <td>Friday</td>\n",
       "      <td>4</td>\n",
       "      <td>Friday</td>\n",
       "      <td>0</td>\n",
       "      <td>0</td>\n",
       "      <td>73</td>\n",
       "      <td>Clouds</td>\n",
       "      <td>both</td>\n",
       "    </tr>\n",
       "    <tr>\n",
       "      <th>4</th>\n",
       "      <td>8.840000e+12</td>\n",
       "      <td>F</td>\n",
       "      <td>2016-04-29 16:07:23+00:00</td>\n",
       "      <td>2016-04-29 00:00:00+00:00</td>\n",
       "      <td>56</td>\n",
       "      <td>0</td>\n",
       "      <td>1</td>\n",
       "      <td>0</td>\n",
       "      <td>JARDIM DA PENHA</td>\n",
       "      <td>1</td>\n",
       "      <td>...</td>\n",
       "      <td>0</td>\n",
       "      <td>4</td>\n",
       "      <td>Friday</td>\n",
       "      <td>4</td>\n",
       "      <td>Friday</td>\n",
       "      <td>1</td>\n",
       "      <td>0</td>\n",
       "      <td>73</td>\n",
       "      <td>Clouds</td>\n",
       "      <td>both</td>\n",
       "    </tr>\n",
       "  </tbody>\n",
       "</table>\n",
       "<p>5 rows × 22 columns</p>\n",
       "</div>"
      ],
      "text/plain": [
       "      PatientId Gender              ScheduledDay            AppointmentDay  \\\n",
       "0  2.990000e+13      F 2016-04-29 18:38:08+00:00 2016-04-29 00:00:00+00:00   \n",
       "1  5.590000e+14      M 2016-04-29 16:08:27+00:00 2016-04-29 00:00:00+00:00   \n",
       "2  4.260000e+12      F 2016-04-29 16:19:04+00:00 2016-04-29 00:00:00+00:00   \n",
       "3  8.680000e+11      F 2016-04-29 17:29:31+00:00 2016-04-29 00:00:00+00:00   \n",
       "4  8.840000e+12      F 2016-04-29 16:07:23+00:00 2016-04-29 00:00:00+00:00   \n",
       "\n",
       "   Age  Scholarship  Diabetes  Alcoholism       Neighborhood  Hypertension  \\\n",
       "0   62            0         0           0    JARDIM DA PENHA             1   \n",
       "1   56            0         0           0    JARDIM DA PENHA             0   \n",
       "2   62            0         0           0      MATA DA PRAIA             0   \n",
       "3    8            0         0           0  PONTAL DE CAMBURI             0   \n",
       "4   56            0         1           0    JARDIM DA PENHA             1   \n",
       "\n",
       "   ...  show  sch_weekday_num  sch_weekday_name  appt_weekday_num  \\\n",
       "0  ...     0                4            Friday                 4   \n",
       "1  ...     0                4            Friday                 4   \n",
       "2  ...     0                4            Friday                 4   \n",
       "3  ...     0                4            Friday                 4   \n",
       "4  ...     0                4            Friday                 4   \n",
       "\n",
       "  appt_weekday_name  has_diabetes_and_hyper day_diff  feels_like  \\\n",
       "0            Friday                       0        0          73   \n",
       "1            Friday                       0        0          73   \n",
       "2            Friday                       0        0          73   \n",
       "3            Friday                       0        0          73   \n",
       "4            Friday                       1        0          73   \n",
       "\n",
       "   weather_main  _merge  \n",
       "0        Clouds    both  \n",
       "1        Clouds    both  \n",
       "2        Clouds    both  \n",
       "3        Clouds    both  \n",
       "4        Clouds    both  \n",
       "\n",
       "[5 rows x 22 columns]"
      ]
     },
     "execution_count": 39,
     "metadata": {},
     "output_type": "execute_result"
    }
   ],
   "source": [
    "df_merge.head()"
   ]
  },
  {
   "cell_type": "code",
   "execution_count": 40,
   "metadata": {},
   "outputs": [
    {
     "data": {
      "text/plain": [
       "both          110527\n",
       "right_only         0\n",
       "left_only          0\n",
       "Name: _merge, dtype: int64"
      ]
     },
     "execution_count": 40,
     "metadata": {},
     "output_type": "execute_result"
    }
   ],
   "source": [
    "df_merge._merge.value_counts()"
   ]
  },
  {
   "cell_type": "code",
   "execution_count": 41,
   "metadata": {},
   "outputs": [
    {
     "data": {
      "text/plain": [
       "Clear     56696\n",
       "Clouds    53831\n",
       "Name: weather_main, dtype: int64"
      ]
     },
     "execution_count": 41,
     "metadata": {},
     "output_type": "execute_result"
    }
   ],
   "source": [
    "df_merge.weather_main.value_counts()"
   ]
  },
  {
   "cell_type": "code",
   "execution_count": 42,
   "metadata": {},
   "outputs": [],
   "source": [
    "# inserting weather on May 20th because there is no hour in Appointment Day to merge on. It rained all day on 20 May\n",
    "# and is the only day it rained during the period in the dataset, 29 April to 8 June 2016. \n",
    "df_merge.loc[df_merge['AppointmentDay'] == '2016-05-20 00:00:00+00:00', 'weather_main'] = 'Rain'"
   ]
  },
  {
   "cell_type": "markdown",
   "metadata": {},
   "source": [
    "#### According to XGBoost feature selection below, the only weather variable used, feels_like, scored a zero correlation so I did not use weather data as I hoped. This might be because, during the 6 weeks time of the dataset, it rained only 1 full day affecting just over 3000 patients but not enough to have an impact. Perhaps looking at data over a year timespan would be more telling."
   ]
  },
  {
   "cell_type": "markdown",
   "metadata": {},
   "source": [
    "## Plotting variables with target, no_show"
   ]
  },
  {
   "cell_type": "code",
   "execution_count": 43,
   "metadata": {},
   "outputs": [
    {
     "data": {
      "image/png": "[encoded data removed]",
      "text/plain": [
       "<Figure size 432x288 with 1 Axes>"
      ]
     },
     "metadata": {
      "needs_background": "light"
     },
     "output_type": "display_data"
    }
   ],
   "source": [
    "sns.countplot(x=df_merge['show'])\n",
    "plt.show()"
   ]
  },
  {
   "cell_type": "code",
   "execution_count": 44,
   "metadata": {},
   "outputs": [
    {
     "data": {
      "text/plain": [
       "0    0.798067\n",
       "1    0.201933\n",
       "Name: show, dtype: float64"
      ]
     },
     "execution_count": 44,
     "metadata": {},
     "output_type": "execute_result"
    }
   ],
   "source": [
    "df.show.value_counts(normalize=True)"
   ]
  },
  {
   "cell_type": "code",
   "execution_count": 45,
   "metadata": {},
   "outputs": [
    {
     "data": {
      "text/plain": [
       "0    88208\n",
       "1    22319\n",
       "Name: show, dtype: int64"
      ]
     },
     "execution_count": 45,
     "metadata": {},
     "output_type": "execute_result"
    }
   ],
   "source": [
    "df['show'].value_counts()"
   ]
  },
  {
   "cell_type": "code",
   "execution_count": 46,
   "metadata": {},
   "outputs": [
    {
     "data": {
      "image/png": "[encoded data removed]",
      "text/plain": [
       "<Figure size 1152x504 with 2 Axes>"
      ]
     },
     "metadata": {
      "needs_background": "light"
     },
     "output_type": "display_data"
    }
   ],
   "source": [
    "plt.figure(figsize=(16,7))\n",
    "\n",
    "plt.subplot(1,2,1)\n",
    "sns.countplot(x='sch_weekday_name',hue='show',data=df, order=['Monday','Tuesday', 'Wednesday','Thursday','Friday','Saturday'])\n",
    "plt.title('Schedule Day of Week')\n",
    "\n",
    "plt.subplot(1,2,2)\n",
    "sns.countplot(x='appt_weekday_name',hue='show',data=df, order=['Monday','Tuesday', 'Wednesday','Thursday','Friday','Saturday'])\n",
    "plt.title('Appointment Day of Week')\n",
    "plt.show()"
   ]
  },
  {
   "cell_type": "code",
   "execution_count": 47,
   "metadata": {},
   "outputs": [
    {
     "data": {
      "text/html": [
       "<div>\n",
       "<style scoped>\n",
       "    .dataframe tbody tr th:only-of-type {\n",
       "        vertical-align: middle;\n",
       "    }\n",
       "\n",
       "    .dataframe tbody tr th {\n",
       "        vertical-align: top;\n",
       "    }\n",
       "\n",
       "    .dataframe thead th {\n",
       "        text-align: right;\n",
       "    }\n",
       "</style>\n",
       "<table border=\"1\" class=\"dataframe\">\n",
       "  <thead>\n",
       "    <tr style=\"text-align: right;\">\n",
       "      <th>show</th>\n",
       "      <th>0</th>\n",
       "      <th>1</th>\n",
       "    </tr>\n",
       "    <tr>\n",
       "      <th>appt_weekday_name</th>\n",
       "      <th></th>\n",
       "      <th></th>\n",
       "    </tr>\n",
       "  </thead>\n",
       "  <tbody>\n",
       "    <tr>\n",
       "      <th>Friday</th>\n",
       "      <td>14982</td>\n",
       "      <td>4037</td>\n",
       "    </tr>\n",
       "    <tr>\n",
       "      <th>Monday</th>\n",
       "      <td>18025</td>\n",
       "      <td>4690</td>\n",
       "    </tr>\n",
       "    <tr>\n",
       "      <th>Saturday</th>\n",
       "      <td>30</td>\n",
       "      <td>9</td>\n",
       "    </tr>\n",
       "    <tr>\n",
       "      <th>Thursday</th>\n",
       "      <td>13909</td>\n",
       "      <td>3338</td>\n",
       "    </tr>\n",
       "    <tr>\n",
       "      <th>Tuesday</th>\n",
       "      <td>20488</td>\n",
       "      <td>5152</td>\n",
       "    </tr>\n",
       "    <tr>\n",
       "      <th>Wednesday</th>\n",
       "      <td>20774</td>\n",
       "      <td>5093</td>\n",
       "    </tr>\n",
       "  </tbody>\n",
       "</table>\n",
       "</div>"
      ],
      "text/plain": [
       "show                   0     1\n",
       "appt_weekday_name             \n",
       "Friday             14982  4037\n",
       "Monday             18025  4690\n",
       "Saturday              30     9\n",
       "Thursday           13909  3338\n",
       "Tuesday            20488  5152\n",
       "Wednesday          20774  5093"
      ]
     },
     "execution_count": 47,
     "metadata": {},
     "output_type": "execute_result"
    }
   ],
   "source": [
    "crosstable = pd.crosstab(df[\"appt_weekday_name\"], df[\"show\"])\n",
    "crosstable"
   ]
  },
  {
   "cell_type": "code",
   "execution_count": 48,
   "metadata": {},
   "outputs": [
    {
     "data": {
      "image/png": "[encoded data removed]",
      "text/plain": [
       "<Figure size 432x288 with 1 Axes>"
      ]
     },
     "metadata": {
      "needs_background": "light"
     },
     "output_type": "display_data"
    }
   ],
   "source": [
    "# Tuesday is the busiest day for scheduling appointments followed by Wednesday\n",
    "\n",
    "sns.countplot(x=df['sch_weekday_name'], order=['Monday','Tuesday', 'Wednesday','Thursday','Friday','Saturday'])\n",
    "plt.title('Scheduled on Day of Week')\n",
    "plt.show()"
   ]
  },
  {
   "cell_type": "code",
   "execution_count": 49,
   "metadata": {},
   "outputs": [
    {
     "data": {
      "image/png": "[encoded data removed]",
      "text/plain": [
       "<Figure size 432x288 with 1 Axes>"
      ]
     },
     "metadata": {
      "needs_background": "light"
     },
     "output_type": "display_data"
    }
   ],
   "source": [
    "# Wednesday has the most appointments followed by Tuesday\n",
    "\n",
    "sns.countplot(x=df['appt_weekday_name'], order=['Monday','Tuesday', 'Wednesday','Thursday','Friday','Saturday'])\n",
    "plt.title('Appointment on Day of Week')\n",
    "plt.show()"
   ]
  },
  {
   "cell_type": "markdown",
   "metadata": {},
   "source": [
    "From pairplot, we can see that variables do not have a linear relationship with the target."
   ]
  },
  {
   "cell_type": "markdown",
   "metadata": {},
   "source": [
    "## Looking at scheduled time and appointment time"
   ]
  },
  {
   "cell_type": "code",
   "execution_count": 50,
   "metadata": {},
   "outputs": [
    {
     "data": {
      "image/png": "[encoded data removed]",
      "text/plain": [
       "<Figure size 1152x360 with 1 Axes>"
      ]
     },
     "metadata": {
      "needs_background": "light"
     },
     "output_type": "display_data"
    }
   ],
   "source": [
    "# plotting effect of time betweeen scheduling and appointment day on no shows\n",
    "\n",
    "plt.figure(figsize=(16,5))\n",
    "df.groupby('show')['day_diff'].hist(bins=30)\n",
    "plt.title('No Shows by Days Between Scheduling and Appointment Day', size = '10')\n",
    "plt.legend(df.show.unique());"
   ]
  },
  {
   "cell_type": "code",
   "execution_count": 51,
   "metadata": {},
   "outputs": [
    {
     "data": {
      "image/png": "[encoded data removed]",
      "text/plain": [
       "<Figure size 1152x504 with 1 Axes>"
      ]
     },
     "metadata": {
      "needs_background": "light"
     },
     "output_type": "display_data"
    }
   ],
   "source": [
    "plt.figure(figsize=(16,7))\n",
    "plt.hist(x='day_diff', data=df, bins = 180)\n",
    "plt.title('Days Between Scheduling and Appointment')\n",
    "plt.show()"
   ]
  },
  {
   "cell_type": "code",
   "execution_count": 52,
   "metadata": {},
   "outputs": [
    {
     "data": {
      "image/png": "[encoded data removed]",
      "text/plain": [
       "<Figure size 432x288 with 1 Axes>"
      ]
     },
     "metadata": {
      "needs_background": "light"
     },
     "output_type": "display_data"
    }
   ],
   "source": [
    "ratio = df[df['show'] == 1].groupby(['show']).size()/df.groupby(['show']).size()\n",
    "ratio.plot()\n",
    "plt.title('Percentage of No Shows by Day Difference', size='16')\n",
    "plt.show()"
   ]
  },
  {
   "cell_type": "markdown",
   "metadata": {},
   "source": [
    "## No show and Neighborhood"
   ]
  },
  {
   "cell_type": "code",
   "execution_count": 53,
   "metadata": {},
   "outputs": [
    {
     "data": {
      "image/png": "[encoded data removed]",
      "text/plain": [
       "<Figure size 1296x288 with 1 Axes>"
      ]
     },
     "metadata": {
      "needs_background": "light"
     },
     "output_type": "display_data"
    }
   ],
   "source": [
    "#Plotting ratio between showing up and all patients for every neighbourhood\n",
    "\n",
    "ratio = df[df.show == 1].groupby('Neighborhood').size()/df.groupby('Neighborhood').size()\n",
    "plt.figure(figsize=(18,4))\n",
    "plt.title('No Show ratio by Neighborhood')\n",
    "ratio.plot(kind='bar');"
   ]
  },
  {
   "cell_type": "code",
   "execution_count": 54,
   "metadata": {},
   "outputs": [
    {
     "data": {
      "text/plain": [
       "79"
      ]
     },
     "execution_count": 54,
     "metadata": {},
     "output_type": "execute_result"
    }
   ],
   "source": [
    "# dropping outlier neighborhoods or those with 1 and 2 patients\n",
    "\n",
    "df = df[(df.Neighborhood !='ILHAS OCEÂNICAS DE TRINDADE') & (df.Neighborhood !='PARQUE INDUSTRIAL')]\n",
    "df.Neighborhood.nunique()"
   ]
  },
  {
   "cell_type": "code",
   "execution_count": 55,
   "metadata": {},
   "outputs": [],
   "source": [
    "#sns.pairplot(df)\n",
    "#plt.show()"
   ]
  },
  {
   "cell_type": "code",
   "execution_count": null,
   "metadata": {},
   "outputs": [],
   "source": []
  },
  {
   "cell_type": "code",
   "execution_count": null,
   "metadata": {},
   "outputs": [],
   "source": []
  },
  {
   "cell_type": "code",
   "execution_count": 56,
   "metadata": {},
   "outputs": [],
   "source": [
    "# creating binary for disability\n",
    "\n",
    "df['disability'] = df.Disability.transform(lambda x: int(x > 0))"
   ]
  },
  {
   "cell_type": "code",
   "execution_count": 57,
   "metadata": {},
   "outputs": [
    {
     "data": {
      "text/plain": [
       "0    108283\n",
       "1      2241\n",
       "Name: disability, dtype: int64"
      ]
     },
     "execution_count": 57,
     "metadata": {},
     "output_type": "execute_result"
    }
   ],
   "source": [
    "df.disability.value_counts()"
   ]
  },
  {
   "cell_type": "code",
   "execution_count": 58,
   "metadata": {},
   "outputs": [],
   "source": [
    "df['is_male'] = df.Gender.transform(lambda x: int(x =='M'))"
   ]
  },
  {
   "cell_type": "code",
   "execution_count": 59,
   "metadata": {},
   "outputs": [
    {
     "data": {
      "text/plain": [
       "0    71837\n",
       "1    38687\n",
       "Name: is_male, dtype: int64"
      ]
     },
     "execution_count": 59,
     "metadata": {},
     "output_type": "execute_result"
    }
   ],
   "source": [
    "df.is_male.value_counts()"
   ]
  },
  {
   "cell_type": "code",
   "execution_count": 60,
   "metadata": {},
   "outputs": [
    {
     "data": {
      "text/plain": [
       "0    88207\n",
       "1    22317\n",
       "Name: show, dtype: int64"
      ]
     },
     "execution_count": 60,
     "metadata": {},
     "output_type": "execute_result"
    }
   ],
   "source": [
    "df.show.value_counts()"
   ]
  },
  {
   "cell_type": "code",
   "execution_count": 61,
   "metadata": {},
   "outputs": [],
   "source": [
    "df = df.drop(columns = ['Gender', 'Disability'])"
   ]
  },
  {
   "cell_type": "code",
   "execution_count": 62,
   "metadata": {},
   "outputs": [
    {
     "name": "stdout",
     "output_type": "stream",
     "text": [
      "Neighborhood\n",
      "79\n",
      "sch_weekday_name\n",
      "6\n",
      "appt_weekday_name\n",
      "6\n"
     ]
    }
   ],
   "source": [
    "categorical = df.select_dtypes(include=['object'])\n",
    "for i in categorical:\n",
    "    column = categorical[i]\n",
    "    print(i)\n",
    "    print(column.nunique())"
   ]
  },
  {
   "cell_type": "code",
   "execution_count": 63,
   "metadata": {},
   "outputs": [
    {
     "name": "stdout",
     "output_type": "stream",
     "text": [
      "<class 'pandas.core.frame.DataFrame'>\n",
      "Int64Index: 110524 entries, 0 to 110526\n",
      "Data columns (total 19 columns):\n",
      " #   Column                  Non-Null Count   Dtype              \n",
      "---  ------                  --------------   -----              \n",
      " 0   PatientId               110524 non-null  float64            \n",
      " 1   ScheduledDay            110524 non-null  datetime64[ns, UTC]\n",
      " 2   AppointmentDay          110524 non-null  datetime64[ns, UTC]\n",
      " 3   Age                     110524 non-null  int64              \n",
      " 4   Scholarship             110524 non-null  int64              \n",
      " 5   Diabetes                110524 non-null  int64              \n",
      " 6   Alcoholism              110524 non-null  int64              \n",
      " 7   Neighborhood            110524 non-null  object             \n",
      " 8   Hypertension            110524 non-null  int64              \n",
      " 9   Reminder                110524 non-null  int64              \n",
      " 10  show                    110524 non-null  int64              \n",
      " 11  sch_weekday_num         110524 non-null  int64              \n",
      " 12  sch_weekday_name        110524 non-null  object             \n",
      " 13  appt_weekday_num        110524 non-null  int64              \n",
      " 14  appt_weekday_name       110524 non-null  object             \n",
      " 15  has_diabetes_and_hyper  110524 non-null  int64              \n",
      " 16  day_diff                110524 non-null  int64              \n",
      " 17  disability              110524 non-null  int64              \n",
      " 18  is_male                 110524 non-null  int64              \n",
      "dtypes: datetime64[ns, UTC](2), float64(1), int64(13), object(3)\n",
      "memory usage: 16.9+ MB\n"
     ]
    }
   ],
   "source": [
    "df.info()"
   ]
  },
  {
   "cell_type": "code",
   "execution_count": 64,
   "metadata": {},
   "outputs": [],
   "source": [
    "#plt.figure(figsize=(15,5))\n",
    "#plt.barh(df_merge.groupby(\"disability\")[\"disability\"].count().index, \n",
    "#        df_merge.groupby(\"disability\")[\"disability\"].count(), \n",
    "#        color=[\"green\",\"orange\"])\n",
    "#plt.title(\"Count of Disability\")\n",
    "#plt.show()"
   ]
  },
  {
   "cell_type": "code",
   "execution_count": 65,
   "metadata": {},
   "outputs": [
    {
     "data": {
      "text/plain": [
       "2    25867\n",
       "1    25640\n",
       "0    22715\n",
       "4    19017\n",
       "3    17246\n",
       "5       39\n",
       "Name: appt_weekday_num, dtype: int64"
      ]
     },
     "execution_count": 65,
     "metadata": {},
     "output_type": "execute_result"
    }
   ],
   "source": [
    "df.appt_weekday_num.value_counts()"
   ]
  },
  {
   "cell_type": "code",
   "execution_count": 66,
   "metadata": {},
   "outputs": [],
   "source": [
    "# creating columns for preprocessing\n",
    "\n",
    "drop_cats = ['JARDIM CAMBURI', 1, 2]\n",
    "\n",
    "cat_cols = ['Neighborhood', 'sch_weekday_num', 'appt_weekday_num']\n",
    "\n",
    "bin_cols = ['is_male','Scholarship', 'Alcoholism', 'Reminder', 'has_diabetes_and_hyper',\n",
    "            'disability']\n",
    "\n",
    "num_cols = ['PatientId', 'Age', 'day_diff']"
   ]
  },
  {
   "cell_type": "markdown",
   "metadata": {},
   "source": [
    "Looking at categorical data with our target, only two stand out. Those who get reminders have a greater percentage of showing up. Also, those who have a scholarship have a slightly higher percentage of not showing up. The interaction between hypertension and diabetes appears unchanged from either of the variables alone. "
   ]
  },
  {
   "cell_type": "code",
   "execution_count": 67,
   "metadata": {
    "scrolled": false
   },
   "outputs": [
    {
     "data": {
      "text/html": [
       "<div>\n",
       "<style scoped>\n",
       "    .dataframe tbody tr th:only-of-type {\n",
       "        vertical-align: middle;\n",
       "    }\n",
       "\n",
       "    .dataframe tbody tr th {\n",
       "        vertical-align: top;\n",
       "    }\n",
       "\n",
       "    .dataframe thead th {\n",
       "        text-align: right;\n",
       "    }\n",
       "</style>\n",
       "<table border=\"1\" class=\"dataframe\">\n",
       "  <thead>\n",
       "    <tr style=\"text-align: right;\">\n",
       "      <th>show</th>\n",
       "      <th>0</th>\n",
       "      <th>1</th>\n",
       "    </tr>\n",
       "    <tr>\n",
       "      <th>is_male</th>\n",
       "      <th></th>\n",
       "      <th></th>\n",
       "    </tr>\n",
       "  </thead>\n",
       "  <tbody>\n",
       "    <tr>\n",
       "      <th>0</th>\n",
       "      <td>0.796873</td>\n",
       "      <td>0.203127</td>\n",
       "    </tr>\n",
       "    <tr>\n",
       "      <th>1</th>\n",
       "      <td>0.800321</td>\n",
       "      <td>0.199679</td>\n",
       "    </tr>\n",
       "  </tbody>\n",
       "</table>\n",
       "</div>"
      ],
      "text/plain": [
       "show            0         1\n",
       "is_male                    \n",
       "0        0.796873  0.203127\n",
       "1        0.800321  0.199679"
      ]
     },
     "metadata": {},
     "output_type": "display_data"
    },
    {
     "data": {
      "image/png": "[encoded data removed]",
      "text/plain": [
       "<Figure size 432x288 with 1 Axes>"
      ]
     },
     "metadata": {
      "needs_background": "light"
     },
     "output_type": "display_data"
    },
    {
     "data": {
      "text/html": [
       "<div>\n",
       "<style scoped>\n",
       "    .dataframe tbody tr th:only-of-type {\n",
       "        vertical-align: middle;\n",
       "    }\n",
       "\n",
       "    .dataframe tbody tr th {\n",
       "        vertical-align: top;\n",
       "    }\n",
       "\n",
       "    .dataframe thead th {\n",
       "        text-align: right;\n",
       "    }\n",
       "</style>\n",
       "<table border=\"1\" class=\"dataframe\">\n",
       "  <thead>\n",
       "    <tr style=\"text-align: right;\">\n",
       "      <th>show</th>\n",
       "      <th>0</th>\n",
       "      <th>1</th>\n",
       "    </tr>\n",
       "    <tr>\n",
       "      <th>Scholarship</th>\n",
       "      <th></th>\n",
       "      <th></th>\n",
       "    </tr>\n",
       "  </thead>\n",
       "  <tbody>\n",
       "    <tr>\n",
       "      <th>0</th>\n",
       "      <td>0.801943</td>\n",
       "      <td>0.198057</td>\n",
       "    </tr>\n",
       "    <tr>\n",
       "      <th>1</th>\n",
       "      <td>0.762637</td>\n",
       "      <td>0.237363</td>\n",
       "    </tr>\n",
       "  </tbody>\n",
       "</table>\n",
       "</div>"
      ],
      "text/plain": [
       "show                0         1\n",
       "Scholarship                    \n",
       "0            0.801943  0.198057\n",
       "1            0.762637  0.237363"
      ]
     },
     "metadata": {},
     "output_type": "display_data"
    },
    {
     "data": {
      "image/png": "[encoded data removed]",
      "text/plain": [
       "<Figure size 432x288 with 1 Axes>"
      ]
     },
     "metadata": {
      "needs_background": "light"
     },
     "output_type": "display_data"
    },
    {
     "data": {
      "text/html": [
       "<div>\n",
       "<style scoped>\n",
       "    .dataframe tbody tr th:only-of-type {\n",
       "        vertical-align: middle;\n",
       "    }\n",
       "\n",
       "    .dataframe tbody tr th {\n",
       "        vertical-align: top;\n",
       "    }\n",
       "\n",
       "    .dataframe thead th {\n",
       "        text-align: right;\n",
       "    }\n",
       "</style>\n",
       "<table border=\"1\" class=\"dataframe\">\n",
       "  <thead>\n",
       "    <tr style=\"text-align: right;\">\n",
       "      <th>show</th>\n",
       "      <th>0</th>\n",
       "      <th>1</th>\n",
       "    </tr>\n",
       "    <tr>\n",
       "      <th>Alcoholism</th>\n",
       "      <th></th>\n",
       "      <th></th>\n",
       "    </tr>\n",
       "  </thead>\n",
       "  <tbody>\n",
       "    <tr>\n",
       "      <th>0</th>\n",
       "      <td>0.798067</td>\n",
       "      <td>0.201933</td>\n",
       "    </tr>\n",
       "    <tr>\n",
       "      <th>1</th>\n",
       "      <td>0.798512</td>\n",
       "      <td>0.201488</td>\n",
       "    </tr>\n",
       "  </tbody>\n",
       "</table>\n",
       "</div>"
      ],
      "text/plain": [
       "show               0         1\n",
       "Alcoholism                    \n",
       "0           0.798067  0.201933\n",
       "1           0.798512  0.201488"
      ]
     },
     "metadata": {},
     "output_type": "display_data"
    },
    {
     "data": {
      "image/png": "[encoded data removed]",
      "text/plain": [
       "<Figure size 432x288 with 1 Axes>"
      ]
     },
     "metadata": {
      "needs_background": "light"
     },
     "output_type": "display_data"
    },
    {
     "data": {
      "text/html": [
       "<div>\n",
       "<style scoped>\n",
       "    .dataframe tbody tr th:only-of-type {\n",
       "        vertical-align: middle;\n",
       "    }\n",
       "\n",
       "    .dataframe tbody tr th {\n",
       "        vertical-align: top;\n",
       "    }\n",
       "\n",
       "    .dataframe thead th {\n",
       "        text-align: right;\n",
       "    }\n",
       "</style>\n",
       "<table border=\"1\" class=\"dataframe\">\n",
       "  <thead>\n",
       "    <tr style=\"text-align: right;\">\n",
       "      <th>show</th>\n",
       "      <th>0</th>\n",
       "      <th>1</th>\n",
       "    </tr>\n",
       "    <tr>\n",
       "      <th>Reminder</th>\n",
       "      <th></th>\n",
       "      <th></th>\n",
       "    </tr>\n",
       "  </thead>\n",
       "  <tbody>\n",
       "    <tr>\n",
       "      <th>0</th>\n",
       "      <td>0.832987</td>\n",
       "      <td>0.167013</td>\n",
       "    </tr>\n",
       "    <tr>\n",
       "      <th>1</th>\n",
       "      <td>0.724255</td>\n",
       "      <td>0.275745</td>\n",
       "    </tr>\n",
       "  </tbody>\n",
       "</table>\n",
       "</div>"
      ],
      "text/plain": [
       "show             0         1\n",
       "Reminder                    \n",
       "0         0.832987  0.167013\n",
       "1         0.724255  0.275745"
      ]
     },
     "metadata": {},
     "output_type": "display_data"
    },
    {
     "data": {
      "image/png": "[encoded data removed]",
      "text/plain": [
       "<Figure size 432x288 with 1 Axes>"
      ]
     },
     "metadata": {
      "needs_background": "light"
     },
     "output_type": "display_data"
    },
    {
     "data": {
      "text/html": [
       "<div>\n",
       "<style scoped>\n",
       "    .dataframe tbody tr th:only-of-type {\n",
       "        vertical-align: middle;\n",
       "    }\n",
       "\n",
       "    .dataframe tbody tr th {\n",
       "        vertical-align: top;\n",
       "    }\n",
       "\n",
       "    .dataframe thead th {\n",
       "        text-align: right;\n",
       "    }\n",
       "</style>\n",
       "<table border=\"1\" class=\"dataframe\">\n",
       "  <thead>\n",
       "    <tr style=\"text-align: right;\">\n",
       "      <th>show</th>\n",
       "      <th>0</th>\n",
       "      <th>1</th>\n",
       "    </tr>\n",
       "    <tr>\n",
       "      <th>has_diabetes_and_hyper</th>\n",
       "      <th></th>\n",
       "      <th></th>\n",
       "    </tr>\n",
       "  </thead>\n",
       "  <tbody>\n",
       "    <tr>\n",
       "      <th>0</th>\n",
       "      <td>0.796459</td>\n",
       "      <td>0.203541</td>\n",
       "    </tr>\n",
       "    <tr>\n",
       "      <th>1</th>\n",
       "      <td>0.824083</td>\n",
       "      <td>0.175917</td>\n",
       "    </tr>\n",
       "  </tbody>\n",
       "</table>\n",
       "</div>"
      ],
      "text/plain": [
       "show                           0         1\n",
       "has_diabetes_and_hyper                    \n",
       "0                       0.796459  0.203541\n",
       "1                       0.824083  0.175917"
      ]
     },
     "metadata": {},
     "output_type": "display_data"
    },
    {
     "data": {
      "image/png": "[encoded data removed]",
      "text/plain": [
       "<Figure size 432x288 with 1 Axes>"
      ]
     },
     "metadata": {
      "needs_background": "light"
     },
     "output_type": "display_data"
    },
    {
     "data": {
      "text/html": [
       "<div>\n",
       "<style scoped>\n",
       "    .dataframe tbody tr th:only-of-type {\n",
       "        vertical-align: middle;\n",
       "    }\n",
       "\n",
       "    .dataframe tbody tr th {\n",
       "        vertical-align: top;\n",
       "    }\n",
       "\n",
       "    .dataframe thead th {\n",
       "        text-align: right;\n",
       "    }\n",
       "</style>\n",
       "<table border=\"1\" class=\"dataframe\">\n",
       "  <thead>\n",
       "    <tr style=\"text-align: right;\">\n",
       "      <th>show</th>\n",
       "      <th>0</th>\n",
       "      <th>1</th>\n",
       "    </tr>\n",
       "    <tr>\n",
       "      <th>disability</th>\n",
       "      <th></th>\n",
       "      <th></th>\n",
       "    </tr>\n",
       "  </thead>\n",
       "  <tbody>\n",
       "    <tr>\n",
       "      <th>0</th>\n",
       "      <td>0.797660</td>\n",
       "      <td>0.202340</td>\n",
       "    </tr>\n",
       "    <tr>\n",
       "      <th>1</th>\n",
       "      <td>0.818385</td>\n",
       "      <td>0.181615</td>\n",
       "    </tr>\n",
       "  </tbody>\n",
       "</table>\n",
       "</div>"
      ],
      "text/plain": [
       "show               0         1\n",
       "disability                    \n",
       "0           0.797660  0.202340\n",
       "1           0.818385  0.181615"
      ]
     },
     "metadata": {},
     "output_type": "display_data"
    },
    {
     "data": {
      "image/png": "[encoded data removed]",
      "text/plain": [
       "<Figure size 432x288 with 1 Axes>"
      ]
     },
     "metadata": {
      "needs_background": "light"
     },
     "output_type": "display_data"
    }
   ],
   "source": [
    "for bin_col in bin_cols:\n",
    "    display(pd.crosstab(df[bin_col], df[\"show\"], normalize=\"index\"))\n",
    "        \n",
    "    Sch_ratio = df[df.show == 0].groupby(df[bin_col]).size()/df.groupby(df[bin_col]).size()\n",
    "    ax = sns.barplot(x=Sch_ratio.index, y=Sch_ratio)\n",
    "    ax.set_title(\"Percentage of No Show by Category\", size='12')\n",
    "    plt.show()"
   ]
  },
  {
   "cell_type": "markdown",
   "metadata": {},
   "source": [
    "Visualing numerical data with target. Younger ages appear to miss their appointment more than older patients. It also looks like more days between scheduling the appointment and the appointment day has more no_shows. "
   ]
  },
  {
   "cell_type": "code",
   "execution_count": 68,
   "metadata": {},
   "outputs": [
    {
     "data": {
      "image/png": "[encoded data removed]",
      "text/plain": [
       "<Figure size 432x288 with 1 Axes>"
      ]
     },
     "metadata": {
      "needs_background": "light"
     },
     "output_type": "display_data"
    },
    {
     "data": {
      "image/png": "[encoded data removed]",
      "text/plain": [
       "<Figure size 432x288 with 1 Axes>"
      ]
     },
     "metadata": {
      "needs_background": "light"
     },
     "output_type": "display_data"
    },
    {
     "data": {
      "image/png": "[encoded data removed]",
      "text/plain": [
       "<Figure size 432x288 with 1 Axes>"
      ]
     },
     "metadata": {
      "needs_background": "light"
     },
     "output_type": "display_data"
    }
   ],
   "source": [
    "for num_col in num_cols:\n",
    "    sns.violinplot(x=df[\"show\"], y=df[num_col])\n",
    "    plt.show()"
   ]
  },
  {
   "cell_type": "code",
   "execution_count": 69,
   "metadata": {},
   "outputs": [
    {
     "name": "stdout",
     "output_type": "stream",
     "text": [
      "<class 'pandas.core.frame.DataFrame'>\n",
      "Int64Index: 110524 entries, 0 to 110526\n",
      "Data columns (total 19 columns):\n",
      " #   Column                  Non-Null Count   Dtype              \n",
      "---  ------                  --------------   -----              \n",
      " 0   PatientId               110524 non-null  float64            \n",
      " 1   ScheduledDay            110524 non-null  datetime64[ns, UTC]\n",
      " 2   AppointmentDay          110524 non-null  datetime64[ns, UTC]\n",
      " 3   Age                     110524 non-null  int64              \n",
      " 4   Scholarship             110524 non-null  int64              \n",
      " 5   Diabetes                110524 non-null  int64              \n",
      " 6   Alcoholism              110524 non-null  int64              \n",
      " 7   Neighborhood            110524 non-null  object             \n",
      " 8   Hypertension            110524 non-null  int64              \n",
      " 9   Reminder                110524 non-null  int64              \n",
      " 10  show                    110524 non-null  int64              \n",
      " 11  sch_weekday_num         110524 non-null  int64              \n",
      " 12  sch_weekday_name        110524 non-null  object             \n",
      " 13  appt_weekday_num        110524 non-null  int64              \n",
      " 14  appt_weekday_name       110524 non-null  object             \n",
      " 15  has_diabetes_and_hyper  110524 non-null  int64              \n",
      " 16  day_diff                110524 non-null  int64              \n",
      " 17  disability              110524 non-null  int64              \n",
      " 18  is_male                 110524 non-null  int64              \n",
      "dtypes: datetime64[ns, UTC](2), float64(1), int64(13), object(3)\n",
      "memory usage: 21.9+ MB\n"
     ]
    }
   ],
   "source": [
    "df.info()"
   ]
  },
  {
   "cell_type": "code",
   "execution_count": 70,
   "metadata": {},
   "outputs": [
    {
     "data": {
      "text/plain": [
       "0    88207\n",
       "1    22317\n",
       "Name: show, dtype: int64"
      ]
     },
     "execution_count": 70,
     "metadata": {},
     "output_type": "execute_result"
    }
   ],
   "source": [
    "df.show.value_counts()"
   ]
  },
  {
   "cell_type": "code",
   "execution_count": 71,
   "metadata": {},
   "outputs": [
    {
     "data": {
      "text/plain": [
       "1     4464\n",
       "2     8686\n",
       "3     8346\n",
       "4     4168\n",
       "5     4272\n",
       "6     8571\n",
       "7     4416\n",
       "8     4479\n",
       "9     4520\n",
       "10    4308\n",
       "11    4474\n",
       "12    4394\n",
       "13    3985\n",
       "14      39\n",
       "16    4613\n",
       "17    4372\n",
       "18    4373\n",
       "19    4270\n",
       "20    3828\n",
       "24    4009\n",
       "25    3909\n",
       "29    3235\n",
       "30    4514\n",
       "31    4279\n",
       "Name: AppointmentDay, dtype: int64"
      ]
     },
     "execution_count": 71,
     "metadata": {},
     "output_type": "execute_result"
    }
   ],
   "source": [
    "df.AppointmentDay.dt.day.value_counts().sort_index()"
   ]
  },
  {
   "cell_type": "code",
   "execution_count": 72,
   "metadata": {},
   "outputs": [
    {
     "data": {
      "text/plain": [
       "<matplotlib.axes._subplots.AxesSubplot at 0x1bad7262470>"
      ]
     },
     "execution_count": 72,
     "metadata": {},
     "output_type": "execute_result"
    },
    {
     "data": {
      "image/png": "[encoded data removed]",
      "text/plain": [
       "<Figure size 432x288 with 1 Axes>"
      ]
     },
     "metadata": {
      "needs_background": "light"
     },
     "output_type": "display_data"
    }
   ],
   "source": [
    "df.AppointmentDay.dt.day.value_counts().sort_index().plot()"
   ]
  },
  {
   "cell_type": "code",
   "execution_count": 73,
   "metadata": {},
   "outputs": [
    {
     "data": {
      "text/plain": [
       "<matplotlib.axes._subplots.AxesSubplot at 0x1bad7077be0>"
      ]
     },
     "execution_count": 73,
     "metadata": {},
     "output_type": "execute_result"
    },
    {
     "data": {
      "image/png": "[encoded data removed]",
      "text/plain": [
       "<Figure size 432x288 with 1 Axes>"
      ]
     },
     "metadata": {
      "needs_background": "light"
     },
     "output_type": "display_data"
    }
   ],
   "source": [
    "df.ScheduledDay.dt.hour.value_counts().sort_index().plot()"
   ]
  },
  {
   "cell_type": "code",
   "execution_count": 74,
   "metadata": {},
   "outputs": [
    {
     "data": {
      "text/html": [
       "<div>\n",
       "<style scoped>\n",
       "    .dataframe tbody tr th:only-of-type {\n",
       "        vertical-align: middle;\n",
       "    }\n",
       "\n",
       "    .dataframe tbody tr th {\n",
       "        vertical-align: top;\n",
       "    }\n",
       "\n",
       "    .dataframe thead th {\n",
       "        text-align: right;\n",
       "    }\n",
       "</style>\n",
       "<table border=\"1\" class=\"dataframe\">\n",
       "  <thead>\n",
       "    <tr style=\"text-align: right;\">\n",
       "      <th></th>\n",
       "      <th>PatientId</th>\n",
       "      <th>ScheduledDay</th>\n",
       "      <th>AppointmentDay</th>\n",
       "      <th>Age</th>\n",
       "      <th>Scholarship</th>\n",
       "      <th>Diabetes</th>\n",
       "      <th>Alcoholism</th>\n",
       "      <th>Neighborhood</th>\n",
       "      <th>Hypertension</th>\n",
       "      <th>Reminder</th>\n",
       "      <th>show</th>\n",
       "      <th>sch_weekday_num</th>\n",
       "      <th>sch_weekday_name</th>\n",
       "      <th>appt_weekday_num</th>\n",
       "      <th>appt_weekday_name</th>\n",
       "      <th>has_diabetes_and_hyper</th>\n",
       "      <th>day_diff</th>\n",
       "      <th>disability</th>\n",
       "      <th>is_male</th>\n",
       "    </tr>\n",
       "  </thead>\n",
       "  <tbody>\n",
       "    <tr>\n",
       "      <th>0</th>\n",
       "      <td>2.990000e+13</td>\n",
       "      <td>2016-04-29 18:38:08+00:00</td>\n",
       "      <td>2016-04-29 00:00:00+00:00</td>\n",
       "      <td>62</td>\n",
       "      <td>0</td>\n",
       "      <td>0</td>\n",
       "      <td>0</td>\n",
       "      <td>JARDIM DA PENHA</td>\n",
       "      <td>1</td>\n",
       "      <td>0</td>\n",
       "      <td>0</td>\n",
       "      <td>4</td>\n",
       "      <td>Friday</td>\n",
       "      <td>4</td>\n",
       "      <td>Friday</td>\n",
       "      <td>0</td>\n",
       "      <td>0</td>\n",
       "      <td>0</td>\n",
       "      <td>0</td>\n",
       "    </tr>\n",
       "    <tr>\n",
       "      <th>1</th>\n",
       "      <td>5.590000e+14</td>\n",
       "      <td>2016-04-29 16:08:27+00:00</td>\n",
       "      <td>2016-04-29 00:00:00+00:00</td>\n",
       "      <td>56</td>\n",
       "      <td>0</td>\n",
       "      <td>0</td>\n",
       "      <td>0</td>\n",
       "      <td>JARDIM DA PENHA</td>\n",
       "      <td>0</td>\n",
       "      <td>0</td>\n",
       "      <td>0</td>\n",
       "      <td>4</td>\n",
       "      <td>Friday</td>\n",
       "      <td>4</td>\n",
       "      <td>Friday</td>\n",
       "      <td>0</td>\n",
       "      <td>0</td>\n",
       "      <td>0</td>\n",
       "      <td>1</td>\n",
       "    </tr>\n",
       "    <tr>\n",
       "      <th>2</th>\n",
       "      <td>4.260000e+12</td>\n",
       "      <td>2016-04-29 16:19:04+00:00</td>\n",
       "      <td>2016-04-29 00:00:00+00:00</td>\n",
       "      <td>62</td>\n",
       "      <td>0</td>\n",
       "      <td>0</td>\n",
       "      <td>0</td>\n",
       "      <td>MATA DA PRAIA</td>\n",
       "      <td>0</td>\n",
       "      <td>0</td>\n",
       "      <td>0</td>\n",
       "      <td>4</td>\n",
       "      <td>Friday</td>\n",
       "      <td>4</td>\n",
       "      <td>Friday</td>\n",
       "      <td>0</td>\n",
       "      <td>0</td>\n",
       "      <td>0</td>\n",
       "      <td>0</td>\n",
       "    </tr>\n",
       "    <tr>\n",
       "      <th>3</th>\n",
       "      <td>8.680000e+11</td>\n",
       "      <td>2016-04-29 17:29:31+00:00</td>\n",
       "      <td>2016-04-29 00:00:00+00:00</td>\n",
       "      <td>8</td>\n",
       "      <td>0</td>\n",
       "      <td>0</td>\n",
       "      <td>0</td>\n",
       "      <td>PONTAL DE CAMBURI</td>\n",
       "      <td>0</td>\n",
       "      <td>0</td>\n",
       "      <td>0</td>\n",
       "      <td>4</td>\n",
       "      <td>Friday</td>\n",
       "      <td>4</td>\n",
       "      <td>Friday</td>\n",
       "      <td>0</td>\n",
       "      <td>0</td>\n",
       "      <td>0</td>\n",
       "      <td>0</td>\n",
       "    </tr>\n",
       "    <tr>\n",
       "      <th>4</th>\n",
       "      <td>8.840000e+12</td>\n",
       "      <td>2016-04-29 16:07:23+00:00</td>\n",
       "      <td>2016-04-29 00:00:00+00:00</td>\n",
       "      <td>56</td>\n",
       "      <td>0</td>\n",
       "      <td>1</td>\n",
       "      <td>0</td>\n",
       "      <td>JARDIM DA PENHA</td>\n",
       "      <td>1</td>\n",
       "      <td>0</td>\n",
       "      <td>0</td>\n",
       "      <td>4</td>\n",
       "      <td>Friday</td>\n",
       "      <td>4</td>\n",
       "      <td>Friday</td>\n",
       "      <td>1</td>\n",
       "      <td>0</td>\n",
       "      <td>0</td>\n",
       "      <td>0</td>\n",
       "    </tr>\n",
       "  </tbody>\n",
       "</table>\n",
       "</div>"
      ],
      "text/plain": [
       "      PatientId              ScheduledDay            AppointmentDay  Age  \\\n",
       "0  2.990000e+13 2016-04-29 18:38:08+00:00 2016-04-29 00:00:00+00:00   62   \n",
       "1  5.590000e+14 2016-04-29 16:08:27+00:00 2016-04-29 00:00:00+00:00   56   \n",
       "2  4.260000e+12 2016-04-29 16:19:04+00:00 2016-04-29 00:00:00+00:00   62   \n",
       "3  8.680000e+11 2016-04-29 17:29:31+00:00 2016-04-29 00:00:00+00:00    8   \n",
       "4  8.840000e+12 2016-04-29 16:07:23+00:00 2016-04-29 00:00:00+00:00   56   \n",
       "\n",
       "   Scholarship  Diabetes  Alcoholism       Neighborhood  Hypertension  \\\n",
       "0            0         0           0    JARDIM DA PENHA             1   \n",
       "1            0         0           0    JARDIM DA PENHA             0   \n",
       "2            0         0           0      MATA DA PRAIA             0   \n",
       "3            0         0           0  PONTAL DE CAMBURI             0   \n",
       "4            0         1           0    JARDIM DA PENHA             1   \n",
       "\n",
       "   Reminder  show  sch_weekday_num sch_weekday_name  appt_weekday_num  \\\n",
       "0         0     0                4           Friday                 4   \n",
       "1         0     0                4           Friday                 4   \n",
       "2         0     0                4           Friday                 4   \n",
       "3         0     0                4           Friday                 4   \n",
       "4         0     0                4           Friday                 4   \n",
       "\n",
       "  appt_weekday_name  has_diabetes_and_hyper  day_diff  disability  is_male  \n",
       "0            Friday                       0         0           0        0  \n",
       "1            Friday                       0         0           0        1  \n",
       "2            Friday                       0         0           0        0  \n",
       "3            Friday                       0         0           0        0  \n",
       "4            Friday                       1         0           0        0  "
      ]
     },
     "execution_count": 74,
     "metadata": {},
     "output_type": "execute_result"
    }
   ],
   "source": [
    "df.head()"
   ]
  },
  {
   "cell_type": "markdown",
   "metadata": {},
   "source": [
    "## Model Prep"
   ]
  },
  {
   "cell_type": "code",
   "execution_count": 75,
   "metadata": {},
   "outputs": [],
   "source": [
    "X = df.drop(columns=[\"show\", 'sch_weekday_name', 'appt_weekday_name','Diabetes', 'Hypertension',\n",
    "                          'ScheduledDay', 'AppointmentDay','disability'])\n",
    "y = df[\"show\"]\n",
    "\n",
    "X_train, X_test, y_train, y_test = train_test_split(\n",
    "    X, y, test_size=0.2, random_state=42, stratify=y\n",
    ")"
   ]
  },
  {
   "cell_type": "code",
   "execution_count": 76,
   "metadata": {},
   "outputs": [],
   "source": [
    "# fmt: off\n",
    "preprocessing = ColumnTransformer([\n",
    "    ('leaveoneoutencoder', LeaveOneOutEncoder(), cat_cols),\n",
    "    ('scale', StandardScaler(), num_cols)\n",
    "], remainder='passthrough')\n",
    "# fmt: on"
   ]
  },
  {
   "cell_type": "code",
   "execution_count": 77,
   "metadata": {},
   "outputs": [],
   "source": [
    "# fmt: off\n",
    "pipeline = Pipeline([\n",
    "    ('preprocessing', preprocessing),\n",
    "    ('xgb', XGBClassifier(use_label_encoder=False))\n",
    "    #(\"model\", RandomForestClassifier())\n",
    "])\n",
    "# fmt: on"
   ]
  },
  {
   "cell_type": "code",
   "execution_count": 78,
   "metadata": {},
   "outputs": [
    {
     "name": "stdout",
     "output_type": "stream",
     "text": [
      "[12:09:22] WARNING: C:/Users/Administrator/workspace/xgboost-win64_release_1.3.0/src/learner.cc:1061: Starting in XGBoost 1.3.0, the default evaluation metric used with the objective 'binary:logistic' was changed from 'error' to 'logloss'. Explicitly set eval_metric if you'd like to restore the old behavior.\n",
      "Train score: 0.732037231816691\n",
      "Test score: 0.7311015607328659\n"
     ]
    }
   ],
   "source": [
    "pipeline.fit(X_train, y_train)\n",
    "\n",
    "train_score = pipeline.score(X_train, y_train)\n",
    "test_score = pipeline.score(X_test, y_test)\n",
    "\n",
    "print(f\"Train score: {train_score}\")\n",
    "print(f\"Test score: {test_score}\")"
   ]
  },
  {
   "cell_type": "code",
   "execution_count": 79,
   "metadata": {},
   "outputs": [
    {
     "data": {
      "text/html": [
       "<div>\n",
       "<style scoped>\n",
       "    .dataframe tbody tr th:only-of-type {\n",
       "        vertical-align: middle;\n",
       "    }\n",
       "\n",
       "    .dataframe tbody tr th {\n",
       "        vertical-align: top;\n",
       "    }\n",
       "\n",
       "    .dataframe thead th {\n",
       "        text-align: right;\n",
       "    }\n",
       "</style>\n",
       "<table border=\"1\" class=\"dataframe\">\n",
       "  <thead>\n",
       "    <tr style=\"text-align: right;\">\n",
       "      <th></th>\n",
       "      <th>pred_show</th>\n",
       "      <th>pred_No_show</th>\n",
       "    </tr>\n",
       "  </thead>\n",
       "  <tbody>\n",
       "    <tr>\n",
       "      <th>actual_show</th>\n",
       "      <td>15671</td>\n",
       "      <td>1971</td>\n",
       "    </tr>\n",
       "    <tr>\n",
       "      <th>actual_No_show</th>\n",
       "      <td>3973</td>\n",
       "      <td>490</td>\n",
       "    </tr>\n",
       "  </tbody>\n",
       "</table>\n",
       "</div>"
      ],
      "text/plain": [
       "                pred_show  pred_No_show\n",
       "actual_show         15671          1971\n",
       "actual_No_show       3973           490"
      ]
     },
     "metadata": {},
     "output_type": "display_data"
    },
    {
     "name": "stdout",
     "output_type": "stream",
     "text": [
      "              precision    recall  f1-score   support\n",
      "\n",
      "           0       0.80      0.89      0.84     17642\n",
      "           1       0.20      0.11      0.14      4463\n",
      "\n",
      "    accuracy                           0.73     22105\n",
      "   macro avg       0.50      0.50      0.49     22105\n",
      "weighted avg       0.68      0.73      0.70     22105\n",
      "\n"
     ]
    }
   ],
   "source": [
    "# pipline.predict only requires X, not y\n",
    "y_pred = pipeline.predict(X_test)\n",
    "\n",
    "confusion_mat = confusion_matrix(y_test, y_pred)\n",
    "confusion_df = pd.DataFrame(\n",
    "    confusion_mat,\n",
    "    index=[\"actual_show\", \"actual_No_show\"],\n",
    "    columns=[\"pred_show\", \"pred_No_show\"],\n",
    ")\n",
    "# print(confusion_df)\n",
    "display(confusion_df)\n",
    "\n",
    "print(classification_report(y_test, y_pred))"
   ]
  },
  {
   "cell_type": "code",
   "execution_count": 80,
   "metadata": {},
   "outputs": [
    {
     "data": {
      "text/plain": [
       "0.7980999773806831"
      ]
     },
     "execution_count": 80,
     "metadata": {},
     "output_type": "execute_result"
    }
   ],
   "source": [
    "# comparing to a dummy classifier\n",
    "dummy = DummyClassifier(strategy = 'most_frequent')\n",
    "dummy.fit(X_train, y_train)\n",
    "dummy.score(X_test, y_test)"
   ]
  },
  {
   "cell_type": "markdown",
   "metadata": {},
   "source": [
    "## Need to balance our data as below.  \n",
    "The train and test score mirror the 80/20 imbalanced target data of no_shows."
   ]
  },
  {
   "cell_type": "code",
   "execution_count": 81,
   "metadata": {},
   "outputs": [],
   "source": [
    "# Isolating the 2 classes predictors\n",
    "X_train_0 = X_train[y_train == 0]\n",
    "X_train_1 = X_train[y_train == 1]"
   ]
  },
  {
   "cell_type": "code",
   "execution_count": 82,
   "metadata": {},
   "outputs": [],
   "source": [
    "n_0 = X_train_0.shape[0]\n",
    "n_1 = X_train_1.shape[0]"
   ]
  },
  {
   "cell_type": "code",
   "execution_count": 83,
   "metadata": {},
   "outputs": [
    {
     "data": {
      "text/plain": [
       "70565"
      ]
     },
     "execution_count": 83,
     "metadata": {},
     "output_type": "execute_result"
    }
   ],
   "source": [
    "n_0"
   ]
  },
  {
   "cell_type": "code",
   "execution_count": 84,
   "metadata": {},
   "outputs": [
    {
     "data": {
      "text/plain": [
       "17854"
      ]
     },
     "execution_count": 84,
     "metadata": {},
     "output_type": "execute_result"
    }
   ],
   "source": [
    "n_1"
   ]
  },
  {
   "cell_type": "code",
   "execution_count": 85,
   "metadata": {},
   "outputs": [],
   "source": [
    "n = 20000"
   ]
  },
  {
   "cell_type": "code",
   "execution_count": 86,
   "metadata": {},
   "outputs": [],
   "source": [
    "# Sample majority class to have less observations\n",
    "X_train_0_sample = X_train_0.sample(n, replace=False, random_state=42)\n",
    "\n",
    "# Sample minority class to have more observations\n",
    "X_train_1_sample = X_train_1.sample(n, replace=True, random_state=42)"
   ]
  },
  {
   "cell_type": "code",
   "execution_count": 87,
   "metadata": {},
   "outputs": [],
   "source": [
    "# Re-combine data (using the downsampled X for majority class)\n",
    "X_train_resample = pd.concat((X_train_1_sample, X_train_0_sample))\n",
    "X_train_resample = X_train_resample.reset_index(drop=True)\n",
    "\n",
    "y_train_resample = np.array([1] * n + [0] * n)"
   ]
  },
  {
   "cell_type": "code",
   "execution_count": 88,
   "metadata": {},
   "outputs": [
    {
     "data": {
      "text/plain": [
       "(40000, 11)"
      ]
     },
     "execution_count": 88,
     "metadata": {},
     "output_type": "execute_result"
    }
   ],
   "source": [
    "X_train_resample.shape"
   ]
  },
  {
   "cell_type": "code",
   "execution_count": 89,
   "metadata": {},
   "outputs": [
    {
     "data": {
      "text/plain": [
       "0.5"
      ]
     },
     "execution_count": 89,
     "metadata": {},
     "output_type": "execute_result"
    }
   ],
   "source": [
    "y_train_resample.mean()"
   ]
  },
  {
   "cell_type": "code",
   "execution_count": 90,
   "metadata": {},
   "outputs": [],
   "source": [
    "params = {\n",
    "    \"xgb__colsample_bytree\": [0.01, 1 ],\n",
    "    \"xgb__max_depth\": [3],\n",
    "    \"xgb__subsample\": [0.01, 1],\n",
    "}\n",
    "\n",
    "n_trees = 200\n",
    "learning_rate = 2 / n_trees"
   ]
  },
  {
   "cell_type": "code",
   "execution_count": 91,
   "metadata": {
    "scrolled": true
   },
   "outputs": [
    {
     "name": "stdout",
     "output_type": "stream",
     "text": [
      "Fitting 2 folds for each of 4 candidates, totalling 8 fits\n",
      "[12:09:26] WARNING: C:/Users/Administrator/workspace/xgboost-win64_release_1.3.0/src/learner.cc:1061: Starting in XGBoost 1.3.0, the default evaluation metric used with the objective 'binary:logistic' was changed from 'error' to 'logloss'. Explicitly set eval_metric if you'd like to restore the old behavior.\n"
     ]
    },
    {
     "name": "stderr",
     "output_type": "stream",
     "text": [
      "[Parallel(n_jobs=1)]: Using backend SequentialBackend with 1 concurrent workers.\n"
     ]
    },
    {
     "name": "stdout",
     "output_type": "stream",
     "text": [
      "[12:09:27] WARNING: C:/Users/Administrator/workspace/xgboost-win64_release_1.3.0/src/learner.cc:1061: Starting in XGBoost 1.3.0, the default evaluation metric used with the objective 'binary:logistic' was changed from 'error' to 'logloss'. Explicitly set eval_metric if you'd like to restore the old behavior.\n",
      "[12:09:27] WARNING: C:/Users/Administrator/workspace/xgboost-win64_release_1.3.0/src/learner.cc:1061: Starting in XGBoost 1.3.0, the default evaluation metric used with the objective 'binary:logistic' was changed from 'error' to 'logloss'. Explicitly set eval_metric if you'd like to restore the old behavior.\n",
      "[12:09:28] WARNING: C:/Users/Administrator/workspace/xgboost-win64_release_1.3.0/src/learner.cc:1061: Starting in XGBoost 1.3.0, the default evaluation metric used with the objective 'binary:logistic' was changed from 'error' to 'logloss'. Explicitly set eval_metric if you'd like to restore the old behavior.\n",
      "[12:09:28] WARNING: C:/Users/Administrator/workspace/xgboost-win64_release_1.3.0/src/learner.cc:1061: Starting in XGBoost 1.3.0, the default evaluation metric used with the objective 'binary:logistic' was changed from 'error' to 'logloss'. Explicitly set eval_metric if you'd like to restore the old behavior.\n",
      "[12:09:29] WARNING: C:/Users/Administrator/workspace/xgboost-win64_release_1.3.0/src/learner.cc:1061: Starting in XGBoost 1.3.0, the default evaluation metric used with the objective 'binary:logistic' was changed from 'error' to 'logloss'. Explicitly set eval_metric if you'd like to restore the old behavior.\n",
      "[12:09:29] WARNING: C:/Users/Administrator/workspace/xgboost-win64_release_1.3.0/src/learner.cc:1061: Starting in XGBoost 1.3.0, the default evaluation metric used with the objective 'binary:logistic' was changed from 'error' to 'logloss'. Explicitly set eval_metric if you'd like to restore the old behavior.\n",
      "[12:09:30] WARNING: C:/Users/Administrator/workspace/xgboost-win64_release_1.3.0/src/learner.cc:1061: Starting in XGBoost 1.3.0, the default evaluation metric used with the objective 'binary:logistic' was changed from 'error' to 'logloss'. Explicitly set eval_metric if you'd like to restore the old behavior.\n"
     ]
    },
    {
     "name": "stderr",
     "output_type": "stream",
     "text": [
      "[Parallel(n_jobs=1)]: Done   8 out of   8 | elapsed:    3.8s finished\n"
     ]
    },
    {
     "name": "stdout",
     "output_type": "stream",
     "text": [
      "[12:09:30] WARNING: C:/Users/Administrator/workspace/xgboost-win64_release_1.3.0/src/learner.cc:1061: Starting in XGBoost 1.3.0, the default evaluation metric used with the objective 'binary:logistic' was changed from 'error' to 'logloss'. Explicitly set eval_metric if you'd like to restore the old behavior.\n"
     ]
    },
    {
     "data": {
      "text/plain": [
       "{'xgb__colsample_bytree': 0.01, 'xgb__max_depth': 3, 'xgb__subsample': 1}"
      ]
     },
     "execution_count": 91,
     "metadata": {},
     "output_type": "execute_result"
    }
   ],
   "source": [
    "xgb_pipeline_cv = GridSearchCV(pipeline, params, verbose=1, cv=2)\n",
    "xgb_pipeline_cv.fit(X_train_resample, y_train_resample)\n",
    "\n",
    "xgb_pipeline_cv.best_params_"
   ]
  },
  {
   "cell_type": "code",
   "execution_count": 92,
   "metadata": {},
   "outputs": [],
   "source": [
    "#{'xgb__colsample_bytree': 0.5, 'xgb__max_depth': 3, 'xgb__subsample': 0.001} 59 60 acc=60 f1=71 37 pr=85 27 61 57\n",
    "\n",
    "#{'xgb__colsample_bytree': 0.5, 'xgb__max_depth': 4, 'xgb__subsample': 0.001} accuracy .60\n",
    "\n",
    "#{'xgb__colsample_bytree': 0.1, 'xgb__max_depth': 3, 'xgb__subsample': 1}  68 60 acc=61 f1=69 45 pr=91 31 56 79\n",
    "\n",
    "#{'xgb__colsample_bytree': 0.1, 'xgb__max_depth': 4, 'xgb__subsample': 1}  61 61 acc=61 f1=86 29 61 62\n",
    "\n",
    "#{'xgb__colsample_bytree': 0.5, 'xgb__max_depth': 4, 'xgb__subsample': 1}  70 61 acc=61 f1=70 45 pr=91 31 57 78\n",
    "\n",
    "#{'xgb__colsample_bytree': 1, 'xgb__max_depth': 5, 'xgb__subsample': 1} 74 61 acc=62 f1=71 44 pr=91 31 59 75\n",
    "\n",
    "#{'xgb__colsample_bytree': 1, 'xgb__max_depth': 3, 'xgb__subsample': 1} 68 60 acc=61 f1=69 45 pr= 91 31 56 79\n",
    "\n",
    "#{'xgb__colsample_bytree': 1, 'xgb__max_depth': 4, 'xgb__subsample': 1} 71 65 acc=62 f1= 71 44 pr= 91 31 58 76"
   ]
  },
  {
   "cell_type": "code",
   "execution_count": 93,
   "metadata": {},
   "outputs": [
    {
     "name": "stdout",
     "output_type": "stream",
     "text": [
      "Train score: 0.63915\n",
      "Test score: 0.6178240217145442\n",
      "\n"
     ]
    },
    {
     "data": {
      "text/html": [
       "<div>\n",
       "<style scoped>\n",
       "    .dataframe tbody tr th:only-of-type {\n",
       "        vertical-align: middle;\n",
       "    }\n",
       "\n",
       "    .dataframe tbody tr th {\n",
       "        vertical-align: top;\n",
       "    }\n",
       "\n",
       "    .dataframe thead th {\n",
       "        text-align: right;\n",
       "    }\n",
       "</style>\n",
       "<table border=\"1\" class=\"dataframe\">\n",
       "  <thead>\n",
       "    <tr style=\"text-align: right;\">\n",
       "      <th></th>\n",
       "      <th>pred_show</th>\n",
       "      <th>pred_No_show</th>\n",
       "    </tr>\n",
       "  </thead>\n",
       "  <tbody>\n",
       "    <tr>\n",
       "      <th>actual_show</th>\n",
       "      <td>10676</td>\n",
       "      <td>6966</td>\n",
       "    </tr>\n",
       "    <tr>\n",
       "      <th>actual_No_show</th>\n",
       "      <td>1482</td>\n",
       "      <td>2981</td>\n",
       "    </tr>\n",
       "  </tbody>\n",
       "</table>\n",
       "</div>"
      ],
      "text/plain": [
       "                pred_show  pred_No_show\n",
       "actual_show         10676          6966\n",
       "actual_No_show       1482          2981"
      ]
     },
     "metadata": {},
     "output_type": "display_data"
    },
    {
     "name": "stdout",
     "output_type": "stream",
     "text": [
      "              precision    recall  f1-score   support\n",
      "\n",
      "           0       0.88      0.61      0.72     17642\n",
      "           1       0.30      0.67      0.41      4463\n",
      "\n",
      "    accuracy                           0.62     22105\n",
      "   macro avg       0.59      0.64      0.57     22105\n",
      "weighted avg       0.76      0.62      0.66     22105\n",
      "\n"
     ]
    }
   ],
   "source": [
    "train_score = xgb_pipeline_cv.score(X_train_resample, y_train_resample)\n",
    "test_score = xgb_pipeline_cv.score(X_test, y_test)\n",
    "\n",
    "print(f\"Train score: {train_score}\")\n",
    "print(f\"Test score: {test_score}\\n\")\n",
    "\n",
    "y_pred = xgb_pipeline_cv.predict(X_test)\n",
    "\n",
    "confusion_mat = confusion_matrix(y_test, y_pred)\n",
    "confusion_df = pd.DataFrame(\n",
    "    confusion_mat,\n",
    "    index=[\"actual_show\", \"actual_No_show\"],\n",
    "    columns=[\"pred_show\", \"pred_No_show\"],\n",
    ")\n",
    "display(confusion_df)\n",
    "\n",
    "print(classification_report(y_test, y_pred))"
   ]
  },
  {
   "cell_type": "code",
   "execution_count": 94,
   "metadata": {
    "scrolled": true
   },
   "outputs": [
    {
     "data": {
      "text/plain": [
       "array([4.3195218e-01, 3.9553834e-04, 9.4151334e-04, 4.5827511e-03,\n",
       "       2.0326747e-02, 3.2950702e-01, 1.0600829e-02, 2.3033735e-03,\n",
       "       1.9154941e-01, 6.9740340e-03, 8.6666370e-04], dtype=float32)"
      ]
     },
     "execution_count": 94,
     "metadata": {},
     "output_type": "execute_result"
    }
   ],
   "source": [
    "xgb_pipeline_cv.best_estimator_['xgb'].feature_importances_"
   ]
  },
  {
   "cell_type": "code",
   "execution_count": 95,
   "metadata": {},
   "outputs": [
    {
     "data": {
      "text/html": [
       "<div>\n",
       "<style scoped>\n",
       "    .dataframe tbody tr th:only-of-type {\n",
       "        vertical-align: middle;\n",
       "    }\n",
       "\n",
       "    .dataframe tbody tr th {\n",
       "        vertical-align: top;\n",
       "    }\n",
       "\n",
       "    .dataframe thead th {\n",
       "        text-align: right;\n",
       "    }\n",
       "</style>\n",
       "<table border=\"1\" class=\"dataframe\">\n",
       "  <thead>\n",
       "    <tr style=\"text-align: right;\">\n",
       "      <th></th>\n",
       "      <th>feat</th>\n",
       "      <th>importance</th>\n",
       "    </tr>\n",
       "  </thead>\n",
       "  <tbody>\n",
       "    <tr>\n",
       "      <th>0</th>\n",
       "      <td>PatientId</td>\n",
       "      <td>0.431952</td>\n",
       "    </tr>\n",
       "    <tr>\n",
       "      <th>5</th>\n",
       "      <td>Reminder</td>\n",
       "      <td>0.329507</td>\n",
       "    </tr>\n",
       "    <tr>\n",
       "      <th>8</th>\n",
       "      <td>has_diabetes_and_hyper</td>\n",
       "      <td>0.191549</td>\n",
       "    </tr>\n",
       "    <tr>\n",
       "      <th>4</th>\n",
       "      <td>Neighborhood</td>\n",
       "      <td>0.020327</td>\n",
       "    </tr>\n",
       "    <tr>\n",
       "      <th>6</th>\n",
       "      <td>sch_weekday_num</td>\n",
       "      <td>0.010601</td>\n",
       "    </tr>\n",
       "    <tr>\n",
       "      <th>9</th>\n",
       "      <td>day_diff</td>\n",
       "      <td>0.006974</td>\n",
       "    </tr>\n",
       "    <tr>\n",
       "      <th>3</th>\n",
       "      <td>Alcoholism</td>\n",
       "      <td>0.004583</td>\n",
       "    </tr>\n",
       "    <tr>\n",
       "      <th>7</th>\n",
       "      <td>appt_weekday_num</td>\n",
       "      <td>0.002303</td>\n",
       "    </tr>\n",
       "    <tr>\n",
       "      <th>2</th>\n",
       "      <td>Scholarship</td>\n",
       "      <td>0.000942</td>\n",
       "    </tr>\n",
       "    <tr>\n",
       "      <th>10</th>\n",
       "      <td>is_male</td>\n",
       "      <td>0.000867</td>\n",
       "    </tr>\n",
       "    <tr>\n",
       "      <th>1</th>\n",
       "      <td>Age</td>\n",
       "      <td>0.000396</td>\n",
       "    </tr>\n",
       "  </tbody>\n",
       "</table>\n",
       "</div>"
      ],
      "text/plain": [
       "                      feat  importance\n",
       "0                PatientId    0.431952\n",
       "5                 Reminder    0.329507\n",
       "8   has_diabetes_and_hyper    0.191549\n",
       "4             Neighborhood    0.020327\n",
       "6          sch_weekday_num    0.010601\n",
       "9                 day_diff    0.006974\n",
       "3               Alcoholism    0.004583\n",
       "7         appt_weekday_num    0.002303\n",
       "2              Scholarship    0.000942\n",
       "10                 is_male    0.000867\n",
       "1                      Age    0.000396"
      ]
     },
     "execution_count": 95,
     "metadata": {},
     "output_type": "execute_result"
    }
   ],
   "source": [
    "importance_df = pd.DataFrame(\n",
    "    {\"feat\": X_train.columns, \"importance\": xgb_pipeline_cv.best_estimator_['xgb'].feature_importances_}\n",
    ")\n",
    "importance_df.sort_values(\"importance\", ascending=False)"
   ]
  },
  {
   "cell_type": "markdown",
   "metadata": {},
   "source": [
    "Using different hyperparams, the feature importances keep changing. It looks like Age and Reminder are most important features. Day of the week the appoint was scheduled as well as the appointment itself are also important in the model. \n",
    "\n",
    "Using hyperparams, {'xgb__colsample_bytree': 0.1, 'xgb__max_depth': 4, 'xgb__subsample': 1}, best features were PatientId, has diabetes and hypertension, reminder, hood, scheduled day, day difference, alcoholism, appt day, sex, scholarship then age. Here age is least important. "
   ]
  },
  {
   "cell_type": "code",
   "execution_count": 96,
   "metadata": {},
   "outputs": [],
   "source": [
    "#best_model = pipeline_cv.best_estimator_\n",
    "#with open(\"saved_model.pkl\", \"wb\") as f:\n",
    "#    pickle.dump(best_model, f)"
   ]
  },
  {
   "cell_type": "code",
   "execution_count": 97,
   "metadata": {},
   "outputs": [
    {
     "name": "stdout",
     "output_type": "stream",
     "text": [
      "mean prob of patient no show for errors: 0.17542613636363635\n"
     ]
    }
   ],
   "source": [
    "xgb_errors = df.copy()\n",
    "xgb_errors = xgb_errors.loc[y_test.index, :]\n",
    "\n",
    "xgb_errors[\"y_true\"] = y_test\n",
    "xgb_errors[\"y_pred\"] = y_pred\n",
    "\n",
    "xgb_errors = xgb_errors[xgb_errors[\"y_true\"] != xgb_errors[\"y_pred\"]]\n",
    "\n",
    "print(f'mean prob of patient no show for errors: {xgb_errors[\"show\"].mean()}')\n"
   ]
  },
  {
   "cell_type": "markdown",
   "metadata": {},
   "source": [
    "Some ways to improve model:\n",
    "* Creating new features\n",
    "* Applying more overfitting-prevention strategies like subsampling\n",
    "* Making more iterations\n",
    "* Trying a different loss function\n",
    "* Changing the structure of the weak learner by allowing more leaves in the tree or using other modifications"
   ]
  },
  {
   "cell_type": "markdown",
   "metadata": {},
   "source": [
    "## Trying a Random Forest Classifier"
   ]
  },
  {
   "cell_type": "code",
   "execution_count": 98,
   "metadata": {},
   "outputs": [],
   "source": [
    "# fmt: off\n",
    "pipeline = Pipeline([\n",
    "    ('preprocessing', preprocessing),\n",
    "    (\"rfc\", RandomForestClassifier()),\n",
    "])\n",
    "# fmt: on\n",
    "\n",
    "grid = {\n",
    "    \"rfc__n_estimators\": [900],\n",
    "    \"rfc__max_depth\": [2],\n",
    "    \"rfc__min_samples_leaf\": [10],\n",
    "}\n",
    "learning_rate = 2 / n_trees"
   ]
  },
  {
   "cell_type": "code",
   "execution_count": 99,
   "metadata": {},
   "outputs": [
    {
     "name": "stdout",
     "output_type": "stream",
     "text": [
      "Fitting 2 folds for each of 1 candidates, totalling 2 fits\n"
     ]
    },
    {
     "name": "stderr",
     "output_type": "stream",
     "text": [
      "[Parallel(n_jobs=1)]: Using backend SequentialBackend with 1 concurrent workers.\n",
      "[Parallel(n_jobs=1)]: Done   2 out of   2 | elapsed:   11.6s finished\n"
     ]
    },
    {
     "data": {
      "text/plain": [
       "{'rfc__max_depth': 2, 'rfc__min_samples_leaf': 10, 'rfc__n_estimators': 900}"
      ]
     },
     "execution_count": 99,
     "metadata": {},
     "output_type": "execute_result"
    }
   ],
   "source": [
    "rfc_pipeline_cv = GridSearchCV(pipeline, grid, verbose=1, cv=2)\n",
    "rfc_pipeline_cv.fit(X_train_resample, y_train_resample)\n",
    "\n",
    "rfc_pipeline_cv.best_params_"
   ]
  },
  {
   "cell_type": "code",
   "execution_count": 100,
   "metadata": {},
   "outputs": [],
   "source": [
    "#{'rfc__max_depth': 5, 'rfc__min_samples_leaf': 75, 'rfc__n_estimators': 25}  66 55  acc 55 f1 63 44\n",
    "\n",
    "#'rfc__max_depth': 7, 'rfc__min_samples_leaf': 10, 'rfc__n_estimators': 75} .67 .54 acc=.57 f1=66 and 44\n",
    "\n",
    "#{'rfc__max_depth': 5, 'rfc__min_samples_leaf': 5, 'rfc__n_estimators': 75}  .66 .56 acc=56 f1=64 44\n",
    "\n",
    "#{'rfc__max_depth': 4, 'rfc__min_samples_leaf': 7, 'rfc__n_estimators': 100}  66 54  acc=55 f1= 62 44\n",
    "\n",
    "#{'rfc__max_depth': 3, 'rfc__min_samples_leaf': 7, 'rfc__n_estimators': 100}  66 54  acc=55 f1= 62 44\n",
    "\n",
    "#{'rfc__max_depth': 3, 'rfc__min_samples_leaf': 10, 'rfc__n_estimators': 120}  66 54  acc=54 f1= 62 44  prec=94 29 46 88\n",
    "\n",
    "# n_estimators: The more trees, the less likely the algorithm is to overfit. ...\n",
    "# max_features: You should try reducing this number. ...\n",
    "# max_depth: This parameter will reduce the complexity of the learned models, lowering over fitting risk.\n",
    "# min_samples_leaf: Try setting these values greater than one."
   ]
  },
  {
   "cell_type": "code",
   "execution_count": 101,
   "metadata": {},
   "outputs": [
    {
     "name": "stdout",
     "output_type": "stream",
     "text": [
      "Train score: 0.663725\n",
      "Test score: 0.5425469350825605\n",
      "\n"
     ]
    },
    {
     "data": {
      "text/html": [
       "<div>\n",
       "<style scoped>\n",
       "    .dataframe tbody tr th:only-of-type {\n",
       "        vertical-align: middle;\n",
       "    }\n",
       "\n",
       "    .dataframe tbody tr th {\n",
       "        vertical-align: top;\n",
       "    }\n",
       "\n",
       "    .dataframe thead th {\n",
       "        text-align: right;\n",
       "    }\n",
       "</style>\n",
       "<table border=\"1\" class=\"dataframe\">\n",
       "  <thead>\n",
       "    <tr style=\"text-align: right;\">\n",
       "      <th></th>\n",
       "      <th>pred_show</th>\n",
       "      <th>pred_no_show</th>\n",
       "    </tr>\n",
       "  </thead>\n",
       "  <tbody>\n",
       "    <tr>\n",
       "      <th>actual_show</th>\n",
       "      <td>8058</td>\n",
       "      <td>9584</td>\n",
       "    </tr>\n",
       "    <tr>\n",
       "      <th>actual_no_show</th>\n",
       "      <td>528</td>\n",
       "      <td>3935</td>\n",
       "    </tr>\n",
       "  </tbody>\n",
       "</table>\n",
       "</div>"
      ],
      "text/plain": [
       "                pred_show  pred_no_show\n",
       "actual_show          8058          9584\n",
       "actual_no_show        528          3935"
      ]
     },
     "metadata": {},
     "output_type": "display_data"
    },
    {
     "name": "stdout",
     "output_type": "stream",
     "text": [
      "              precision    recall  f1-score   support\n",
      "\n",
      "           0       0.94      0.46      0.61     17642\n",
      "           1       0.29      0.88      0.44      4463\n",
      "\n",
      "    accuracy                           0.54     22105\n",
      "   macro avg       0.61      0.67      0.53     22105\n",
      "weighted avg       0.81      0.54      0.58     22105\n",
      "\n"
     ]
    }
   ],
   "source": [
    "train_score = rfc_pipeline_cv.score(X_train_resample, y_train_resample)\n",
    "test_score = rfc_pipeline_cv.score(X_test, y_test)\n",
    "\n",
    "print(f\"Train score: {train_score}\")\n",
    "print(f\"Test score: {test_score}\\n\")\n",
    "\n",
    "y_pred = rfc_pipeline_cv.predict(X_test)\n",
    "\n",
    "confusion_mat = confusion_matrix(y_test, y_pred)\n",
    "confusion_df = pd.DataFrame(\n",
    "    confusion_mat,\n",
    "    index=[\"actual_show\", \"actual_no_show\"],\n",
    "    columns=[\"pred_show\", \"pred_no_show\"],\n",
    ")\n",
    "display(confusion_df)\n",
    "\n",
    "print(classification_report(y_test, y_pred))"
   ]
  },
  {
   "cell_type": "markdown",
   "metadata": {},
   "source": [
    "## Trying a SVC"
   ]
  },
  {
   "cell_type": "code",
   "execution_count": 102,
   "metadata": {},
   "outputs": [],
   "source": [
    "# fmt: off\n",
    "pipeline = Pipeline([\n",
    "    (\"preprocessing\", preprocessing), \n",
    "    (\"svc\", SVC())\n",
    "])\n",
    "# fmt: on\n",
    "\n",
    "grid = {\n",
    "    \"svc__kernel\": [\"poly\"],\n",
    "    \"svc__degree\": [5],\n",
    "    \"svc__C\": [95],\n",
    "}\n",
    "\n",
    "svc_pipeline_cv = GridSearchCV(pipeline, grid, cv=2, n_jobs=-1)"
   ]
  },
  {
   "cell_type": "code",
   "execution_count": null,
   "metadata": {},
   "outputs": [],
   "source": [
    "svc_pipeline_cv.fit(X_train_resample, y_train_resample)\n",
    "\n",
    "print(\"Best params:\")\n",
    "print(svc_pipeline_cv.best_params_)\n",
    "\n",
    "print(f\"\\ntrain score: {svc_pipeline_cv.score(X_train_resample, y_train_resample):.3f}\")\n",
    "print(f\"test score: {svc_pipeline_cv.score(X_test, y_test):.3f}\\n\")\n",
    "\n",
    "y_pred = svc_pipeline_cv.predict(X_test)\n",
    "\n",
    "confusion_mat = confusion_matrix(y_test, y_pred)\n",
    "confusion_df = pd.DataFrame(\n",
    "    confusion_mat,\n",
    "    index=[\"actual_show\", \"actual_no_show\"],\n",
    "    columns=[\"pred_show\", \"pred_no_show\"],\n",
    ")\n",
    "display(confusion_df)\n",
    "\n",
    "print(classification_report(y_test, y_pred))"
   ]
  },
  {
   "cell_type": "code",
   "execution_count": null,
   "metadata": {},
   "outputs": [],
   "source": [
    "#{'svc__C': 1.0, 'svc__degree': 2, 'svc__kernel': 'rbf'} .66 57 acc=.58 f1=66 43 pr=91 30 52 80\n",
    "\n",
    "#{'svc__C': 1.5, 'svc__degree': 2, 'svc__kernel': 'rbf'} 66 57 acc=58 f1=66 44 pr=91 30 52 80\n",
    "\n",
    "#{'svc__C': 2.5, 'svc__degree': 2, 'svc__kernel': 'rbf'} 66 57 acc=58 f1=66 44 pr=92 30 52 81\n",
    "\n",
    "#{'svc__C': 10 and 20, 'svc__degree': 2, 'svc__kernel': 'rbf'} 67 58 acc=58 f1=66 44 pr=92 30 52 82\n",
    "\n",
    "#{'svc__C': 40, 'svc__degree': 2, 'svc__kernel': 'rbf'} 68 58 acc=58 f1-67 44 pr=92 30 53 81\n",
    "\n",
    "#{'svc__C': 40, 'svc__degree': 3, 'svc__kernel': 'rbf'} 68 58 acc=58 f1=67 44 pr=92 30 53 81\n",
    "\n",
    "#{'svc__C': 80, 'svc__degree': 3, 'svc__kernel': 'poly'} 65 62 acc=62 f1= 72 43 pr=89 31 60 70\n",
    "\n",
    "#{'svc__C': 95, 'svc__degree': 4, 'svc__kernel': 'poly'} 66 61 acc=61 f1= 71 43 pr=89 31 59 72"
   ]
  },
  {
   "cell_type": "code",
   "execution_count": null,
   "metadata": {},
   "outputs": [],
   "source": [
    "#This function gets the best threshold for maximizing F1 score for binary predictions by\n",
    "# iterating through possible threshold values to find the one that gives the best F1 score.\n",
    "\n",
    "def bestThresshold(y_true,y_pred):\n",
    "    best_thresh = None\n",
    "    best_score = 0\n",
    "    for thresh in np.arange(0.1, 0.501, 0.01):\n",
    "        score = f1_score(y_true, np.array(y_pred)>thresh)\n",
    "        if score > best_score:\n",
    "            best_thresh = thresh\n",
    "            best_score = score\n",
    "    return best_score , best_thresh\n"
   ]
  },
  {
   "cell_type": "markdown",
   "metadata": {},
   "source": [
    "We can see that when a patient has a 43% probability of not showing up, we'll consider them a no show using this model. "
   ]
  },
  {
   "cell_type": "code",
   "execution_count": null,
   "metadata": {},
   "outputs": [],
   "source": [
    "bestThresshold(y_test,y_pred)"
   ]
  },
  {
   "cell_type": "code",
   "execution_count": null,
   "metadata": {},
   "outputs": [],
   "source": [
    "#y_pred = pipeline_cv.predict(X_test)\n",
    "precision_score(y_test,y_pred)"
   ]
  },
  {
   "cell_type": "code",
   "execution_count": null,
   "metadata": {},
   "outputs": [],
   "source": [
    "recall_score(y_test,y_pred)"
   ]
  },
  {
   "cell_type": "markdown",
   "metadata": {},
   "source": [
    "## Trying a kNN model"
   ]
  },
  {
   "cell_type": "code",
   "execution_count": null,
   "metadata": {},
   "outputs": [],
   "source": [
    "# fmt: off\n",
    "pipeline = Pipeline([\n",
    "    ('preprocessing', preprocessing),\n",
    "    (\"knn\", KNeighborsClassifier()),\n",
    "])\n",
    "# fmt: on\n",
    "\n",
    "grid = {\n",
    "    \"knn__n_neighbors\": [5, 10],\n",
    "}"
   ]
  },
  {
   "cell_type": "code",
   "execution_count": null,
   "metadata": {},
   "outputs": [],
   "source": [
    "knn_pipeline_cv = GridSearchCV(pipeline, grid, verbose=1, cv=2)\n",
    "knn_pipeline_cv.fit(X_train_resample, y_train_resample)\n",
    "\n",
    "print(\"Best params:\")\n",
    "print(knn_pipeline_cv.best_params_)"
   ]
  },
  {
   "cell_type": "code",
   "execution_count": null,
   "metadata": {},
   "outputs": [],
   "source": [
    "print(f\"Train score: {train_score}\")\n",
    "print(f\"Test score: {test_score}\\n\")\n",
    "\n",
    "y_pred = knn_pipeline_cv.predict(X_test)\n",
    "\n",
    "confusion_mat = confusion_matrix(y_test, y_pred)\n",
    "confusion_df = pd.DataFrame(\n",
    "    confusion_mat,\n",
    "    index=[\"actual_show\", \"actual_no_show\"],\n",
    "    columns=[\"pred_show\", \"pred_no_show\"],\n",
    ")\n",
    "display(confusion_df)\n",
    "\n",
    "print(classification_report(y_test, y_pred))"
   ]
  },
  {
   "cell_type": "markdown",
   "metadata": {},
   "source": [
    "## Trying Logistic Regression"
   ]
  },
  {
   "cell_type": "code",
   "execution_count": null,
   "metadata": {},
   "outputs": [],
   "source": [
    "df.columns"
   ]
  },
  {
   "cell_type": "code",
   "execution_count": null,
   "metadata": {},
   "outputs": [],
   "source": [
    "X.columns"
   ]
  },
  {
   "cell_type": "code",
   "execution_count": null,
   "metadata": {},
   "outputs": [],
   "source": [
    "# creating columns for preprocessing\n",
    "\n",
    "drop_cats = ['JARDIM CAMBURI', 2]\n",
    "\n",
    "cat_cols = ['Neighborhood', 'appt_weekday_num']\n",
    "\n",
    "bin_cols = ['Scholarship', 'Reminder', 'has_diabetes_and_hyper']\n",
    "\n",
    "num_cols = ['PatientId', 'Age', 'day_diff']"
   ]
  },
  {
   "cell_type": "code",
   "execution_count": null,
   "metadata": {},
   "outputs": [],
   "source": [
    "# dropping Alcoholism, sch_weekday_num and Sex variables based on XGB feature importances\n",
    "\n",
    "X = df.drop(columns=[\"show\", 'sch_weekday_name', 'appt_weekday_name','Diabetes', 'Hypertension',\n",
    "                          'ScheduledDay', 'AppointmentDay','disability', 'is_male', 'Alcoholism', 'sch_weekday_num'])\n",
    "y = df[\"show\"]\n",
    "\n",
    "X_train, X_test, y_train, y_test = train_test_split(\n",
    "    X, y, test_size=0.2, random_state=42, stratify=y\n",
    ")"
   ]
  },
  {
   "cell_type": "code",
   "execution_count": null,
   "metadata": {},
   "outputs": [],
   "source": [
    "# Isolating the 2 classes predictors\n",
    "X_train_0 = X_train[y_train == 0]\n",
    "X_train_1 = X_train[y_train == 1]"
   ]
  },
  {
   "cell_type": "code",
   "execution_count": null,
   "metadata": {},
   "outputs": [],
   "source": [
    "n_0 = X_train_0.shape[0]\n",
    "n_1 = X_train_1.shape[0]"
   ]
  },
  {
   "cell_type": "code",
   "execution_count": null,
   "metadata": {},
   "outputs": [],
   "source": [
    "n_0"
   ]
  },
  {
   "cell_type": "code",
   "execution_count": null,
   "metadata": {},
   "outputs": [],
   "source": [
    "n_1"
   ]
  },
  {
   "cell_type": "code",
   "execution_count": null,
   "metadata": {},
   "outputs": [],
   "source": [
    "n = 20000"
   ]
  },
  {
   "cell_type": "code",
   "execution_count": null,
   "metadata": {},
   "outputs": [],
   "source": [
    "# Sample majority class to have less observations\n",
    "X_train_0_sample = X_train_0.sample(n, replace=False, random_state=42)\n",
    "\n",
    "# Sample minority class to have more observations\n",
    "X_train_1_sample = X_train_1.sample(n, replace=True, random_state=42)"
   ]
  },
  {
   "cell_type": "code",
   "execution_count": null,
   "metadata": {},
   "outputs": [],
   "source": [
    "# Re-combine data (using the downsampled X for majority class)\n",
    "X_train_resample = pd.concat((X_train_1_sample, X_train_0_sample))\n",
    "X_train_resample = X_train_resample.reset_index(drop=True)\n",
    "\n",
    "y_train_resample = np.array([1] * n + [0] * n)"
   ]
  },
  {
   "cell_type": "code",
   "execution_count": null,
   "metadata": {},
   "outputs": [],
   "source": [
    "X_train_resample.shape"
   ]
  },
  {
   "cell_type": "code",
   "execution_count": null,
   "metadata": {},
   "outputs": [],
   "source": [
    "y_train_resample.mean()"
   ]
  },
  {
   "cell_type": "code",
   "execution_count": null,
   "metadata": {},
   "outputs": [],
   "source": [
    "# fmt: off\n",
    "preprocessing = ColumnTransformer([\n",
    "    ('leaveoneoutencoder', LeaveOneOutEncoder(), cat_cols),\n",
    "    ('scale', StandardScaler(), num_cols)\n",
    "], remainder='passthrough')\n",
    "# fmt: on"
   ]
  },
  {
   "cell_type": "code",
   "execution_count": null,
   "metadata": {},
   "outputs": [],
   "source": [
    "# fmt: off\n",
    "pipeline = Pipeline([\n",
    "    (\"preprocessing\", preprocessing), \n",
    "    (\"en\", SGDClassifier())\n",
    "])\n",
    "# fmt: on\n",
    "\n",
    "grid = {\n",
    "    \"en__max_iter\": [800, 1000],\n",
    "    \"en__tol\": [1e-3],\n",
    "}"
   ]
  },
  {
   "cell_type": "code",
   "execution_count": null,
   "metadata": {},
   "outputs": [],
   "source": [
    "en_pipeline_cv = GridSearchCV(pipeline, grid, cv=2, n_jobs=-1)\n",
    "en_pipeline_cv.fit(X_train_resample, y_train_resample)\n",
    "\n",
    "print(\"Best params:\")\n",
    "print(en_pipeline_cv.best_params_)"
   ]
  },
  {
   "cell_type": "code",
   "execution_count": null,
   "metadata": {},
   "outputs": [],
   "source": [
    "print(f\"Train score: {train_score}\")\n",
    "print(f\"Test score: {test_score}\\n\")\n",
    "\n",
    "y_pred = en_pipeline_cv.predict(X_test)\n",
    "\n",
    "confusion_mat = confusion_matrix(y_test, y_pred)\n",
    "confusion_df = pd.DataFrame(\n",
    "    confusion_mat,\n",
    "    index=[\"actual_show\", \"actual_no_show\"],\n",
    "    columns=[\"pred_show\", \"pred_no_show\"],\n",
    ")\n",
    "display(confusion_df)\n",
    "\n",
    "print(classification_report(y_test, y_pred))"
   ]
  },
  {
   "cell_type": "code",
   "execution_count": null,
   "metadata": {},
   "outputs": [],
   "source": [
    "bestThresshold(y_test,y_pred)"
   ]
  },
  {
   "cell_type": "code",
   "execution_count": null,
   "metadata": {},
   "outputs": [],
   "source": [
    "# instantiate an encoder\n",
    "#from sklearn.preprocessing import LabelEncoder\n",
    "#\n",
    "#label_encoder = LabelEncoder()\n",
    "#df['Neighborhood'] = label_encoder.fit_transform(df['Neighborhood'])"
   ]
  },
  {
   "cell_type": "code",
   "execution_count": null,
   "metadata": {},
   "outputs": [],
   "source": [
    "#X = df.drop(columns=[\"show\", 'sch_weekday_name', 'appt_weekday_name','Diabetes', 'Hypertension',\n",
    "#                          'ScheduledDay', 'AppointmentDay','disability'])\n",
    "#y = df[\"show\"]\n",
    "#\n",
    "#X_train, X_test, y_train, y_test = train_test_split(\n",
    "#    X, y, test_size=0.2, random_state=42, stratify=y\n",
    "#)"
   ]
  },
  {
   "cell_type": "code",
   "execution_count": null,
   "metadata": {},
   "outputs": [],
   "source": [
    "#lr = LogisticRegression(solver='saga', penalty='elasticnet',random_state=4, 0 <= l1_ratio <= 1)\n",
    "#lr.fit(X, y)\n",
    "#\n",
    "#train_score = lr.score(X, y)\n",
    "#test_score = lr.score(X_test, y_test)"
   ]
  },
  {
   "cell_type": "code",
   "execution_count": null,
   "metadata": {},
   "outputs": [],
   "source": [
    "#print(f\"Train score: {train_score}\")\n",
    "#print(f\"Test score: {test_score}\\n\")\n",
    "#\n",
    "#y_pred = lr.predict(X_test)\n",
    "#\n",
    "#confusion_mat = confusion_matrix(y_test, y_pred)\n",
    "#confusion_df = pd.DataFrame(\n",
    "#    confusion_mat,\n",
    "#    index=[\"actual_show\", \"actual_no_show\"],\n",
    "#    columns=[\"pred_show\", \"pred_no_show\"],\n",
    "#)\n",
    "#display(confusion_df)\n",
    "#\n",
    "#print(classification_report(y_test, y_pred))"
   ]
  },
  {
   "cell_type": "code",
   "execution_count": null,
   "metadata": {},
   "outputs": [],
   "source": []
  }
 ],
 "metadata": {
  "kernelspec": {
   "display_name": "Python 3",
   "language": "python",
   "name": "python3"
  },
  "language_info": {
   "codemirror_mode": {
    "name": "ipython",
    "version": 3
   },
   "file_extension": ".py",
   "mimetype": "text/x-python",
   "name": "python",
   "nbconvert_exporter": "python",
   "pygments_lexer": "ipython3",
   "version": "3.7.0"
  }
 },
 "nbformat": 4,
 "nbformat_minor": 2
}
