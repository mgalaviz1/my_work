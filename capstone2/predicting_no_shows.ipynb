{
 "cells": [
  {
   "cell_type": "code",
   "execution_count": 1,
   "metadata": {},
   "outputs": [],
   "source": [
    "import warnings\n",
    "import pandas as pd\n",
    "import numpy as np\n",
    "\n",
    "import matplotlib.pyplot as plt\n",
    "%matplotlib inline\n",
    "\n",
    "from sklearn.model_selection import train_test_split, cross_val_score, GridSearchCV\n",
    "from sklearn.feature_selection import SelectFromModel\n",
    "from statsmodels.stats.outliers_influence import variance_inflation_factor\n",
    "from scipy import stats\n",
    "\n",
    "from sklearn.metrics import classification_report, confusion_matrix, f1_score, make_scorer\n",
    "\n",
    "from statsmodels.stats.diagnostic import het_breuschpagan\n",
    "from sklearn.neighbors import KNeighborsClassifier\n",
    "\n",
    "from category_encoders import LeaveOneOutEncoder\n",
    "from sklearn.preprocessing import OneHotEncoder, StandardScaler\n",
    "from sklearn.compose import ColumnTransformer\n",
    "from xgboost import XGBClassifier\n",
    "from sklearn.linear_model import SGDClassifier\n",
    "from sklearn.ensemble import GradientBoostingClassifier, RandomForestClassifier\n",
    "from sklearn.pipeline import Pipeline\n",
    "from sklearn.svm import SVC\n",
    "\n",
    "import statsmodels.api as sm\n",
    "\n",
    "import seaborn as sns\n",
    "from sklearn.metrics import mean_absolute_error\n",
    "from statsmodels.tools.eval_measures import mse, rmse\n",
    "\n",
    "from dateutil.relativedelta import relativedelta\n",
    "from datetime import date\n",
    "\n",
    "from IPython.display import display_html"
   ]
  },
  {
   "cell_type": "code",
   "execution_count": null,
   "metadata": {},
   "outputs": [],
   "source": []
  },
  {
   "cell_type": "code",
   "execution_count": 2,
   "metadata": {},
   "outputs": [],
   "source": [
    "from mlxtend.plotting import plot_decision_regions\n",
    "\n",
    "import math\n",
    "\n",
    "from sklearn.dummy import DummyClassifier\n",
    "\n",
    "from sklearn.utils.multiclass import unique_labels\n",
    "from sklearn.metrics import accuracy_score, precision_score, recall_score, fbeta_score\n",
    "from sklearn.metrics import roc_curve, precision_recall_curve, roc_auc_score"
   ]
  },
  {
   "cell_type": "code",
   "execution_count": 3,
   "metadata": {},
   "outputs": [],
   "source": [
    "from sklearn.linear_model import LogisticRegression, ElasticNet\n",
    "from sklearn.utils.class_weight import compute_class_weight"
   ]
  },
  {
   "cell_type": "code",
   "execution_count": 4,
   "metadata": {},
   "outputs": [],
   "source": [
    "#import pydotplus\n",
    "#import graphviz\n",
    "#import pickle"
   ]
  },
  {
   "cell_type": "code",
   "execution_count": 5,
   "metadata": {},
   "outputs": [],
   "source": [
    "#!pip install nb_black\n",
    "#%load_ext nb_black"
   ]
  },
  {
   "cell_type": "code",
   "execution_count": 6,
   "metadata": {},
   "outputs": [],
   "source": [
    "def print_vif(x):\n",
    "    \"\"\"Utility for checking multicollinearity assumption\n",
    "    \n",
    "    :param x: input features to check using VIF. This is assumed to be a pandas.DataFrame\n",
    "    :return: nothing is returned the VIFs are printed as a pandas series\n",
    "    \"\"\"\n",
    "    # Silence numpy FutureWarning about .ptp\n",
    "    with warnings.catch_warnings():\n",
    "        warnings.simplefilter(\"ignore\")\n",
    "        x = sm.add_constant(x)\n",
    "\n",
    "    vifs = []\n",
    "    for i in range(x.shape[1]):\n",
    "        vif = variance_inflation_factor(x.values, i)\n",
    "        vifs.append(vif)\n",
    "\n",
    "    print(\"VIF results\\n-------------------------------\")\n",
    "    print(pd.Series(vifs, index=x.columns))\n",
    "    print(\"-------------------------------\\n\")\n",
    "\n",
    "\n",
    "def eval_preds(y_true, y_pred):\n",
    "    error = y_true - y_pred\n",
    "\n",
    "    rmse = np.sqrt((error ** 2).mean())\n",
    "    mae = error.abs().mean()\n",
    "    mape = (error / y_true).abs().mean()\n",
    "\n",
    "    print(f\"rmse {rmse:.2f}\")\n",
    "    print(f\"mae {mae:.2f}\")\n",
    "    print(f\"mape {mape:.2f}\")\n",
    "\n",
    "    line_pts = [y_true.min(), y_true.max()]\n",
    "    plt.scatter(y_true, y_pred)\n",
    "    plt.plot(line_pts, line_pts, c=\"red\", ls=\"--\", alpha=0.5)\n",
    "    plt.xlabel(\"Actual\")\n",
    "    plt.ylabel(\"Fit\")\n",
    "    plt.show()"
   ]
  },
  {
   "cell_type": "code",
   "execution_count": 7,
   "metadata": {},
   "outputs": [],
   "source": [
    "# y_pred is an array of predictions\n",
    "def bestThresshold(y_true,y_pred):\n",
    "    best_thresh = None\n",
    "    best_score = 0\n",
    "    for thresh in np.arange(0.1, 0.501, 0.01):\n",
    "        score = f1_score(y_true, np.array(y_pred)>thresh)\n",
    "        if score > best_score:\n",
    "            best_thresh = thresh\n",
    "            best_score = score\n",
    "    return best_score , best_thresh\n"
   ]
  },
  {
   "cell_type": "code",
   "execution_count": 8,
   "metadata": {},
   "outputs": [],
   "source": [
    "def display_side_by_side(*args):\n",
    "    html_str = \"\"\n",
    "    for df in args:\n",
    "        html_str += df.to_html()\n",
    "    display_html(html_str.replace(\"table\", 'table style=\"display:inline\"'), raw=True)\n",
    "\n",
    "\n",
    "def top_corrs(df, column, n=20):\n",
    "    corr_df = df.corr()[[column]]\n",
    "    corr_df.columns = [\"corr\"]\n",
    "    corr_df[\"abs_corr\"] = corr_df.abs()\n",
    "\n",
    "    top_n_num = corr_df.sort_values(\"abs_corr\", ascending=False).head(20)\n",
    "    return top_n_num\n",
    "\n",
    "\n",
    "def plot_top_corrs(df, column, n=10):\n",
    "    top_corrs_df = top_corrs(df, column, n)\n",
    "    top_feats = top_corrs_df.index\n",
    "    top_corr = df[top_feats]\n",
    "    top_corr_tall = pd.melt(top_corr, column)\n",
    "\n",
    "    fg = sns.FacetGrid(top_corr_tall, col=\"variable\", col_wrap=5, sharex=False)\n",
    "    fg.map(sns.scatterplot, \"value\", column)\n",
    "    plt.show()\n",
    "    \n",
    "# from TowardsDataScience.com by Shaked Zychlinski\n",
    "# URL: https://towardsdatascience.com/the-search-for-categorical-correlation-a1cf7f1888c9\n",
    "\n",
    "def cramers_v(x, y):\n",
    "    confusion_matrix = pd.crosstab(x,y)\n",
    "    chi2 = ss.chi2_contingency(confusion_matrix)[0]\n",
    "    n = confusion_matrix.sum().sum()\n",
    "    phi2 = chi2/n\n",
    "    r,k = confusion_matrix.shape\n",
    "    phi2corr = max(0, phi2-((k-1)*(r-1))/(n-1))\n",
    "    rcorr = r-((r-1)**2)/(n-1)\n",
    "    kcorr = k-((k-1)**2)/(n-1)\n",
    "    return np.sqrt(phi2corr/min((kcorr-1),(rcorr-1)))"
   ]
  },
  {
   "cell_type": "markdown",
   "metadata": {},
   "source": [
    "## Pulling in weather data\n",
    "from Openweather.org. URL: https://home.openweathermap.org/history_bulks/new"
   ]
  },
  {
   "cell_type": "code",
   "execution_count": 9,
   "metadata": {},
   "outputs": [
    {
     "data": {
      "text/html": [
       "<div>\n",
       "<style scoped>\n",
       "    .dataframe tbody tr th:only-of-type {\n",
       "        vertical-align: middle;\n",
       "    }\n",
       "\n",
       "    .dataframe tbody tr th {\n",
       "        vertical-align: top;\n",
       "    }\n",
       "\n",
       "    .dataframe thead th {\n",
       "        text-align: right;\n",
       "    }\n",
       "</style>\n",
       "<table border=\"1\" class=\"dataframe\">\n",
       "  <thead>\n",
       "    <tr style=\"text-align: right;\">\n",
       "      <th></th>\n",
       "      <th>dt</th>\n",
       "      <th>dt_iso</th>\n",
       "      <th>timezone</th>\n",
       "      <th>city_name</th>\n",
       "      <th>lat</th>\n",
       "      <th>lon</th>\n",
       "      <th>temp</th>\n",
       "      <th>feels_like</th>\n",
       "      <th>temp_min</th>\n",
       "      <th>temp_max</th>\n",
       "      <th>...</th>\n",
       "      <th>wind_deg</th>\n",
       "      <th>rain_1h</th>\n",
       "      <th>rain_3h</th>\n",
       "      <th>snow_1h</th>\n",
       "      <th>snow_3h</th>\n",
       "      <th>clouds_all</th>\n",
       "      <th>weather_id</th>\n",
       "      <th>weather_main</th>\n",
       "      <th>weather_description</th>\n",
       "      <th>weather_icon</th>\n",
       "    </tr>\n",
       "  </thead>\n",
       "  <tbody>\n",
       "    <tr>\n",
       "      <th>0</th>\n",
       "      <td>1461888000</td>\n",
       "      <td>2016-04-29 00:00:00 +0000 UTC</td>\n",
       "      <td>-10800</td>\n",
       "      <td>Vitoria</td>\n",
       "      <td>-20.297618</td>\n",
       "      <td>-40.295777</td>\n",
       "      <td>73.80</td>\n",
       "      <td>73.27</td>\n",
       "      <td>73.40</td>\n",
       "      <td>75.96</td>\n",
       "      <td>...</td>\n",
       "      <td>220</td>\n",
       "      <td>NaN</td>\n",
       "      <td>NaN</td>\n",
       "      <td>NaN</td>\n",
       "      <td>NaN</td>\n",
       "      <td>75</td>\n",
       "      <td>803</td>\n",
       "      <td>Clouds</td>\n",
       "      <td>broken clouds</td>\n",
       "      <td>04n</td>\n",
       "    </tr>\n",
       "    <tr>\n",
       "      <th>1</th>\n",
       "      <td>1461891600</td>\n",
       "      <td>2016-04-29 01:00:00 +0000 UTC</td>\n",
       "      <td>-10800</td>\n",
       "      <td>Vitoria</td>\n",
       "      <td>-20.297618</td>\n",
       "      <td>-40.295777</td>\n",
       "      <td>73.85</td>\n",
       "      <td>72.05</td>\n",
       "      <td>73.40</td>\n",
       "      <td>76.05</td>\n",
       "      <td>...</td>\n",
       "      <td>220</td>\n",
       "      <td>NaN</td>\n",
       "      <td>NaN</td>\n",
       "      <td>NaN</td>\n",
       "      <td>NaN</td>\n",
       "      <td>75</td>\n",
       "      <td>803</td>\n",
       "      <td>Clouds</td>\n",
       "      <td>broken clouds</td>\n",
       "      <td>04n</td>\n",
       "    </tr>\n",
       "    <tr>\n",
       "      <th>2</th>\n",
       "      <td>1461895200</td>\n",
       "      <td>2016-04-29 02:00:00 +0000 UTC</td>\n",
       "      <td>-10800</td>\n",
       "      <td>Vitoria</td>\n",
       "      <td>-20.297618</td>\n",
       "      <td>-40.295777</td>\n",
       "      <td>73.81</td>\n",
       "      <td>73.09</td>\n",
       "      <td>73.40</td>\n",
       "      <td>75.78</td>\n",
       "      <td>...</td>\n",
       "      <td>240</td>\n",
       "      <td>NaN</td>\n",
       "      <td>NaN</td>\n",
       "      <td>NaN</td>\n",
       "      <td>NaN</td>\n",
       "      <td>75</td>\n",
       "      <td>803</td>\n",
       "      <td>Clouds</td>\n",
       "      <td>broken clouds</td>\n",
       "      <td>04n</td>\n",
       "    </tr>\n",
       "    <tr>\n",
       "      <th>3</th>\n",
       "      <td>1461898800</td>\n",
       "      <td>2016-04-29 03:00:00 +0000 UTC</td>\n",
       "      <td>-10800</td>\n",
       "      <td>Vitoria</td>\n",
       "      <td>-20.297618</td>\n",
       "      <td>-40.295777</td>\n",
       "      <td>73.65</td>\n",
       "      <td>72.23</td>\n",
       "      <td>72.76</td>\n",
       "      <td>75.67</td>\n",
       "      <td>...</td>\n",
       "      <td>230</td>\n",
       "      <td>NaN</td>\n",
       "      <td>NaN</td>\n",
       "      <td>NaN</td>\n",
       "      <td>NaN</td>\n",
       "      <td>75</td>\n",
       "      <td>803</td>\n",
       "      <td>Clouds</td>\n",
       "      <td>broken clouds</td>\n",
       "      <td>04n</td>\n",
       "    </tr>\n",
       "    <tr>\n",
       "      <th>4</th>\n",
       "      <td>1461902400</td>\n",
       "      <td>2016-04-29 04:00:00 +0000 UTC</td>\n",
       "      <td>-10800</td>\n",
       "      <td>Vitoria</td>\n",
       "      <td>-20.297618</td>\n",
       "      <td>-40.295777</td>\n",
       "      <td>73.56</td>\n",
       "      <td>71.44</td>\n",
       "      <td>72.60</td>\n",
       "      <td>75.44</td>\n",
       "      <td>...</td>\n",
       "      <td>230</td>\n",
       "      <td>NaN</td>\n",
       "      <td>NaN</td>\n",
       "      <td>NaN</td>\n",
       "      <td>NaN</td>\n",
       "      <td>90</td>\n",
       "      <td>804</td>\n",
       "      <td>Clouds</td>\n",
       "      <td>overcast clouds</td>\n",
       "      <td>04n</td>\n",
       "    </tr>\n",
       "  </tbody>\n",
       "</table>\n",
       "<p>5 rows × 25 columns</p>\n",
       "</div>"
      ],
      "text/plain": [
       "           dt                         dt_iso  timezone city_name        lat  \\\n",
       "0  1461888000  2016-04-29 00:00:00 +0000 UTC    -10800   Vitoria -20.297618   \n",
       "1  1461891600  2016-04-29 01:00:00 +0000 UTC    -10800   Vitoria -20.297618   \n",
       "2  1461895200  2016-04-29 02:00:00 +0000 UTC    -10800   Vitoria -20.297618   \n",
       "3  1461898800  2016-04-29 03:00:00 +0000 UTC    -10800   Vitoria -20.297618   \n",
       "4  1461902400  2016-04-29 04:00:00 +0000 UTC    -10800   Vitoria -20.297618   \n",
       "\n",
       "         lon   temp  feels_like  temp_min  temp_max  ...  wind_deg  rain_1h  \\\n",
       "0 -40.295777  73.80       73.27     73.40     75.96  ...       220      NaN   \n",
       "1 -40.295777  73.85       72.05     73.40     76.05  ...       220      NaN   \n",
       "2 -40.295777  73.81       73.09     73.40     75.78  ...       240      NaN   \n",
       "3 -40.295777  73.65       72.23     72.76     75.67  ...       230      NaN   \n",
       "4 -40.295777  73.56       71.44     72.60     75.44  ...       230      NaN   \n",
       "\n",
       "   rain_3h  snow_1h  snow_3h  clouds_all  weather_id  weather_main  \\\n",
       "0      NaN      NaN      NaN          75         803        Clouds   \n",
       "1      NaN      NaN      NaN          75         803        Clouds   \n",
       "2      NaN      NaN      NaN          75         803        Clouds   \n",
       "3      NaN      NaN      NaN          75         803        Clouds   \n",
       "4      NaN      NaN      NaN          90         804        Clouds   \n",
       "\n",
       "   weather_description  weather_icon  \n",
       "0        broken clouds           04n  \n",
       "1        broken clouds           04n  \n",
       "2        broken clouds           04n  \n",
       "3        broken clouds           04n  \n",
       "4      overcast clouds           04n  \n",
       "\n",
       "[5 rows x 25 columns]"
      ]
     },
     "execution_count": 9,
     "metadata": {},
     "output_type": "execute_result"
    }
   ],
   "source": [
    "weather = pd.read_csv('http://history.openweathermap.org/storage/2190c766ac5f9f46f1c8c871c49523ec.csv')\n",
    "weather.head()"
   ]
  },
  {
   "cell_type": "code",
   "execution_count": 10,
   "metadata": {},
   "outputs": [
    {
     "name": "stdout",
     "output_type": "stream",
     "text": [
      "<class 'pandas.core.frame.DataFrame'>\n",
      "RangeIndex: 986 entries, 0 to 985\n",
      "Data columns (total 25 columns):\n",
      " #   Column               Non-Null Count  Dtype  \n",
      "---  ------               --------------  -----  \n",
      " 0   dt                   986 non-null    int64  \n",
      " 1   dt_iso               986 non-null    object \n",
      " 2   timezone             986 non-null    int64  \n",
      " 3   city_name            986 non-null    object \n",
      " 4   lat                  986 non-null    float64\n",
      " 5   lon                  986 non-null    float64\n",
      " 6   temp                 986 non-null    float64\n",
      " 7   feels_like           986 non-null    float64\n",
      " 8   temp_min             986 non-null    float64\n",
      " 9   temp_max             986 non-null    float64\n",
      " 10  pressure             986 non-null    int64  \n",
      " 11  sea_level            0 non-null      float64\n",
      " 12  grnd_level           0 non-null      float64\n",
      " 13  humidity             986 non-null    int64  \n",
      " 14  wind_speed           986 non-null    float64\n",
      " 15  wind_deg             986 non-null    int64  \n",
      " 16  rain_1h              13 non-null     float64\n",
      " 17  rain_3h              0 non-null      float64\n",
      " 18  snow_1h              0 non-null      float64\n",
      " 19  snow_3h              0 non-null      float64\n",
      " 20  clouds_all           986 non-null    int64  \n",
      " 21  weather_id           986 non-null    int64  \n",
      " 22  weather_main         986 non-null    object \n",
      " 23  weather_description  986 non-null    object \n",
      " 24  weather_icon         986 non-null    object \n",
      "dtypes: float64(13), int64(7), object(5)\n",
      "memory usage: 192.7+ KB\n"
     ]
    }
   ],
   "source": [
    "weather.info()"
   ]
  },
  {
   "cell_type": "code",
   "execution_count": 11,
   "metadata": {},
   "outputs": [],
   "source": [
    "weather[\"dt_iso\"] = weather[\"dt_iso\"].map(lambda x: str(x)[:-4])"
   ]
  },
  {
   "cell_type": "code",
   "execution_count": 12,
   "metadata": {},
   "outputs": [],
   "source": [
    "# changing to datetime format\n",
    "\n",
    "weather['dt_iso'] = pd.to_datetime(weather['dt_iso'])"
   ]
  },
  {
   "cell_type": "code",
   "execution_count": 13,
   "metadata": {},
   "outputs": [],
   "source": [
    "# keeping important weather data for merge\n",
    "\n",
    "weather_drop_cols = ['dt', 'timezone', 'city_name', 'lat', 'lon', 'temp',\n",
    "       'temp_min', 'temp_max', 'pressure', 'sea_level',\n",
    "       'grnd_level', 'humidity', 'wind_speed', 'wind_deg', 'rain_1h',\n",
    "       'rain_3h', 'snow_1h', 'snow_3h', 'clouds_all', 'weather_id',\n",
    "       'weather_description', 'weather_icon']\n",
    "weather = weather.drop(columns=weather_drop_cols)"
   ]
  },
  {
   "cell_type": "code",
   "execution_count": 14,
   "metadata": {},
   "outputs": [],
   "source": [
    "# changing label name for merging later\n",
    "\n",
    "weather = weather.rename(columns={'dt_iso':'AppointmentDay'})"
   ]
  },
  {
   "cell_type": "code",
   "execution_count": 15,
   "metadata": {},
   "outputs": [
    {
     "name": "stdout",
     "output_type": "stream",
     "text": [
      "<class 'pandas.core.frame.DataFrame'>\n",
      "RangeIndex: 986 entries, 0 to 985\n",
      "Data columns (total 3 columns):\n",
      " #   Column          Non-Null Count  Dtype              \n",
      "---  ------          --------------  -----              \n",
      " 0   AppointmentDay  986 non-null    datetime64[ns, UTC]\n",
      " 1   feels_like      986 non-null    float64            \n",
      " 2   weather_main    986 non-null    object             \n",
      "dtypes: datetime64[ns, UTC](1), float64(1), object(1)\n",
      "memory usage: 23.2+ KB\n"
     ]
    }
   ],
   "source": [
    "weather.info()"
   ]
  },
  {
   "cell_type": "code",
   "execution_count": 16,
   "metadata": {},
   "outputs": [
    {
     "data": {
      "text/html": [
       "<div>\n",
       "<style scoped>\n",
       "    .dataframe tbody tr th:only-of-type {\n",
       "        vertical-align: middle;\n",
       "    }\n",
       "\n",
       "    .dataframe tbody tr th {\n",
       "        vertical-align: top;\n",
       "    }\n",
       "\n",
       "    .dataframe thead th {\n",
       "        text-align: right;\n",
       "    }\n",
       "</style>\n",
       "<table border=\"1\" class=\"dataframe\">\n",
       "  <thead>\n",
       "    <tr style=\"text-align: right;\">\n",
       "      <th></th>\n",
       "      <th>AppointmentDay</th>\n",
       "      <th>feels_like</th>\n",
       "      <th>weather_main</th>\n",
       "    </tr>\n",
       "  </thead>\n",
       "  <tbody>\n",
       "    <tr>\n",
       "      <th>0</th>\n",
       "      <td>2016-04-29 00:00:00+00:00</td>\n",
       "      <td>73.27</td>\n",
       "      <td>Clouds</td>\n",
       "    </tr>\n",
       "    <tr>\n",
       "      <th>1</th>\n",
       "      <td>2016-04-29 01:00:00+00:00</td>\n",
       "      <td>72.05</td>\n",
       "      <td>Clouds</td>\n",
       "    </tr>\n",
       "    <tr>\n",
       "      <th>2</th>\n",
       "      <td>2016-04-29 02:00:00+00:00</td>\n",
       "      <td>73.09</td>\n",
       "      <td>Clouds</td>\n",
       "    </tr>\n",
       "    <tr>\n",
       "      <th>3</th>\n",
       "      <td>2016-04-29 03:00:00+00:00</td>\n",
       "      <td>72.23</td>\n",
       "      <td>Clouds</td>\n",
       "    </tr>\n",
       "    <tr>\n",
       "      <th>4</th>\n",
       "      <td>2016-04-29 04:00:00+00:00</td>\n",
       "      <td>71.44</td>\n",
       "      <td>Clouds</td>\n",
       "    </tr>\n",
       "  </tbody>\n",
       "</table>\n",
       "</div>"
      ],
      "text/plain": [
       "             AppointmentDay  feels_like weather_main\n",
       "0 2016-04-29 00:00:00+00:00       73.27       Clouds\n",
       "1 2016-04-29 01:00:00+00:00       72.05       Clouds\n",
       "2 2016-04-29 02:00:00+00:00       73.09       Clouds\n",
       "3 2016-04-29 03:00:00+00:00       72.23       Clouds\n",
       "4 2016-04-29 04:00:00+00:00       71.44       Clouds"
      ]
     },
     "execution_count": 16,
     "metadata": {},
     "output_type": "execute_result"
    }
   ],
   "source": [
    "weather.head()"
   ]
  },
  {
   "cell_type": "code",
   "execution_count": 17,
   "metadata": {},
   "outputs": [],
   "source": [
    "weather.feels_like = weather.feels_like.astype(int).round(0)"
   ]
  },
  {
   "cell_type": "code",
   "execution_count": 18,
   "metadata": {},
   "outputs": [
    {
     "data": {
      "text/plain": [
       "Clouds          574\n",
       "Clear           390\n",
       "Rain             11\n",
       "Mist              5\n",
       "Smoke             4\n",
       "Fog               1\n",
       "Thunderstorm      1\n",
       "Name: weather_main, dtype: int64"
      ]
     },
     "execution_count": 18,
     "metadata": {},
     "output_type": "execute_result"
    }
   ],
   "source": [
    "weather.weather_main.value_counts()"
   ]
  },
  {
   "cell_type": "code",
   "execution_count": 19,
   "metadata": {},
   "outputs": [
    {
     "data": {
      "image/png": "[encoded data removed]",
      "text/plain": [
       "<Figure size 432x288 with 1 Axes>"
      ]
     },
     "metadata": {
      "needs_background": "light"
     },
     "output_type": "display_data"
    }
   ],
   "source": [
    "sns.countplot(y='weather_main', data=weather)\n",
    "plt.title('Count of Weather Types')\n",
    "plt.xlabel('Frequency')\n",
    "plt.ylabel('')\n",
    "plt.show()"
   ]
  },
  {
   "cell_type": "markdown",
   "metadata": {},
   "source": [
    "## Pulling in main appointment data"
   ]
  },
  {
   "cell_type": "code",
   "execution_count": 20,
   "metadata": {},
   "outputs": [],
   "source": [
    "df = pd.read_csv('noshowappointments.csv')"
   ]
  },
  {
   "cell_type": "markdown",
   "metadata": {},
   "source": [
    "This dataset has information about 110527 medical appointments in Vitoria Brazil from 29 April - 8 June 2016\n",
    "The goal is to predict whether a patient will show up to their appointment. \n",
    "\n",
    "Missed appointments cost the US 150b each year. https://www.hcinnovationgroup.com/clinical-it/article/13008175/missed-appointments-cost-the-us-healthcare-system-150b-each-year\n",
    "\n",
    "Data Dictionary: \n",
    "\n",
    "PatientId -Identification of a patient\n",
    "\n",
    "AppointmentID - Identification of each appointment\n",
    "\n",
    "Gender - Male or Female\n",
    "\n",
    "AppointmentDay - The day of the actual appointment, when they have to visit the doctor\n",
    "\n",
    "ScheduledDay - The day someone called or registered the appointment, this is before appointment of course.\n",
    "\n",
    "Age - Age of the patient.\n",
    "\n",
    "Neighborhood - Where the appointment takes place.\n",
    "\n",
    "Scholarship - True of False. Whether or not the school age patient is participating in Bolsa Famila which pays a stipend based on meeting certain metrics like class attendance or getting vaccinated. \n",
    "https://en.wikipedia.org/wiki/Bolsa_Fam%C3%ADlia\n",
    "\n",
    "Hypertension - True or False\n",
    "\n",
    "Diabetes -True or False\n",
    "\n",
    "Alcoholism - True or False\n",
    "\n",
    "Disability - 0-4. 0 is no disability and remaining numbers indicate how many disabilities the patient has\n",
    "\n",
    "Reminder - True or False. 1 or more messages sent to the patient\n",
    "\n",
    "No-show - True or False"
   ]
  },
  {
   "cell_type": "markdown",
   "metadata": {},
   "source": [
    "# Things to do:\n",
    "  *  Break down both dates into hour and day of week to see if there is anything significant with target.\n",
    "      \n",
    "      No hour data in appointment day but we do have interval in days between day scheduled and day of appointment.\n",
    "  \n",
    "  \n",
    "  *  Check for outliers and missing data.\n",
    "      \n",
    "      None but we do have imbalanced classes.\n",
    "  \n",
    "  \n",
    "  *  Investigate whether any variables can be mixed such as Hypertenion and Diabetes.\n",
    "  \n",
    "  \n",
    "  *  Attempt to bring in weather for the appointment day since that is likely to have an impact on target.\n",
    "  \n",
    "      Done. However, there is only one rain day during the appointment times and temp is mild so it's not useful here.\n",
    "      \n",
    "  \n",
    "  *  Determine which vars are correlated with target and drop those not important.\n",
    "  \n",
    "      According to XGBoost, the least important features are \n",
    "  \n",
    "  \n",
    "  *  Find important variables that help predict whether a patient shows to their appointment. \n",
    "  \n",
    "  \n",
    "  *  Compare different models. KNN is best using continous data so it's ruled out here. "
   ]
  },
  {
   "cell_type": "code",
   "execution_count": 21,
   "metadata": {},
   "outputs": [
    {
     "data": {
      "text/plain": [
       "Index(['PatientId', 'AppointmentID', 'Gender', 'ScheduledDay',\n",
       "       'AppointmentDay', 'Age', 'Neighbourhood', 'Scholarship', 'Hipertension',\n",
       "       'Diabetes', 'Alcoholism', 'Handcap', 'SMS_received', 'No-show'],\n",
       "      dtype='object')"
      ]
     },
     "execution_count": 21,
     "metadata": {},
     "output_type": "execute_result"
    }
   ],
   "source": [
    "df.columns"
   ]
  },
  {
   "cell_type": "code",
   "execution_count": 22,
   "metadata": {},
   "outputs": [
    {
     "data": {
      "text/plain": [
       "(110527, 14)"
      ]
     },
     "execution_count": 22,
     "metadata": {},
     "output_type": "execute_result"
    }
   ],
   "source": [
    "df.shape"
   ]
  },
  {
   "cell_type": "code",
   "execution_count": 23,
   "metadata": {},
   "outputs": [
    {
     "name": "stdout",
     "output_type": "stream",
     "text": [
      "<class 'pandas.core.frame.DataFrame'>\n",
      "RangeIndex: 110527 entries, 0 to 110526\n",
      "Data columns (total 14 columns):\n",
      " #   Column          Non-Null Count   Dtype  \n",
      "---  ------          --------------   -----  \n",
      " 0   PatientId       110527 non-null  float64\n",
      " 1   AppointmentID   110527 non-null  int64  \n",
      " 2   Gender          110527 non-null  object \n",
      " 3   ScheduledDay    110527 non-null  object \n",
      " 4   AppointmentDay  110527 non-null  object \n",
      " 5   Age             110527 non-null  int64  \n",
      " 6   Neighbourhood   110527 non-null  object \n",
      " 7   Scholarship     110527 non-null  int64  \n",
      " 8   Hipertension    110527 non-null  int64  \n",
      " 9   Diabetes        110527 non-null  int64  \n",
      " 10  Alcoholism      110527 non-null  int64  \n",
      " 11  Handcap         110527 non-null  int64  \n",
      " 12  SMS_received    110527 non-null  int64  \n",
      " 13  No-show         110527 non-null  object \n",
      "dtypes: float64(1), int64(8), object(5)\n",
      "memory usage: 11.8+ MB\n"
     ]
    }
   ],
   "source": [
    "df.info()"
   ]
  },
  {
   "cell_type": "code",
   "execution_count": 24,
   "metadata": {},
   "outputs": [
    {
     "data": {
      "text/plain": [
       "6100"
      ]
     },
     "execution_count": 24,
     "metadata": {},
     "output_type": "execute_result"
    }
   ],
   "source": [
    "df['PatientId'].nunique()"
   ]
  },
  {
   "cell_type": "code",
   "execution_count": 25,
   "metadata": {},
   "outputs": [
    {
     "data": {
      "text/plain": [
       "110527"
      ]
     },
     "execution_count": 25,
     "metadata": {},
     "output_type": "execute_result"
    }
   ],
   "source": [
    "df['AppointmentID'].nunique()"
   ]
  },
  {
   "cell_type": "code",
   "execution_count": 26,
   "metadata": {},
   "outputs": [],
   "source": [
    "#dropping appointmentID\n",
    "\n",
    "df = df.drop(columns = 'AppointmentID')"
   ]
  },
  {
   "cell_type": "code",
   "execution_count": 27,
   "metadata": {},
   "outputs": [],
   "source": [
    "# cleaning column names\n",
    "\n",
    "df['Neighborhood'] = df['Neighbourhood']\n",
    "df = df.drop(columns=['Neighbourhood'])\n",
    "\n",
    "df['Hypertension'] = df['Hipertension']\n",
    "df = df.drop(columns=['Hipertension'])\n",
    "\n",
    "df['Disability'] = df['Handcap']\n",
    "df = df.drop(columns=['Handcap'])\n",
    "\n",
    "df['Reminder'] = df['SMS_received']\n",
    "df = df.drop(columns=['SMS_received'])\n",
    "\n",
    "df['show'] = df['No-show']\n",
    "df = df.drop(columns=['No-show'])"
   ]
  },
  {
   "cell_type": "code",
   "execution_count": 28,
   "metadata": {},
   "outputs": [],
   "source": [
    "# changing target to binary\n",
    "df['show'] = df.show.transform(lambda x: int(x =='Yes'))"
   ]
  },
  {
   "cell_type": "code",
   "execution_count": 29,
   "metadata": {},
   "outputs": [
    {
     "data": {
      "text/plain": [
       "0    88208\n",
       "1    22319\n",
       "Name: show, dtype: int64"
      ]
     },
     "execution_count": 29,
     "metadata": {},
     "output_type": "execute_result"
    }
   ],
   "source": [
    "df.show.value_counts()"
   ]
  },
  {
   "cell_type": "code",
   "execution_count": null,
   "metadata": {},
   "outputs": [],
   "source": []
  },
  {
   "cell_type": "markdown",
   "metadata": {},
   "source": [
    "Converting to datetime data type and creating day of week variables."
   ]
  },
  {
   "cell_type": "code",
   "execution_count": 30,
   "metadata": {},
   "outputs": [],
   "source": [
    "df['ScheduledDay'] = pd.to_datetime(df['ScheduledDay'])"
   ]
  },
  {
   "cell_type": "code",
   "execution_count": 31,
   "metadata": {},
   "outputs": [],
   "source": [
    "df['AppointmentDay'] = pd.to_datetime(df['AppointmentDay'])"
   ]
  },
  {
   "cell_type": "code",
   "execution_count": 32,
   "metadata": {},
   "outputs": [],
   "source": [
    "# creating date variables from ScheduleDay\n",
    "\n",
    "df[\"sch_weekday_num\"] = df[\"ScheduledDay\"].dt.weekday\n",
    "df[\"sch_weekday_name\"] = df[\"ScheduledDay\"].dt.day_name()"
   ]
  },
  {
   "cell_type": "code",
   "execution_count": 33,
   "metadata": {
    "scrolled": true
   },
   "outputs": [],
   "source": [
    "# creating date variables from AppointmentDay\n",
    "\n",
    "df[\"appt_weekday_num\"] = df[\"AppointmentDay\"].dt.weekday\n",
    "df[\"appt_weekday_name\"] = df[\"AppointmentDay\"].dt.day_name()"
   ]
  },
  {
   "cell_type": "code",
   "execution_count": 34,
   "metadata": {},
   "outputs": [],
   "source": [
    "df['has_diabetes_and_hyper'] = df['Hypertension'] * df['Diabetes']"
   ]
  },
  {
   "cell_type": "code",
   "execution_count": 35,
   "metadata": {},
   "outputs": [],
   "source": [
    "# creating interval in days between scheduled and appointment days\n",
    "\n",
    "df['day_diff']=(df['AppointmentDay'] - df['ScheduledDay']).dt.days\n",
    "\n",
    "#df_merge['day_diff'] = df_merge['AppointmentDay'] - df_merge['ScheduledDay']\n",
    "#df_merge['day_diff'] = df_merge['day_diff'] / np.timedelta64(1,'D')"
   ]
  },
  {
   "cell_type": "code",
   "execution_count": 36,
   "metadata": {},
   "outputs": [
    {
     "data": {
      "text/plain": [
       "-1      38567\n",
       " 1       6725\n",
       " 3       5290\n",
       " 0       5213\n",
       " 6       4906\n",
       "        ...  \n",
       " 116        1\n",
       " 124        1\n",
       " 125        1\n",
       " 126        1\n",
       " 131        1\n",
       "Name: day_diff, Length: 129, dtype: int64"
      ]
     },
     "execution_count": 36,
     "metadata": {},
     "output_type": "execute_result"
    }
   ],
   "source": [
    "df.day_diff.value_counts()"
   ]
  },
  {
   "cell_type": "markdown",
   "metadata": {},
   "source": [
    "There are no hours in the AppointmentDay datestamp resulting in negative day differences when AppointmentDay and ScheduleDay are the same day. Will remove rows with negative day diff since replacing with the mean with highly skewed data may distort an analysis of day_diff. Dropping removes 38567 observations out of over 110 observations."
   ]
  },
  {
   "cell_type": "code",
   "execution_count": 37,
   "metadata": {},
   "outputs": [],
   "source": [
    "df = df[df['day_diff'] >= 0 ]"
   ]
  },
  {
   "cell_type": "code",
   "execution_count": 38,
   "metadata": {},
   "outputs": [],
   "source": [
    "# Scatter plot for the relationship between ScheduledDay and AppointmentDay\n",
    "#sns.scatterplot(x=\"ScheduledDay\",y=\"AppointmentDay\", hue='show')\n",
    "#plt.title(\"Relationship between ScheduledDay and AppointmentDay\")\n",
    "#plt.show()"
   ]
  },
  {
   "cell_type": "code",
   "execution_count": 39,
   "metadata": {},
   "outputs": [
    {
     "name": "stdout",
     "output_type": "stream",
     "text": [
      "<class 'pandas.core.frame.DataFrame'>\n",
      "Int64Index: 71960 entries, 5 to 110526\n",
      "Data columns (total 19 columns):\n",
      " #   Column                  Non-Null Count  Dtype              \n",
      "---  ------                  --------------  -----              \n",
      " 0   PatientId               71960 non-null  float64            \n",
      " 1   Gender                  71960 non-null  object             \n",
      " 2   ScheduledDay            71960 non-null  datetime64[ns, UTC]\n",
      " 3   AppointmentDay          71960 non-null  datetime64[ns, UTC]\n",
      " 4   Age                     71960 non-null  int64              \n",
      " 5   Scholarship             71960 non-null  int64              \n",
      " 6   Diabetes                71960 non-null  int64              \n",
      " 7   Alcoholism              71960 non-null  int64              \n",
      " 8   Neighborhood            71960 non-null  object             \n",
      " 9   Hypertension            71960 non-null  int64              \n",
      " 10  Disability              71960 non-null  int64              \n",
      " 11  Reminder                71960 non-null  int64              \n",
      " 12  show                    71960 non-null  int64              \n",
      " 13  sch_weekday_num         71960 non-null  int64              \n",
      " 14  sch_weekday_name        71960 non-null  object             \n",
      " 15  appt_weekday_num        71960 non-null  int64              \n",
      " 16  appt_weekday_name       71960 non-null  object             \n",
      " 17  has_diabetes_and_hyper  71960 non-null  int64              \n",
      " 18  day_diff                71960 non-null  int64              \n",
      "dtypes: datetime64[ns, UTC](2), float64(1), int64(12), object(4)\n",
      "memory usage: 11.0+ MB\n"
     ]
    }
   ],
   "source": [
    "df.info()"
   ]
  },
  {
   "cell_type": "markdown",
   "metadata": {},
   "source": [
    "## Merging df and weather dataframes"
   ]
  },
  {
   "cell_type": "code",
   "execution_count": 40,
   "metadata": {},
   "outputs": [],
   "source": [
    "df_merge = pd.merge(df, weather, on='AppointmentDay', how='left', indicator=True)"
   ]
  },
  {
   "cell_type": "code",
   "execution_count": 41,
   "metadata": {},
   "outputs": [
    {
     "data": {
      "text/html": [
       "<div>\n",
       "<style scoped>\n",
       "    .dataframe tbody tr th:only-of-type {\n",
       "        vertical-align: middle;\n",
       "    }\n",
       "\n",
       "    .dataframe tbody tr th {\n",
       "        vertical-align: top;\n",
       "    }\n",
       "\n",
       "    .dataframe thead th {\n",
       "        text-align: right;\n",
       "    }\n",
       "</style>\n",
       "<table border=\"1\" class=\"dataframe\">\n",
       "  <thead>\n",
       "    <tr style=\"text-align: right;\">\n",
       "      <th></th>\n",
       "      <th>PatientId</th>\n",
       "      <th>Gender</th>\n",
       "      <th>ScheduledDay</th>\n",
       "      <th>AppointmentDay</th>\n",
       "      <th>Age</th>\n",
       "      <th>Scholarship</th>\n",
       "      <th>Diabetes</th>\n",
       "      <th>Alcoholism</th>\n",
       "      <th>Neighborhood</th>\n",
       "      <th>Hypertension</th>\n",
       "      <th>...</th>\n",
       "      <th>show</th>\n",
       "      <th>sch_weekday_num</th>\n",
       "      <th>sch_weekday_name</th>\n",
       "      <th>appt_weekday_num</th>\n",
       "      <th>appt_weekday_name</th>\n",
       "      <th>has_diabetes_and_hyper</th>\n",
       "      <th>day_diff</th>\n",
       "      <th>feels_like</th>\n",
       "      <th>weather_main</th>\n",
       "      <th>_merge</th>\n",
       "    </tr>\n",
       "  </thead>\n",
       "  <tbody>\n",
       "    <tr>\n",
       "      <th>0</th>\n",
       "      <td>9.600000e+13</td>\n",
       "      <td>F</td>\n",
       "      <td>2016-04-27 08:36:51+00:00</td>\n",
       "      <td>2016-04-29 00:00:00+00:00</td>\n",
       "      <td>76</td>\n",
       "      <td>0</td>\n",
       "      <td>0</td>\n",
       "      <td>0</td>\n",
       "      <td>REPÚBLICA</td>\n",
       "      <td>1</td>\n",
       "      <td>...</td>\n",
       "      <td>0</td>\n",
       "      <td>2</td>\n",
       "      <td>Wednesday</td>\n",
       "      <td>4</td>\n",
       "      <td>Friday</td>\n",
       "      <td>0</td>\n",
       "      <td>1</td>\n",
       "      <td>73</td>\n",
       "      <td>Clouds</td>\n",
       "      <td>both</td>\n",
       "    </tr>\n",
       "    <tr>\n",
       "      <th>1</th>\n",
       "      <td>7.340000e+14</td>\n",
       "      <td>F</td>\n",
       "      <td>2016-04-27 15:05:12+00:00</td>\n",
       "      <td>2016-04-29 00:00:00+00:00</td>\n",
       "      <td>23</td>\n",
       "      <td>0</td>\n",
       "      <td>0</td>\n",
       "      <td>0</td>\n",
       "      <td>GOIABEIRAS</td>\n",
       "      <td>0</td>\n",
       "      <td>...</td>\n",
       "      <td>1</td>\n",
       "      <td>2</td>\n",
       "      <td>Wednesday</td>\n",
       "      <td>4</td>\n",
       "      <td>Friday</td>\n",
       "      <td>0</td>\n",
       "      <td>1</td>\n",
       "      <td>73</td>\n",
       "      <td>Clouds</td>\n",
       "      <td>both</td>\n",
       "    </tr>\n",
       "    <tr>\n",
       "      <th>2</th>\n",
       "      <td>3.450000e+12</td>\n",
       "      <td>F</td>\n",
       "      <td>2016-04-27 15:39:58+00:00</td>\n",
       "      <td>2016-04-29 00:00:00+00:00</td>\n",
       "      <td>39</td>\n",
       "      <td>0</td>\n",
       "      <td>0</td>\n",
       "      <td>0</td>\n",
       "      <td>GOIABEIRAS</td>\n",
       "      <td>0</td>\n",
       "      <td>...</td>\n",
       "      <td>1</td>\n",
       "      <td>2</td>\n",
       "      <td>Wednesday</td>\n",
       "      <td>4</td>\n",
       "      <td>Friday</td>\n",
       "      <td>0</td>\n",
       "      <td>1</td>\n",
       "      <td>73</td>\n",
       "      <td>Clouds</td>\n",
       "      <td>both</td>\n",
       "    </tr>\n",
       "    <tr>\n",
       "      <th>3</th>\n",
       "      <td>7.810000e+13</td>\n",
       "      <td>F</td>\n",
       "      <td>2016-04-27 12:48:25+00:00</td>\n",
       "      <td>2016-04-29 00:00:00+00:00</td>\n",
       "      <td>19</td>\n",
       "      <td>0</td>\n",
       "      <td>0</td>\n",
       "      <td>0</td>\n",
       "      <td>CONQUISTA</td>\n",
       "      <td>0</td>\n",
       "      <td>...</td>\n",
       "      <td>0</td>\n",
       "      <td>2</td>\n",
       "      <td>Wednesday</td>\n",
       "      <td>4</td>\n",
       "      <td>Friday</td>\n",
       "      <td>0</td>\n",
       "      <td>1</td>\n",
       "      <td>73</td>\n",
       "      <td>Clouds</td>\n",
       "      <td>both</td>\n",
       "    </tr>\n",
       "    <tr>\n",
       "      <th>4</th>\n",
       "      <td>7.350000e+14</td>\n",
       "      <td>F</td>\n",
       "      <td>2016-04-27 14:58:11+00:00</td>\n",
       "      <td>2016-04-29 00:00:00+00:00</td>\n",
       "      <td>30</td>\n",
       "      <td>0</td>\n",
       "      <td>0</td>\n",
       "      <td>0</td>\n",
       "      <td>NOVA PALESTINA</td>\n",
       "      <td>0</td>\n",
       "      <td>...</td>\n",
       "      <td>0</td>\n",
       "      <td>2</td>\n",
       "      <td>Wednesday</td>\n",
       "      <td>4</td>\n",
       "      <td>Friday</td>\n",
       "      <td>0</td>\n",
       "      <td>1</td>\n",
       "      <td>73</td>\n",
       "      <td>Clouds</td>\n",
       "      <td>both</td>\n",
       "    </tr>\n",
       "  </tbody>\n",
       "</table>\n",
       "<p>5 rows × 22 columns</p>\n",
       "</div>"
      ],
      "text/plain": [
       "      PatientId Gender              ScheduledDay            AppointmentDay  \\\n",
       "0  9.600000e+13      F 2016-04-27 08:36:51+00:00 2016-04-29 00:00:00+00:00   \n",
       "1  7.340000e+14      F 2016-04-27 15:05:12+00:00 2016-04-29 00:00:00+00:00   \n",
       "2  3.450000e+12      F 2016-04-27 15:39:58+00:00 2016-04-29 00:00:00+00:00   \n",
       "3  7.810000e+13      F 2016-04-27 12:48:25+00:00 2016-04-29 00:00:00+00:00   \n",
       "4  7.350000e+14      F 2016-04-27 14:58:11+00:00 2016-04-29 00:00:00+00:00   \n",
       "\n",
       "   Age  Scholarship  Diabetes  Alcoholism    Neighborhood  Hypertension  ...  \\\n",
       "0   76            0         0           0       REPÚBLICA             1  ...   \n",
       "1   23            0         0           0      GOIABEIRAS             0  ...   \n",
       "2   39            0         0           0      GOIABEIRAS             0  ...   \n",
       "3   19            0         0           0       CONQUISTA             0  ...   \n",
       "4   30            0         0           0  NOVA PALESTINA             0  ...   \n",
       "\n",
       "   show  sch_weekday_num  sch_weekday_name  appt_weekday_num  \\\n",
       "0     0                2         Wednesday                 4   \n",
       "1     1                2         Wednesday                 4   \n",
       "2     1                2         Wednesday                 4   \n",
       "3     0                2         Wednesday                 4   \n",
       "4     0                2         Wednesday                 4   \n",
       "\n",
       "  appt_weekday_name  has_diabetes_and_hyper day_diff  feels_like  \\\n",
       "0            Friday                       0        1          73   \n",
       "1            Friday                       0        1          73   \n",
       "2            Friday                       0        1          73   \n",
       "3            Friday                       0        1          73   \n",
       "4            Friday                       0        1          73   \n",
       "\n",
       "   weather_main  _merge  \n",
       "0        Clouds    both  \n",
       "1        Clouds    both  \n",
       "2        Clouds    both  \n",
       "3        Clouds    both  \n",
       "4        Clouds    both  \n",
       "\n",
       "[5 rows x 22 columns]"
      ]
     },
     "execution_count": 41,
     "metadata": {},
     "output_type": "execute_result"
    }
   ],
   "source": [
    "df_merge.head()"
   ]
  },
  {
   "cell_type": "code",
   "execution_count": 42,
   "metadata": {},
   "outputs": [
    {
     "data": {
      "text/plain": [
       "both          71960\n",
       "right_only        0\n",
       "left_only         0\n",
       "Name: _merge, dtype: int64"
      ]
     },
     "execution_count": 42,
     "metadata": {},
     "output_type": "execute_result"
    }
   ],
   "source": [
    "df_merge._merge.value_counts()"
   ]
  },
  {
   "cell_type": "code",
   "execution_count": 43,
   "metadata": {},
   "outputs": [
    {
     "data": {
      "text/plain": [
       "Clear     36698\n",
       "Clouds    35262\n",
       "Name: weather_main, dtype: int64"
      ]
     },
     "execution_count": 43,
     "metadata": {},
     "output_type": "execute_result"
    }
   ],
   "source": [
    "df_merge.weather_main.value_counts()"
   ]
  },
  {
   "cell_type": "code",
   "execution_count": 44,
   "metadata": {},
   "outputs": [],
   "source": [
    "# inserting weather on May 20th because there is no hour in Appointment Day to merge on. It rained all day on 20 May\n",
    "# and is the only day it rained during the period in the dataset, 29 April to 8 June 2016. \n",
    "df_merge.loc[df_merge['AppointmentDay'] == '2016-05-20 00:00:00+00:00', 'weather_main'] = 'Rain'"
   ]
  },
  {
   "cell_type": "markdown",
   "metadata": {},
   "source": [
    "#### According to XGBoost feature selection below, the only weather variable, feels_like, scored a zero so I did not use weather data as I had hoped. This might be because, during the 6 weeks time of the dataset, it rained only 1 day affecting just over 3000 patients and apparently not enough to have an impact. Perhaps looking at data over a year timespan would be more telling."
   ]
  },
  {
   "cell_type": "markdown",
   "metadata": {},
   "source": [
    "## Plotting variables with target, no_show"
   ]
  },
  {
   "cell_type": "code",
   "execution_count": 45,
   "metadata": {},
   "outputs": [
    {
     "data": {
      "image/png": "[encoded data removed]",
      "text/plain": [
       "<Figure size 432x288 with 1 Axes>"
      ]
     },
     "metadata": {
      "needs_background": "light"
     },
     "output_type": "display_data"
    }
   ],
   "source": [
    "# positive class is a no show\n",
    "\n",
    "sns.countplot(x=df['show'])\n",
    "plt.title('Count of No Shows')\n",
    "plt.show()"
   ]
  },
  {
   "cell_type": "code",
   "execution_count": 46,
   "metadata": {},
   "outputs": [],
   "source": [
    "total_app = df.show.count()"
   ]
  },
  {
   "cell_type": "code",
   "execution_count": 47,
   "metadata": {},
   "outputs": [
    {
     "name": "stdout",
     "output_type": "stream",
     "text": [
      "20523\n",
      "51437\n"
     ]
    }
   ],
   "source": [
    "totalno = df.query('show ==\"1\"')['show'].count()\n",
    "totalyes = df.query('show ==\"0\"')['show'].count()\n",
    "print(totalno)\n",
    "print(totalyes)"
   ]
  },
  {
   "cell_type": "code",
   "execution_count": 48,
   "metadata": {},
   "outputs": [
    {
     "name": "stdout",
     "output_type": "stream",
     "text": [
      "0.2851802440312404\n",
      "0.7148197559687596\n"
     ]
    }
   ],
   "source": [
    "prop_no = 20521/71958\n",
    "prop_yes = 51437/71958\n",
    "print(prop_no)\n",
    "print(prop_yes)"
   ]
  },
  {
   "cell_type": "code",
   "execution_count": 49,
   "metadata": {},
   "outputs": [
    {
     "data": {
      "image/png": "[encoded data removed]",
      "text/plain": [
       "<Figure size 432x288 with 1 Axes>"
      ]
     },
     "metadata": {
      "needs_background": "light"
     },
     "output_type": "display_data"
    }
   ],
   "source": [
    "#Plotting the percentage of patient show up/No show up\n",
    "plt.bar([1,2], [prop_no, prop_yes], tick_label=['No Show', 'Show'])\n",
    "plt.title('No Show by Percentage')\n",
    "plt.ylabel('Percentage Patient');"
   ]
  },
  {
   "cell_type": "code",
   "execution_count": 50,
   "metadata": {},
   "outputs": [
    {
     "data": {
      "text/plain": [
       "0    0.7148\n",
       "1    0.2852\n",
       "Name: show, dtype: float64"
      ]
     },
     "execution_count": 50,
     "metadata": {},
     "output_type": "execute_result"
    }
   ],
   "source": [
    "# target is imbalanced at about 70, 30\n",
    "\n",
    "df.show.value_counts(normalize=True)"
   ]
  },
  {
   "cell_type": "code",
   "execution_count": 51,
   "metadata": {},
   "outputs": [
    {
     "data": {
      "text/plain": [
       "0    51437\n",
       "1    20523\n",
       "Name: show, dtype: int64"
      ]
     },
     "execution_count": 51,
     "metadata": {},
     "output_type": "execute_result"
    }
   ],
   "source": [
    "df['show'].value_counts()"
   ]
  },
  {
   "cell_type": "code",
   "execution_count": 52,
   "metadata": {},
   "outputs": [
    {
     "data": {
      "image/png": "[encoded data removed]",
      "text/plain": [
       "<Figure size 1152x504 with 2 Axes>"
      ]
     },
     "metadata": {
      "needs_background": "light"
     },
     "output_type": "display_data"
    }
   ],
   "source": [
    "plt.figure(figsize=(16,7))\n",
    "\n",
    "plt.subplot(1,2,1)\n",
    "sns.countplot(x='sch_weekday_name',hue='show',data=df, order=['Monday','Tuesday', 'Wednesday','Thursday','Friday','Saturday'])\n",
    "plt.title('Schedule Day of Week')\n",
    "\n",
    "plt.subplot(1,2,2)\n",
    "sns.countplot(x='appt_weekday_name',hue='show',data=df, order=['Monday','Tuesday', 'Wednesday','Thursday','Friday','Saturday'])\n",
    "plt.title('Appointment Day of Week')\n",
    "plt.show()"
   ]
  },
  {
   "cell_type": "code",
   "execution_count": 53,
   "metadata": {},
   "outputs": [
    {
     "data": {
      "text/html": [
       "<div>\n",
       "<style scoped>\n",
       "    .dataframe tbody tr th:only-of-type {\n",
       "        vertical-align: middle;\n",
       "    }\n",
       "\n",
       "    .dataframe tbody tr th {\n",
       "        vertical-align: top;\n",
       "    }\n",
       "\n",
       "    .dataframe thead th {\n",
       "        text-align: right;\n",
       "    }\n",
       "</style>\n",
       "<table border=\"1\" class=\"dataframe\">\n",
       "  <thead>\n",
       "    <tr style=\"text-align: right;\">\n",
       "      <th>show</th>\n",
       "      <th>0</th>\n",
       "      <th>1</th>\n",
       "    </tr>\n",
       "    <tr>\n",
       "      <th>appt_weekday_name</th>\n",
       "      <th></th>\n",
       "      <th></th>\n",
       "    </tr>\n",
       "  </thead>\n",
       "  <tbody>\n",
       "    <tr>\n",
       "      <th>Friday</th>\n",
       "      <td>8842</td>\n",
       "      <td>3674</td>\n",
       "    </tr>\n",
       "    <tr>\n",
       "      <th>Monday</th>\n",
       "      <td>10176</td>\n",
       "      <td>4405</td>\n",
       "    </tr>\n",
       "    <tr>\n",
       "      <th>Saturday</th>\n",
       "      <td>22</td>\n",
       "      <td>9</td>\n",
       "    </tr>\n",
       "    <tr>\n",
       "      <th>Thursday</th>\n",
       "      <td>8237</td>\n",
       "      <td>3089</td>\n",
       "    </tr>\n",
       "    <tr>\n",
       "      <th>Tuesday</th>\n",
       "      <td>11743</td>\n",
       "      <td>4719</td>\n",
       "    </tr>\n",
       "    <tr>\n",
       "      <th>Wednesday</th>\n",
       "      <td>12417</td>\n",
       "      <td>4627</td>\n",
       "    </tr>\n",
       "  </tbody>\n",
       "</table>\n",
       "</div>"
      ],
      "text/plain": [
       "show                   0     1\n",
       "appt_weekday_name             \n",
       "Friday              8842  3674\n",
       "Monday             10176  4405\n",
       "Saturday              22     9\n",
       "Thursday            8237  3089\n",
       "Tuesday            11743  4719\n",
       "Wednesday          12417  4627"
      ]
     },
     "execution_count": 53,
     "metadata": {},
     "output_type": "execute_result"
    }
   ],
   "source": [
    "crosstable = pd.crosstab(df[\"appt_weekday_name\"], df[\"show\"])\n",
    "crosstable"
   ]
  },
  {
   "cell_type": "code",
   "execution_count": 54,
   "metadata": {},
   "outputs": [
    {
     "data": {
      "image/png": "[encoded data removed]",
      "text/plain": [
       "<Figure size 432x288 with 1 Axes>"
      ]
     },
     "metadata": {
      "needs_background": "light"
     },
     "output_type": "display_data"
    }
   ],
   "source": [
    "# Tuesday is the busiest day for scheduling appointments followed by Wednesday\n",
    "\n",
    "sns.countplot(x=df['sch_weekday_name'], order=['Monday','Tuesday', 'Wednesday','Thursday','Friday','Saturday'])\n",
    "plt.title('Scheduled on Day of Week')\n",
    "plt.show()"
   ]
  },
  {
   "cell_type": "code",
   "execution_count": 55,
   "metadata": {},
   "outputs": [
    {
     "data": {
      "image/png": "[encoded data removed]",
      "text/plain": [
       "<Figure size 432x288 with 1 Axes>"
      ]
     },
     "metadata": {
      "needs_background": "light"
     },
     "output_type": "display_data"
    }
   ],
   "source": [
    "# Wednesday has the most appointments followed by Tuesday\n",
    "\n",
    "sns.countplot(x=df['appt_weekday_name'], order=['Monday','Tuesday', 'Wednesday','Thursday','Friday','Saturday'])\n",
    "plt.title('Appointment on Day of Week')\n",
    "plt.show()"
   ]
  },
  {
   "cell_type": "markdown",
   "metadata": {},
   "source": [
    "From pairplot, we can see that variables do not have a linear relationship with the target."
   ]
  },
  {
   "cell_type": "code",
   "execution_count": 56,
   "metadata": {},
   "outputs": [],
   "source": [
    "#sns.pairplot(df)\n",
    "#plt.show()"
   ]
  },
  {
   "cell_type": "markdown",
   "metadata": {},
   "source": [
    "## Looking at scheduled time and appointment time"
   ]
  },
  {
   "cell_type": "code",
   "execution_count": 57,
   "metadata": {},
   "outputs": [
    {
     "data": {
      "image/png": "[encoded data removed]",
      "text/plain": [
       "<Figure size 1152x360 with 1 Axes>"
      ]
     },
     "metadata": {
      "needs_background": "light"
     },
     "output_type": "display_data"
    }
   ],
   "source": [
    "# plotting time betweeen scheduling and appointment day on no shows which seems to show that the less time difference\n",
    "# the less no shows\n",
    "\n",
    "plt.figure(figsize=(16,5))\n",
    "df.groupby('show')['day_diff'].hist(bins=30)\n",
    "plt.title('No Shows by Days Between Scheduling and Appointment Day', size = '10')\n",
    "plt.legend(df.show.unique());"
   ]
  },
  {
   "cell_type": "code",
   "execution_count": 58,
   "metadata": {},
   "outputs": [
    {
     "data": {
      "image/png": "[encoded data removed]",
      "text/plain": [
       "<Figure size 1152x504 with 1 Axes>"
      ]
     },
     "metadata": {
      "needs_background": "light"
     },
     "output_type": "display_data"
    }
   ],
   "source": [
    "plt.figure(figsize=(16,7))\n",
    "plt.hist(x='day_diff', data=df, bins = 180)\n",
    "plt.title('Days Between Scheduling and Appointment')\n",
    "plt.show()"
   ]
  },
  {
   "cell_type": "markdown",
   "metadata": {},
   "source": [
    "We can see that as the time span between making the appointment and showing up increases so does the proportion of no shows."
   ]
  },
  {
   "cell_type": "code",
   "execution_count": 59,
   "metadata": {},
   "outputs": [
    {
     "data": {
      "image/png": "[encoded data removed]",
      "text/plain": [
       "<Figure size 432x288 with 1 Axes>"
      ]
     },
     "metadata": {
      "needs_background": "light"
     },
     "output_type": "display_data"
    }
   ],
   "source": [
    "ratio = df[df['show'] == 1].groupby(['day_diff']).size()/df.groupby(['day_diff']).size()\n",
    "ratio.plot()\n",
    "plt.title('Percentage of No Shows by Day Difference', size='16')\n",
    "plt.show()"
   ]
  },
  {
   "cell_type": "markdown",
   "metadata": {},
   "source": [
    "## Age and No Show"
   ]
  },
  {
   "cell_type": "code",
   "execution_count": 60,
   "metadata": {},
   "outputs": [
    {
     "data": {
      "image/png": "[encoded data removed]",
      "text/plain": [
       "<Figure size 432x288 with 1 Axes>"
      ]
     },
     "metadata": {
      "needs_background": "light"
     },
     "output_type": "display_data"
    }
   ],
   "source": [
    "df.Age.hist(bins=50)\n",
    "plt.show()"
   ]
  },
  {
   "cell_type": "code",
   "execution_count": 61,
   "metadata": {},
   "outputs": [
    {
     "data": {
      "text/plain": [
       "0      2131\n",
       "52     1144\n",
       "53     1132\n",
       "56     1132\n",
       "57     1126\n",
       "       ... \n",
       "98        5\n",
       "96        5\n",
       "100       4\n",
       "115       4\n",
       "102       1\n",
       "Name: Age, Length: 102, dtype: int64"
      ]
     },
     "execution_count": 61,
     "metadata": {},
     "output_type": "execute_result"
    }
   ],
   "source": [
    "df.Age.value_counts()"
   ]
  },
  {
   "cell_type": "code",
   "execution_count": 62,
   "metadata": {},
   "outputs": [
    {
     "data": {
      "image/png": "[encoded data removed]",
      "text/plain": [
       "<Figure size 1152x360 with 1 Axes>"
      ]
     },
     "metadata": {
      "needs_background": "light"
     },
     "output_type": "display_data"
    }
   ],
   "source": [
    "plt.figure(figsize=(16,5))\n",
    "df.groupby('Reminder')['day_diff'].hist(bins=30)\n",
    "plt.title('No Shows by Reminder and Day Interval', size = '16')\n",
    "plt.legend(df.show.unique());"
   ]
  },
  {
   "cell_type": "code",
   "execution_count": 63,
   "metadata": {},
   "outputs": [
    {
     "data": {
      "image/png": "[encoded data removed]",
      "text/plain": [
       "<Figure size 1152x360 with 1 Axes>"
      ]
     },
     "metadata": {
      "needs_background": "light"
     },
     "output_type": "display_data"
    }
   ],
   "source": [
    "plt.figure(figsize=(16,5))\n",
    "df.groupby('has_diabetes_and_hyper')['day_diff'].hist(bins=30)\n",
    "plt.title('No Shows by Patient ID and Day Interval', size = '16')\n",
    "plt.legend(df.show.unique());"
   ]
  },
  {
   "cell_type": "code",
   "execution_count": 64,
   "metadata": {},
   "outputs": [
    {
     "data": {
      "image/png": "[encoded data removed]",
      "text/plain": [
       "<Figure size 1152x360 with 1 Axes>"
      ]
     },
     "metadata": {
      "needs_background": "light"
     },
     "output_type": "display_data"
    }
   ],
   "source": [
    "plt.figure(figsize=(16,5))\n",
    "df.groupby('Disability')['day_diff'].hist(bins=30)\n",
    "plt.title('No Shows by Disability and Day Interval', size = '16')\n",
    "plt.legend(df.show.unique());"
   ]
  },
  {
   "cell_type": "markdown",
   "metadata": {},
   "source": [
    "## No show and Neighborhood"
   ]
  },
  {
   "cell_type": "code",
   "execution_count": 65,
   "metadata": {},
   "outputs": [
    {
     "data": {
      "image/png": "[encoded data removed]",
      "text/plain": [
       "<Figure size 1296x288 with 1 Axes>"
      ]
     },
     "metadata": {
      "needs_background": "light"
     },
     "output_type": "display_data"
    }
   ],
   "source": [
    "#Plotting ratio between showing up and all patients for every neighbourhood\n",
    "\n",
    "ratio = df[df.show == 1].groupby('Neighborhood').size()/df.groupby('Neighborhood').size()\n",
    "plt.figure(figsize=(18,4))\n",
    "plt.title('No Show ratio by Neighborhood')\n",
    "ratio.plot(kind='bar');"
   ]
  },
  {
   "cell_type": "code",
   "execution_count": 66,
   "metadata": {},
   "outputs": [
    {
     "data": {
      "text/plain": [
       "Neighborhood\n",
       "AEROPORTO                       1\n",
       "ILHA DO BOI                     2\n",
       "ILHA DO FRADE                   2\n",
       "ILHAS OCEÂNICAS DE TRINDADE     2\n",
       "PONTAL DE CAMBURI              12\n",
       "dtype: int64"
      ]
     },
     "execution_count": 66,
     "metadata": {},
     "output_type": "execute_result"
    }
   ],
   "source": [
    "df[df.show == 1].groupby('Neighborhood').size().nsmallest()"
   ]
  },
  {
   "cell_type": "code",
   "execution_count": 67,
   "metadata": {},
   "outputs": [
    {
     "data": {
      "text/plain": [
       "Neighborhood\n",
       "ILHAS OCEÂNICAS DE TRINDADE     2\n",
       "AEROPORTO                       5\n",
       "ILHA DO FRADE                   8\n",
       "ILHA DO BOI                    23\n",
       "PONTAL DE CAMBURI              41\n",
       "dtype: int64"
      ]
     },
     "execution_count": 67,
     "metadata": {},
     "output_type": "execute_result"
    }
   ],
   "source": [
    "df.groupby('Neighborhood').size().nsmallest()"
   ]
  },
  {
   "cell_type": "code",
   "execution_count": 68,
   "metadata": {},
   "outputs": [
    {
     "data": {
      "text/plain": [
       "79"
      ]
     },
     "execution_count": 68,
     "metadata": {},
     "output_type": "execute_result"
    }
   ],
   "source": [
    "# dropping outlier neighborhoods or those with equal patients and no shows\n",
    "\n",
    "df = df[(df.Neighborhood !='ILHAS OCEÂNICAS DE TRINDADE')]\n",
    "df.Neighborhood.nunique()"
   ]
  },
  {
   "cell_type": "code",
   "execution_count": 69,
   "metadata": {},
   "outputs": [
    {
     "data": {
      "image/png": "[encoded data removed]",
      "text/plain": [
       "<Figure size 1296x288 with 1 Axes>"
      ]
     },
     "metadata": {
      "needs_background": "light"
     },
     "output_type": "display_data"
    }
   ],
   "source": [
    "ratio = df[df.show == 1].groupby('Neighborhood').size()/df.groupby('Neighborhood').size()\n",
    "plt.figure(figsize=(18,4))\n",
    "plt.title('No Show ratio by Neighborhood')\n",
    "ratio.plot(kind='bar');"
   ]
  },
  {
   "cell_type": "code",
   "execution_count": 70,
   "metadata": {},
   "outputs": [
    {
     "data": {
      "image/png": "[encoded data removed]",
      "text/plain": [
       "<Figure size 2160x864 with 1 Axes>"
      ]
     },
     "metadata": {
      "needs_background": "light"
     },
     "output_type": "display_data"
    }
   ],
   "source": [
    "plt.figure(figsize=(30,12))\n",
    "fig = sns.countplot(x='Neighborhood',hue='show',data=df)\n",
    "fig.set_xticklabels(fig.get_xticklabels(), rotation=90);"
   ]
  },
  {
   "cell_type": "code",
   "execution_count": 71,
   "metadata": {},
   "outputs": [
    {
     "name": "stdout",
     "output_type": "stream",
     "text": [
      "JARDIM CAMBURI     5213\n",
      "MARIA ORTIZ        3730\n",
      "RESISTÊNCIA        2818\n",
      "JARDIM DA PENHA    2655\n",
      "ITARARÉ            2381\n",
      "Name: Neighborhood, dtype: int64\n",
      "AEROPORTO             5\n",
      "ILHA DO FRADE         8\n",
      "ILHA DO BOI          23\n",
      "PONTAL DE CAMBURI    41\n",
      "MORADA DE CAMBURI    78\n",
      "Name: Neighborhood, dtype: int64\n"
     ]
    }
   ],
   "source": [
    "print(df['Neighborhood'].value_counts(sort=True).nlargest(5))\n",
    "print(df['Neighborhood'].value_counts(sort=True).nsmallest(5))"
   ]
  },
  {
   "cell_type": "code",
   "execution_count": 72,
   "metadata": {},
   "outputs": [],
   "source": [
    "# creating binary for disability\n",
    "\n",
    "df['disability'] = df.Disability.transform(lambda x: int(x > 0))"
   ]
  },
  {
   "cell_type": "code",
   "execution_count": 73,
   "metadata": {},
   "outputs": [
    {
     "data": {
      "text/plain": [
       "0    70651\n",
       "1     1307\n",
       "Name: disability, dtype: int64"
      ]
     },
     "execution_count": 73,
     "metadata": {},
     "output_type": "execute_result"
    }
   ],
   "source": [
    "df.disability.value_counts()"
   ]
  },
  {
   "cell_type": "code",
   "execution_count": 74,
   "metadata": {},
   "outputs": [],
   "source": [
    "df['is_male'] = df.Gender.transform(lambda x: int(x =='M'))"
   ]
  },
  {
   "cell_type": "code",
   "execution_count": 75,
   "metadata": {},
   "outputs": [
    {
     "data": {
      "text/plain": [
       "0    48069\n",
       "1    23889\n",
       "Name: is_male, dtype: int64"
      ]
     },
     "execution_count": 75,
     "metadata": {},
     "output_type": "execute_result"
    }
   ],
   "source": [
    "df.is_male.value_counts()"
   ]
  },
  {
   "cell_type": "code",
   "execution_count": 76,
   "metadata": {},
   "outputs": [
    {
     "data": {
      "text/plain": [
       "is_male  show\n",
       "0        0       0.715555\n",
       "         1       0.284445\n",
       "1        0       0.713341\n",
       "         1       0.286659\n",
       "Name: show, dtype: float64"
      ]
     },
     "execution_count": 76,
     "metadata": {},
     "output_type": "execute_result"
    }
   ],
   "source": [
    "df['show'].groupby(df['is_male']).value_counts(normalize=True)"
   ]
  },
  {
   "cell_type": "code",
   "execution_count": 77,
   "metadata": {},
   "outputs": [
    {
     "data": {
      "text/plain": [
       "0    51437\n",
       "1    20521\n",
       "Name: show, dtype: int64"
      ]
     },
     "execution_count": 77,
     "metadata": {},
     "output_type": "execute_result"
    }
   ],
   "source": [
    "df.show.value_counts()"
   ]
  },
  {
   "cell_type": "code",
   "execution_count": 78,
   "metadata": {},
   "outputs": [],
   "source": [
    "df = df.drop(columns = ['Gender', 'Disability'])"
   ]
  },
  {
   "cell_type": "code",
   "execution_count": 79,
   "metadata": {},
   "outputs": [
    {
     "name": "stdout",
     "output_type": "stream",
     "text": [
      "Neighborhood\n",
      "79\n",
      "sch_weekday_name\n",
      "6\n",
      "appt_weekday_name\n",
      "6\n"
     ]
    }
   ],
   "source": [
    "categorical = df.select_dtypes(include=['object'])\n",
    "for i in categorical:\n",
    "    column = categorical[i]\n",
    "    print(i)\n",
    "    print(column.nunique())"
   ]
  },
  {
   "cell_type": "code",
   "execution_count": 80,
   "metadata": {},
   "outputs": [
    {
     "name": "stdout",
     "output_type": "stream",
     "text": [
      "<class 'pandas.core.frame.DataFrame'>\n",
      "Int64Index: 71958 entries, 5 to 110526\n",
      "Data columns (total 19 columns):\n",
      " #   Column                  Non-Null Count  Dtype              \n",
      "---  ------                  --------------  -----              \n",
      " 0   PatientId               71958 non-null  float64            \n",
      " 1   ScheduledDay            71958 non-null  datetime64[ns, UTC]\n",
      " 2   AppointmentDay          71958 non-null  datetime64[ns, UTC]\n",
      " 3   Age                     71958 non-null  int64              \n",
      " 4   Scholarship             71958 non-null  int64              \n",
      " 5   Diabetes                71958 non-null  int64              \n",
      " 6   Alcoholism              71958 non-null  int64              \n",
      " 7   Neighborhood            71958 non-null  object             \n",
      " 8   Hypertension            71958 non-null  int64              \n",
      " 9   Reminder                71958 non-null  int64              \n",
      " 10  show                    71958 non-null  int64              \n",
      " 11  sch_weekday_num         71958 non-null  int64              \n",
      " 12  sch_weekday_name        71958 non-null  object             \n",
      " 13  appt_weekday_num        71958 non-null  int64              \n",
      " 14  appt_weekday_name       71958 non-null  object             \n",
      " 15  has_diabetes_and_hyper  71958 non-null  int64              \n",
      " 16  day_diff                71958 non-null  int64              \n",
      " 17  disability              71958 non-null  int64              \n",
      " 18  is_male                 71958 non-null  int64              \n",
      "dtypes: datetime64[ns, UTC](2), float64(1), int64(13), object(3)\n",
      "memory usage: 13.5+ MB\n"
     ]
    }
   ],
   "source": [
    "df.info()"
   ]
  },
  {
   "cell_type": "code",
   "execution_count": 81,
   "metadata": {},
   "outputs": [
    {
     "data": {
      "image/png": "[encoded data removed]",
      "text/plain": [
       "<Figure size 1080x360 with 1 Axes>"
      ]
     },
     "metadata": {
      "needs_background": "light"
     },
     "output_type": "display_data"
    }
   ],
   "source": [
    "plt.figure(figsize=(15,5))\n",
    "plt.barh(df.groupby(\"disability\")[\"disability\"].count().index, \n",
    "        df.groupby(\"disability\")[\"disability\"].count(), \n",
    "        color=[\"green\",\"orange\"])\n",
    "plt.title(\"Count of Disability\")\n",
    "plt.show()"
   ]
  },
  {
   "cell_type": "code",
   "execution_count": 82,
   "metadata": {},
   "outputs": [
    {
     "data": {
      "text/plain": [
       "2    17044\n",
       "1    16462\n",
       "0    14581\n",
       "4    12514\n",
       "3    11326\n",
       "5       31\n",
       "Name: appt_weekday_num, dtype: int64"
      ]
     },
     "execution_count": 82,
     "metadata": {},
     "output_type": "execute_result"
    }
   ],
   "source": [
    "df.appt_weekday_num.value_counts()"
   ]
  },
  {
   "cell_type": "code",
   "execution_count": 83,
   "metadata": {},
   "outputs": [],
   "source": [
    "# creating columns for preprocessing\n",
    "\n",
    "drop_cats = [42500000000000,'JARDIM CAMBURI', 1, 2]\n",
    "\n",
    "cat_cols = ['PatientId', 'Neighborhood', 'sch_weekday_num', 'appt_weekday_num']\n",
    "\n",
    "bin_cols = ['is_male','Scholarship', 'Alcoholism', 'Reminder', 'has_diabetes_and_hyper',\n",
    "            'disability']\n",
    "\n",
    "num_cols = ['Age', 'day_diff']"
   ]
  },
  {
   "cell_type": "markdown",
   "metadata": {},
   "source": [
    "Looking at categorical data with our target, only two stand out. Those who get reminders have a greater percentage of showing up. Also, those who have a scholarship have a slightly higher percentage of not showing up. The interaction between hypertension and diabetes appears unchanged from either of the variables alone. "
   ]
  },
  {
   "cell_type": "code",
   "execution_count": 84,
   "metadata": {
    "scrolled": false
   },
   "outputs": [
    {
     "data": {
      "text/html": [
       "<div>\n",
       "<style scoped>\n",
       "    .dataframe tbody tr th:only-of-type {\n",
       "        vertical-align: middle;\n",
       "    }\n",
       "\n",
       "    .dataframe tbody tr th {\n",
       "        vertical-align: top;\n",
       "    }\n",
       "\n",
       "    .dataframe thead th {\n",
       "        text-align: right;\n",
       "    }\n",
       "</style>\n",
       "<table border=\"1\" class=\"dataframe\">\n",
       "  <thead>\n",
       "    <tr style=\"text-align: right;\">\n",
       "      <th>show</th>\n",
       "      <th>0</th>\n",
       "      <th>1</th>\n",
       "    </tr>\n",
       "    <tr>\n",
       "      <th>is_male</th>\n",
       "      <th></th>\n",
       "      <th></th>\n",
       "    </tr>\n",
       "  </thead>\n",
       "  <tbody>\n",
       "    <tr>\n",
       "      <th>0</th>\n",
       "      <td>0.715555</td>\n",
       "      <td>0.284445</td>\n",
       "    </tr>\n",
       "    <tr>\n",
       "      <th>1</th>\n",
       "      <td>0.713341</td>\n",
       "      <td>0.286659</td>\n",
       "    </tr>\n",
       "  </tbody>\n",
       "</table>\n",
       "</div>"
      ],
      "text/plain": [
       "show            0         1\n",
       "is_male                    \n",
       "0        0.715555  0.284445\n",
       "1        0.713341  0.286659"
      ]
     },
     "metadata": {},
     "output_type": "display_data"
    },
    {
     "data": {
      "image/png": "[encoded data removed]",
      "text/plain": [
       "<Figure size 432x288 with 1 Axes>"
      ]
     },
     "metadata": {
      "needs_background": "light"
     },
     "output_type": "display_data"
    },
    {
     "data": {
      "text/html": [
       "<div>\n",
       "<style scoped>\n",
       "    .dataframe tbody tr th:only-of-type {\n",
       "        vertical-align: middle;\n",
       "    }\n",
       "\n",
       "    .dataframe tbody tr th {\n",
       "        vertical-align: top;\n",
       "    }\n",
       "\n",
       "    .dataframe thead th {\n",
       "        text-align: right;\n",
       "    }\n",
       "</style>\n",
       "<table border=\"1\" class=\"dataframe\">\n",
       "  <thead>\n",
       "    <tr style=\"text-align: right;\">\n",
       "      <th>show</th>\n",
       "      <th>0</th>\n",
       "      <th>1</th>\n",
       "    </tr>\n",
       "    <tr>\n",
       "      <th>Scholarship</th>\n",
       "      <th></th>\n",
       "      <th></th>\n",
       "    </tr>\n",
       "  </thead>\n",
       "  <tbody>\n",
       "    <tr>\n",
       "      <th>0</th>\n",
       "      <td>0.721415</td>\n",
       "      <td>0.278585</td>\n",
       "    </tr>\n",
       "    <tr>\n",
       "      <th>1</th>\n",
       "      <td>0.650277</td>\n",
       "      <td>0.349723</td>\n",
       "    </tr>\n",
       "  </tbody>\n",
       "</table>\n",
       "</div>"
      ],
      "text/plain": [
       "show                0         1\n",
       "Scholarship                    \n",
       "0            0.721415  0.278585\n",
       "1            0.650277  0.349723"
      ]
     },
     "metadata": {},
     "output_type": "display_data"
    },
    {
     "data": {
      "image/png": "[encoded data removed]",
      "text/plain": [
       "<Figure size 432x288 with 1 Axes>"
      ]
     },
     "metadata": {
      "needs_background": "light"
     },
     "output_type": "display_data"
    },
    {
     "data": {
      "text/html": [
       "<div>\n",
       "<style scoped>\n",
       "    .dataframe tbody tr th:only-of-type {\n",
       "        vertical-align: middle;\n",
       "    }\n",
       "\n",
       "    .dataframe tbody tr th {\n",
       "        vertical-align: top;\n",
       "    }\n",
       "\n",
       "    .dataframe thead th {\n",
       "        text-align: right;\n",
       "    }\n",
       "</style>\n",
       "<table border=\"1\" class=\"dataframe\">\n",
       "  <thead>\n",
       "    <tr style=\"text-align: right;\">\n",
       "      <th>show</th>\n",
       "      <th>0</th>\n",
       "      <th>1</th>\n",
       "    </tr>\n",
       "    <tr>\n",
       "      <th>Alcoholism</th>\n",
       "      <th></th>\n",
       "      <th></th>\n",
       "    </tr>\n",
       "  </thead>\n",
       "  <tbody>\n",
       "    <tr>\n",
       "      <th>0</th>\n",
       "      <td>0.716266</td>\n",
       "      <td>0.283734</td>\n",
       "    </tr>\n",
       "    <tr>\n",
       "      <th>1</th>\n",
       "      <td>0.659166</td>\n",
       "      <td>0.340834</td>\n",
       "    </tr>\n",
       "  </tbody>\n",
       "</table>\n",
       "</div>"
      ],
      "text/plain": [
       "show               0         1\n",
       "Alcoholism                    \n",
       "0           0.716266  0.283734\n",
       "1           0.659166  0.340834"
      ]
     },
     "metadata": {},
     "output_type": "display_data"
    },
    {
     "data": {
      "image/png": "[encoded data removed]",
      "text/plain": [
       "<Figure size 432x288 with 1 Axes>"
      ]
     },
     "metadata": {
      "needs_background": "light"
     },
     "output_type": "display_data"
    },
    {
     "data": {
      "text/html": [
       "<div>\n",
       "<style scoped>\n",
       "    .dataframe tbody tr th:only-of-type {\n",
       "        vertical-align: middle;\n",
       "    }\n",
       "\n",
       "    .dataframe tbody tr th {\n",
       "        vertical-align: top;\n",
       "    }\n",
       "\n",
       "    .dataframe thead th {\n",
       "        text-align: right;\n",
       "    }\n",
       "</style>\n",
       "<table border=\"1\" class=\"dataframe\">\n",
       "  <thead>\n",
       "    <tr style=\"text-align: right;\">\n",
       "      <th>show</th>\n",
       "      <th>0</th>\n",
       "      <th>1</th>\n",
       "    </tr>\n",
       "    <tr>\n",
       "      <th>Reminder</th>\n",
       "      <th></th>\n",
       "      <th></th>\n",
       "    </tr>\n",
       "  </thead>\n",
       "  <tbody>\n",
       "    <tr>\n",
       "      <th>0</th>\n",
       "      <td>0.705642</td>\n",
       "      <td>0.294358</td>\n",
       "    </tr>\n",
       "    <tr>\n",
       "      <th>1</th>\n",
       "      <td>0.724255</td>\n",
       "      <td>0.275745</td>\n",
       "    </tr>\n",
       "  </tbody>\n",
       "</table>\n",
       "</div>"
      ],
      "text/plain": [
       "show             0         1\n",
       "Reminder                    \n",
       "0         0.705642  0.294358\n",
       "1         0.724255  0.275745"
      ]
     },
     "metadata": {},
     "output_type": "display_data"
    },
    {
     "data": {
      "image/png": "[encoded data removed]",
      "text/plain": [
       "<Figure size 432x288 with 1 Axes>"
      ]
     },
     "metadata": {
      "needs_background": "light"
     },
     "output_type": "display_data"
    },
    {
     "data": {
      "text/html": [
       "<div>\n",
       "<style scoped>\n",
       "    .dataframe tbody tr th:only-of-type {\n",
       "        vertical-align: middle;\n",
       "    }\n",
       "\n",
       "    .dataframe tbody tr th {\n",
       "        vertical-align: top;\n",
       "    }\n",
       "\n",
       "    .dataframe thead th {\n",
       "        text-align: right;\n",
       "    }\n",
       "</style>\n",
       "<table border=\"1\" class=\"dataframe\">\n",
       "  <thead>\n",
       "    <tr style=\"text-align: right;\">\n",
       "      <th>show</th>\n",
       "      <th>0</th>\n",
       "      <th>1</th>\n",
       "    </tr>\n",
       "    <tr>\n",
       "      <th>has_diabetes_and_hyper</th>\n",
       "      <th></th>\n",
       "      <th></th>\n",
       "    </tr>\n",
       "  </thead>\n",
       "  <tbody>\n",
       "    <tr>\n",
       "      <th>0</th>\n",
       "      <td>0.712038</td>\n",
       "      <td>0.287962</td>\n",
       "    </tr>\n",
       "    <tr>\n",
       "      <th>1</th>\n",
       "      <td>0.757562</td>\n",
       "      <td>0.242438</td>\n",
       "    </tr>\n",
       "  </tbody>\n",
       "</table>\n",
       "</div>"
      ],
      "text/plain": [
       "show                           0         1\n",
       "has_diabetes_and_hyper                    \n",
       "0                       0.712038  0.287962\n",
       "1                       0.757562  0.242438"
      ]
     },
     "metadata": {},
     "output_type": "display_data"
    },
    {
     "data": {
      "image/png": "[encoded data removed]",
      "text/plain": [
       "<Figure size 432x288 with 1 Axes>"
      ]
     },
     "metadata": {
      "needs_background": "light"
     },
     "output_type": "display_data"
    },
    {
     "data": {
      "text/html": [
       "<div>\n",
       "<style scoped>\n",
       "    .dataframe tbody tr th:only-of-type {\n",
       "        vertical-align: middle;\n",
       "    }\n",
       "\n",
       "    .dataframe tbody tr th {\n",
       "        vertical-align: top;\n",
       "    }\n",
       "\n",
       "    .dataframe thead th {\n",
       "        text-align: right;\n",
       "    }\n",
       "</style>\n",
       "<table border=\"1\" class=\"dataframe\">\n",
       "  <thead>\n",
       "    <tr style=\"text-align: right;\">\n",
       "      <th>show</th>\n",
       "      <th>0</th>\n",
       "      <th>1</th>\n",
       "    </tr>\n",
       "    <tr>\n",
       "      <th>disability</th>\n",
       "      <th></th>\n",
       "      <th></th>\n",
       "    </tr>\n",
       "  </thead>\n",
       "  <tbody>\n",
       "    <tr>\n",
       "      <th>0</th>\n",
       "      <td>0.714272</td>\n",
       "      <td>0.285728</td>\n",
       "    </tr>\n",
       "    <tr>\n",
       "      <th>1</th>\n",
       "      <td>0.744453</td>\n",
       "      <td>0.255547</td>\n",
       "    </tr>\n",
       "  </tbody>\n",
       "</table>\n",
       "</div>"
      ],
      "text/plain": [
       "show               0         1\n",
       "disability                    \n",
       "0           0.714272  0.285728\n",
       "1           0.744453  0.255547"
      ]
     },
     "metadata": {},
     "output_type": "display_data"
    },
    {
     "data": {
      "image/png": "[encoded data removed]",
      "text/plain": [
       "<Figure size 432x288 with 1 Axes>"
      ]
     },
     "metadata": {
      "needs_background": "light"
     },
     "output_type": "display_data"
    }
   ],
   "source": [
    "for bin_col in bin_cols:\n",
    "    display(pd.crosstab(df[bin_col], df[\"show\"], normalize=\"index\"))\n",
    "        \n",
    "    Sch_ratio = df[df.show == 0].groupby(df[bin_col]).size()/df.groupby(df[bin_col]).size()\n",
    "    ax = sns.barplot(x=Sch_ratio.index, y=Sch_ratio)\n",
    "    ax.set_title(\"Percentage of No Show by Category\", size='12')\n",
    "    plt.show()"
   ]
  },
  {
   "cell_type": "markdown",
   "metadata": {},
   "source": [
    "Visualing numerical data with target. Younger ages appear to miss their appointment more than older patients. It also looks like more days between scheduling the appointment and the appointment day has more no_shows. "
   ]
  },
  {
   "cell_type": "code",
   "execution_count": 85,
   "metadata": {},
   "outputs": [
    {
     "data": {
      "image/png": "[encoded data removed]",
      "text/plain": [
       "<Figure size 432x288 with 1 Axes>"
      ]
     },
     "metadata": {
      "needs_background": "light"
     },
     "output_type": "display_data"
    },
    {
     "data": {
      "image/png": "[encoded data removed]",
      "text/plain": [
       "<Figure size 432x288 with 1 Axes>"
      ]
     },
     "metadata": {
      "needs_background": "light"
     },
     "output_type": "display_data"
    }
   ],
   "source": [
    "for num_col in num_cols:\n",
    "    sns.violinplot(x=df[\"show\"], y=df[num_col])\n",
    "    plt.show()"
   ]
  },
  {
   "cell_type": "code",
   "execution_count": 86,
   "metadata": {},
   "outputs": [
    {
     "data": {
      "text/plain": [
       "0    51437\n",
       "1    20521\n",
       "Name: show, dtype: int64"
      ]
     },
     "execution_count": 86,
     "metadata": {},
     "output_type": "execute_result"
    }
   ],
   "source": [
    "df.show.value_counts()"
   ]
  },
  {
   "cell_type": "code",
   "execution_count": 87,
   "metadata": {},
   "outputs": [
    {
     "data": {
      "text/plain": [
       "1     2937\n",
       "2     5632\n",
       "3     5368\n",
       "4     2811\n",
       "5     2740\n",
       "6     5586\n",
       "7     2871\n",
       "8     2942\n",
       "9     2849\n",
       "10    2731\n",
       "11    2952\n",
       "12    2866\n",
       "13    2606\n",
       "14      31\n",
       "16    2997\n",
       "17    2860\n",
       "18    2916\n",
       "19    2876\n",
       "20    2534\n",
       "24    2445\n",
       "25    2486\n",
       "29    2182\n",
       "30    2874\n",
       "31    2866\n",
       "Name: AppointmentDay, dtype: int64"
      ]
     },
     "execution_count": 87,
     "metadata": {},
     "output_type": "execute_result"
    }
   ],
   "source": [
    "df.AppointmentDay.dt.day.value_counts().sort_index()"
   ]
  },
  {
   "cell_type": "code",
   "execution_count": 88,
   "metadata": {},
   "outputs": [
    {
     "data": {
      "text/plain": [
       "<matplotlib.axes._subplots.AxesSubplot at 0x1affdd05390>"
      ]
     },
     "execution_count": 88,
     "metadata": {},
     "output_type": "execute_result"
    },
    {
     "data": {
      "image/png": "[encoded data removed]",
      "text/plain": [
       "<Figure size 432x288 with 1 Axes>"
      ]
     },
     "metadata": {
      "needs_background": "light"
     },
     "output_type": "display_data"
    }
   ],
   "source": [
    "df.AppointmentDay.dt.day.value_counts().sort_index().plot()"
   ]
  },
  {
   "cell_type": "code",
   "execution_count": 89,
   "metadata": {},
   "outputs": [
    {
     "data": {
      "text/plain": [
       "<matplotlib.axes._subplots.AxesSubplot at 0x1affdcd4860>"
      ]
     },
     "execution_count": 89,
     "metadata": {},
     "output_type": "execute_result"
    },
    {
     "data": {
      "image/png": "[encoded data removed]",
      "text/plain": [
       "<Figure size 432x288 with 1 Axes>"
      ]
     },
     "metadata": {
      "needs_background": "light"
     },
     "output_type": "display_data"
    }
   ],
   "source": [
    "df.ScheduledDay.dt.hour.value_counts().sort_index().plot()"
   ]
  },
  {
   "cell_type": "code",
   "execution_count": 90,
   "metadata": {},
   "outputs": [
    {
     "data": {
      "image/png": "[encoded data removed]",
      "text/plain": [
       "<Figure size 432x288 with 1 Axes>"
      ]
     },
     "metadata": {
      "needs_background": "light"
     },
     "output_type": "display_data"
    }
   ],
   "source": [
    "# grouping the appointments by day and count\n",
    "\n",
    "df.groupby(df[\"AppointmentDay\"].dt.day)[\"AppointmentDay\"].count().plot(kind=\"bar\", color='b', alpha=0.3)\n",
    "plt.title('Day of Appointment')\n",
    "plt.xlabel('Wait Time')\n",
    "plt.ylabel('Number of appointments made')\n",
    "plt.show()"
   ]
  },
  {
   "cell_type": "code",
   "execution_count": 91,
   "metadata": {},
   "outputs": [
    {
     "data": {
      "text/html": [
       "<div>\n",
       "<style scoped>\n",
       "    .dataframe tbody tr th:only-of-type {\n",
       "        vertical-align: middle;\n",
       "    }\n",
       "\n",
       "    .dataframe tbody tr th {\n",
       "        vertical-align: top;\n",
       "    }\n",
       "\n",
       "    .dataframe thead th {\n",
       "        text-align: right;\n",
       "    }\n",
       "</style>\n",
       "<table border=\"1\" class=\"dataframe\">\n",
       "  <thead>\n",
       "    <tr style=\"text-align: right;\">\n",
       "      <th></th>\n",
       "      <th>PatientId</th>\n",
       "      <th>proportion</th>\n",
       "      <th>count</th>\n",
       "    </tr>\n",
       "  </thead>\n",
       "  <tbody>\n",
       "    <tr>\n",
       "      <th>3837</th>\n",
       "      <td>2.150000e+13</td>\n",
       "      <td>0.338710</td>\n",
       "      <td>62</td>\n",
       "    </tr>\n",
       "    <tr>\n",
       "      <th>3894</th>\n",
       "      <td>2.720000e+13</td>\n",
       "      <td>0.177419</td>\n",
       "      <td>62</td>\n",
       "    </tr>\n",
       "    <tr>\n",
       "      <th>3997</th>\n",
       "      <td>3.850000e+13</td>\n",
       "      <td>0.200000</td>\n",
       "      <td>65</td>\n",
       "    </tr>\n",
       "    <tr>\n",
       "      <th>4027</th>\n",
       "      <td>4.250000e+13</td>\n",
       "      <td>0.227273</td>\n",
       "      <td>66</td>\n",
       "    </tr>\n",
       "    <tr>\n",
       "      <th>4238</th>\n",
       "      <td>6.560000e+13</td>\n",
       "      <td>0.229508</td>\n",
       "      <td>61</td>\n",
       "    </tr>\n",
       "  </tbody>\n",
       "</table>\n",
       "</div>"
      ],
      "text/plain": [
       "         PatientId  proportion  count\n",
       "3837  2.150000e+13    0.338710     62\n",
       "3894  2.720000e+13    0.177419     62\n",
       "3997  3.850000e+13    0.200000     65\n",
       "4027  4.250000e+13    0.227273     66\n",
       "4238  6.560000e+13    0.229508     61"
      ]
     },
     "metadata": {},
     "output_type": "display_data"
    },
    {
     "data": {
      "image/png": "[encoded data removed]",
      "text/plain": [
       "<Figure size 432x288 with 1 Axes>"
      ]
     },
     "metadata": {
      "needs_background": "light"
     },
     "output_type": "display_data"
    }
   ],
   "source": [
    "returning = df[[\"PatientId\", \"show\"]]\n",
    "\n",
    "show_rate_by_patient = returning.groupby(\"PatientId\").agg([\"mean\", \"count\"])\n",
    "show_rate_by_patient.columns = [\"proportion\", \"count\"]\n",
    "show_rate_by_patient = show_rate_by_patient.reset_index()\n",
    "\n",
    "# Removing 1-offs that might skew pattern\n",
    "viz_df = show_rate_by_patient[show_rate_by_patient[\"count\"] > 60]\n",
    "display(viz_df.head())\n",
    "\n",
    "sns.barplot(x=\"proportion\", y=\"PatientId\", data=viz_df)\n",
    "plt.show()"
   ]
  },
  {
   "cell_type": "code",
   "execution_count": 92,
   "metadata": {},
   "outputs": [
    {
     "data": {
      "text/html": [
       "<div>\n",
       "<style scoped>\n",
       "    .dataframe tbody tr th:only-of-type {\n",
       "        vertical-align: middle;\n",
       "    }\n",
       "\n",
       "    .dataframe tbody tr th {\n",
       "        vertical-align: top;\n",
       "    }\n",
       "\n",
       "    .dataframe thead th {\n",
       "        text-align: right;\n",
       "    }\n",
       "</style>\n",
       "<table border=\"1\" class=\"dataframe\">\n",
       "  <thead>\n",
       "    <tr style=\"text-align: right;\">\n",
       "      <th></th>\n",
       "      <th>PatientId</th>\n",
       "      <th>ScheduledDay</th>\n",
       "      <th>AppointmentDay</th>\n",
       "      <th>Age</th>\n",
       "      <th>Scholarship</th>\n",
       "      <th>Diabetes</th>\n",
       "      <th>Alcoholism</th>\n",
       "      <th>Neighborhood</th>\n",
       "      <th>Hypertension</th>\n",
       "      <th>Reminder</th>\n",
       "      <th>show</th>\n",
       "      <th>sch_weekday_num</th>\n",
       "      <th>sch_weekday_name</th>\n",
       "      <th>appt_weekday_num</th>\n",
       "      <th>appt_weekday_name</th>\n",
       "      <th>has_diabetes_and_hyper</th>\n",
       "      <th>day_diff</th>\n",
       "      <th>disability</th>\n",
       "      <th>is_male</th>\n",
       "    </tr>\n",
       "  </thead>\n",
       "  <tbody>\n",
       "    <tr>\n",
       "      <th>5</th>\n",
       "      <td>9.600000e+13</td>\n",
       "      <td>2016-04-27 08:36:51+00:00</td>\n",
       "      <td>2016-04-29 00:00:00+00:00</td>\n",
       "      <td>76</td>\n",
       "      <td>0</td>\n",
       "      <td>0</td>\n",
       "      <td>0</td>\n",
       "      <td>REPÚBLICA</td>\n",
       "      <td>1</td>\n",
       "      <td>0</td>\n",
       "      <td>0</td>\n",
       "      <td>2</td>\n",
       "      <td>Wednesday</td>\n",
       "      <td>4</td>\n",
       "      <td>Friday</td>\n",
       "      <td>0</td>\n",
       "      <td>1</td>\n",
       "      <td>0</td>\n",
       "      <td>0</td>\n",
       "    </tr>\n",
       "    <tr>\n",
       "      <th>6</th>\n",
       "      <td>7.340000e+14</td>\n",
       "      <td>2016-04-27 15:05:12+00:00</td>\n",
       "      <td>2016-04-29 00:00:00+00:00</td>\n",
       "      <td>23</td>\n",
       "      <td>0</td>\n",
       "      <td>0</td>\n",
       "      <td>0</td>\n",
       "      <td>GOIABEIRAS</td>\n",
       "      <td>0</td>\n",
       "      <td>0</td>\n",
       "      <td>1</td>\n",
       "      <td>2</td>\n",
       "      <td>Wednesday</td>\n",
       "      <td>4</td>\n",
       "      <td>Friday</td>\n",
       "      <td>0</td>\n",
       "      <td>1</td>\n",
       "      <td>0</td>\n",
       "      <td>0</td>\n",
       "    </tr>\n",
       "    <tr>\n",
       "      <th>7</th>\n",
       "      <td>3.450000e+12</td>\n",
       "      <td>2016-04-27 15:39:58+00:00</td>\n",
       "      <td>2016-04-29 00:00:00+00:00</td>\n",
       "      <td>39</td>\n",
       "      <td>0</td>\n",
       "      <td>0</td>\n",
       "      <td>0</td>\n",
       "      <td>GOIABEIRAS</td>\n",
       "      <td>0</td>\n",
       "      <td>0</td>\n",
       "      <td>1</td>\n",
       "      <td>2</td>\n",
       "      <td>Wednesday</td>\n",
       "      <td>4</td>\n",
       "      <td>Friday</td>\n",
       "      <td>0</td>\n",
       "      <td>1</td>\n",
       "      <td>0</td>\n",
       "      <td>0</td>\n",
       "    </tr>\n",
       "    <tr>\n",
       "      <th>9</th>\n",
       "      <td>7.810000e+13</td>\n",
       "      <td>2016-04-27 12:48:25+00:00</td>\n",
       "      <td>2016-04-29 00:00:00+00:00</td>\n",
       "      <td>19</td>\n",
       "      <td>0</td>\n",
       "      <td>0</td>\n",
       "      <td>0</td>\n",
       "      <td>CONQUISTA</td>\n",
       "      <td>0</td>\n",
       "      <td>0</td>\n",
       "      <td>0</td>\n",
       "      <td>2</td>\n",
       "      <td>Wednesday</td>\n",
       "      <td>4</td>\n",
       "      <td>Friday</td>\n",
       "      <td>0</td>\n",
       "      <td>1</td>\n",
       "      <td>0</td>\n",
       "      <td>0</td>\n",
       "    </tr>\n",
       "    <tr>\n",
       "      <th>10</th>\n",
       "      <td>7.350000e+14</td>\n",
       "      <td>2016-04-27 14:58:11+00:00</td>\n",
       "      <td>2016-04-29 00:00:00+00:00</td>\n",
       "      <td>30</td>\n",
       "      <td>0</td>\n",
       "      <td>0</td>\n",
       "      <td>0</td>\n",
       "      <td>NOVA PALESTINA</td>\n",
       "      <td>0</td>\n",
       "      <td>0</td>\n",
       "      <td>0</td>\n",
       "      <td>2</td>\n",
       "      <td>Wednesday</td>\n",
       "      <td>4</td>\n",
       "      <td>Friday</td>\n",
       "      <td>0</td>\n",
       "      <td>1</td>\n",
       "      <td>0</td>\n",
       "      <td>0</td>\n",
       "    </tr>\n",
       "  </tbody>\n",
       "</table>\n",
       "</div>"
      ],
      "text/plain": [
       "       PatientId              ScheduledDay            AppointmentDay  Age  \\\n",
       "5   9.600000e+13 2016-04-27 08:36:51+00:00 2016-04-29 00:00:00+00:00   76   \n",
       "6   7.340000e+14 2016-04-27 15:05:12+00:00 2016-04-29 00:00:00+00:00   23   \n",
       "7   3.450000e+12 2016-04-27 15:39:58+00:00 2016-04-29 00:00:00+00:00   39   \n",
       "9   7.810000e+13 2016-04-27 12:48:25+00:00 2016-04-29 00:00:00+00:00   19   \n",
       "10  7.350000e+14 2016-04-27 14:58:11+00:00 2016-04-29 00:00:00+00:00   30   \n",
       "\n",
       "    Scholarship  Diabetes  Alcoholism    Neighborhood  Hypertension  Reminder  \\\n",
       "5             0         0           0       REPÚBLICA             1         0   \n",
       "6             0         0           0      GOIABEIRAS             0         0   \n",
       "7             0         0           0      GOIABEIRAS             0         0   \n",
       "9             0         0           0       CONQUISTA             0         0   \n",
       "10            0         0           0  NOVA PALESTINA             0         0   \n",
       "\n",
       "    show  sch_weekday_num sch_weekday_name  appt_weekday_num  \\\n",
       "5      0                2        Wednesday                 4   \n",
       "6      1                2        Wednesday                 4   \n",
       "7      1                2        Wednesday                 4   \n",
       "9      0                2        Wednesday                 4   \n",
       "10     0                2        Wednesday                 4   \n",
       "\n",
       "   appt_weekday_name  has_diabetes_and_hyper  day_diff  disability  is_male  \n",
       "5             Friday                       0         1           0        0  \n",
       "6             Friday                       0         1           0        0  \n",
       "7             Friday                       0         1           0        0  \n",
       "9             Friday                       0         1           0        0  \n",
       "10            Friday                       0         1           0        0  "
      ]
     },
     "execution_count": 92,
     "metadata": {},
     "output_type": "execute_result"
    }
   ],
   "source": [
    "df.head()"
   ]
  },
  {
   "cell_type": "markdown",
   "metadata": {},
   "source": [
    "## Model Prep"
   ]
  },
  {
   "cell_type": "code",
   "execution_count": 93,
   "metadata": {},
   "outputs": [],
   "source": [
    "# creating columns for preprocessing\n",
    "\n",
    "drop_cats = [42500000000000,'JARDIM CAMBURI', 1, 2]\n",
    "\n",
    "cat_cols = ['PatientId', 'Neighborhood', 'sch_weekday_num', 'appt_weekday_num']\n",
    "\n",
    "bin_cols = ['is_male','Scholarship', 'Alcoholism', 'Reminder', 'has_diabetes_and_hyper',\n",
    "            'disability']\n",
    "\n",
    "num_cols = ['Age', 'day_diff']"
   ]
  },
  {
   "cell_type": "code",
   "execution_count": 94,
   "metadata": {},
   "outputs": [],
   "source": [
    "X = df.drop(columns=[\"show\", 'sch_weekday_name', 'appt_weekday_name','Diabetes', 'Hypertension',\n",
    "                          'ScheduledDay', 'AppointmentDay'])\n",
    "y = df[\"show\"]\n",
    "\n",
    "X_train, X_test, y_train, y_test = train_test_split(\n",
    "    X, y, test_size=0.2, random_state=42, stratify=y\n",
    ")"
   ]
  },
  {
   "cell_type": "code",
   "execution_count": 95,
   "metadata": {},
   "outputs": [],
   "source": [
    "# fmt: off\n",
    "preprocessing = ColumnTransformer([\n",
    "    ('leaveoneoutencoder', LeaveOneOutEncoder(), cat_cols),\n",
    "    ('scale', StandardScaler(), num_cols)\n",
    "], remainder='passthrough')\n",
    "# fmt: on"
   ]
  },
  {
   "cell_type": "code",
   "execution_count": 96,
   "metadata": {},
   "outputs": [],
   "source": [
    "# fmt: off\n",
    "pipeline = Pipeline([\n",
    "    ('preprocessing', preprocessing),\n",
    "    ('xgb', XGBClassifier(use_label_encoder=False))\n",
    "    #(\"model\", RandomForestClassifier())\n",
    "])\n",
    "# fmt: on"
   ]
  },
  {
   "cell_type": "code",
   "execution_count": 97,
   "metadata": {},
   "outputs": [
    {
     "name": "stdout",
     "output_type": "stream",
     "text": [
      "[16:26:05] WARNING: C:/Users/Administrator/workspace/xgboost-win64_release_1.3.0/src/learner.cc:1061: Starting in XGBoost 1.3.0, the default evaluation metric used with the objective 'binary:logistic' was changed from 'error' to 'logloss'. Explicitly set eval_metric if you'd like to restore the old behavior.\n",
      "Train score: 0.6305110655595316\n",
      "Test score: 0.6287520844913841\n"
     ]
    }
   ],
   "source": [
    "pipeline.fit(X_train, y_train)\n",
    "\n",
    "train_score = pipeline.score(X_train, y_train)\n",
    "test_score = pipeline.score(X_test, y_test)\n",
    "\n",
    "print(f\"Train score: {train_score}\")\n",
    "print(f\"Test score: {test_score}\")"
   ]
  },
  {
   "cell_type": "code",
   "execution_count": 98,
   "metadata": {},
   "outputs": [
    {
     "data": {
      "text/html": [
       "<div>\n",
       "<style scoped>\n",
       "    .dataframe tbody tr th:only-of-type {\n",
       "        vertical-align: middle;\n",
       "    }\n",
       "\n",
       "    .dataframe tbody tr th {\n",
       "        vertical-align: top;\n",
       "    }\n",
       "\n",
       "    .dataframe thead th {\n",
       "        text-align: right;\n",
       "    }\n",
       "</style>\n",
       "<table border=\"1\" class=\"dataframe\">\n",
       "  <thead>\n",
       "    <tr style=\"text-align: right;\">\n",
       "      <th></th>\n",
       "      <th>pred_show</th>\n",
       "      <th>pred_No_show</th>\n",
       "    </tr>\n",
       "  </thead>\n",
       "  <tbody>\n",
       "    <tr>\n",
       "      <th>actual_show</th>\n",
       "      <td>8354</td>\n",
       "      <td>1934</td>\n",
       "    </tr>\n",
       "    <tr>\n",
       "      <th>actual_No_show</th>\n",
       "      <td>3409</td>\n",
       "      <td>695</td>\n",
       "    </tr>\n",
       "  </tbody>\n",
       "</table>\n",
       "</div>"
      ],
      "text/plain": [
       "                pred_show  pred_No_show\n",
       "actual_show          8354          1934\n",
       "actual_No_show       3409           695"
      ]
     },
     "metadata": {},
     "output_type": "display_data"
    },
    {
     "name": "stdout",
     "output_type": "stream",
     "text": [
      "              precision    recall  f1-score   support\n",
      "\n",
      "           0       0.71      0.81      0.76     10288\n",
      "           1       0.26      0.17      0.21      4104\n",
      "\n",
      "    accuracy                           0.63     14392\n",
      "   macro avg       0.49      0.49      0.48     14392\n",
      "weighted avg       0.58      0.63      0.60     14392\n",
      "\n"
     ]
    }
   ],
   "source": [
    "# pipline.predict only requires X, not y\n",
    "y_pred = pipeline.predict(X_test)\n",
    "\n",
    "confusion_mat = confusion_matrix(y_test, y_pred)\n",
    "confusion_df = pd.DataFrame(\n",
    "    confusion_mat,\n",
    "    index=[\"actual_show\", \"actual_No_show\"],\n",
    "    columns=[\"pred_show\", \"pred_No_show\"],\n",
    ")\n",
    "# print(confusion_df)\n",
    "display(confusion_df)\n",
    "\n",
    "print(classification_report(y_test, y_pred))"
   ]
  },
  {
   "cell_type": "code",
   "execution_count": 99,
   "metadata": {},
   "outputs": [
    {
     "data": {
      "text/plain": [
       "0.7148415786548082"
      ]
     },
     "execution_count": 99,
     "metadata": {},
     "output_type": "execute_result"
    }
   ],
   "source": [
    "# comparing to a dummy classifier\n",
    "dummy = DummyClassifier(strategy = 'most_frequent')\n",
    "dummy.fit(X_train, y_train)\n",
    "dummy.score(X_test, y_test)"
   ]
  },
  {
   "cell_type": "code",
   "execution_count": 100,
   "metadata": {},
   "outputs": [
    {
     "data": {
      "text/html": [
       "<div>\n",
       "<style scoped>\n",
       "    .dataframe tbody tr th:only-of-type {\n",
       "        vertical-align: middle;\n",
       "    }\n",
       "\n",
       "    .dataframe tbody tr th {\n",
       "        vertical-align: top;\n",
       "    }\n",
       "\n",
       "    .dataframe thead th {\n",
       "        text-align: right;\n",
       "    }\n",
       "</style>\n",
       "<table border=\"1\" class=\"dataframe\">\n",
       "  <thead>\n",
       "    <tr style=\"text-align: right;\">\n",
       "      <th></th>\n",
       "      <th>pred_show</th>\n",
       "      <th>pred_No_show</th>\n",
       "    </tr>\n",
       "  </thead>\n",
       "  <tbody>\n",
       "    <tr>\n",
       "      <th>actual_show</th>\n",
       "      <td>10288</td>\n",
       "      <td>0</td>\n",
       "    </tr>\n",
       "    <tr>\n",
       "      <th>actual_No_show</th>\n",
       "      <td>4104</td>\n",
       "      <td>0</td>\n",
       "    </tr>\n",
       "  </tbody>\n",
       "</table>\n",
       "</div>"
      ],
      "text/plain": [
       "                pred_show  pred_No_show\n",
       "actual_show         10288             0\n",
       "actual_No_show       4104             0"
      ]
     },
     "metadata": {},
     "output_type": "display_data"
    },
    {
     "name": "stdout",
     "output_type": "stream",
     "text": [
      "              precision    recall  f1-score   support\n",
      "\n",
      "           0       0.71      1.00      0.83     10288\n",
      "           1       0.00      0.00      0.00      4104\n",
      "\n",
      "    accuracy                           0.71     14392\n",
      "   macro avg       0.36      0.50      0.42     14392\n",
      "weighted avg       0.51      0.71      0.60     14392\n",
      "\n"
     ]
    },
    {
     "name": "stderr",
     "output_type": "stream",
     "text": [
      "C:\\Users\\Mike\\Anaconda3\\lib\\site-packages\\sklearn\\metrics\\_classification.py:1221: UndefinedMetricWarning: Precision and F-score are ill-defined and being set to 0.0 in labels with no predicted samples. Use `zero_division` parameter to control this behavior.\n",
      "  _warn_prf(average, modifier, msg_start, len(result))\n"
     ]
    }
   ],
   "source": [
    "y_pred = dummy.predict(X_test)\n",
    "\n",
    "confusion_mat = confusion_matrix(y_test, y_pred)\n",
    "confusion_df = pd.DataFrame(\n",
    "    confusion_mat,\n",
    "    index=[\"actual_show\", \"actual_No_show\"],\n",
    "    columns=[\"pred_show\", \"pred_No_show\"],\n",
    ")\n",
    "# print(confusion_df)\n",
    "display(confusion_df)\n",
    "\n",
    "print(classification_report(y_test, y_pred))"
   ]
  },
  {
   "cell_type": "markdown",
   "metadata": {},
   "source": [
    "## Need to balance our data as below.  \n",
    "The train and test score mirror the 80/20 imbalanced target data of no_shows."
   ]
  },
  {
   "cell_type": "code",
   "execution_count": 101,
   "metadata": {},
   "outputs": [],
   "source": [
    "# Isolating the 2 classes predictors\n",
    "X_train_0 = X_train[y_train == 0]\n",
    "X_train_1 = X_train[y_train == 1]"
   ]
  },
  {
   "cell_type": "code",
   "execution_count": 102,
   "metadata": {},
   "outputs": [],
   "source": [
    "n_0 = X_train_0.shape[0]\n",
    "n_1 = X_train_1.shape[0]"
   ]
  },
  {
   "cell_type": "code",
   "execution_count": 103,
   "metadata": {},
   "outputs": [
    {
     "data": {
      "text/plain": [
       "41149"
      ]
     },
     "execution_count": 103,
     "metadata": {},
     "output_type": "execute_result"
    }
   ],
   "source": [
    "n_0"
   ]
  },
  {
   "cell_type": "code",
   "execution_count": 104,
   "metadata": {},
   "outputs": [
    {
     "data": {
      "text/plain": [
       "16417"
      ]
     },
     "execution_count": 104,
     "metadata": {},
     "output_type": "execute_result"
    }
   ],
   "source": [
    "n_1"
   ]
  },
  {
   "cell_type": "code",
   "execution_count": 105,
   "metadata": {},
   "outputs": [],
   "source": [
    "n = 20000"
   ]
  },
  {
   "cell_type": "code",
   "execution_count": 106,
   "metadata": {},
   "outputs": [],
   "source": [
    "# Sample majority class to have less observations\n",
    "X_train_0_sample = X_train_0.sample(n, replace=False, random_state=42)\n",
    "\n",
    "# Sample minority class to have more observations\n",
    "X_train_1_sample = X_train_1.sample(n, replace=True, random_state=42)"
   ]
  },
  {
   "cell_type": "code",
   "execution_count": 107,
   "metadata": {},
   "outputs": [],
   "source": [
    "# Re-combine data (using the downsampled X for majority class)\n",
    "X_train_resample = pd.concat((X_train_1_sample, X_train_0_sample))\n",
    "X_train_resample = X_train_resample.reset_index(drop=True)\n",
    "\n",
    "y_train_resample = np.array([1] * n + [0] * n)"
   ]
  },
  {
   "cell_type": "code",
   "execution_count": 108,
   "metadata": {},
   "outputs": [
    {
     "data": {
      "text/plain": [
       "(40000, 12)"
      ]
     },
     "execution_count": 108,
     "metadata": {},
     "output_type": "execute_result"
    }
   ],
   "source": [
    "X_train_resample.shape"
   ]
  },
  {
   "cell_type": "code",
   "execution_count": 109,
   "metadata": {},
   "outputs": [
    {
     "data": {
      "text/plain": [
       "0.5"
      ]
     },
     "execution_count": 109,
     "metadata": {},
     "output_type": "execute_result"
    }
   ],
   "source": [
    "y_train_resample.mean()"
   ]
  },
  {
   "cell_type": "code",
   "execution_count": 110,
   "metadata": {},
   "outputs": [],
   "source": [
    "params = {\n",
    "    \"xgb__colsample_bytree\": [0.4],\n",
    "    \"xgb__max_depth\": [2],\n",
    "    \"xgb__subsample\": [0.5],\n",
    "}\n",
    "\n",
    "n_trees = 300\n",
    "learning_rate = 2 / n_trees"
   ]
  },
  {
   "cell_type": "code",
   "execution_count": 111,
   "metadata": {},
   "outputs": [
    {
     "name": "stdout",
     "output_type": "stream",
     "text": [
      "Fitting 2 folds for each of 1 candidates, totalling 2 fits\n",
      "[16:26:09] WARNING: C:/Users/Administrator/workspace/xgboost-win64_release_1.3.0/src/learner.cc:1061: Starting in XGBoost 1.3.0, the default evaluation metric used with the objective 'binary:logistic' was changed from 'error' to 'logloss'. Explicitly set eval_metric if you'd like to restore the old behavior.\n"
     ]
    },
    {
     "name": "stderr",
     "output_type": "stream",
     "text": [
      "[Parallel(n_jobs=1)]: Using backend SequentialBackend with 1 concurrent workers.\n"
     ]
    },
    {
     "name": "stdout",
     "output_type": "stream",
     "text": [
      "[16:26:09] WARNING: C:/Users/Administrator/workspace/xgboost-win64_release_1.3.0/src/learner.cc:1061: Starting in XGBoost 1.3.0, the default evaluation metric used with the objective 'binary:logistic' was changed from 'error' to 'logloss'. Explicitly set eval_metric if you'd like to restore the old behavior.\n"
     ]
    },
    {
     "name": "stderr",
     "output_type": "stream",
     "text": [
      "[Parallel(n_jobs=1)]: Done   2 out of   2 | elapsed:    1.1s finished\n"
     ]
    },
    {
     "name": "stdout",
     "output_type": "stream",
     "text": [
      "[16:26:10] WARNING: C:/Users/Administrator/workspace/xgboost-win64_release_1.3.0/src/learner.cc:1061: Starting in XGBoost 1.3.0, the default evaluation metric used with the objective 'binary:logistic' was changed from 'error' to 'logloss'. Explicitly set eval_metric if you'd like to restore the old behavior.\n"
     ]
    },
    {
     "data": {
      "text/plain": [
       "{'xgb__colsample_bytree': 0.4, 'xgb__max_depth': 2, 'xgb__subsample': 0.5}"
      ]
     },
     "execution_count": 111,
     "metadata": {},
     "output_type": "execute_result"
    }
   ],
   "source": [
    "xgb_pipeline_cv = GridSearchCV(pipeline, params, verbose=1, cv=2)\n",
    "xgb_pipeline_cv.fit(X_train_resample, y_train_resample)\n",
    "\n",
    "xgb_pipeline_cv.best_params_"
   ]
  },
  {
   "cell_type": "code",
   "execution_count": 112,
   "metadata": {},
   "outputs": [],
   "source": [
    "#{'xgb__colsample_bytree': 0.5, 'xgb__max_depth': 3, 'xgb__subsample': 0.001} 59 60 acc=60 f1=71 37 pr=85 27 61 57\n",
    "\n",
    "#{'xgb__colsample_bytree': 0.5, 'xgb__max_depth': 4, 'xgb__subsample': 0.001} accuracy .60\n",
    "\n",
    "#{'xgb__colsample_bytree': 0.1, 'xgb__max_depth': 3, 'xgb__subsample': 1}  68 60 acc=61 f1=69 45 pr=91 31 56 79\n",
    "\n",
    "#{'xgb__colsample_bytree': 0.1, 'xgb__max_depth': 4, 'xgb__subsample': 1}  61 61 acc=61 f1=86 29 61 62\n",
    "\n",
    "#{'xgb__colsample_bytree': 0.5, 'xgb__max_depth': 4, 'xgb__subsample': 1}  70 61 acc=61 f1=70 45 pr=91 31 57 78\n",
    "\n",
    "#{'xgb__colsample_bytree': 1, 'xgb__max_depth': 5, 'xgb__subsample': 1} 74 61 acc=62 f1=71 44 pr=91 31 59 75\n",
    "\n",
    "#{'xgb__colsample_bytree': 1, 'xgb__max_depth': 3, 'xgb__subsample': 1} 68 60 acc=61 f1=69 45 pr= 91 31 56 79\n",
    "\n",
    "#{'xgb__colsample_bytree': 1, 'xgb__max_depth': 4, 'xgb__subsample': 1} 71 65 acc=62 f1= 71 44 pr= 91 31 58 76\n",
    "\n",
    "# {'xgb__colsample_bytree': 0.4, 'xgb__max_depth': 2, 'xgb__subsample': 0.5} 58 55 acc= 56 f1=65 39 pr= 74 32 58 52 "
   ]
  },
  {
   "cell_type": "code",
   "execution_count": 113,
   "metadata": {},
   "outputs": [
    {
     "name": "stdout",
     "output_type": "stream",
     "text": [
      "Train score: 0.547675\n",
      "Test score: 0.539396887159533\n",
      "\n"
     ]
    },
    {
     "data": {
      "text/html": [
       "<div>\n",
       "<style scoped>\n",
       "    .dataframe tbody tr th:only-of-type {\n",
       "        vertical-align: middle;\n",
       "    }\n",
       "\n",
       "    .dataframe tbody tr th {\n",
       "        vertical-align: top;\n",
       "    }\n",
       "\n",
       "    .dataframe thead th {\n",
       "        text-align: right;\n",
       "    }\n",
       "</style>\n",
       "<table border=\"1\" class=\"dataframe\">\n",
       "  <thead>\n",
       "    <tr style=\"text-align: right;\">\n",
       "      <th></th>\n",
       "      <th>pred_show</th>\n",
       "      <th>pred_No_show</th>\n",
       "    </tr>\n",
       "  </thead>\n",
       "  <tbody>\n",
       "    <tr>\n",
       "      <th>actual_show</th>\n",
       "      <td>5579</td>\n",
       "      <td>4709</td>\n",
       "    </tr>\n",
       "    <tr>\n",
       "      <th>actual_No_show</th>\n",
       "      <td>1920</td>\n",
       "      <td>2184</td>\n",
       "    </tr>\n",
       "  </tbody>\n",
       "</table>\n",
       "</div>"
      ],
      "text/plain": [
       "                pred_show  pred_No_show\n",
       "actual_show          5579          4709\n",
       "actual_No_show       1920          2184"
      ]
     },
     "metadata": {},
     "output_type": "display_data"
    },
    {
     "name": "stdout",
     "output_type": "stream",
     "text": [
      "              precision    recall  f1-score   support\n",
      "\n",
      "           0       0.74      0.54      0.63     10288\n",
      "           1       0.32      0.53      0.40      4104\n",
      "\n",
      "    accuracy                           0.54     14392\n",
      "   macro avg       0.53      0.54      0.51     14392\n",
      "weighted avg       0.62      0.54      0.56     14392\n",
      "\n"
     ]
    }
   ],
   "source": [
    "train_score = xgb_pipeline_cv.score(X_train_resample, y_train_resample)\n",
    "test_score = xgb_pipeline_cv.score(X_test, y_test)\n",
    "\n",
    "print(f\"Train score: {train_score}\")\n",
    "print(f\"Test score: {test_score}\\n\")\n",
    "\n",
    "y_pred = xgb_pipeline_cv.predict(X_test)\n",
    "\n",
    "confusion_mat = confusion_matrix(y_test, y_pred)\n",
    "confusion_df = pd.DataFrame(\n",
    "    confusion_mat,\n",
    "    index=[\"actual_show\", \"actual_No_show\"],\n",
    "    columns=[\"pred_show\", \"pred_No_show\"],\n",
    ")\n",
    "display(confusion_df)\n",
    "\n",
    "print(classification_report(y_test, y_pred))"
   ]
  },
  {
   "cell_type": "code",
   "execution_count": 114,
   "metadata": {
    "scrolled": true
   },
   "outputs": [
    {
     "data": {
      "text/plain": [
       "array([0.02034771, 0.6795027 , 0.01107266, 0.01627687, 0.05811771,\n",
       "       0.05313084, 0.06060914, 0.02587771, 0.03970959, 0.01773087,\n",
       "       0.00619544, 0.01142883], dtype=float32)"
      ]
     },
     "execution_count": 114,
     "metadata": {},
     "output_type": "execute_result"
    }
   ],
   "source": [
    "xgb_pipeline_cv.best_estimator_['xgb'].feature_importances_"
   ]
  },
  {
   "cell_type": "code",
   "execution_count": 115,
   "metadata": {},
   "outputs": [
    {
     "data": {
      "text/html": [
       "<div>\n",
       "<style scoped>\n",
       "    .dataframe tbody tr th:only-of-type {\n",
       "        vertical-align: middle;\n",
       "    }\n",
       "\n",
       "    .dataframe tbody tr th {\n",
       "        vertical-align: top;\n",
       "    }\n",
       "\n",
       "    .dataframe thead th {\n",
       "        text-align: right;\n",
       "    }\n",
       "</style>\n",
       "<table border=\"1\" class=\"dataframe\">\n",
       "  <thead>\n",
       "    <tr style=\"text-align: right;\">\n",
       "      <th></th>\n",
       "      <th>feat</th>\n",
       "      <th>importance</th>\n",
       "    </tr>\n",
       "  </thead>\n",
       "  <tbody>\n",
       "    <tr>\n",
       "      <th>1</th>\n",
       "      <td>Age</td>\n",
       "      <td>0.679503</td>\n",
       "    </tr>\n",
       "    <tr>\n",
       "      <th>6</th>\n",
       "      <td>sch_weekday_num</td>\n",
       "      <td>0.060609</td>\n",
       "    </tr>\n",
       "    <tr>\n",
       "      <th>4</th>\n",
       "      <td>Neighborhood</td>\n",
       "      <td>0.058118</td>\n",
       "    </tr>\n",
       "    <tr>\n",
       "      <th>5</th>\n",
       "      <td>Reminder</td>\n",
       "      <td>0.053131</td>\n",
       "    </tr>\n",
       "    <tr>\n",
       "      <th>8</th>\n",
       "      <td>has_diabetes_and_hyper</td>\n",
       "      <td>0.039710</td>\n",
       "    </tr>\n",
       "    <tr>\n",
       "      <th>7</th>\n",
       "      <td>appt_weekday_num</td>\n",
       "      <td>0.025878</td>\n",
       "    </tr>\n",
       "    <tr>\n",
       "      <th>0</th>\n",
       "      <td>PatientId</td>\n",
       "      <td>0.020348</td>\n",
       "    </tr>\n",
       "    <tr>\n",
       "      <th>9</th>\n",
       "      <td>day_diff</td>\n",
       "      <td>0.017731</td>\n",
       "    </tr>\n",
       "    <tr>\n",
       "      <th>3</th>\n",
       "      <td>Alcoholism</td>\n",
       "      <td>0.016277</td>\n",
       "    </tr>\n",
       "    <tr>\n",
       "      <th>11</th>\n",
       "      <td>is_male</td>\n",
       "      <td>0.011429</td>\n",
       "    </tr>\n",
       "    <tr>\n",
       "      <th>2</th>\n",
       "      <td>Scholarship</td>\n",
       "      <td>0.011073</td>\n",
       "    </tr>\n",
       "    <tr>\n",
       "      <th>10</th>\n",
       "      <td>disability</td>\n",
       "      <td>0.006195</td>\n",
       "    </tr>\n",
       "  </tbody>\n",
       "</table>\n",
       "</div>"
      ],
      "text/plain": [
       "                      feat  importance\n",
       "1                      Age    0.679503\n",
       "6          sch_weekday_num    0.060609\n",
       "4             Neighborhood    0.058118\n",
       "5                 Reminder    0.053131\n",
       "8   has_diabetes_and_hyper    0.039710\n",
       "7         appt_weekday_num    0.025878\n",
       "0                PatientId    0.020348\n",
       "9                 day_diff    0.017731\n",
       "3               Alcoholism    0.016277\n",
       "11                 is_male    0.011429\n",
       "2              Scholarship    0.011073\n",
       "10              disability    0.006195"
      ]
     },
     "execution_count": 115,
     "metadata": {},
     "output_type": "execute_result"
    }
   ],
   "source": [
    "importance_df = pd.DataFrame(\n",
    "    {\"feat\": X_train.columns, \"importance\": xgb_pipeline_cv.best_estimator_['xgb'].feature_importances_}\n",
    ")\n",
    "importance_df.sort_values(\"importance\", ascending=False)"
   ]
  },
  {
   "cell_type": "code",
   "execution_count": 160,
   "metadata": {},
   "outputs": [
    {
     "data": {
      "image/png": "[encoded data removed]",
      "text/plain": [
       "<Figure size 432x288 with 1 Axes>"
      ]
     },
     "metadata": {
      "needs_background": "light"
     },
     "output_type": "display_data"
    }
   ],
   "source": [
    "importance_df.plot(x='feat', y='importance', kind='bar')\n",
    "plt.title('Important Features')\n",
    "plt.show()"
   ]
  },
  {
   "cell_type": "markdown",
   "metadata": {},
   "source": [
    "Using different hyperparams, the feature importances keep changing. It looks like Age, PatientId and Reminder are most important features. Day of the week the appoint was scheduled as well as the appointment itself are also important in the model. Feels_like and weather were both discarded as not important. \n",
    "\n",
    "Using hyperparams, {'xgb__colsample_bytree': 0.4, 'xgb__max_depth': 2, 'xgb__subsample': 0.5}, best features were Age, PatientId, sch_weekday_num, neighborhood, reminder, appt day, has diabetes and hypertension, sex, day difference, alcoholism, scholarship then disability. "
   ]
  },
  {
   "cell_type": "code",
   "execution_count": 117,
   "metadata": {},
   "outputs": [],
   "source": [
    "#best_model = pipeline_cv.best_estimator_\n",
    "#with open(\"saved_model.pkl\", \"wb\") as f:\n",
    "#    pickle.dump(best_model, f)"
   ]
  },
  {
   "cell_type": "code",
   "execution_count": 118,
   "metadata": {},
   "outputs": [
    {
     "name": "stdout",
     "output_type": "stream",
     "text": [
      "mean prob no show for errors using XGB: 0.2896364459194449\n"
     ]
    }
   ],
   "source": [
    "xgb_errors = df.copy()\n",
    "xgb_errors = xgb_errors.loc[y_test.index, :]\n",
    "\n",
    "xgb_errors[\"y_true\"] = y_test\n",
    "xgb_errors[\"y_pred\"] = y_pred\n",
    "\n",
    "xgb_errors = xgb_errors[xgb_errors[\"y_true\"] != xgb_errors[\"y_pred\"]]\n",
    "\n",
    "print(f'mean prob no show for errors using XGB: {xgb_errors[\"show\"].mean()}')\n"
   ]
  },
  {
   "cell_type": "code",
   "execution_count": 119,
   "metadata": {},
   "outputs": [],
   "source": [
    "#This function gets the best threshold for maximizing F1 score for binary predictions by\n",
    "# iterating through possible threshold values to find the one that gives the best F1 score.\n",
    "\n",
    "def bestThresshold(y_true,y_pred):\n",
    "    best_thresh = None\n",
    "    best_score = 0\n",
    "    for thresh in np.arange(0.1, 0.501, 0.01):\n",
    "        score = f1_score(y_true, np.array(y_pred)>thresh)\n",
    "        if score > best_score:\n",
    "            best_thresh = thresh\n",
    "            best_score = score\n",
    "    return best_score , best_thresh\n"
   ]
  },
  {
   "cell_type": "code",
   "execution_count": 120,
   "metadata": {},
   "outputs": [
    {
     "data": {
      "text/plain": [
       "(0.3971992361553151, 0.1)"
      ]
     },
     "execution_count": 120,
     "metadata": {},
     "output_type": "execute_result"
    }
   ],
   "source": [
    "bestThresshold(y_test,y_pred)"
   ]
  },
  {
   "cell_type": "markdown",
   "metadata": {},
   "source": [
    "Some ways to improve model:\n",
    "* Creating new features\n",
    "* Applying more overfitting-prevention strategies like subsampling\n",
    "* Making more iterations\n",
    "* Trying a different loss function\n",
    "* Changing the structure of the weak learner by allowing more leaves in the tree or using other modifications"
   ]
  },
  {
   "cell_type": "markdown",
   "metadata": {},
   "source": [
    "## Random Forest Classifier"
   ]
  },
  {
   "cell_type": "code",
   "execution_count": 121,
   "metadata": {},
   "outputs": [],
   "source": [
    "# fmt: off\n",
    "pipeline = Pipeline([\n",
    "    ('preprocessing', preprocessing),\n",
    "    (\"rfc\", RandomForestClassifier()),\n",
    "])\n",
    "# fmt: on\n",
    "\n",
    "grid = {\n",
    "    \"rfc__n_estimators\": [500],\n",
    "    \"rfc__max_depth\": [2],\n",
    "    \"rfc__min_samples_leaf\": [10],\n",
    "}\n",
    "learning_rate = 4 / n_trees"
   ]
  },
  {
   "cell_type": "code",
   "execution_count": 122,
   "metadata": {},
   "outputs": [
    {
     "name": "stdout",
     "output_type": "stream",
     "text": [
      "Fitting 2 folds for each of 1 candidates, totalling 2 fits\n"
     ]
    },
    {
     "name": "stderr",
     "output_type": "stream",
     "text": [
      "[Parallel(n_jobs=1)]: Using backend SequentialBackend with 1 concurrent workers.\n",
      "[Parallel(n_jobs=1)]: Done   2 out of   2 | elapsed:    6.4s finished\n"
     ]
    },
    {
     "data": {
      "text/plain": [
       "{'rfc__max_depth': 2, 'rfc__min_samples_leaf': 10, 'rfc__n_estimators': 500}"
      ]
     },
     "execution_count": 122,
     "metadata": {},
     "output_type": "execute_result"
    }
   ],
   "source": [
    "rfc_pipeline_cv = GridSearchCV(pipeline, grid, verbose=1, cv=2)\n",
    "rfc_pipeline_cv.fit(X_train_resample, y_train_resample)\n",
    "\n",
    "rfc_pipeline_cv.best_params_"
   ]
  },
  {
   "cell_type": "code",
   "execution_count": 123,
   "metadata": {},
   "outputs": [],
   "source": [
    "# {'rfc__max_depth': 2, 'rfc__min_samples_leaf': 15, 'rfc__n_estimators': 50} 64 56 acc=57 f1= 66 44 pr=75 33 59 50\n",
    "\n",
    "#'rfc__max_depth': 7, 'rfc__min_samples_leaf': 10, 'rfc__n_estimators': 75} .67 .54 acc=.57 f1=66 and 44\n",
    "\n",
    "#{'rfc__max_depth': 5, 'rfc__min_samples_leaf': 5, 'rfc__n_estimators': 75}  .66 .56 acc=56 f1=64 44\n",
    "\n",
    "#{'rfc__max_depth': 4, 'rfc__min_samples_leaf': 7, 'rfc__n_estimators': 100}  66 54  acc=55 f1= 62 44\n",
    "\n",
    "#{'rfc__max_depth': 3, 'rfc__min_samples_leaf': 7, 'rfc__n_estimators': 100}  66 54  acc=55 f1= 62 44\n",
    "\n",
    "#{'rfc__max_depth': 3, 'rfc__min_samples_leaf': 10, 'rfc__n_estimators': 120}  66 54  acc=54 f1= 62 44  prec=94 29 46 88\n",
    "\n",
    "# n_estimators: The more trees, the less likely the algorithm is to overfit. ...\n",
    "# max_features: You should try reducing this number. ...\n",
    "# max_depth: This parameter will reduce the complexity of the learned models, lowering over fitting risk.\n",
    "# min_samples_leaf: Try setting these values greater than one."
   ]
  },
  {
   "cell_type": "code",
   "execution_count": 124,
   "metadata": {},
   "outputs": [
    {
     "name": "stdout",
     "output_type": "stream",
     "text": [
      "Train score: 0.570625\n",
      "Test score: 0.5369649805447471\n",
      "\n"
     ]
    },
    {
     "data": {
      "text/html": [
       "<div>\n",
       "<style scoped>\n",
       "    .dataframe tbody tr th:only-of-type {\n",
       "        vertical-align: middle;\n",
       "    }\n",
       "\n",
       "    .dataframe tbody tr th {\n",
       "        vertical-align: top;\n",
       "    }\n",
       "\n",
       "    .dataframe thead th {\n",
       "        text-align: right;\n",
       "    }\n",
       "</style>\n",
       "<table border=\"1\" class=\"dataframe\">\n",
       "  <thead>\n",
       "    <tr style=\"text-align: right;\">\n",
       "      <th></th>\n",
       "      <th>pred_show</th>\n",
       "      <th>pred_no_show</th>\n",
       "    </tr>\n",
       "  </thead>\n",
       "  <tbody>\n",
       "    <tr>\n",
       "      <th>actual_show</th>\n",
       "      <td>5140</td>\n",
       "      <td>5148</td>\n",
       "    </tr>\n",
       "    <tr>\n",
       "      <th>actual_no_show</th>\n",
       "      <td>1516</td>\n",
       "      <td>2588</td>\n",
       "    </tr>\n",
       "  </tbody>\n",
       "</table>\n",
       "</div>"
      ],
      "text/plain": [
       "                pred_show  pred_no_show\n",
       "actual_show          5140          5148\n",
       "actual_no_show       1516          2588"
      ]
     },
     "metadata": {},
     "output_type": "display_data"
    },
    {
     "name": "stdout",
     "output_type": "stream",
     "text": [
      "              precision    recall  f1-score   support\n",
      "\n",
      "           0       0.77      0.50      0.61     10288\n",
      "           1       0.33      0.63      0.44      4104\n",
      "\n",
      "    accuracy                           0.54     14392\n",
      "   macro avg       0.55      0.57      0.52     14392\n",
      "weighted avg       0.65      0.54      0.56     14392\n",
      "\n"
     ]
    }
   ],
   "source": [
    "train_score = rfc_pipeline_cv.score(X_train_resample, y_train_resample)\n",
    "test_score = rfc_pipeline_cv.score(X_test, y_test)\n",
    "\n",
    "print(f\"Train score: {train_score}\")\n",
    "print(f\"Test score: {test_score}\\n\")\n",
    "\n",
    "y_pred = rfc_pipeline_cv.predict(X_test)\n",
    "\n",
    "confusion_mat = confusion_matrix(y_test, y_pred)\n",
    "confusion_df = pd.DataFrame(\n",
    "    confusion_mat,\n",
    "    index=[\"actual_show\", \"actual_no_show\"],\n",
    "    columns=[\"pred_show\", \"pred_no_show\"],\n",
    ")\n",
    "display(confusion_df)\n",
    "\n",
    "print(classification_report(y_test, y_pred))"
   ]
  },
  {
   "cell_type": "code",
   "execution_count": 125,
   "metadata": {},
   "outputs": [
    {
     "data": {
      "text/plain": [
       "(0.4371621621621622, 0.1)"
      ]
     },
     "execution_count": 125,
     "metadata": {},
     "output_type": "execute_result"
    }
   ],
   "source": [
    "bestThresshold(y_test,y_pred)"
   ]
  },
  {
   "cell_type": "markdown",
   "metadata": {},
   "source": [
    "## SVC"
   ]
  },
  {
   "cell_type": "code",
   "execution_count": 126,
   "metadata": {},
   "outputs": [],
   "source": [
    "# fmt: off\n",
    "pipeline = Pipeline([\n",
    "    (\"preprocessing\", preprocessing), \n",
    "    (\"svc\", SVC(probability=True))\n",
    "])\n",
    "# fmt: on\n",
    "\n",
    "grid = {\n",
    "    \"svc__kernel\": [\"rbf\"],\n",
    "    #\"svc__degree\": [4],\n",
    "    \"svc__C\": [40],\n",
    "}\n",
    "\n",
    "svc_pipeline_cv = GridSearchCV(pipeline, grid, cv=2, n_jobs=-1)"
   ]
  },
  {
   "cell_type": "code",
   "execution_count": 127,
   "metadata": {},
   "outputs": [
    {
     "name": "stdout",
     "output_type": "stream",
     "text": [
      "Best params:\n",
      "{'svc__C': 40, 'svc__kernel': 'rbf'}\n",
      "\n",
      "train score: 0.506\n",
      "test score: 0.619\n",
      "\n"
     ]
    },
    {
     "data": {
      "text/html": [
       "<div>\n",
       "<style scoped>\n",
       "    .dataframe tbody tr th:only-of-type {\n",
       "        vertical-align: middle;\n",
       "    }\n",
       "\n",
       "    .dataframe tbody tr th {\n",
       "        vertical-align: top;\n",
       "    }\n",
       "\n",
       "    .dataframe thead th {\n",
       "        text-align: right;\n",
       "    }\n",
       "</style>\n",
       "<table border=\"1\" class=\"dataframe\">\n",
       "  <thead>\n",
       "    <tr style=\"text-align: right;\">\n",
       "      <th></th>\n",
       "      <th>pred_show</th>\n",
       "      <th>pred_no_show</th>\n",
       "    </tr>\n",
       "  </thead>\n",
       "  <tbody>\n",
       "    <tr>\n",
       "      <th>actual_show</th>\n",
       "      <td>8020</td>\n",
       "      <td>2268</td>\n",
       "    </tr>\n",
       "    <tr>\n",
       "      <th>actual_no_show</th>\n",
       "      <td>3213</td>\n",
       "      <td>891</td>\n",
       "    </tr>\n",
       "  </tbody>\n",
       "</table>\n",
       "</div>"
      ],
      "text/plain": [
       "                pred_show  pred_no_show\n",
       "actual_show          8020          2268\n",
       "actual_no_show       3213           891"
      ]
     },
     "metadata": {},
     "output_type": "display_data"
    },
    {
     "name": "stdout",
     "output_type": "stream",
     "text": [
      "              precision    recall  f1-score   support\n",
      "\n",
      "           0       0.71      0.78      0.75     10288\n",
      "           1       0.28      0.22      0.25      4104\n",
      "\n",
      "    accuracy                           0.62     14392\n",
      "   macro avg       0.50      0.50      0.50     14392\n",
      "weighted avg       0.59      0.62      0.60     14392\n",
      "\n",
      "Wall time: 11min 51s\n"
     ]
    }
   ],
   "source": [
    "%%time\n",
    "svc_pipeline_cv.fit(X_train_resample, y_train_resample)\n",
    "\n",
    "print(\"Best params:\")\n",
    "print(svc_pipeline_cv.best_params_)\n",
    "\n",
    "print(f\"\\ntrain score: {svc_pipeline_cv.score(X_train_resample, y_train_resample):.3f}\")\n",
    "print(f\"test score: {svc_pipeline_cv.score(X_test, y_test):.3f}\\n\")\n",
    "\n",
    "y_pred = svc_pipeline_cv.predict(X_test)\n",
    "\n",
    "confusion_mat = confusion_matrix(y_test, y_pred)\n",
    "confusion_df = pd.DataFrame(\n",
    "    confusion_mat,\n",
    "    index=[\"actual_show\", \"actual_no_show\"],\n",
    "    columns=[\"pred_show\", \"pred_no_show\"],\n",
    ")\n",
    "display(confusion_df)\n",
    "\n",
    "print(classification_report(y_test, y_pred))"
   ]
  },
  {
   "cell_type": "code",
   "execution_count": 128,
   "metadata": {},
   "outputs": [],
   "source": [
    "# C too high -> overfit\n",
    "# C too low  -> underfit\n",
    "\n",
    "# kernal selects the hyperplace. only the poly kernal uses a degree\n",
    "# gamma is a parameter for non linear hyperplanes. higher gamma tries to exactly fit the training data set\n",
    "# C is penalty parameter of the error term and controls trade off between smooth decision boundary and classifying the training points correctly\n",
    "# degree is degree of the polynomial, 'poly' used the find the hyperplace to split the data"
   ]
  },
  {
   "cell_type": "code",
   "execution_count": 129,
   "metadata": {},
   "outputs": [],
   "source": [
    "#{'svc__C': 1.0, 'svc__degree': 2, 'svc__kernel': 'rbf'} 66 57 acc=58 f1=66 43 pr=91 30 52 80\n",
    "\n",
    "#{'svc__C': 1.5, 'svc__degree': 2, 'svc__kernel': 'rbf'} 66 57 acc=58 f1=66 44 pr=91 30 52 80\n",
    "\n",
    "#{'svc__C': 2.5, 'svc__degree': 2, 'svc__kernel': 'rbf'} 66 57 acc=58 f1=66 44 pr=92 30 52 81\n",
    "\n",
    "#{'svc__C': 10, 'svc__degree': 2, 'svc__kernel': 'rbf'}  67 58 acc=58 f1=66 44 pr=92 30 52 82\n",
    "\n",
    "#{'svc__C': 40, 'svc__degree': 2, 'svc__kernel': 'rbf'}  68 58 acc=58 f1-67 44 pr=92 30 53 81\n",
    "\n",
    "#{'svc__C': 40, 'svc__degree': 3, 'svc__kernel': 'rbf'}  63 54 acc=56 f1=63 42 pr=76 33 54 58\n",
    "\n",
    "#{'svc__C': 80, 'svc__degree': 3, 'svc__kernel': 'poly'} 65 59 acc=60 f1=69 41 pr=76 35 64 49\n",
    "\n",
    "#{'svc__C': 95, 'svc__degree': 4, 'svc__kernel': 'poly'} 66 61 acc=61 f1=71 43 pr=89 31 59 72\n",
    "\n",
    "#{'svc__C': 95, 'svc__degree': 3, 'svc__kernel': 'rbf'}  63 55 acc=55 f1=64 42 pr=76 33 55 57\n",
    "\n",
    "#{'svc__C': 40, 'svc__degree': 3, 'svc__kernel': 'poly'} 65 59 acc=60 f1=70 41 pr=76 35 64 49"
   ]
  },
  {
   "cell_type": "code",
   "execution_count": 130,
   "metadata": {},
   "outputs": [
    {
     "data": {
      "text/plain": [
       "show\n",
       "0    39.965706\n",
       "1    34.835632\n",
       "Name: Age, dtype: float64"
      ]
     },
     "execution_count": 130,
     "metadata": {},
     "output_type": "execute_result"
    }
   ],
   "source": [
    "df.groupby(\"show\")['Age'].mean()"
   ]
  },
  {
   "cell_type": "code",
   "execution_count": 131,
   "metadata": {},
   "outputs": [
    {
     "data": {
      "text/html": [
       "<div>\n",
       "<style scoped>\n",
       "    .dataframe tbody tr th:only-of-type {\n",
       "        vertical-align: middle;\n",
       "    }\n",
       "\n",
       "    .dataframe tbody tr th {\n",
       "        vertical-align: top;\n",
       "    }\n",
       "\n",
       "    .dataframe thead th {\n",
       "        text-align: right;\n",
       "    }\n",
       "</style>\n",
       "<table border=\"1\" class=\"dataframe\">\n",
       "  <thead>\n",
       "    <tr style=\"text-align: right;\">\n",
       "      <th></th>\n",
       "      <th>PatientId</th>\n",
       "    </tr>\n",
       "    <tr>\n",
       "      <th>show</th>\n",
       "      <th></th>\n",
       "    </tr>\n",
       "  </thead>\n",
       "  <tbody>\n",
       "    <tr>\n",
       "      <th>0</th>\n",
       "      <td>4885</td>\n",
       "    </tr>\n",
       "    <tr>\n",
       "      <th>1</th>\n",
       "      <td>3879</td>\n",
       "    </tr>\n",
       "  </tbody>\n",
       "</table>\n",
       "</div>"
      ],
      "text/plain": [
       "      PatientId\n",
       "show           \n",
       "0          4885\n",
       "1          3879"
      ]
     },
     "execution_count": 131,
     "metadata": {},
     "output_type": "execute_result"
    }
   ],
   "source": [
    "df.groupby(\"show\").agg({\"PatientId\": \"nunique\"})"
   ]
  },
  {
   "cell_type": "code",
   "execution_count": null,
   "metadata": {},
   "outputs": [],
   "source": []
  },
  {
   "cell_type": "markdown",
   "metadata": {},
   "source": [
    "We can see that when a patient has a 24% probability of not showing up, we'll consider them a no show using this model to maximize the f1 score. "
   ]
  },
  {
   "cell_type": "code",
   "execution_count": 132,
   "metadata": {},
   "outputs": [
    {
     "data": {
      "text/plain": [
       "(0.24535315985130113, 0.1)"
      ]
     },
     "execution_count": 132,
     "metadata": {},
     "output_type": "execute_result"
    }
   ],
   "source": [
    "bestThresshold(y_test,y_pred)"
   ]
  },
  {
   "cell_type": "code",
   "execution_count": 133,
   "metadata": {},
   "outputs": [],
   "source": [
    "#precision_score(y_test,y_pred)"
   ]
  },
  {
   "cell_type": "code",
   "execution_count": 134,
   "metadata": {},
   "outputs": [],
   "source": [
    "#recall_score(y_test,y_pred)"
   ]
  },
  {
   "cell_type": "code",
   "execution_count": 135,
   "metadata": {},
   "outputs": [
    {
     "data": {
      "image/png": "[encoded data removed]",
      "text/plain": [
       "<Figure size 432x288 with 1 Axes>"
      ]
     },
     "metadata": {
      "needs_background": "light"
     },
     "output_type": "display_data"
    }
   ],
   "source": [
    "y_pred = svc_pipeline_cv.predict(X_test)\n",
    "y_prob = svc_pipeline_cv.predict_proba(X_test)\n",
    "y_prob_1 = y_prob[:, 1]\n",
    "\n",
    "\n",
    "roc_auc_score(y_test, y_prob_1)\n",
    "\n",
    "\n",
    "\n",
    "\n",
    "fpr, tpr, thresh = roc_curve(y_test, y_prob_1)\n",
    "\n",
    "plt.plot(fpr, tpr, label=\"Model ROC\")\n",
    "plt.plot([0, 1], [0, 1], \"--\", c=\"black\", label=\"Random Guessing\")\n",
    "plt.plot([0, 0, 1], [0, 1, 1], \"-.\", c=\"gray\", label=\"Perfect Model\")\n",
    "plt.legend()\n",
    "plt.show()"
   ]
  },
  {
   "cell_type": "code",
   "execution_count": 136,
   "metadata": {},
   "outputs": [
    {
     "data": {
      "text/plain": [
       "0.5"
      ]
     },
     "execution_count": 136,
     "metadata": {},
     "output_type": "execute_result"
    }
   ],
   "source": [
    "roc_auc_score(y_test, y_prob_1)"
   ]
  },
  {
   "cell_type": "markdown",
   "metadata": {},
   "source": [
    "## kNN model"
   ]
  },
  {
   "cell_type": "code",
   "execution_count": 137,
   "metadata": {},
   "outputs": [],
   "source": [
    "# fmt: off\n",
    "pipeline = Pipeline([\n",
    "    ('preprocessing', preprocessing),\n",
    "    (\"knn\", KNeighborsClassifier()),\n",
    "])\n",
    "# fmt: on\n",
    "\n",
    "grid = {\n",
    "    \"knn__n_neighbors\": [4],\n",
    "}"
   ]
  },
  {
   "cell_type": "code",
   "execution_count": 138,
   "metadata": {},
   "outputs": [
    {
     "name": "stdout",
     "output_type": "stream",
     "text": [
      "Fitting 2 folds for each of 1 candidates, totalling 2 fits\n"
     ]
    },
    {
     "name": "stderr",
     "output_type": "stream",
     "text": [
      "[Parallel(n_jobs=1)]: Using backend SequentialBackend with 1 concurrent workers.\n",
      "[Parallel(n_jobs=1)]: Done   2 out of   2 | elapsed:    2.3s finished\n"
     ]
    },
    {
     "name": "stdout",
     "output_type": "stream",
     "text": [
      "Best params:\n",
      "{'knn__n_neighbors': 4}\n"
     ]
    }
   ],
   "source": [
    "knn_pipeline_cv = GridSearchCV(pipeline, grid, verbose=1, cv=2)\n",
    "knn_pipeline_cv.fit(X_train_resample, y_train_resample)\n",
    "\n",
    "print(\"Best params:\")\n",
    "print(knn_pipeline_cv.best_params_)"
   ]
  },
  {
   "cell_type": "code",
   "execution_count": 139,
   "metadata": {},
   "outputs": [
    {
     "name": "stdout",
     "output_type": "stream",
     "text": [
      "Train score: 0.570625\n",
      "Test score: 0.5369649805447471\n",
      "\n"
     ]
    },
    {
     "data": {
      "text/html": [
       "<div>\n",
       "<style scoped>\n",
       "    .dataframe tbody tr th:only-of-type {\n",
       "        vertical-align: middle;\n",
       "    }\n",
       "\n",
       "    .dataframe tbody tr th {\n",
       "        vertical-align: top;\n",
       "    }\n",
       "\n",
       "    .dataframe thead th {\n",
       "        text-align: right;\n",
       "    }\n",
       "</style>\n",
       "<table border=\"1\" class=\"dataframe\">\n",
       "  <thead>\n",
       "    <tr style=\"text-align: right;\">\n",
       "      <th></th>\n",
       "      <th>pred_show</th>\n",
       "      <th>pred_no_show</th>\n",
       "    </tr>\n",
       "  </thead>\n",
       "  <tbody>\n",
       "    <tr>\n",
       "      <th>actual_show</th>\n",
       "      <td>7129</td>\n",
       "      <td>3159</td>\n",
       "    </tr>\n",
       "    <tr>\n",
       "      <th>actual_no_show</th>\n",
       "      <td>2669</td>\n",
       "      <td>1435</td>\n",
       "    </tr>\n",
       "  </tbody>\n",
       "</table>\n",
       "</div>"
      ],
      "text/plain": [
       "                pred_show  pred_no_show\n",
       "actual_show          7129          3159\n",
       "actual_no_show       2669          1435"
      ]
     },
     "metadata": {},
     "output_type": "display_data"
    },
    {
     "name": "stdout",
     "output_type": "stream",
     "text": [
      "              precision    recall  f1-score   support\n",
      "\n",
      "           0       0.73      0.69      0.71     10288\n",
      "           1       0.31      0.35      0.33      4104\n",
      "\n",
      "    accuracy                           0.60     14392\n",
      "   macro avg       0.52      0.52      0.52     14392\n",
      "weighted avg       0.61      0.60      0.60     14392\n",
      "\n"
     ]
    }
   ],
   "source": [
    "print(f\"Train score: {train_score}\")\n",
    "print(f\"Test score: {test_score}\\n\")\n",
    "\n",
    "y_pred = knn_pipeline_cv.predict(X_test)\n",
    "\n",
    "confusion_mat = confusion_matrix(y_test, y_pred)\n",
    "confusion_df = pd.DataFrame(\n",
    "    confusion_mat,\n",
    "    index=[\"actual_show\", \"actual_no_show\"],\n",
    "    columns=[\"pred_show\", \"pred_no_show\"],\n",
    ")\n",
    "display(confusion_df)\n",
    "\n",
    "print(classification_report(y_test, y_pred))"
   ]
  },
  {
   "cell_type": "code",
   "execution_count": 140,
   "metadata": {},
   "outputs": [
    {
     "data": {
      "text/plain": [
       "(0.3299609105541504, 0.1)"
      ]
     },
     "execution_count": 140,
     "metadata": {},
     "output_type": "execute_result"
    }
   ],
   "source": [
    "bestThresshold(y_test,y_pred)"
   ]
  },
  {
   "cell_type": "markdown",
   "metadata": {},
   "source": [
    "## Logistic Regression"
   ]
  },
  {
   "cell_type": "code",
   "execution_count": 141,
   "metadata": {},
   "outputs": [],
   "source": [
    "# creating columns for preprocessing\n",
    "\n",
    "drop_cats = ['JARDIM CAMBURI', 42500000000000]\n",
    "\n",
    "cat_cols = ['Neighborhood', 'PatientId']\n",
    "\n",
    "bin_cols = ['Reminder']\n",
    "\n",
    "num_cols = ['Age']"
   ]
  },
  {
   "cell_type": "code",
   "execution_count": 142,
   "metadata": {},
   "outputs": [],
   "source": [
    "# dropping Alcoholism, sch_weekday_num and Sex variables based on XGB feature importances\n",
    "\n",
    "X = df.drop(columns=[\"show\", 'sch_weekday_name', 'appt_weekday_name','Diabetes', 'Hypertension'\n",
    "                     ,'ScheduledDay', 'AppointmentDay','disability', 'is_male', 'Alcoholism', 'sch_weekday_num'\n",
    "                     , 'Scholarship', 'day_diff', 'appt_weekday_num', 'Scholarship', 'has_diabetes_and_hyper'])\n",
    "y = df[\"show\"]\n",
    "\n",
    "X_train, X_test, y_train, y_test = train_test_split(\n",
    "    X, y, test_size=0.2, random_state=42, stratify=y\n",
    ")"
   ]
  },
  {
   "cell_type": "code",
   "execution_count": 143,
   "metadata": {},
   "outputs": [],
   "source": [
    "# Isolating the 2 classes predictors\n",
    "X_train_0 = X_train[y_train == 0]\n",
    "X_train_1 = X_train[y_train == 1]"
   ]
  },
  {
   "cell_type": "code",
   "execution_count": 144,
   "metadata": {},
   "outputs": [],
   "source": [
    "n_0 = X_train_0.shape[0]\n",
    "n_1 = X_train_1.shape[0]"
   ]
  },
  {
   "cell_type": "code",
   "execution_count": 145,
   "metadata": {},
   "outputs": [
    {
     "data": {
      "text/plain": [
       "41149"
      ]
     },
     "execution_count": 145,
     "metadata": {},
     "output_type": "execute_result"
    }
   ],
   "source": [
    "n_0"
   ]
  },
  {
   "cell_type": "code",
   "execution_count": 146,
   "metadata": {},
   "outputs": [
    {
     "data": {
      "text/plain": [
       "16417"
      ]
     },
     "execution_count": 146,
     "metadata": {},
     "output_type": "execute_result"
    }
   ],
   "source": [
    "n_1"
   ]
  },
  {
   "cell_type": "code",
   "execution_count": 147,
   "metadata": {},
   "outputs": [],
   "source": [
    "n = 20000"
   ]
  },
  {
   "cell_type": "code",
   "execution_count": 148,
   "metadata": {},
   "outputs": [],
   "source": [
    "# Sample majority class to have less observations\n",
    "X_train_0_sample = X_train_0.sample(n, replace=False, random_state=42)\n",
    "\n",
    "# Sample minority class to have more observations\n",
    "X_train_1_sample = X_train_1.sample(n, replace=True, random_state=42)"
   ]
  },
  {
   "cell_type": "code",
   "execution_count": 149,
   "metadata": {},
   "outputs": [],
   "source": [
    "# Re-combine data (using the downsampled X for majority class)\n",
    "X_train_resample = pd.concat((X_train_1_sample, X_train_0_sample))\n",
    "X_train_resample = X_train_resample.reset_index(drop=True)\n",
    "\n",
    "y_train_resample = np.array([1] * n + [0] * n)"
   ]
  },
  {
   "cell_type": "code",
   "execution_count": 150,
   "metadata": {},
   "outputs": [
    {
     "data": {
      "text/plain": [
       "(40000, 4)"
      ]
     },
     "execution_count": 150,
     "metadata": {},
     "output_type": "execute_result"
    }
   ],
   "source": [
    "X_train_resample.shape"
   ]
  },
  {
   "cell_type": "code",
   "execution_count": 151,
   "metadata": {},
   "outputs": [
    {
     "data": {
      "text/plain": [
       "0.5"
      ]
     },
     "execution_count": 151,
     "metadata": {},
     "output_type": "execute_result"
    }
   ],
   "source": [
    "y_train_resample.mean()"
   ]
  },
  {
   "cell_type": "code",
   "execution_count": 152,
   "metadata": {},
   "outputs": [],
   "source": [
    "# fmt: off\n",
    "preprocessing = ColumnTransformer([\n",
    "    ('leaveoneoutencoder', LeaveOneOutEncoder(), cat_cols),\n",
    "    ('scale', StandardScaler(), num_cols)\n",
    "], remainder='passthrough')\n",
    "# fmt: on"
   ]
  },
  {
   "cell_type": "code",
   "execution_count": 153,
   "metadata": {},
   "outputs": [],
   "source": [
    "# fmt: off\n",
    "pipeline = Pipeline([\n",
    "    (\"preprocessing\", preprocessing), \n",
    "        (\"en\", SGDClassifier()),\n",
    "])\n",
    "# fmt: on\n",
    "\n",
    "grid = {\n",
    "    \"en__max_iter\": [900, 1000, 1100],\n",
    "    \"en__tol\": [0.001, 0.01, 1],\n",
    "    #\"en__alpha\" : [0.0001, 0.001],\n",
    "    #\"en__l1_ratio\":[.5, .7, .9, .95]\n",
    "}"
   ]
  },
  {
   "cell_type": "code",
   "execution_count": 154,
   "metadata": {},
   "outputs": [
    {
     "name": "stdout",
     "output_type": "stream",
     "text": [
      "Best params:\n",
      "{'en__max_iter': 900, 'en__tol': 0.001}\n"
     ]
    }
   ],
   "source": [
    "en_pipeline_cv = GridSearchCV(pipeline, grid, cv=2, n_jobs=-1)\n",
    "en_pipeline_cv.fit(X_train_resample, y_train_resample)\n",
    "\n",
    "print(\"Best params:\")\n",
    "print(en_pipeline_cv.best_params_)"
   ]
  },
  {
   "cell_type": "code",
   "execution_count": 155,
   "metadata": {},
   "outputs": [
    {
     "name": "stdout",
     "output_type": "stream",
     "text": [
      "Train score: 0.570625\n",
      "Test score: 0.5369649805447471\n",
      "\n"
     ]
    },
    {
     "data": {
      "text/html": [
       "<div>\n",
       "<style scoped>\n",
       "    .dataframe tbody tr th:only-of-type {\n",
       "        vertical-align: middle;\n",
       "    }\n",
       "\n",
       "    .dataframe tbody tr th {\n",
       "        vertical-align: top;\n",
       "    }\n",
       "\n",
       "    .dataframe thead th {\n",
       "        text-align: right;\n",
       "    }\n",
       "</style>\n",
       "<table border=\"1\" class=\"dataframe\">\n",
       "  <thead>\n",
       "    <tr style=\"text-align: right;\">\n",
       "      <th></th>\n",
       "      <th>pred_show</th>\n",
       "      <th>pred_no_show</th>\n",
       "    </tr>\n",
       "  </thead>\n",
       "  <tbody>\n",
       "    <tr>\n",
       "      <th>actual_show</th>\n",
       "      <td>0</td>\n",
       "      <td>10288</td>\n",
       "    </tr>\n",
       "    <tr>\n",
       "      <th>actual_no_show</th>\n",
       "      <td>0</td>\n",
       "      <td>4104</td>\n",
       "    </tr>\n",
       "  </tbody>\n",
       "</table>\n",
       "</div>"
      ],
      "text/plain": [
       "                pred_show  pred_no_show\n",
       "actual_show             0         10288\n",
       "actual_no_show          0          4104"
      ]
     },
     "metadata": {},
     "output_type": "display_data"
    },
    {
     "name": "stdout",
     "output_type": "stream",
     "text": [
      "              precision    recall  f1-score   support\n",
      "\n",
      "           0       0.00      0.00      0.00     10288\n",
      "           1       0.29      1.00      0.44      4104\n",
      "\n",
      "    accuracy                           0.29     14392\n",
      "   macro avg       0.14      0.50      0.22     14392\n",
      "weighted avg       0.08      0.29      0.13     14392\n",
      "\n"
     ]
    },
    {
     "name": "stderr",
     "output_type": "stream",
     "text": [
      "C:\\Users\\Mike\\Anaconda3\\lib\\site-packages\\sklearn\\metrics\\_classification.py:1221: UndefinedMetricWarning: Precision and F-score are ill-defined and being set to 0.0 in labels with no predicted samples. Use `zero_division` parameter to control this behavior.\n",
      "  _warn_prf(average, modifier, msg_start, len(result))\n"
     ]
    }
   ],
   "source": [
    "print(f\"Train score: {train_score}\")\n",
    "print(f\"Test score: {test_score}\\n\")\n",
    "\n",
    "y_pred = en_pipeline_cv.predict(X_test)\n",
    "\n",
    "confusion_mat = confusion_matrix(y_test, y_pred)\n",
    "confusion_df = pd.DataFrame(\n",
    "    confusion_mat,\n",
    "    index=[\"actual_show\", \"actual_no_show\"],\n",
    "    columns=[\"pred_show\", \"pred_no_show\"],\n",
    ")\n",
    "display(confusion_df)\n",
    "\n",
    "print(classification_report(y_test, y_pred))"
   ]
  },
  {
   "cell_type": "code",
   "execution_count": 156,
   "metadata": {},
   "outputs": [
    {
     "data": {
      "text/plain": [
       "(0.4437716262975779, 0.1)"
      ]
     },
     "execution_count": 156,
     "metadata": {},
     "output_type": "execute_result"
    }
   ],
   "source": [
    "bestThresshold(y_test,y_pred)"
   ]
  },
  {
   "cell_type": "markdown",
   "metadata": {},
   "source": [
    "Not sure what I did wrong but my logistid regression model was peforming slightly best compared to all other models but I must have changed something that that resulted in worse train and test scores of .57155 and .55002 with recall of .0 and 1 which is great for predicting no shows but overall now worse that other models. I'll go with XGBoost and move forward."
   ]
  },
  {
   "cell_type": "code",
   "execution_count": null,
   "metadata": {},
   "outputs": [],
   "source": []
  }
 ],
 "metadata": {
  "kernelspec": {
   "display_name": "Python 3",
   "language": "python",
   "name": "python3"
  },
  "language_info": {
   "codemirror_mode": {
    "name": "ipython",
    "version": 3
   },
   "file_extension": ".py",
   "mimetype": "text/x-python",
   "name": "python",
   "nbconvert_exporter": "python",
   "pygments_lexer": "ipython3",
   "version": "3.7.0"
  }
 },
 "nbformat": 4,
 "nbformat_minor": 2
}
