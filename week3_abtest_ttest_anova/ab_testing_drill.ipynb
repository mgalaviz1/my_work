{
 "cells": [
  {
   "cell_type": "code",
   "execution_count": null,
   "metadata": {
    "colab": {},
    "colab_type": "code",
    "id": "FZ0mfn9y_kSZ"
   },
   "outputs": [],
   "source": [
    "%matplotlib inline\n",
    "import pandas as pd\n",
    "import numpy as np\n",
    "import seaborn as sns\n",
    "from matplotlib import pyplot as plt\n",
    "from scipy import stats"
   ]
  },
  {
   "cell_type": "code",
   "execution_count": null,
   "metadata": {
    "colab": {},
    "colab_type": "code",
    "id": "xgKL6v8z_kSd"
   },
   "outputs": [],
   "source": [
    "PATH = 'https://raw.githubusercontent.com/nirupamaprv/Analyze-AB-test-Results/master/ab_edited.csv'\n",
    "experiment_data = pd.read_csv(PATH)"
   ]
  },
  {
   "cell_type": "code",
   "execution_count": null,
   "metadata": {
    "colab": {
     "base_uri": "https://localhost:8080/",
     "height": 190
    },
    "colab_type": "code",
    "id": "8SmZPKQ_FKSi",
    "outputId": "2a1d44f0-ec48-496d-ea05-fc374799b243"
   },
   "outputs": [],
   "source": [
    "experiment_data.info()"
   ]
  },
  {
   "cell_type": "code",
   "execution_count": null,
   "metadata": {
    "colab": {
     "base_uri": "https://localhost:8080/",
     "height": 224
    },
    "colab_type": "code",
    "id": "vvMV_PY9GCQn",
    "outputId": "635f1979-b089-41a6-8f53-46d234b931dd"
   },
   "outputs": [],
   "source": [
    "experiment_data['date'] = pd.DatetimeIndex(experiment_data['timestamp']).date\n",
    "print(experiment_data.date.unique())"
   ]
  },
  {
   "cell_type": "code",
   "execution_count": null,
   "metadata": {
    "colab": {
     "base_uri": "https://localhost:8080/",
     "height": 349
    },
    "colab_type": "code",
    "id": "REPXGM9U_kSg",
    "outputId": "8c0efb2b-4ac3-464c-e434-b60128938ed5"
   },
   "outputs": [],
   "source": [
    "experiment_data.head(10)"
   ]
  },
  {
   "cell_type": "code",
   "execution_count": null,
   "metadata": {
    "colab": {
     "base_uri": "https://localhost:8080/",
     "height": 138
    },
    "colab_type": "code",
    "id": "o5VU7Kda_kSp",
    "outputId": "3f31ed1a-2b55-4bed-9ddb-ff46a8ca57e5"
   },
   "outputs": [],
   "source": [
    "# How large is each group?\n",
    "print('test sample size:', len(experiment_data[experiment_data.group == 'treatment']))\n",
    "print('control sample size:', len(experiment_data[experiment_data.group == 'control']))\n",
    "print('test proportion:', experiment_data.converted.mean())\n",
    "print()\n",
    "\n",
    "# What is the signup rate of test and control?\n",
    "print('test signup rate:', experiment_data[experiment_data.group == 'treatment'].converted.mean())\n",
    "print('control signup rate:', experiment_data[experiment_data.group == 'control'].converted.mean())\n",
    "\n",
    "# Are the test and control groups significantly different?\n",
    "stats.ttest_ind(experiment_data[experiment_data.group == 'treatment'].converted,\n",
    "                experiment_data[experiment_data.group == 'control'].converted)"
   ]
  },
  {
   "cell_type": "markdown",
   "metadata": {
    "colab_type": "text",
    "id": "VVDLNN47FEhN"
   },
   "source": [
    "Sample sizes look plenty big, let's analyze the rollout."
   ]
  },
  {
   "cell_type": "code",
   "execution_count": null,
   "metadata": {
    "colab": {
     "base_uri": "https://localhost:8080/",
     "height": 710
    },
    "colab_type": "code",
    "id": "BYCBSmCz_kSw",
    "outputId": "40ec7b6a-87ef-40b5-a4cc-28c92d2ac0e9"
   },
   "outputs": [],
   "source": [
    "fig = experiment_data[experiment_data.group == 'treatment'][\n",
    "    ['date', 'converted']].groupby('date').mean().plot()\n",
    "experiment_data[experiment_data.group == 'control'][\n",
    "    ['date', 'converted']].groupby('date').mean().plot(ax=fig)\n",
    "\n",
    "plt.legend(['treatment','control'])\n",
    "plt.title('Comparing Conversion Rates by Treatment Date')\n",
    "plt.show()\n",
    "\n",
    "\n",
    "# Generate a test statistic comparing test and control on treatment date\n",
    "print('T-Test Results by Date')\n",
    "\n",
    "for day in experiment_data.date.unique():\n",
    "    dated_data = experiment_data[experiment_data.date == day]\n",
    "    print(stats.ttest_ind(dated_data[dated_data.group == 'treatment'].converted,\n",
    "                          dated_data[dated_data.group == 'control'].converted))"
   ]
  },
  {
   "cell_type": "markdown",
   "metadata": {
    "colab_type": "text",
    "id": "HAi1KIZXFISD"
   },
   "source": [
    "There does not appear to be a significant difference in control and treatment groups and this pattern holds up throughout the rollout."
   ]
  }
 ],
 "metadata": {
  "colab": {
   "name": "ab-testing-drill.ipynb",
   "provenance": [],
   "version": "0.3.2"
  },
  "hide_input": false,
  "kernelspec": {
   "display_name": "Python 3",
   "language": "python",
   "name": "python3"
  },
  "language_info": {
   "codemirror_mode": {
    "name": "ipython",
    "version": 3
   },
   "file_extension": ".py",
   "mimetype": "text/x-python",
   "name": "python",
   "nbconvert_exporter": "python",
   "pygments_lexer": "ipython3",
   "version": "3.7.0"
  }
 },
 "nbformat": 4,
 "nbformat_minor": 1
}
